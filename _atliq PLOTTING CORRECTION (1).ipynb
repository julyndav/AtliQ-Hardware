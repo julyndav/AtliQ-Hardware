{
 "cells": [
  {
   "attachments": {
    "Atliq%20header.png": {
     "image/png": "[encoded data removed]"
    }
   },
   "cell_type": "markdown",
   "id": "2e585fc1",
   "metadata": {},
   "source": [
    "![Atliq%20header.png](attachment:Atliq%20header.png)"
   ]
  },
  {
   "cell_type": "markdown",
   "id": "029718fb",
   "metadata": {},
   "source": [
    "#### AtliQ Project Analysis Plan Overview"
   ]
  },
  {
   "cell_type": "markdown",
   "id": "6977100c",
   "metadata": {},
   "source": [
    "The TTWC team assigned to AtliQ will conduct the necessary research, and create informative dashboards that AtliQ will be able to use later. Certain sections of the TTWC team will select one of the three above areas to focus on. My team is responsible for Customer Analysis.\n",
    "\n",
    "During the Customer Analysis, customer segmentation will be used to understand the purchasers and gain an understanding on more effective sales, marketing, and personalization strategies. Each segment can answer a myriad of questions that the company may have. To further help with the segmentation, we will connect the customers to the products and sales data to give a better overview of the customer focused analysis.\n",
    "\n",
    "The goal is to segment the customer data on various metrics and create an actionable dashboard. This will allow AtliQ to gain a better understanding of their customers' habits and possibly give insight on new, potential markets.\n",
    "\n",
    "<b>For the full project description, please see the Decomposition Plan at this link: </b>https://docs.google.com/document/d/1W89R6AFbVVj972i1OBRxMvB8koglFIlKIWlW4L8XKDw/edit?usp=sharing\n",
    "\n",
    "<b>To access the Dashboard Visualization, please use this link: </b> https://public.tableau.com/app/profile/julynda.vaughn/viz/AtliQCustomerAnalysisv6_2/AtliQCustomerDemographics\n"
   ]
  },
  {
   "cell_type": "markdown",
   "id": "0a7e82c5",
   "metadata": {},
   "source": [
    "## Database Connection"
   ]
  },
  {
   "cell_type": "code",
   "execution_count": 1,
   "id": "88f78f05",
   "metadata": {},
   "outputs": [
    {
     "data": {
      "text/html": [
       "<div>\n",
       "<style scoped>\n",
       "    .dataframe tbody tr th:only-of-type {\n",
       "        vertical-align: middle;\n",
       "    }\n",
       "\n",
       "    .dataframe tbody tr th {\n",
       "        vertical-align: top;\n",
       "    }\n",
       "\n",
       "    .dataframe thead th {\n",
       "        text-align: right;\n",
       "    }\n",
       "</style>\n",
       "<table border=\"1\" class=\"dataframe\">\n",
       "  <thead>\n",
       "    <tr style=\"text-align: right;\">\n",
       "      <th></th>\n",
       "      <th>customer_code</th>\n",
       "      <th>customer</th>\n",
       "      <th>platform</th>\n",
       "      <th>channel</th>\n",
       "      <th>market</th>\n",
       "      <th>sub_zone</th>\n",
       "      <th>region</th>\n",
       "    </tr>\n",
       "  </thead>\n",
       "  <tbody>\n",
       "    <tr>\n",
       "      <th>0</th>\n",
       "      <td>70002017</td>\n",
       "      <td>Atliq Exclusive</td>\n",
       "      <td>Brick &amp; Mortar</td>\n",
       "      <td>Direct</td>\n",
       "      <td>India</td>\n",
       "      <td>India</td>\n",
       "      <td>APAC</td>\n",
       "    </tr>\n",
       "    <tr>\n",
       "      <th>1</th>\n",
       "      <td>70002018</td>\n",
       "      <td>Atliq e Store</td>\n",
       "      <td>E-Commerce</td>\n",
       "      <td>Direct</td>\n",
       "      <td>India</td>\n",
       "      <td>India</td>\n",
       "      <td>APAC</td>\n",
       "    </tr>\n",
       "    <tr>\n",
       "      <th>2</th>\n",
       "      <td>70003181</td>\n",
       "      <td>Atliq Exclusive</td>\n",
       "      <td>Brick &amp; Mortar</td>\n",
       "      <td>Direct</td>\n",
       "      <td>Indonesia</td>\n",
       "      <td>ROA</td>\n",
       "      <td>APAC</td>\n",
       "    </tr>\n",
       "    <tr>\n",
       "      <th>3</th>\n",
       "      <td>70003182</td>\n",
       "      <td>Atliq e Store</td>\n",
       "      <td>E-Commerce</td>\n",
       "      <td>Direct</td>\n",
       "      <td>Indonesia</td>\n",
       "      <td>ROA</td>\n",
       "      <td>APAC</td>\n",
       "    </tr>\n",
       "    <tr>\n",
       "      <th>4</th>\n",
       "      <td>70004069</td>\n",
       "      <td>Atliq Exclusive</td>\n",
       "      <td>Brick &amp; Mortar</td>\n",
       "      <td>Direct</td>\n",
       "      <td>Japan</td>\n",
       "      <td>ROA</td>\n",
       "      <td>APAC</td>\n",
       "    </tr>\n",
       "  </tbody>\n",
       "</table>\n",
       "</div>"
      ],
      "text/plain": [
       "   customer_code         customer        platform channel     market sub_zone  \\\n",
       "0       70002017  Atliq Exclusive  Brick & Mortar  Direct      India    India   \n",
       "1       70002018    Atliq e Store      E-Commerce  Direct      India    India   \n",
       "2       70003181  Atliq Exclusive  Brick & Mortar  Direct  Indonesia      ROA   \n",
       "3       70003182    Atliq e Store      E-Commerce  Direct  Indonesia      ROA   \n",
       "4       70004069  Atliq Exclusive  Brick & Mortar  Direct      Japan      ROA   \n",
       "\n",
       "  region  \n",
       "0   APAC  \n",
       "1   APAC  \n",
       "2   APAC  \n",
       "3   APAC  \n",
       "4   APAC  "
      ]
     },
     "execution_count": 1,
     "metadata": {},
     "output_type": "execute_result"
    }
   ],
   "source": [
    "import pandas as pd\n",
    "\n",
    "### connect to the provided AtliQ database\n",
    "import sqlite3\n",
    "con = sqlite3.connect('atliq_db.sqlite3')\n",
    "\n",
    "### check all tables in the database\n",
    "cursor = con.cursor()\n",
    "cursor.execute(\"SELECT name FROM sqlite_master WHERE type='table';\")\n",
    "\n",
    "\n",
    "### execute simple query in Python with your connection\n",
    "query=\"\"\"Select * from \n",
    "dim_customer\n",
    "LIMIT 10\n",
    "\"\"\"\n",
    "dim_customer = pd.read_sql_query(query, con)\n",
    "dim_customer.head()"
   ]
  },
  {
   "cell_type": "code",
   "execution_count": 2,
   "id": "079df678",
   "metadata": {},
   "outputs": [
    {
     "name": "stdout",
     "output_type": "stream",
     "text": [
      "List of tables in the database:\n"
     ]
    },
    {
     "data": {
      "text/html": [
       "<div>\n",
       "<style scoped>\n",
       "    .dataframe tbody tr th:only-of-type {\n",
       "        vertical-align: middle;\n",
       "    }\n",
       "\n",
       "    .dataframe tbody tr th {\n",
       "        vertical-align: top;\n",
       "    }\n",
       "\n",
       "    .dataframe thead th {\n",
       "        text-align: right;\n",
       "    }\n",
       "</style>\n",
       "<table border=\"1\" class=\"dataframe\">\n",
       "  <thead>\n",
       "    <tr style=\"text-align: right;\">\n",
       "      <th></th>\n",
       "      <th>name</th>\n",
       "    </tr>\n",
       "  </thead>\n",
       "  <tbody>\n",
       "    <tr>\n",
       "      <th>0</th>\n",
       "      <td>dim_customer</td>\n",
       "    </tr>\n",
       "    <tr>\n",
       "      <th>1</th>\n",
       "      <td>dim_product</td>\n",
       "    </tr>\n",
       "    <tr>\n",
       "      <th>2</th>\n",
       "      <td>fact_pre_discount</td>\n",
       "    </tr>\n",
       "    <tr>\n",
       "      <th>3</th>\n",
       "      <td>fact_manufacturing_cost</td>\n",
       "    </tr>\n",
       "    <tr>\n",
       "      <th>4</th>\n",
       "      <td>fact_gross_price</td>\n",
       "    </tr>\n",
       "    <tr>\n",
       "      <th>5</th>\n",
       "      <td>fact_sales_monthly</td>\n",
       "    </tr>\n",
       "  </tbody>\n",
       "</table>\n",
       "</div>"
      ],
      "text/plain": [
       "                      name\n",
       "0             dim_customer\n",
       "1              dim_product\n",
       "2        fact_pre_discount\n",
       "3  fact_manufacturing_cost\n",
       "4         fact_gross_price\n",
       "5       fact_sales_monthly"
      ]
     },
     "execution_count": 2,
     "metadata": {},
     "output_type": "execute_result"
    }
   ],
   "source": [
    "#This will give a working list of available database tables\n",
    "print('List of tables in the database:')\n",
    "table_list = pd.read_sql_query('SELECT name from sqlite_master where type= \"table\";', con) \n",
    "table_list"
   ]
  },
  {
   "cell_type": "markdown",
   "id": "2b879f3d",
   "metadata": {},
   "source": [
    "<font size=\"3\">  The \"atliq\" database has 6 tables containing customer information, product, discount, cost, price and monthly sales.  Since our focus is customers, \"manufacturing_cost\" was not used in the analysis.</font>"
   ]
  },
  {
   "cell_type": "markdown",
   "id": "d684fcff",
   "metadata": {},
   "source": [
    "# Data Exploration & Cleaning"
   ]
  },
  {
   "cell_type": "markdown",
   "id": "b1df51cd",
   "metadata": {},
   "source": [
    "<font size=\"3\">Below is the check for duplicated or null values within the tables </font>"
   ]
  },
  {
   "cell_type": "code",
   "execution_count": 3,
   "id": "09d6af09",
   "metadata": {},
   "outputs": [
    {
     "data": {
      "text/html": [
       "<div>\n",
       "<style scoped>\n",
       "    .dataframe tbody tr th:only-of-type {\n",
       "        vertical-align: middle;\n",
       "    }\n",
       "\n",
       "    .dataframe tbody tr th {\n",
       "        vertical-align: top;\n",
       "    }\n",
       "\n",
       "    .dataframe thead th {\n",
       "        text-align: right;\n",
       "    }\n",
       "</style>\n",
       "<table border=\"1\" class=\"dataframe\">\n",
       "  <thead>\n",
       "    <tr style=\"text-align: right;\">\n",
       "      <th></th>\n",
       "      <th>customer_code</th>\n",
       "      <th>customer</th>\n",
       "      <th>platform</th>\n",
       "      <th>channel</th>\n",
       "      <th>market</th>\n",
       "      <th>sub_zone</th>\n",
       "      <th>region</th>\n",
       "    </tr>\n",
       "  </thead>\n",
       "  <tbody>\n",
       "    <tr>\n",
       "      <th>0</th>\n",
       "      <td>70002017</td>\n",
       "      <td>Atliq Exclusive</td>\n",
       "      <td>Brick &amp; Mortar</td>\n",
       "      <td>Direct</td>\n",
       "      <td>India</td>\n",
       "      <td>India</td>\n",
       "      <td>APAC</td>\n",
       "    </tr>\n",
       "    <tr>\n",
       "      <th>1</th>\n",
       "      <td>70002018</td>\n",
       "      <td>Atliq e Store</td>\n",
       "      <td>E-Commerce</td>\n",
       "      <td>Direct</td>\n",
       "      <td>India</td>\n",
       "      <td>India</td>\n",
       "      <td>APAC</td>\n",
       "    </tr>\n",
       "    <tr>\n",
       "      <th>2</th>\n",
       "      <td>70003181</td>\n",
       "      <td>Atliq Exclusive</td>\n",
       "      <td>Brick &amp; Mortar</td>\n",
       "      <td>Direct</td>\n",
       "      <td>Indonesia</td>\n",
       "      <td>ROA</td>\n",
       "      <td>APAC</td>\n",
       "    </tr>\n",
       "    <tr>\n",
       "      <th>3</th>\n",
       "      <td>70003182</td>\n",
       "      <td>Atliq e Store</td>\n",
       "      <td>E-Commerce</td>\n",
       "      <td>Direct</td>\n",
       "      <td>Indonesia</td>\n",
       "      <td>ROA</td>\n",
       "      <td>APAC</td>\n",
       "    </tr>\n",
       "    <tr>\n",
       "      <th>4</th>\n",
       "      <td>70004069</td>\n",
       "      <td>Atliq Exclusive</td>\n",
       "      <td>Brick &amp; Mortar</td>\n",
       "      <td>Direct</td>\n",
       "      <td>Japan</td>\n",
       "      <td>ROA</td>\n",
       "      <td>APAC</td>\n",
       "    </tr>\n",
       "  </tbody>\n",
       "</table>\n",
       "</div>"
      ],
      "text/plain": [
       "   customer_code         customer        platform channel     market sub_zone  \\\n",
       "0       70002017  Atliq Exclusive  Brick & Mortar  Direct      India    India   \n",
       "1       70002018    Atliq e Store      E-Commerce  Direct      India    India   \n",
       "2       70003181  Atliq Exclusive  Brick & Mortar  Direct  Indonesia      ROA   \n",
       "3       70003182    Atliq e Store      E-Commerce  Direct  Indonesia      ROA   \n",
       "4       70004069  Atliq Exclusive  Brick & Mortar  Direct      Japan      ROA   \n",
       "\n",
       "  region  \n",
       "0   APAC  \n",
       "1   APAC  \n",
       "2   APAC  \n",
       "3   APAC  \n",
       "4   APAC  "
      ]
     },
     "execution_count": 3,
     "metadata": {},
     "output_type": "execute_result"
    }
   ],
   "source": [
    "# viewing the tables\n",
    "dim_customer = pd.read_sql_query(\"select * from dim_customer\", con)\n",
    "dim_customer.head()"
   ]
  },
  {
   "cell_type": "code",
   "execution_count": 4,
   "id": "501ef766",
   "metadata": {},
   "outputs": [
    {
     "name": "stdout",
     "output_type": "stream",
     "text": [
      "No.of.unique values : 209\n"
     ]
    }
   ],
   "source": [
    "# How many unique customers are there?\n",
    "n = len(pd.unique(dim_customer['customer_code']))\n",
    "  \n",
    "print(\"No.of.unique values :\", \n",
    "      n)"
   ]
  },
  {
   "cell_type": "markdown",
   "id": "3febfc19",
   "metadata": {},
   "source": [
    "<font size=\"3\">There are a total of 209 unique AltiQ customers. Even though there are customers with the same name, they are in different markets with different customer codes.</font>"
   ]
  },
  {
   "cell_type": "code",
   "execution_count": 5,
   "id": "70fa9326",
   "metadata": {},
   "outputs": [
    {
     "name": "stdout",
     "output_type": "stream",
     "text": [
      "(209, 7)\n"
     ]
    },
    {
     "data": {
      "text/plain": [
       "customer_code    0\n",
       "customer         0\n",
       "platform         0\n",
       "channel          0\n",
       "market           0\n",
       "sub_zone         0\n",
       "region           0\n",
       "dtype: int64"
      ]
     },
     "execution_count": 5,
     "metadata": {},
     "output_type": "execute_result"
    }
   ],
   "source": [
    "print(dim_customer.shape)\n",
    "dim_customer.isnull().sum()"
   ]
  },
  {
   "cell_type": "code",
   "execution_count": 6,
   "id": "c596840e",
   "metadata": {},
   "outputs": [
    {
     "data": {
      "text/html": [
       "<div>\n",
       "<style scoped>\n",
       "    .dataframe tbody tr th:only-of-type {\n",
       "        vertical-align: middle;\n",
       "    }\n",
       "\n",
       "    .dataframe tbody tr th {\n",
       "        vertical-align: top;\n",
       "    }\n",
       "\n",
       "    .dataframe thead th {\n",
       "        text-align: right;\n",
       "    }\n",
       "</style>\n",
       "<table border=\"1\" class=\"dataframe\">\n",
       "  <thead>\n",
       "    <tr style=\"text-align: right;\">\n",
       "      <th></th>\n",
       "      <th>customer_code</th>\n",
       "      <th>customer</th>\n",
       "      <th>platform</th>\n",
       "      <th>channel</th>\n",
       "      <th>market</th>\n",
       "      <th>sub_zone</th>\n",
       "      <th>region</th>\n",
       "    </tr>\n",
       "  </thead>\n",
       "  <tbody>\n",
       "  </tbody>\n",
       "</table>\n",
       "</div>"
      ],
      "text/plain": [
       "Empty DataFrame\n",
       "Columns: [customer_code, customer, platform, channel, market, sub_zone, region]\n",
       "Index: []"
      ]
     },
     "execution_count": 6,
     "metadata": {},
     "output_type": "execute_result"
    }
   ],
   "source": [
    "duplicateRows = dim_customer[dim_customer.duplicated()]\n",
    "duplicateRows"
   ]
  },
  {
   "cell_type": "code",
   "execution_count": 7,
   "id": "9ca9d601",
   "metadata": {},
   "outputs": [
    {
     "data": {
      "text/html": [
       "<div>\n",
       "<style scoped>\n",
       "    .dataframe tbody tr th:only-of-type {\n",
       "        vertical-align: middle;\n",
       "    }\n",
       "\n",
       "    .dataframe tbody tr th {\n",
       "        vertical-align: top;\n",
       "    }\n",
       "\n",
       "    .dataframe thead th {\n",
       "        text-align: right;\n",
       "    }\n",
       "</style>\n",
       "<table border=\"1\" class=\"dataframe\">\n",
       "  <thead>\n",
       "    <tr style=\"text-align: right;\">\n",
       "      <th></th>\n",
       "      <th>product_code</th>\n",
       "      <th>division</th>\n",
       "      <th>segment</th>\n",
       "      <th>category</th>\n",
       "      <th>product</th>\n",
       "      <th>variant</th>\n",
       "    </tr>\n",
       "  </thead>\n",
       "  <tbody>\n",
       "    <tr>\n",
       "      <th>0</th>\n",
       "      <td>A0118150101</td>\n",
       "      <td>P &amp; A</td>\n",
       "      <td>Peripherals</td>\n",
       "      <td>Internal HDD</td>\n",
       "      <td>AQ Dracula HDD – 3.5 Inch SATA 6 Gb/s 5400 RPM...</td>\n",
       "      <td>Standard</td>\n",
       "    </tr>\n",
       "    <tr>\n",
       "      <th>1</th>\n",
       "      <td>A0118150102</td>\n",
       "      <td>P &amp; A</td>\n",
       "      <td>Peripherals</td>\n",
       "      <td>Internal HDD</td>\n",
       "      <td>AQ Dracula HDD – 3.5 Inch SATA 6 Gb/s 5400 RPM...</td>\n",
       "      <td>Plus</td>\n",
       "    </tr>\n",
       "    <tr>\n",
       "      <th>2</th>\n",
       "      <td>A0118150103</td>\n",
       "      <td>P &amp; A</td>\n",
       "      <td>Peripherals</td>\n",
       "      <td>Internal HDD</td>\n",
       "      <td>AQ Dracula HDD – 3.5 Inch SATA 6 Gb/s 5400 RPM...</td>\n",
       "      <td>Premium</td>\n",
       "    </tr>\n",
       "    <tr>\n",
       "      <th>3</th>\n",
       "      <td>A0118150104</td>\n",
       "      <td>P &amp; A</td>\n",
       "      <td>Peripherals</td>\n",
       "      <td>Internal HDD</td>\n",
       "      <td>AQ Dracula HDD – 3.5 Inch SATA 6 Gb/s 5400 RPM...</td>\n",
       "      <td>Premium Plus</td>\n",
       "    </tr>\n",
       "    <tr>\n",
       "      <th>4</th>\n",
       "      <td>A0219150201</td>\n",
       "      <td>P &amp; A</td>\n",
       "      <td>Peripherals</td>\n",
       "      <td>Internal HDD</td>\n",
       "      <td>AQ WereWolf NAS Internal Hard Drive HDD – 8.89 cm</td>\n",
       "      <td>Standard</td>\n",
       "    </tr>\n",
       "  </tbody>\n",
       "</table>\n",
       "</div>"
      ],
      "text/plain": [
       "  product_code division      segment      category  \\\n",
       "0  A0118150101    P & A  Peripherals  Internal HDD   \n",
       "1  A0118150102    P & A  Peripherals  Internal HDD   \n",
       "2  A0118150103    P & A  Peripherals  Internal HDD   \n",
       "3  A0118150104    P & A  Peripherals  Internal HDD   \n",
       "4  A0219150201    P & A  Peripherals  Internal HDD   \n",
       "\n",
       "                                             product       variant  \n",
       "0  AQ Dracula HDD – 3.5 Inch SATA 6 Gb/s 5400 RPM...      Standard  \n",
       "1  AQ Dracula HDD – 3.5 Inch SATA 6 Gb/s 5400 RPM...          Plus  \n",
       "2  AQ Dracula HDD – 3.5 Inch SATA 6 Gb/s 5400 RPM...       Premium  \n",
       "3  AQ Dracula HDD – 3.5 Inch SATA 6 Gb/s 5400 RPM...  Premium Plus  \n",
       "4  AQ WereWolf NAS Internal Hard Drive HDD – 8.89 cm      Standard  "
      ]
     },
     "execution_count": 7,
     "metadata": {},
     "output_type": "execute_result"
    }
   ],
   "source": [
    "dim_product = pd.read_sql_query(\"select * from dim_product\", con)\n",
    "dim_product.head()\n"
   ]
  },
  {
   "cell_type": "code",
   "execution_count": 8,
   "id": "98d58df0",
   "metadata": {},
   "outputs": [
    {
     "name": "stdout",
     "output_type": "stream",
     "text": [
      "(397, 6)\n"
     ]
    },
    {
     "data": {
      "text/plain": [
       "product_code    0\n",
       "division        0\n",
       "segment         0\n",
       "category        0\n",
       "product         0\n",
       "variant         0\n",
       "dtype: int64"
      ]
     },
     "execution_count": 8,
     "metadata": {},
     "output_type": "execute_result"
    }
   ],
   "source": [
    "print(dim_product.shape)\n",
    "dim_product.isnull().sum()"
   ]
  },
  {
   "cell_type": "code",
   "execution_count": 9,
   "id": "4e9c4f95",
   "metadata": {},
   "outputs": [
    {
     "data": {
      "text/html": [
       "<div>\n",
       "<style scoped>\n",
       "    .dataframe tbody tr th:only-of-type {\n",
       "        vertical-align: middle;\n",
       "    }\n",
       "\n",
       "    .dataframe tbody tr th {\n",
       "        vertical-align: top;\n",
       "    }\n",
       "\n",
       "    .dataframe thead th {\n",
       "        text-align: right;\n",
       "    }\n",
       "</style>\n",
       "<table border=\"1\" class=\"dataframe\">\n",
       "  <thead>\n",
       "    <tr style=\"text-align: right;\">\n",
       "      <th></th>\n",
       "      <th>product_code</th>\n",
       "      <th>division</th>\n",
       "      <th>segment</th>\n",
       "      <th>category</th>\n",
       "      <th>product</th>\n",
       "      <th>variant</th>\n",
       "    </tr>\n",
       "  </thead>\n",
       "  <tbody>\n",
       "  </tbody>\n",
       "</table>\n",
       "</div>"
      ],
      "text/plain": [
       "Empty DataFrame\n",
       "Columns: [product_code, division, segment, category, product, variant]\n",
       "Index: []"
      ]
     },
     "execution_count": 9,
     "metadata": {},
     "output_type": "execute_result"
    }
   ],
   "source": [
    "duplicateRows2 = dim_product[dim_product.duplicated()]\n",
    "duplicateRows2"
   ]
  },
  {
   "cell_type": "code",
   "execution_count": 10,
   "id": "35e9a4a1",
   "metadata": {},
   "outputs": [
    {
     "data": {
      "text/html": [
       "<div>\n",
       "<style scoped>\n",
       "    .dataframe tbody tr th:only-of-type {\n",
       "        vertical-align: middle;\n",
       "    }\n",
       "\n",
       "    .dataframe tbody tr th {\n",
       "        vertical-align: top;\n",
       "    }\n",
       "\n",
       "    .dataframe thead th {\n",
       "        text-align: right;\n",
       "    }\n",
       "</style>\n",
       "<table border=\"1\" class=\"dataframe\">\n",
       "  <thead>\n",
       "    <tr style=\"text-align: right;\">\n",
       "      <th></th>\n",
       "      <th>customer_code</th>\n",
       "      <th>fiscal_year</th>\n",
       "      <th>pre_invoice_discount_pct</th>\n",
       "    </tr>\n",
       "  </thead>\n",
       "  <tbody>\n",
       "    <tr>\n",
       "      <th>0</th>\n",
       "      <td>70002017</td>\n",
       "      <td>2018</td>\n",
       "      <td>0.0824</td>\n",
       "    </tr>\n",
       "    <tr>\n",
       "      <th>1</th>\n",
       "      <td>70002017</td>\n",
       "      <td>2019</td>\n",
       "      <td>0.0777</td>\n",
       "    </tr>\n",
       "    <tr>\n",
       "      <th>2</th>\n",
       "      <td>70002017</td>\n",
       "      <td>2020</td>\n",
       "      <td>0.0735</td>\n",
       "    </tr>\n",
       "    <tr>\n",
       "      <th>3</th>\n",
       "      <td>70002017</td>\n",
       "      <td>2021</td>\n",
       "      <td>0.0703</td>\n",
       "    </tr>\n",
       "    <tr>\n",
       "      <th>4</th>\n",
       "      <td>70002017</td>\n",
       "      <td>2022</td>\n",
       "      <td>0.1057</td>\n",
       "    </tr>\n",
       "  </tbody>\n",
       "</table>\n",
       "</div>"
      ],
      "text/plain": [
       "   customer_code  fiscal_year  pre_invoice_discount_pct\n",
       "0       70002017         2018                    0.0824\n",
       "1       70002017         2019                    0.0777\n",
       "2       70002017         2020                    0.0735\n",
       "3       70002017         2021                    0.0703\n",
       "4       70002017         2022                    0.1057"
      ]
     },
     "execution_count": 10,
     "metadata": {},
     "output_type": "execute_result"
    }
   ],
   "source": [
    "fact_pre_discount = pd.read_sql_query(\"select * from fact_pre_discount\", con)\n",
    "fact_pre_discount.head()"
   ]
  },
  {
   "cell_type": "code",
   "execution_count": 11,
   "id": "c6846c0e",
   "metadata": {},
   "outputs": [
    {
     "name": "stdout",
     "output_type": "stream",
     "text": [
      "(1045, 3)\n"
     ]
    },
    {
     "data": {
      "text/plain": [
       "customer_code               0\n",
       "fiscal_year                 0\n",
       "pre_invoice_discount_pct    0\n",
       "dtype: int64"
      ]
     },
     "execution_count": 11,
     "metadata": {},
     "output_type": "execute_result"
    }
   ],
   "source": [
    "print(fact_pre_discount.shape)\n",
    "fact_pre_discount.isnull().sum()"
   ]
  },
  {
   "cell_type": "code",
   "execution_count": 12,
   "id": "70303e68",
   "metadata": {},
   "outputs": [
    {
     "data": {
      "text/html": [
       "<div>\n",
       "<style scoped>\n",
       "    .dataframe tbody tr th:only-of-type {\n",
       "        vertical-align: middle;\n",
       "    }\n",
       "\n",
       "    .dataframe tbody tr th {\n",
       "        vertical-align: top;\n",
       "    }\n",
       "\n",
       "    .dataframe thead th {\n",
       "        text-align: right;\n",
       "    }\n",
       "</style>\n",
       "<table border=\"1\" class=\"dataframe\">\n",
       "  <thead>\n",
       "    <tr style=\"text-align: right;\">\n",
       "      <th></th>\n",
       "      <th>customer_code</th>\n",
       "      <th>fiscal_year</th>\n",
       "      <th>pre_invoice_discount_pct</th>\n",
       "    </tr>\n",
       "  </thead>\n",
       "  <tbody>\n",
       "  </tbody>\n",
       "</table>\n",
       "</div>"
      ],
      "text/plain": [
       "Empty DataFrame\n",
       "Columns: [customer_code, fiscal_year, pre_invoice_discount_pct]\n",
       "Index: []"
      ]
     },
     "execution_count": 12,
     "metadata": {},
     "output_type": "execute_result"
    }
   ],
   "source": [
    "duplicateRows3 = fact_pre_discount[fact_pre_discount.duplicated()]\n",
    "duplicateRows3"
   ]
  },
  {
   "cell_type": "code",
   "execution_count": 13,
   "id": "7d68e353",
   "metadata": {},
   "outputs": [
    {
     "data": {
      "text/html": [
       "<div>\n",
       "<style scoped>\n",
       "    .dataframe tbody tr th:only-of-type {\n",
       "        vertical-align: middle;\n",
       "    }\n",
       "\n",
       "    .dataframe tbody tr th {\n",
       "        vertical-align: top;\n",
       "    }\n",
       "\n",
       "    .dataframe thead th {\n",
       "        text-align: right;\n",
       "    }\n",
       "</style>\n",
       "<table border=\"1\" class=\"dataframe\">\n",
       "  <thead>\n",
       "    <tr style=\"text-align: right;\">\n",
       "      <th></th>\n",
       "      <th>product_code</th>\n",
       "      <th>fiscal_year</th>\n",
       "      <th>gross_price</th>\n",
       "    </tr>\n",
       "  </thead>\n",
       "  <tbody>\n",
       "    <tr>\n",
       "      <th>0</th>\n",
       "      <td>A0118150101</td>\n",
       "      <td>2018</td>\n",
       "      <td>15.3952</td>\n",
       "    </tr>\n",
       "    <tr>\n",
       "      <th>1</th>\n",
       "      <td>A0118150101</td>\n",
       "      <td>2019</td>\n",
       "      <td>14.4392</td>\n",
       "    </tr>\n",
       "    <tr>\n",
       "      <th>2</th>\n",
       "      <td>A0118150101</td>\n",
       "      <td>2020</td>\n",
       "      <td>16.2323</td>\n",
       "    </tr>\n",
       "    <tr>\n",
       "      <th>3</th>\n",
       "      <td>A0118150101</td>\n",
       "      <td>2021</td>\n",
       "      <td>19.0573</td>\n",
       "    </tr>\n",
       "    <tr>\n",
       "      <th>4</th>\n",
       "      <td>A0118150102</td>\n",
       "      <td>2018</td>\n",
       "      <td>19.5875</td>\n",
       "    </tr>\n",
       "  </tbody>\n",
       "</table>\n",
       "</div>"
      ],
      "text/plain": [
       "  product_code  fiscal_year  gross_price\n",
       "0  A0118150101         2018      15.3952\n",
       "1  A0118150101         2019      14.4392\n",
       "2  A0118150101         2020      16.2323\n",
       "3  A0118150101         2021      19.0573\n",
       "4  A0118150102         2018      19.5875"
      ]
     },
     "execution_count": 13,
     "metadata": {},
     "output_type": "execute_result"
    }
   ],
   "source": [
    "fact_gross_price = pd.read_sql_query(\"select * from fact_gross_price\", con)\n",
    "fact_gross_price.head()\n"
   ]
  },
  {
   "cell_type": "code",
   "execution_count": 14,
   "id": "d5cb058a",
   "metadata": {},
   "outputs": [
    {
     "name": "stdout",
     "output_type": "stream",
     "text": [
      "(1182, 3)\n"
     ]
    },
    {
     "data": {
      "text/plain": [
       "product_code    0\n",
       "fiscal_year     0\n",
       "gross_price     0\n",
       "dtype: int64"
      ]
     },
     "execution_count": 14,
     "metadata": {},
     "output_type": "execute_result"
    }
   ],
   "source": [
    "print(fact_gross_price.shape)\n",
    "fact_gross_price.isnull().sum()"
   ]
  },
  {
   "cell_type": "code",
   "execution_count": 15,
   "id": "0e54b2aa",
   "metadata": {},
   "outputs": [
    {
     "data": {
      "text/html": [
       "<div>\n",
       "<style scoped>\n",
       "    .dataframe tbody tr th:only-of-type {\n",
       "        vertical-align: middle;\n",
       "    }\n",
       "\n",
       "    .dataframe tbody tr th {\n",
       "        vertical-align: top;\n",
       "    }\n",
       "\n",
       "    .dataframe thead th {\n",
       "        text-align: right;\n",
       "    }\n",
       "</style>\n",
       "<table border=\"1\" class=\"dataframe\">\n",
       "  <thead>\n",
       "    <tr style=\"text-align: right;\">\n",
       "      <th></th>\n",
       "      <th>product_code</th>\n",
       "      <th>fiscal_year</th>\n",
       "      <th>gross_price</th>\n",
       "    </tr>\n",
       "  </thead>\n",
       "  <tbody>\n",
       "  </tbody>\n",
       "</table>\n",
       "</div>"
      ],
      "text/plain": [
       "Empty DataFrame\n",
       "Columns: [product_code, fiscal_year, gross_price]\n",
       "Index: []"
      ]
     },
     "execution_count": 15,
     "metadata": {},
     "output_type": "execute_result"
    }
   ],
   "source": [
    "duplicateRows4 = fact_gross_price[fact_gross_price.duplicated()]\n",
    "duplicateRows4"
   ]
  },
  {
   "cell_type": "code",
   "execution_count": 16,
   "id": "b931901a",
   "metadata": {},
   "outputs": [
    {
     "data": {
      "text/html": [
       "<div>\n",
       "<style scoped>\n",
       "    .dataframe tbody tr th:only-of-type {\n",
       "        vertical-align: middle;\n",
       "    }\n",
       "\n",
       "    .dataframe tbody tr th {\n",
       "        vertical-align: top;\n",
       "    }\n",
       "\n",
       "    .dataframe thead th {\n",
       "        text-align: right;\n",
       "    }\n",
       "</style>\n",
       "<table border=\"1\" class=\"dataframe\">\n",
       "  <thead>\n",
       "    <tr style=\"text-align: right;\">\n",
       "      <th></th>\n",
       "      <th>date</th>\n",
       "      <th>product_code</th>\n",
       "      <th>customer_code</th>\n",
       "      <th>sold_quantity</th>\n",
       "      <th>fiscal_year</th>\n",
       "    </tr>\n",
       "  </thead>\n",
       "  <tbody>\n",
       "    <tr>\n",
       "      <th>0</th>\n",
       "      <td>2017-09-01</td>\n",
       "      <td>A0118150101</td>\n",
       "      <td>70002017.0</td>\n",
       "      <td>51.0</td>\n",
       "      <td>2018.0</td>\n",
       "    </tr>\n",
       "    <tr>\n",
       "      <th>1</th>\n",
       "      <td>2017-09-01</td>\n",
       "      <td>A0118150101</td>\n",
       "      <td>70002018.0</td>\n",
       "      <td>77.0</td>\n",
       "      <td>2018.0</td>\n",
       "    </tr>\n",
       "    <tr>\n",
       "      <th>2</th>\n",
       "      <td>2017-09-01</td>\n",
       "      <td>A0118150101</td>\n",
       "      <td>70003181.0</td>\n",
       "      <td>17.0</td>\n",
       "      <td>2018.0</td>\n",
       "    </tr>\n",
       "    <tr>\n",
       "      <th>3</th>\n",
       "      <td>2017-09-01</td>\n",
       "      <td>A0118150101</td>\n",
       "      <td>70003182.0</td>\n",
       "      <td>6.0</td>\n",
       "      <td>2018.0</td>\n",
       "    </tr>\n",
       "    <tr>\n",
       "      <th>4</th>\n",
       "      <td>2017-09-01</td>\n",
       "      <td>A0118150101</td>\n",
       "      <td>70006157.0</td>\n",
       "      <td>5.0</td>\n",
       "      <td>2018.0</td>\n",
       "    </tr>\n",
       "  </tbody>\n",
       "</table>\n",
       "</div>"
      ],
      "text/plain": [
       "         date product_code  customer_code  sold_quantity  fiscal_year\n",
       "0  2017-09-01  A0118150101     70002017.0           51.0       2018.0\n",
       "1  2017-09-01  A0118150101     70002018.0           77.0       2018.0\n",
       "2  2017-09-01  A0118150101     70003181.0           17.0       2018.0\n",
       "3  2017-09-01  A0118150101     70003182.0            6.0       2018.0\n",
       "4  2017-09-01  A0118150101     70006157.0            5.0       2018.0"
      ]
     },
     "execution_count": 16,
     "metadata": {},
     "output_type": "execute_result"
    }
   ],
   "source": [
    "fact_sales_monthly = pd.read_sql_query(\"select * from fact_sales_monthly\", con)\n",
    "fact_sales_monthly.head()\n"
   ]
  },
  {
   "cell_type": "code",
   "execution_count": 17,
   "id": "ffab3f4c",
   "metadata": {},
   "outputs": [
    {
     "name": "stdout",
     "output_type": "stream",
     "text": [
      "(67251, 5)\n"
     ]
    },
    {
     "data": {
      "text/plain": [
       "date             0\n",
       "product_code     0\n",
       "customer_code    1\n",
       "sold_quantity    1\n",
       "fiscal_year      1\n",
       "dtype: int64"
      ]
     },
     "execution_count": 17,
     "metadata": {},
     "output_type": "execute_result"
    }
   ],
   "source": [
    "print(fact_sales_monthly.shape)\n",
    "fact_sales_monthly.isnull().sum()"
   ]
  },
  {
   "cell_type": "markdown",
   "id": "47022c68",
   "metadata": {},
   "source": [
    "<font size=\"3\">There is only one instance of duplication so it will be left</font>"
   ]
  },
  {
   "cell_type": "markdown",
   "id": "ccf405fb",
   "metadata": {},
   "source": [
    "## Inserting Libraries"
   ]
  },
  {
   "cell_type": "markdown",
   "id": "3901cd43",
   "metadata": {},
   "source": [
    "<font size=\"3\">!pip install pandasql  -  completed so code rendered inactive so it will not try to install when re-running the notebook </font>"
   ]
  },
  {
   "cell_type": "markdown",
   "id": "99885d56",
   "metadata": {},
   "source": [
    "<font size=\"3\">installed ipython-sql to use sql within the jupyter environment. this was done once then code was removed. </font>"
   ]
  },
  {
   "cell_type": "code",
   "execution_count": 18,
   "id": "bc9691a2",
   "metadata": {},
   "outputs": [],
   "source": [
    "#plotting library\n",
    "import plotly.express as px"
   ]
  },
  {
   "cell_type": "code",
   "execution_count": 19,
   "id": "3901dc35",
   "metadata": {},
   "outputs": [],
   "source": [
    "#more plotting libraries\n",
    "import seaborn as sns\n",
    "import matplotlib as plt"
   ]
  },
  {
   "cell_type": "code",
   "execution_count": 20,
   "id": "0cda0240",
   "metadata": {},
   "outputs": [],
   "source": [
    "from pathlib import Path # to transfer dataframes into csv files for export and use with Tableau"
   ]
  },
  {
   "cell_type": "code",
   "execution_count": 21,
   "id": "e7b89852",
   "metadata": {},
   "outputs": [],
   "source": [
    "import numpy as np"
   ]
  },
  {
   "cell_type": "code",
   "execution_count": 22,
   "id": "78e66b5a",
   "metadata": {},
   "outputs": [],
   "source": [
    "import datetime as dt"
   ]
  },
  {
   "cell_type": "markdown",
   "id": "c852c1d7",
   "metadata": {},
   "source": [
    "<blockquote> <font size=\"3\"> \n",
    "**coding notes**\n",
    "\n",
    "- Customer Realted Tables: 'fact_sales_monthly', 'fact_pre_discount', 'dim_product' and 'gross price'. \n",
    "\n",
    "- dim_customers to sales monthly on customer code >> sales montlhy to dim product on product code >>\n",
    "\n",
    "- Customer code to pre discount ON customer code (for average disocunt per customer)\n",
    "\n",
    "- dim customers to sales monthly on customer code (1-product total per customer, 2-popular product per customer, 3-customers per year, sales monlthy contains the DATE, 4-user retention?, 5-LTV?)\n",
    "\n",
    "- dim customers to dim product (connected via sales monthly on customer code) \n",
    "\n",
    "    </blockquote></font>"
   ]
  },
  {
   "cell_type": "markdown",
   "id": "ffbc5012",
   "metadata": {},
   "source": [
    "<hr style=\"border:2px solid black\">"
   ]
  },
  {
   "cell_type": "markdown",
   "id": "eeea96c0",
   "metadata": {},
   "source": [
    "# Geographic Segmentation"
   ]
  },
  {
   "cell_type": "markdown",
   "id": "f8154a11",
   "metadata": {},
   "source": [
    "<font size=\"3\"> This section will focus on geographical analysis of the data from a customer standpoint. \n",
    "<p>\n",
    "<font size=\"3\">Some good questions to ask are:\n",
    "    <li> What areas have the most customers</li>\n",
    "    <li> How many customers are there in total</li>\n",
    "    <li> What countries contain AtliQ customers?</li>\n",
    "<p> \n",
    "The more the data is analized the more insights and questions will arise."
   ]
  },
  {
   "cell_type": "code",
   "execution_count": 23,
   "id": "f0ef3210",
   "metadata": {
    "scrolled": true
   },
   "outputs": [
    {
     "data": {
      "text/html": [
       "<div>\n",
       "<style scoped>\n",
       "    .dataframe tbody tr th:only-of-type {\n",
       "        vertical-align: middle;\n",
       "    }\n",
       "\n",
       "    .dataframe tbody tr th {\n",
       "        vertical-align: top;\n",
       "    }\n",
       "\n",
       "    .dataframe thead th {\n",
       "        text-align: right;\n",
       "    }\n",
       "</style>\n",
       "<table border=\"1\" class=\"dataframe\">\n",
       "  <thead>\n",
       "    <tr style=\"text-align: right;\">\n",
       "      <th></th>\n",
       "      <th>customer_code</th>\n",
       "      <th>customer</th>\n",
       "      <th>platform</th>\n",
       "      <th>channel</th>\n",
       "      <th>market</th>\n",
       "      <th>sub_zone</th>\n",
       "      <th>region</th>\n",
       "    </tr>\n",
       "  </thead>\n",
       "  <tbody>\n",
       "    <tr>\n",
       "      <th>0</th>\n",
       "      <td>70002017</td>\n",
       "      <td>Atliq Exclusive</td>\n",
       "      <td>Brick &amp; Mortar</td>\n",
       "      <td>Direct</td>\n",
       "      <td>India</td>\n",
       "      <td>India</td>\n",
       "      <td>APAC</td>\n",
       "    </tr>\n",
       "    <tr>\n",
       "      <th>1</th>\n",
       "      <td>70002018</td>\n",
       "      <td>Atliq e Store</td>\n",
       "      <td>E-Commerce</td>\n",
       "      <td>Direct</td>\n",
       "      <td>India</td>\n",
       "      <td>India</td>\n",
       "      <td>APAC</td>\n",
       "    </tr>\n",
       "    <tr>\n",
       "      <th>2</th>\n",
       "      <td>70003181</td>\n",
       "      <td>Atliq Exclusive</td>\n",
       "      <td>Brick &amp; Mortar</td>\n",
       "      <td>Direct</td>\n",
       "      <td>Indonesia</td>\n",
       "      <td>ROA</td>\n",
       "      <td>APAC</td>\n",
       "    </tr>\n",
       "    <tr>\n",
       "      <th>3</th>\n",
       "      <td>70003182</td>\n",
       "      <td>Atliq e Store</td>\n",
       "      <td>E-Commerce</td>\n",
       "      <td>Direct</td>\n",
       "      <td>Indonesia</td>\n",
       "      <td>ROA</td>\n",
       "      <td>APAC</td>\n",
       "    </tr>\n",
       "    <tr>\n",
       "      <th>4</th>\n",
       "      <td>70004069</td>\n",
       "      <td>Atliq Exclusive</td>\n",
       "      <td>Brick &amp; Mortar</td>\n",
       "      <td>Direct</td>\n",
       "      <td>Japan</td>\n",
       "      <td>ROA</td>\n",
       "      <td>APAC</td>\n",
       "    </tr>\n",
       "  </tbody>\n",
       "</table>\n",
       "</div>"
      ],
      "text/plain": [
       "   customer_code         customer        platform channel     market sub_zone  \\\n",
       "0       70002017  Atliq Exclusive  Brick & Mortar  Direct      India    India   \n",
       "1       70002018    Atliq e Store      E-Commerce  Direct      India    India   \n",
       "2       70003181  Atliq Exclusive  Brick & Mortar  Direct  Indonesia      ROA   \n",
       "3       70003182    Atliq e Store      E-Commerce  Direct  Indonesia      ROA   \n",
       "4       70004069  Atliq Exclusive  Brick & Mortar  Direct      Japan      ROA   \n",
       "\n",
       "  region  \n",
       "0   APAC  \n",
       "1   APAC  \n",
       "2   APAC  \n",
       "3   APAC  \n",
       "4   APAC  "
      ]
     },
     "execution_count": 23,
     "metadata": {},
     "output_type": "execute_result"
    }
   ],
   "source": [
    "#overview of customer df\n",
    "dim_customer.head()"
   ]
  },
  {
   "cell_type": "code",
   "execution_count": 24,
   "id": "c69fda56",
   "metadata": {},
   "outputs": [
    {
     "data": {
      "text/html": [
       "<div>\n",
       "<style scoped>\n",
       "    .dataframe tbody tr th:only-of-type {\n",
       "        vertical-align: middle;\n",
       "    }\n",
       "\n",
       "    .dataframe tbody tr th {\n",
       "        vertical-align: top;\n",
       "    }\n",
       "\n",
       "    .dataframe thead th {\n",
       "        text-align: right;\n",
       "    }\n",
       "</style>\n",
       "<table border=\"1\" class=\"dataframe\">\n",
       "  <thead>\n",
       "    <tr style=\"text-align: right;\">\n",
       "      <th></th>\n",
       "      <th>market</th>\n",
       "      <th>customer_total</th>\n",
       "    </tr>\n",
       "  </thead>\n",
       "  <tbody>\n",
       "    <tr>\n",
       "      <th>0</th>\n",
       "      <td>India</td>\n",
       "      <td>18</td>\n",
       "    </tr>\n",
       "    <tr>\n",
       "      <th>1</th>\n",
       "      <td>USA</td>\n",
       "      <td>15</td>\n",
       "    </tr>\n",
       "    <tr>\n",
       "      <th>2</th>\n",
       "      <td>Portugal</td>\n",
       "      <td>12</td>\n",
       "    </tr>\n",
       "    <tr>\n",
       "      <th>3</th>\n",
       "      <td>United Kingdom</td>\n",
       "      <td>11</td>\n",
       "    </tr>\n",
       "    <tr>\n",
       "      <th>4</th>\n",
       "      <td>Spain</td>\n",
       "      <td>11</td>\n",
       "    </tr>\n",
       "  </tbody>\n",
       "</table>\n",
       "</div>"
      ],
      "text/plain": [
       "           market  customer_total\n",
       "0           India              18\n",
       "1             USA              15\n",
       "2        Portugal              12\n",
       "3  United Kingdom              11\n",
       "4           Spain              11"
      ]
     },
     "execution_count": 24,
     "metadata": {},
     "output_type": "execute_result"
    }
   ],
   "source": [
    "# Lets find the number of customers per Market then list in descending order\n",
    "market_grp = pd.read_sql_query(\"SELECT market, COUNT(customer_code) as customer_total FROM dim_customer GROUP BY market ORDER BY customer_total DESC;\", con)\n",
    "market_grp.head()\n",
    "#the \",con\" is used to connect to the database"
   ]
  },
  {
   "cell_type": "code",
   "execution_count": 115,
   "id": "71ea7aca",
   "metadata": {},
   "outputs": [
    {
     "data": {
      "text/html": [
       "<div>\n",
       "<style scoped>\n",
       "    .dataframe tbody tr th:only-of-type {\n",
       "        vertical-align: middle;\n",
       "    }\n",
       "\n",
       "    .dataframe tbody tr th {\n",
       "        vertical-align: top;\n",
       "    }\n",
       "\n",
       "    .dataframe thead th {\n",
       "        text-align: right;\n",
       "    }\n",
       "</style>\n",
       "<table border=\"1\" class=\"dataframe\">\n",
       "  <thead>\n",
       "    <tr style=\"text-align: right;\">\n",
       "      <th></th>\n",
       "      <th>region</th>\n",
       "      <th>customer_total</th>\n",
       "    </tr>\n",
       "  </thead>\n",
       "  <tbody>\n",
       "    <tr>\n",
       "      <th>0</th>\n",
       "      <td>EU</td>\n",
       "      <td>105</td>\n",
       "    </tr>\n",
       "    <tr>\n",
       "      <th>1</th>\n",
       "      <td>APAC</td>\n",
       "      <td>71</td>\n",
       "    </tr>\n",
       "    <tr>\n",
       "      <th>2</th>\n",
       "      <td>NA</td>\n",
       "      <td>26</td>\n",
       "    </tr>\n",
       "    <tr>\n",
       "      <th>3</th>\n",
       "      <td>LATAM</td>\n",
       "      <td>7</td>\n",
       "    </tr>\n",
       "  </tbody>\n",
       "</table>\n",
       "</div>"
      ],
      "text/plain": [
       "  region  customer_total\n",
       "0     EU             105\n",
       "1   APAC              71\n",
       "2     NA              26\n",
       "3  LATAM               7"
      ]
     },
     "execution_count": 115,
     "metadata": {},
     "output_type": "execute_result"
    }
   ],
   "source": [
    "#How many unique customers per region.  Please not that NA stands for \"North America\" and includes USA and Canada\n",
    "region_grp = pd.read_sql(\"SELECT region, COUNT(customer_code) as customer_total FROM dim_customer GROUP BY region ORDER BY customer_total DESC;\", con)\n",
    "region_grp\n",
    "\n"
   ]
  },
  {
   "cell_type": "code",
   "execution_count": 118,
   "id": "52b6e803",
   "metadata": {},
   "outputs": [
    {
     "data": {
      "image/png": "[encoded data removed]",
      "text/plain": [
       "<Figure size 1000x600 with 1 Axes>"
      ]
     },
     "metadata": {},
     "output_type": "display_data"
    }
   ],
   "source": [
    "# Create a bar chart\n",
    "plt.figure(figsize=(10, 6))\n",
    "plt.bar(region_grp[\"region\"], region_grp[\"customer_total\"])\n",
    "\n",
    "# Add text labels on the bars\n",
    "for i, value in enumerate(region_grp[\"customer_total\"]):\n",
    "    plt.text(i, value, f\"{value:.0f}\", ha=\"center\", va=\"bottom\")\n",
    "\n",
    "# Set the title and labels\n",
    "plt.title(\"Customers per Region\")\n",
    "plt.xlabel(\"Region\")\n",
    "plt.ylabel(\"Customer Total\")\n",
    "\n",
    "# Adjust text size and visibility\n",
    "plt.tight_layout()\n",
    "\n",
    "# Show the bar chart\n",
    "plt.show()"
   ]
  },
  {
   "cell_type": "markdown",
   "id": "75b9c8bf",
   "metadata": {},
   "source": [
    "<font size=\"3\">Lets get the customers and an orders table together"
   ]
  },
  {
   "cell_type": "code",
   "execution_count": 27,
   "id": "8f48dece",
   "metadata": {},
   "outputs": [
    {
     "data": {
      "text/html": [
       "<div>\n",
       "<style scoped>\n",
       "    .dataframe tbody tr th:only-of-type {\n",
       "        vertical-align: middle;\n",
       "    }\n",
       "\n",
       "    .dataframe tbody tr th {\n",
       "        vertical-align: top;\n",
       "    }\n",
       "\n",
       "    .dataframe thead th {\n",
       "        text-align: right;\n",
       "    }\n",
       "</style>\n",
       "<table border=\"1\" class=\"dataframe\">\n",
       "  <thead>\n",
       "    <tr style=\"text-align: right;\">\n",
       "      <th></th>\n",
       "      <th>customer_code</th>\n",
       "      <th>customer</th>\n",
       "      <th>platform</th>\n",
       "      <th>channel</th>\n",
       "      <th>market</th>\n",
       "      <th>sub_zone</th>\n",
       "      <th>region</th>\n",
       "    </tr>\n",
       "  </thead>\n",
       "  <tbody>\n",
       "    <tr>\n",
       "      <th>0</th>\n",
       "      <td>70002017</td>\n",
       "      <td>Atliq Exclusive</td>\n",
       "      <td>Brick &amp; Mortar</td>\n",
       "      <td>Direct</td>\n",
       "      <td>India</td>\n",
       "      <td>India</td>\n",
       "      <td>APAC</td>\n",
       "    </tr>\n",
       "    <tr>\n",
       "      <th>1</th>\n",
       "      <td>70002018</td>\n",
       "      <td>Atliq e Store</td>\n",
       "      <td>E-Commerce</td>\n",
       "      <td>Direct</td>\n",
       "      <td>India</td>\n",
       "      <td>India</td>\n",
       "      <td>APAC</td>\n",
       "    </tr>\n",
       "  </tbody>\n",
       "</table>\n",
       "</div>"
      ],
      "text/plain": [
       "   customer_code         customer        platform channel market sub_zone  \\\n",
       "0       70002017  Atliq Exclusive  Brick & Mortar  Direct  India    India   \n",
       "1       70002018    Atliq e Store      E-Commerce  Direct  India    India   \n",
       "\n",
       "  region  \n",
       "0   APAC  \n",
       "1   APAC  "
      ]
     },
     "execution_count": 27,
     "metadata": {},
     "output_type": "execute_result"
    }
   ],
   "source": [
    "dim_customer.head(2)"
   ]
  },
  {
   "cell_type": "code",
   "execution_count": 28,
   "id": "58d3c459",
   "metadata": {},
   "outputs": [
    {
     "data": {
      "text/html": [
       "<div>\n",
       "<style scoped>\n",
       "    .dataframe tbody tr th:only-of-type {\n",
       "        vertical-align: middle;\n",
       "    }\n",
       "\n",
       "    .dataframe tbody tr th {\n",
       "        vertical-align: top;\n",
       "    }\n",
       "\n",
       "    .dataframe thead th {\n",
       "        text-align: right;\n",
       "    }\n",
       "</style>\n",
       "<table border=\"1\" class=\"dataframe\">\n",
       "  <thead>\n",
       "    <tr style=\"text-align: right;\">\n",
       "      <th></th>\n",
       "      <th>date</th>\n",
       "      <th>product_code</th>\n",
       "      <th>customer_code</th>\n",
       "      <th>sold_quantity</th>\n",
       "      <th>fiscal_year</th>\n",
       "    </tr>\n",
       "  </thead>\n",
       "  <tbody>\n",
       "    <tr>\n",
       "      <th>0</th>\n",
       "      <td>2017-09-01</td>\n",
       "      <td>A0118150101</td>\n",
       "      <td>70002017.0</td>\n",
       "      <td>51.0</td>\n",
       "      <td>2018.0</td>\n",
       "    </tr>\n",
       "    <tr>\n",
       "      <th>1</th>\n",
       "      <td>2017-09-01</td>\n",
       "      <td>A0118150101</td>\n",
       "      <td>70002018.0</td>\n",
       "      <td>77.0</td>\n",
       "      <td>2018.0</td>\n",
       "    </tr>\n",
       "    <tr>\n",
       "      <th>2</th>\n",
       "      <td>2017-09-01</td>\n",
       "      <td>A0118150101</td>\n",
       "      <td>70003181.0</td>\n",
       "      <td>17.0</td>\n",
       "      <td>2018.0</td>\n",
       "    </tr>\n",
       "    <tr>\n",
       "      <th>3</th>\n",
       "      <td>2017-09-01</td>\n",
       "      <td>A0118150101</td>\n",
       "      <td>70003182.0</td>\n",
       "      <td>6.0</td>\n",
       "      <td>2018.0</td>\n",
       "    </tr>\n",
       "    <tr>\n",
       "      <th>4</th>\n",
       "      <td>2017-09-01</td>\n",
       "      <td>A0118150101</td>\n",
       "      <td>70006157.0</td>\n",
       "      <td>5.0</td>\n",
       "      <td>2018.0</td>\n",
       "    </tr>\n",
       "  </tbody>\n",
       "</table>\n",
       "</div>"
      ],
      "text/plain": [
       "         date product_code  customer_code  sold_quantity  fiscal_year\n",
       "0  2017-09-01  A0118150101     70002017.0           51.0       2018.0\n",
       "1  2017-09-01  A0118150101     70002018.0           77.0       2018.0\n",
       "2  2017-09-01  A0118150101     70003181.0           17.0       2018.0\n",
       "3  2017-09-01  A0118150101     70003182.0            6.0       2018.0\n",
       "4  2017-09-01  A0118150101     70006157.0            5.0       2018.0"
      ]
     },
     "execution_count": 28,
     "metadata": {},
     "output_type": "execute_result"
    }
   ],
   "source": [
    "fact_sales_monthly.head()"
   ]
  },
  {
   "cell_type": "code",
   "execution_count": 29,
   "id": "34706a34",
   "metadata": {},
   "outputs": [
    {
     "name": "stdout",
     "output_type": "stream",
     "text": [
      "<class 'pandas.core.frame.DataFrame'>\n",
      "RangeIndex: 67251 entries, 0 to 67250\n",
      "Data columns (total 5 columns):\n",
      " #   Column         Non-Null Count  Dtype  \n",
      "---  ------         --------------  -----  \n",
      " 0   date           67251 non-null  object \n",
      " 1   product_code   67251 non-null  object \n",
      " 2   customer_code  67250 non-null  float64\n",
      " 3   sold_quantity  67250 non-null  float64\n",
      " 4   fiscal_year    67250 non-null  float64\n",
      "dtypes: float64(3), object(2)\n",
      "memory usage: 2.6+ MB\n"
     ]
    }
   ],
   "source": [
    "#To see the datatypes \n",
    "fact_sales_monthly.info()"
   ]
  },
  {
   "cell_type": "code",
   "execution_count": 30,
   "id": "fb550ad1",
   "metadata": {},
   "outputs": [
    {
     "data": {
      "text/html": [
       "<div>\n",
       "<style scoped>\n",
       "    .dataframe tbody tr th:only-of-type {\n",
       "        vertical-align: middle;\n",
       "    }\n",
       "\n",
       "    .dataframe tbody tr th {\n",
       "        vertical-align: top;\n",
       "    }\n",
       "\n",
       "    .dataframe thead th {\n",
       "        text-align: right;\n",
       "    }\n",
       "</style>\n",
       "<table border=\"1\" class=\"dataframe\">\n",
       "  <thead>\n",
       "    <tr style=\"text-align: right;\">\n",
       "      <th></th>\n",
       "      <th>product_code</th>\n",
       "      <th>division</th>\n",
       "      <th>segment</th>\n",
       "      <th>category</th>\n",
       "      <th>product</th>\n",
       "      <th>variant</th>\n",
       "    </tr>\n",
       "  </thead>\n",
       "  <tbody>\n",
       "    <tr>\n",
       "      <th>0</th>\n",
       "      <td>A0118150101</td>\n",
       "      <td>P &amp; A</td>\n",
       "      <td>Peripherals</td>\n",
       "      <td>Internal HDD</td>\n",
       "      <td>AQ Dracula HDD – 3.5 Inch SATA 6 Gb/s 5400 RPM...</td>\n",
       "      <td>Standard</td>\n",
       "    </tr>\n",
       "    <tr>\n",
       "      <th>1</th>\n",
       "      <td>A0118150102</td>\n",
       "      <td>P &amp; A</td>\n",
       "      <td>Peripherals</td>\n",
       "      <td>Internal HDD</td>\n",
       "      <td>AQ Dracula HDD – 3.5 Inch SATA 6 Gb/s 5400 RPM...</td>\n",
       "      <td>Plus</td>\n",
       "    </tr>\n",
       "  </tbody>\n",
       "</table>\n",
       "</div>"
      ],
      "text/plain": [
       "  product_code division      segment      category  \\\n",
       "0  A0118150101    P & A  Peripherals  Internal HDD   \n",
       "1  A0118150102    P & A  Peripherals  Internal HDD   \n",
       "\n",
       "                                             product   variant  \n",
       "0  AQ Dracula HDD – 3.5 Inch SATA 6 Gb/s 5400 RPM...  Standard  \n",
       "1  AQ Dracula HDD – 3.5 Inch SATA 6 Gb/s 5400 RPM...      Plus  "
      ]
     },
     "execution_count": 30,
     "metadata": {},
     "output_type": "execute_result"
    }
   ],
   "source": [
    "dim_product.head(2)"
   ]
  },
  {
   "cell_type": "markdown",
   "id": "86e67a19",
   "metadata": {},
   "source": [
    "### Combine the customers table with customer code to pre discount ON customer code (average disocunt per customer per year)"
   ]
  },
  {
   "cell_type": "markdown",
   "id": "d8a8e621",
   "metadata": {},
   "source": [
    "<font size=\"3\">Use Inner Join to join the two tables but if we have unmatched rows, they will not be shown as unmatched rows will return NULL values"
   ]
  },
  {
   "cell_type": "code",
   "execution_count": 31,
   "id": "f130160f",
   "metadata": {},
   "outputs": [
    {
     "data": {
      "text/html": [
       "<div>\n",
       "<style scoped>\n",
       "    .dataframe tbody tr th:only-of-type {\n",
       "        vertical-align: middle;\n",
       "    }\n",
       "\n",
       "    .dataframe tbody tr th {\n",
       "        vertical-align: top;\n",
       "    }\n",
       "\n",
       "    .dataframe thead th {\n",
       "        text-align: right;\n",
       "    }\n",
       "</style>\n",
       "<table border=\"1\" class=\"dataframe\">\n",
       "  <thead>\n",
       "    <tr style=\"text-align: right;\">\n",
       "      <th></th>\n",
       "      <th>customer_code</th>\n",
       "      <th>customer</th>\n",
       "      <th>platform</th>\n",
       "      <th>channel</th>\n",
       "      <th>market</th>\n",
       "      <th>sub_zone</th>\n",
       "      <th>region</th>\n",
       "    </tr>\n",
       "  </thead>\n",
       "  <tbody>\n",
       "    <tr>\n",
       "      <th>0</th>\n",
       "      <td>70002017</td>\n",
       "      <td>Atliq Exclusive</td>\n",
       "      <td>Brick &amp; Mortar</td>\n",
       "      <td>Direct</td>\n",
       "      <td>India</td>\n",
       "      <td>India</td>\n",
       "      <td>APAC</td>\n",
       "    </tr>\n",
       "    <tr>\n",
       "      <th>1</th>\n",
       "      <td>70002018</td>\n",
       "      <td>Atliq e Store</td>\n",
       "      <td>E-Commerce</td>\n",
       "      <td>Direct</td>\n",
       "      <td>India</td>\n",
       "      <td>India</td>\n",
       "      <td>APAC</td>\n",
       "    </tr>\n",
       "    <tr>\n",
       "      <th>2</th>\n",
       "      <td>70003181</td>\n",
       "      <td>Atliq Exclusive</td>\n",
       "      <td>Brick &amp; Mortar</td>\n",
       "      <td>Direct</td>\n",
       "      <td>Indonesia</td>\n",
       "      <td>ROA</td>\n",
       "      <td>APAC</td>\n",
       "    </tr>\n",
       "    <tr>\n",
       "      <th>3</th>\n",
       "      <td>70003182</td>\n",
       "      <td>Atliq e Store</td>\n",
       "      <td>E-Commerce</td>\n",
       "      <td>Direct</td>\n",
       "      <td>Indonesia</td>\n",
       "      <td>ROA</td>\n",
       "      <td>APAC</td>\n",
       "    </tr>\n",
       "    <tr>\n",
       "      <th>4</th>\n",
       "      <td>70004069</td>\n",
       "      <td>Atliq Exclusive</td>\n",
       "      <td>Brick &amp; Mortar</td>\n",
       "      <td>Direct</td>\n",
       "      <td>Japan</td>\n",
       "      <td>ROA</td>\n",
       "      <td>APAC</td>\n",
       "    </tr>\n",
       "  </tbody>\n",
       "</table>\n",
       "</div>"
      ],
      "text/plain": [
       "   customer_code         customer        platform channel     market sub_zone  \\\n",
       "0       70002017  Atliq Exclusive  Brick & Mortar  Direct      India    India   \n",
       "1       70002018    Atliq e Store      E-Commerce  Direct      India    India   \n",
       "2       70003181  Atliq Exclusive  Brick & Mortar  Direct  Indonesia      ROA   \n",
       "3       70003182    Atliq e Store      E-Commerce  Direct  Indonesia      ROA   \n",
       "4       70004069  Atliq Exclusive  Brick & Mortar  Direct      Japan      ROA   \n",
       "\n",
       "  region  \n",
       "0   APAC  \n",
       "1   APAC  \n",
       "2   APAC  \n",
       "3   APAC  \n",
       "4   APAC  "
      ]
     },
     "execution_count": 31,
     "metadata": {},
     "output_type": "execute_result"
    }
   ],
   "source": [
    "dim_customer.head()"
   ]
  },
  {
   "cell_type": "code",
   "execution_count": 32,
   "id": "527f4dc4",
   "metadata": {},
   "outputs": [
    {
     "data": {
      "text/html": [
       "<div>\n",
       "<style scoped>\n",
       "    .dataframe tbody tr th:only-of-type {\n",
       "        vertical-align: middle;\n",
       "    }\n",
       "\n",
       "    .dataframe tbody tr th {\n",
       "        vertical-align: top;\n",
       "    }\n",
       "\n",
       "    .dataframe thead th {\n",
       "        text-align: right;\n",
       "    }\n",
       "</style>\n",
       "<table border=\"1\" class=\"dataframe\">\n",
       "  <thead>\n",
       "    <tr style=\"text-align: right;\">\n",
       "      <th></th>\n",
       "      <th>customer_code</th>\n",
       "      <th>fiscal_year</th>\n",
       "      <th>pre_invoice_discount_pct</th>\n",
       "    </tr>\n",
       "  </thead>\n",
       "  <tbody>\n",
       "    <tr>\n",
       "      <th>0</th>\n",
       "      <td>70002017</td>\n",
       "      <td>2018</td>\n",
       "      <td>0.0824</td>\n",
       "    </tr>\n",
       "    <tr>\n",
       "      <th>1</th>\n",
       "      <td>70002017</td>\n",
       "      <td>2019</td>\n",
       "      <td>0.0777</td>\n",
       "    </tr>\n",
       "    <tr>\n",
       "      <th>2</th>\n",
       "      <td>70002017</td>\n",
       "      <td>2020</td>\n",
       "      <td>0.0735</td>\n",
       "    </tr>\n",
       "    <tr>\n",
       "      <th>3</th>\n",
       "      <td>70002017</td>\n",
       "      <td>2021</td>\n",
       "      <td>0.0703</td>\n",
       "    </tr>\n",
       "    <tr>\n",
       "      <th>4</th>\n",
       "      <td>70002017</td>\n",
       "      <td>2022</td>\n",
       "      <td>0.1057</td>\n",
       "    </tr>\n",
       "  </tbody>\n",
       "</table>\n",
       "</div>"
      ],
      "text/plain": [
       "   customer_code  fiscal_year  pre_invoice_discount_pct\n",
       "0       70002017         2018                    0.0824\n",
       "1       70002017         2019                    0.0777\n",
       "2       70002017         2020                    0.0735\n",
       "3       70002017         2021                    0.0703\n",
       "4       70002017         2022                    0.1057"
      ]
     },
     "execution_count": 32,
     "metadata": {},
     "output_type": "execute_result"
    }
   ],
   "source": [
    "fact_pre_discount.head()"
   ]
  },
  {
   "cell_type": "code",
   "execution_count": 33,
   "id": "9d4cd730",
   "metadata": {},
   "outputs": [
    {
     "data": {
      "text/html": [
       "<div>\n",
       "<style scoped>\n",
       "    .dataframe tbody tr th:only-of-type {\n",
       "        vertical-align: middle;\n",
       "    }\n",
       "\n",
       "    .dataframe tbody tr th {\n",
       "        vertical-align: top;\n",
       "    }\n",
       "\n",
       "    .dataframe thead th {\n",
       "        text-align: right;\n",
       "    }\n",
       "</style>\n",
       "<table border=\"1\" class=\"dataframe\">\n",
       "  <thead>\n",
       "    <tr style=\"text-align: right;\">\n",
       "      <th></th>\n",
       "      <th>customer_code</th>\n",
       "      <th>customer</th>\n",
       "      <th>market</th>\n",
       "      <th>fiscal_year</th>\n",
       "      <th>pre_invoice_discount_pct</th>\n",
       "    </tr>\n",
       "  </thead>\n",
       "  <tbody>\n",
       "    <tr>\n",
       "      <th>0</th>\n",
       "      <td>70002017</td>\n",
       "      <td>Atliq Exclusive</td>\n",
       "      <td>India</td>\n",
       "      <td>2018</td>\n",
       "      <td>0.0824</td>\n",
       "    </tr>\n",
       "    <tr>\n",
       "      <th>1</th>\n",
       "      <td>70002017</td>\n",
       "      <td>Atliq Exclusive</td>\n",
       "      <td>India</td>\n",
       "      <td>2019</td>\n",
       "      <td>0.0777</td>\n",
       "    </tr>\n",
       "    <tr>\n",
       "      <th>2</th>\n",
       "      <td>70002017</td>\n",
       "      <td>Atliq Exclusive</td>\n",
       "      <td>India</td>\n",
       "      <td>2020</td>\n",
       "      <td>0.0735</td>\n",
       "    </tr>\n",
       "    <tr>\n",
       "      <th>3</th>\n",
       "      <td>70002017</td>\n",
       "      <td>Atliq Exclusive</td>\n",
       "      <td>India</td>\n",
       "      <td>2021</td>\n",
       "      <td>0.0703</td>\n",
       "    </tr>\n",
       "    <tr>\n",
       "      <th>4</th>\n",
       "      <td>70002017</td>\n",
       "      <td>Atliq Exclusive</td>\n",
       "      <td>India</td>\n",
       "      <td>2022</td>\n",
       "      <td>0.1057</td>\n",
       "    </tr>\n",
       "    <tr>\n",
       "      <th>5</th>\n",
       "      <td>70002018</td>\n",
       "      <td>Atliq e Store</td>\n",
       "      <td>India</td>\n",
       "      <td>2018</td>\n",
       "      <td>0.2956</td>\n",
       "    </tr>\n",
       "    <tr>\n",
       "      <th>6</th>\n",
       "      <td>70002018</td>\n",
       "      <td>Atliq e Store</td>\n",
       "      <td>India</td>\n",
       "      <td>2019</td>\n",
       "      <td>0.2577</td>\n",
       "    </tr>\n",
       "    <tr>\n",
       "      <th>7</th>\n",
       "      <td>70002018</td>\n",
       "      <td>Atliq e Store</td>\n",
       "      <td>India</td>\n",
       "      <td>2020</td>\n",
       "      <td>0.2255</td>\n",
       "    </tr>\n",
       "  </tbody>\n",
       "</table>\n",
       "</div>"
      ],
      "text/plain": [
       "   customer_code         customer market  fiscal_year  \\\n",
       "0       70002017  Atliq Exclusive  India         2018   \n",
       "1       70002017  Atliq Exclusive  India         2019   \n",
       "2       70002017  Atliq Exclusive  India         2020   \n",
       "3       70002017  Atliq Exclusive  India         2021   \n",
       "4       70002017  Atliq Exclusive  India         2022   \n",
       "5       70002018    Atliq e Store  India         2018   \n",
       "6       70002018    Atliq e Store  India         2019   \n",
       "7       70002018    Atliq e Store  India         2020   \n",
       "\n",
       "   pre_invoice_discount_pct  \n",
       "0                    0.0824  \n",
       "1                    0.0777  \n",
       "2                    0.0735  \n",
       "3                    0.0703  \n",
       "4                    0.1057  \n",
       "5                    0.2956  \n",
       "6                    0.2577  \n",
       "7                    0.2255  "
      ]
     },
     "execution_count": 33,
     "metadata": {},
     "output_type": "execute_result"
    }
   ],
   "source": [
    "#Query to determine avaerage customer discount and join the two above tables\n",
    "dis_query = \"\"\"\n",
    "SELECT cust.customer_code,\n",
    "       cust.customer,\n",
    "       cust.market,\n",
    "       disc.fiscal_year,\n",
    "       disc.pre_invoice_discount_pct\n",
    "FROM dim_customer as cust \n",
    "INNER JOIN fact_pre_discount as disc on cust.customer_code = disc.customer_code;\n",
    "\"\"\"\n",
    "\n",
    "cust_discnt = pd.read_sql_query(dis_query, con)\n",
    "cust_discnt.head(8)\n"
   ]
  },
  {
   "cell_type": "markdown",
   "id": "a9a09904",
   "metadata": {},
   "source": [
    "<font size=\"3\">It may look like repeating data but it's not, it's taking the customer data for each year in the datasets timeframe.</font>"
   ]
  },
  {
   "cell_type": "code",
   "execution_count": 34,
   "id": "627c9aa5",
   "metadata": {},
   "outputs": [
    {
     "data": {
      "text/html": [
       "<div>\n",
       "<style scoped>\n",
       "    .dataframe tbody tr th:only-of-type {\n",
       "        vertical-align: middle;\n",
       "    }\n",
       "\n",
       "    .dataframe tbody tr th {\n",
       "        vertical-align: top;\n",
       "    }\n",
       "\n",
       "    .dataframe thead th {\n",
       "        text-align: right;\n",
       "    }\n",
       "</style>\n",
       "<table border=\"1\" class=\"dataframe\">\n",
       "  <thead>\n",
       "    <tr style=\"text-align: right;\">\n",
       "      <th></th>\n",
       "      <th>customer_code</th>\n",
       "      <th>average_discnt</th>\n",
       "    </tr>\n",
       "  </thead>\n",
       "  <tbody>\n",
       "    <tr>\n",
       "      <th>0</th>\n",
       "      <td>70002017</td>\n",
       "      <td>0.08192</td>\n",
       "    </tr>\n",
       "    <tr>\n",
       "      <th>1</th>\n",
       "      <td>70002018</td>\n",
       "      <td>0.25560</td>\n",
       "    </tr>\n",
       "    <tr>\n",
       "      <th>2</th>\n",
       "      <td>70003181</td>\n",
       "      <td>0.06628</td>\n",
       "    </tr>\n",
       "    <tr>\n",
       "      <th>3</th>\n",
       "      <td>70003182</td>\n",
       "      <td>0.20872</td>\n",
       "    </tr>\n",
       "    <tr>\n",
       "      <th>4</th>\n",
       "      <td>70004069</td>\n",
       "      <td>0.08166</td>\n",
       "    </tr>\n",
       "    <tr>\n",
       "      <th>...</th>\n",
       "      <td>...</td>\n",
       "      <td>...</td>\n",
       "    </tr>\n",
       "    <tr>\n",
       "      <th>204</th>\n",
       "      <td>90024183</td>\n",
       "      <td>0.22778</td>\n",
       "    </tr>\n",
       "    <tr>\n",
       "      <th>205</th>\n",
       "      <td>90024184</td>\n",
       "      <td>0.22866</td>\n",
       "    </tr>\n",
       "    <tr>\n",
       "      <th>206</th>\n",
       "      <td>90025209</td>\n",
       "      <td>0.26714</td>\n",
       "    </tr>\n",
       "    <tr>\n",
       "      <th>207</th>\n",
       "      <td>90026205</td>\n",
       "      <td>0.27266</td>\n",
       "    </tr>\n",
       "    <tr>\n",
       "      <th>208</th>\n",
       "      <td>90027207</td>\n",
       "      <td>0.25052</td>\n",
       "    </tr>\n",
       "  </tbody>\n",
       "</table>\n",
       "<p>209 rows × 2 columns</p>\n",
       "</div>"
      ],
      "text/plain": [
       "     customer_code  average_discnt\n",
       "0         70002017         0.08192\n",
       "1         70002018         0.25560\n",
       "2         70003181         0.06628\n",
       "3         70003182         0.20872\n",
       "4         70004069         0.08166\n",
       "..             ...             ...\n",
       "204       90024183         0.22778\n",
       "205       90024184         0.22866\n",
       "206       90025209         0.26714\n",
       "207       90026205         0.27266\n",
       "208       90027207         0.25052\n",
       "\n",
       "[209 rows x 2 columns]"
      ]
     },
     "execution_count": 34,
     "metadata": {},
     "output_type": "execute_result"
    }
   ],
   "source": [
    "#grouping by customer code as customer name does not distinguish the different codes/markets\n",
    "cda = cust_discnt.groupby(['customer_code'])['pre_invoice_discount_pct'].mean().reset_index()\n",
    "\n",
    "# Rename the column to indicate it's the average rate\n",
    "cda.rename(columns={'pre_invoice_discount_pct': 'average_discnt'}, inplace=True)\n",
    "\n",
    "#cda['average_discnt'] = cda['average_discnt'].apply(lambda x: '{:.2%}'.format(x))\n",
    "# Print the resulting DataFrame\n",
    "cda\n"
   ]
  },
  {
   "cell_type": "code",
   "execution_count": 35,
   "id": "ce0bc1ec",
   "metadata": {},
   "outputs": [
    {
     "name": "stdout",
     "output_type": "stream",
     "text": [
      "<class 'pandas.core.frame.DataFrame'>\n",
      "RangeIndex: 209 entries, 0 to 208\n",
      "Data columns (total 2 columns):\n",
      " #   Column          Non-Null Count  Dtype  \n",
      "---  ------          --------------  -----  \n",
      " 0   customer_code   209 non-null    int64  \n",
      " 1   average_discnt  209 non-null    float64\n",
      "dtypes: float64(1), int64(1)\n",
      "memory usage: 3.4 KB\n"
     ]
    }
   ],
   "source": [
    "cda.info()"
   ]
  },
  {
   "cell_type": "markdown",
   "id": "65058b10",
   "metadata": {},
   "source": [
    "<font size=\"3\">Since the database is locked, will have to use python to join the newly created cda df to the dim_customers"
   ]
  },
  {
   "cell_type": "code",
   "execution_count": 36,
   "id": "30ee0785",
   "metadata": {},
   "outputs": [
    {
     "data": {
      "text/html": [
       "<div>\n",
       "<style scoped>\n",
       "    .dataframe tbody tr th:only-of-type {\n",
       "        vertical-align: middle;\n",
       "    }\n",
       "\n",
       "    .dataframe tbody tr th {\n",
       "        vertical-align: top;\n",
       "    }\n",
       "\n",
       "    .dataframe thead th {\n",
       "        text-align: right;\n",
       "    }\n",
       "</style>\n",
       "<table border=\"1\" class=\"dataframe\">\n",
       "  <thead>\n",
       "    <tr style=\"text-align: right;\">\n",
       "      <th></th>\n",
       "      <th>customer_code</th>\n",
       "      <th>average_discnt</th>\n",
       "      <th>customer</th>\n",
       "      <th>platform</th>\n",
       "      <th>channel</th>\n",
       "      <th>market</th>\n",
       "      <th>sub_zone</th>\n",
       "      <th>region</th>\n",
       "    </tr>\n",
       "  </thead>\n",
       "  <tbody>\n",
       "    <tr>\n",
       "      <th>0</th>\n",
       "      <td>70002017</td>\n",
       "      <td>0.08192</td>\n",
       "      <td>Atliq Exclusive</td>\n",
       "      <td>Brick &amp; Mortar</td>\n",
       "      <td>Direct</td>\n",
       "      <td>India</td>\n",
       "      <td>India</td>\n",
       "      <td>APAC</td>\n",
       "    </tr>\n",
       "    <tr>\n",
       "      <th>1</th>\n",
       "      <td>70002018</td>\n",
       "      <td>0.25560</td>\n",
       "      <td>Atliq e Store</td>\n",
       "      <td>E-Commerce</td>\n",
       "      <td>Direct</td>\n",
       "      <td>India</td>\n",
       "      <td>India</td>\n",
       "      <td>APAC</td>\n",
       "    </tr>\n",
       "    <tr>\n",
       "      <th>2</th>\n",
       "      <td>70003181</td>\n",
       "      <td>0.06628</td>\n",
       "      <td>Atliq Exclusive</td>\n",
       "      <td>Brick &amp; Mortar</td>\n",
       "      <td>Direct</td>\n",
       "      <td>Indonesia</td>\n",
       "      <td>ROA</td>\n",
       "      <td>APAC</td>\n",
       "    </tr>\n",
       "    <tr>\n",
       "      <th>3</th>\n",
       "      <td>70003182</td>\n",
       "      <td>0.20872</td>\n",
       "      <td>Atliq e Store</td>\n",
       "      <td>E-Commerce</td>\n",
       "      <td>Direct</td>\n",
       "      <td>Indonesia</td>\n",
       "      <td>ROA</td>\n",
       "      <td>APAC</td>\n",
       "    </tr>\n",
       "    <tr>\n",
       "      <th>4</th>\n",
       "      <td>70004069</td>\n",
       "      <td>0.08166</td>\n",
       "      <td>Atliq Exclusive</td>\n",
       "      <td>Brick &amp; Mortar</td>\n",
       "      <td>Direct</td>\n",
       "      <td>Japan</td>\n",
       "      <td>ROA</td>\n",
       "      <td>APAC</td>\n",
       "    </tr>\n",
       "    <tr>\n",
       "      <th>...</th>\n",
       "      <td>...</td>\n",
       "      <td>...</td>\n",
       "      <td>...</td>\n",
       "      <td>...</td>\n",
       "      <td>...</td>\n",
       "      <td>...</td>\n",
       "      <td>...</td>\n",
       "      <td>...</td>\n",
       "    </tr>\n",
       "    <tr>\n",
       "      <th>204</th>\n",
       "      <td>90024183</td>\n",
       "      <td>0.22778</td>\n",
       "      <td>Electricalsbea Stores</td>\n",
       "      <td>Brick &amp; Mortar</td>\n",
       "      <td>Retailer</td>\n",
       "      <td>Chile</td>\n",
       "      <td>LATAM</td>\n",
       "      <td>LATAM</td>\n",
       "    </tr>\n",
       "    <tr>\n",
       "      <th>205</th>\n",
       "      <td>90024184</td>\n",
       "      <td>0.22866</td>\n",
       "      <td>Amazon</td>\n",
       "      <td>E-Commerce</td>\n",
       "      <td>Retailer</td>\n",
       "      <td>Chile</td>\n",
       "      <td>LATAM</td>\n",
       "      <td>LATAM</td>\n",
       "    </tr>\n",
       "    <tr>\n",
       "      <th>206</th>\n",
       "      <td>90025209</td>\n",
       "      <td>0.26714</td>\n",
       "      <td>Electricalsbea Stores</td>\n",
       "      <td>Brick &amp; Mortar</td>\n",
       "      <td>Retailer</td>\n",
       "      <td>Columbia</td>\n",
       "      <td>LATAM</td>\n",
       "      <td>LATAM</td>\n",
       "    </tr>\n",
       "    <tr>\n",
       "      <th>207</th>\n",
       "      <td>90026205</td>\n",
       "      <td>0.27266</td>\n",
       "      <td>Amazon</td>\n",
       "      <td>E-Commerce</td>\n",
       "      <td>Retailer</td>\n",
       "      <td>Mexico</td>\n",
       "      <td>LATAM</td>\n",
       "      <td>LATAM</td>\n",
       "    </tr>\n",
       "    <tr>\n",
       "      <th>208</th>\n",
       "      <td>90027207</td>\n",
       "      <td>0.25052</td>\n",
       "      <td>Amazon</td>\n",
       "      <td>E-Commerce</td>\n",
       "      <td>Retailer</td>\n",
       "      <td>Brazil</td>\n",
       "      <td>LATAM</td>\n",
       "      <td>LATAM</td>\n",
       "    </tr>\n",
       "  </tbody>\n",
       "</table>\n",
       "<p>209 rows × 8 columns</p>\n",
       "</div>"
      ],
      "text/plain": [
       "     customer_code  average_discnt               customer        platform  \\\n",
       "0         70002017         0.08192        Atliq Exclusive  Brick & Mortar   \n",
       "1         70002018         0.25560          Atliq e Store      E-Commerce   \n",
       "2         70003181         0.06628        Atliq Exclusive  Brick & Mortar   \n",
       "3         70003182         0.20872          Atliq e Store      E-Commerce   \n",
       "4         70004069         0.08166        Atliq Exclusive  Brick & Mortar   \n",
       "..             ...             ...                    ...             ...   \n",
       "204       90024183         0.22778  Electricalsbea Stores  Brick & Mortar   \n",
       "205       90024184         0.22866                Amazon       E-Commerce   \n",
       "206       90025209         0.26714  Electricalsbea Stores  Brick & Mortar   \n",
       "207       90026205         0.27266                Amazon       E-Commerce   \n",
       "208       90027207         0.25052                Amazon       E-Commerce   \n",
       "\n",
       "      channel     market sub_zone region  \n",
       "0      Direct      India    India   APAC  \n",
       "1      Direct      India    India   APAC  \n",
       "2      Direct  Indonesia      ROA   APAC  \n",
       "3      Direct  Indonesia      ROA   APAC  \n",
       "4      Direct      Japan      ROA   APAC  \n",
       "..        ...        ...      ...    ...  \n",
       "204  Retailer      Chile    LATAM  LATAM  \n",
       "205  Retailer      Chile    LATAM  LATAM  \n",
       "206  Retailer   Columbia    LATAM  LATAM  \n",
       "207  Retailer     Mexico    LATAM  LATAM  \n",
       "208  Retailer     Brazil    LATAM  LATAM  \n",
       "\n",
       "[209 rows x 8 columns]"
      ]
     },
     "execution_count": 36,
     "metadata": {},
     "output_type": "execute_result"
    }
   ],
   "source": [
    "#this will merge the newly created cda df to the customers df on customer code so we can see what customers\n",
    "#are tied to the customer numbers\n",
    "new_cust_dis = pd.merge(cda, dim_customer, on = 'customer_code', how = \"inner\")\n",
    "\n",
    "new_cust_dis"
   ]
  },
  {
   "cell_type": "code",
   "execution_count": 37,
   "id": "2fc733de",
   "metadata": {},
   "outputs": [],
   "source": [
    "# Group data by customer name and calculate the sum\n",
    "grouped = new_cust_dis.groupby('customer')['average_discnt'].mean().reset_index()"
   ]
  },
  {
   "cell_type": "code",
   "execution_count": 38,
   "id": "f5b65da7",
   "metadata": {},
   "outputs": [
    {
     "data": {
      "application/vnd.plotly.v1+json": {
       "config": {
        "plotlyServerURL": "https://plot.ly"
       },
       "data": [
        {
         "alignmentgroup": "True",
         "hovertemplate": "customer=%{x}<br>average_discnt=%{y}<extra></extra>",
         "legendgroup": "",
         "marker": {
          "color": "#636efa",
          "pattern": {
           "shape": ""
          }
         },
         "name": "",
         "offsetgroup": "",
         "orientation": "v",
         "showlegend": false,
         "text": [
          0.23521999999999998,
          0.23904,
          0.248335,
          0.2416984,
          0.23648000000000002,
          0.24788,
          0.08954117647058824,
          0.23971583333333335,
          0.23884,
          0.23856000000000002,
          0.24444666666666667,
          0.26192000000000004,
          0.25334999999999996,
          0.25217999999999996,
          0.23487999999999998,
          0.23531999999999997,
          0.27147,
          0.21192000000000003,
          0.24861000000000003,
          0.25549999999999995,
          0.23228999999999997,
          0.26041000000000003,
          0.25786000000000003,
          0.24753,
          0.245,
          0.23023,
          0.259,
          0.25232,
          0.24798666666666666,
          0.24867,
          0.223445,
          0.243864,
          0.25927999999999995,
          0.28376,
          0.25236,
          0.25579999999999997,
          0.24403333333333332,
          0.26099,
          0.26054000000000005,
          0.24123,
          0.22804000000000002,
          0.26574,
          0.24438000000000004,
          0.24067,
          0.24512,
          0.2517933333333333,
          0.26021333333333335,
          0.23232999999999998,
          0.25169,
          0.28746,
          0.27242,
          0.28508,
          0.2391,
          0.25307,
          0.24543000000000004,
          0.25434,
          0.23674,
          0.23878,
          0.2551,
          0.23320000000000002,
          0.26355,
          0.25128,
          0.25478,
          0.24271999999999996,
          0.25410999999999995,
          0.25728,
          0.25571999999999995,
          0.25542000000000004,
          0.24232,
          0.2560733333333333,
          0.26796,
          0.24228,
          0.2779,
          0.23057,
          0.24619000000000002
         ],
         "textposition": "outside",
         "texttemplate": "%{text:.2s}",
         "type": "bar",
         "x": [
          "Acclaimed Stores",
          "All-Out",
          "Amazon",
          "Amazon ",
          "Argos (Sainsbury's)",
          "Atlas Stores",
          "Atliq Exclusive",
          "Atliq e Store",
          "BestBuy",
          "Billa",
          "Boulanger",
          "Chip 7",
          "Chiptec",
          "Circuit City",
          "Control",
          "Coolblue",
          "Costco",
          "Croma",
          "Currys (Dixons Carphone)",
          "Digimarket",
          "Ebay",
          "Electricalsara Stores",
          "Electricalsbea Stores",
          "Electricalslance Stores",
          "Electricalslytical",
          "Electricalsocity",
          "Electricalsquipo Stores",
          "Elite",
          "Elkjøp",
          "Epic Stores",
          "Euronics",
          "Expert",
          "Expression",
          "Ezone",
          "Flawless Stores",
          "Flipkart",
          "Fnac-Darty",
          "Forward Stores",
          "Girias",
          "Info Stores",
          "Insight",
          "Integration Stores",
          "Leader",
          "Logic Stores",
          "Lotus",
          "Mbit",
          "Media Markt",
          "Neptune",
          "Nomad Stores",
          "Notebillig",
          "Nova",
          "Novus",
          "Otto",
          "Path",
          "Power",
          "Premium Stores",
          "Propel",
          "Radio Popular",
          "Radio Shack",
          "Reliance Digital",
          "Relief",
          "Sage",
          "Saturn",
          "Sorefoz",
          "Sound",
          "Staples",
          "Surface Stores",
          "Synthetic",
          "Taobao",
          "UniEuro",
          "Unity Stores",
          "Vijay Sales",
          "Viveks",
          "Zone",
          "walmart"
         ],
         "xaxis": "x",
         "y": [
          0.23521999999999998,
          0.23904,
          0.248335,
          0.2416984,
          0.23648000000000002,
          0.24788,
          0.08954117647058824,
          0.23971583333333335,
          0.23884,
          0.23856000000000002,
          0.24444666666666667,
          0.26192000000000004,
          0.25334999999999996,
          0.25217999999999996,
          0.23487999999999998,
          0.23531999999999997,
          0.27147,
          0.21192000000000003,
          0.24861000000000003,
          0.25549999999999995,
          0.23228999999999997,
          0.26041000000000003,
          0.25786000000000003,
          0.24753,
          0.245,
          0.23023,
          0.259,
          0.25232,
          0.24798666666666666,
          0.24867,
          0.223445,
          0.243864,
          0.25927999999999995,
          0.28376,
          0.25236,
          0.25579999999999997,
          0.24403333333333332,
          0.26099,
          0.26054000000000005,
          0.24123,
          0.22804000000000002,
          0.26574,
          0.24438000000000004,
          0.24067,
          0.24512,
          0.2517933333333333,
          0.26021333333333335,
          0.23232999999999998,
          0.25169,
          0.28746,
          0.27242,
          0.28508,
          0.2391,
          0.25307,
          0.24543000000000004,
          0.25434,
          0.23674,
          0.23878,
          0.2551,
          0.23320000000000002,
          0.26355,
          0.25128,
          0.25478,
          0.24271999999999996,
          0.25410999999999995,
          0.25728,
          0.25571999999999995,
          0.25542000000000004,
          0.24232,
          0.2560733333333333,
          0.26796,
          0.24228,
          0.2779,
          0.23057,
          0.24619000000000002
         ],
         "yaxis": "y"
        }
       ],
       "layout": {
        "barmode": "relative",
        "legend": {
         "tracegroupgap": 0
        },
        "template": {
         "data": {
          "bar": [
           {
            "error_x": {
             "color": "#2a3f5f"
            },
            "error_y": {
             "color": "#2a3f5f"
            },
            "marker": {
             "line": {
              "color": "#E5ECF6",
              "width": 0.5
             },
             "pattern": {
              "fillmode": "overlay",
              "size": 10,
              "solidity": 0.2
             }
            },
            "type": "bar"
           }
          ],
          "barpolar": [
           {
            "marker": {
             "line": {
              "color": "#E5ECF6",
              "width": 0.5
             },
             "pattern": {
              "fillmode": "overlay",
              "size": 10,
              "solidity": 0.2
             }
            },
            "type": "barpolar"
           }
          ],
          "carpet": [
           {
            "aaxis": {
             "endlinecolor": "#2a3f5f",
             "gridcolor": "white",
             "linecolor": "white",
             "minorgridcolor": "white",
             "startlinecolor": "#2a3f5f"
            },
            "baxis": {
             "endlinecolor": "#2a3f5f",
             "gridcolor": "white",
             "linecolor": "white",
             "minorgridcolor": "white",
             "startlinecolor": "#2a3f5f"
            },
            "type": "carpet"
           }
          ],
          "choropleth": [
           {
            "colorbar": {
             "outlinewidth": 0,
             "ticks": ""
            },
            "type": "choropleth"
           }
          ],
          "contour": [
           {
            "colorbar": {
             "outlinewidth": 0,
             "ticks": ""
            },
            "colorscale": [
             [
              0,
              "#0d0887"
             ],
             [
              0.1111111111111111,
              "#46039f"
             ],
             [
              0.2222222222222222,
              "#7201a8"
             ],
             [
              0.3333333333333333,
              "#9c179e"
             ],
             [
              0.4444444444444444,
              "#bd3786"
             ],
             [
              0.5555555555555556,
              "#d8576b"
             ],
             [
              0.6666666666666666,
              "#ed7953"
             ],
             [
              0.7777777777777778,
              "#fb9f3a"
             ],
             [
              0.8888888888888888,
              "#fdca26"
             ],
             [
              1,
              "#f0f921"
             ]
            ],
            "type": "contour"
           }
          ],
          "contourcarpet": [
           {
            "colorbar": {
             "outlinewidth": 0,
             "ticks": ""
            },
            "type": "contourcarpet"
           }
          ],
          "heatmap": [
           {
            "colorbar": {
             "outlinewidth": 0,
             "ticks": ""
            },
            "colorscale": [
             [
              0,
              "#0d0887"
             ],
             [
              0.1111111111111111,
              "#46039f"
             ],
             [
              0.2222222222222222,
              "#7201a8"
             ],
             [
              0.3333333333333333,
              "#9c179e"
             ],
             [
              0.4444444444444444,
              "#bd3786"
             ],
             [
              0.5555555555555556,
              "#d8576b"
             ],
             [
              0.6666666666666666,
              "#ed7953"
             ],
             [
              0.7777777777777778,
              "#fb9f3a"
             ],
             [
              0.8888888888888888,
              "#fdca26"
             ],
             [
              1,
              "#f0f921"
             ]
            ],
            "type": "heatmap"
           }
          ],
          "heatmapgl": [
           {
            "colorbar": {
             "outlinewidth": 0,
             "ticks": ""
            },
            "colorscale": [
             [
              0,
              "#0d0887"
             ],
             [
              0.1111111111111111,
              "#46039f"
             ],
             [
              0.2222222222222222,
              "#7201a8"
             ],
             [
              0.3333333333333333,
              "#9c179e"
             ],
             [
              0.4444444444444444,
              "#bd3786"
             ],
             [
              0.5555555555555556,
              "#d8576b"
             ],
             [
              0.6666666666666666,
              "#ed7953"
             ],
             [
              0.7777777777777778,
              "#fb9f3a"
             ],
             [
              0.8888888888888888,
              "#fdca26"
             ],
             [
              1,
              "#f0f921"
             ]
            ],
            "type": "heatmapgl"
           }
          ],
          "histogram": [
           {
            "marker": {
             "pattern": {
              "fillmode": "overlay",
              "size": 10,
              "solidity": 0.2
             }
            },
            "type": "histogram"
           }
          ],
          "histogram2d": [
           {
            "colorbar": {
             "outlinewidth": 0,
             "ticks": ""
            },
            "colorscale": [
             [
              0,
              "#0d0887"
             ],
             [
              0.1111111111111111,
              "#46039f"
             ],
             [
              0.2222222222222222,
              "#7201a8"
             ],
             [
              0.3333333333333333,
              "#9c179e"
             ],
             [
              0.4444444444444444,
              "#bd3786"
             ],
             [
              0.5555555555555556,
              "#d8576b"
             ],
             [
              0.6666666666666666,
              "#ed7953"
             ],
             [
              0.7777777777777778,
              "#fb9f3a"
             ],
             [
              0.8888888888888888,
              "#fdca26"
             ],
             [
              1,
              "#f0f921"
             ]
            ],
            "type": "histogram2d"
           }
          ],
          "histogram2dcontour": [
           {
            "colorbar": {
             "outlinewidth": 0,
             "ticks": ""
            },
            "colorscale": [
             [
              0,
              "#0d0887"
             ],
             [
              0.1111111111111111,
              "#46039f"
             ],
             [
              0.2222222222222222,
              "#7201a8"
             ],
             [
              0.3333333333333333,
              "#9c179e"
             ],
             [
              0.4444444444444444,
              "#bd3786"
             ],
             [
              0.5555555555555556,
              "#d8576b"
             ],
             [
              0.6666666666666666,
              "#ed7953"
             ],
             [
              0.7777777777777778,
              "#fb9f3a"
             ],
             [
              0.8888888888888888,
              "#fdca26"
             ],
             [
              1,
              "#f0f921"
             ]
            ],
            "type": "histogram2dcontour"
           }
          ],
          "mesh3d": [
           {
            "colorbar": {
             "outlinewidth": 0,
             "ticks": ""
            },
            "type": "mesh3d"
           }
          ],
          "parcoords": [
           {
            "line": {
             "colorbar": {
              "outlinewidth": 0,
              "ticks": ""
             }
            },
            "type": "parcoords"
           }
          ],
          "pie": [
           {
            "automargin": true,
            "type": "pie"
           }
          ],
          "scatter": [
           {
            "fillpattern": {
             "fillmode": "overlay",
             "size": 10,
             "solidity": 0.2
            },
            "type": "scatter"
           }
          ],
          "scatter3d": [
           {
            "line": {
             "colorbar": {
              "outlinewidth": 0,
              "ticks": ""
             }
            },
            "marker": {
             "colorbar": {
              "outlinewidth": 0,
              "ticks": ""
             }
            },
            "type": "scatter3d"
           }
          ],
          "scattercarpet": [
           {
            "marker": {
             "colorbar": {
              "outlinewidth": 0,
              "ticks": ""
             }
            },
            "type": "scattercarpet"
           }
          ],
          "scattergeo": [
           {
            "marker": {
             "colorbar": {
              "outlinewidth": 0,
              "ticks": ""
             }
            },
            "type": "scattergeo"
           }
          ],
          "scattergl": [
           {
            "marker": {
             "colorbar": {
              "outlinewidth": 0,
              "ticks": ""
             }
            },
            "type": "scattergl"
           }
          ],
          "scattermapbox": [
           {
            "marker": {
             "colorbar": {
              "outlinewidth": 0,
              "ticks": ""
             }
            },
            "type": "scattermapbox"
           }
          ],
          "scatterpolar": [
           {
            "marker": {
             "colorbar": {
              "outlinewidth": 0,
              "ticks": ""
             }
            },
            "type": "scatterpolar"
           }
          ],
          "scatterpolargl": [
           {
            "marker": {
             "colorbar": {
              "outlinewidth": 0,
              "ticks": ""
             }
            },
            "type": "scatterpolargl"
           }
          ],
          "scatterternary": [
           {
            "marker": {
             "colorbar": {
              "outlinewidth": 0,
              "ticks": ""
             }
            },
            "type": "scatterternary"
           }
          ],
          "surface": [
           {
            "colorbar": {
             "outlinewidth": 0,
             "ticks": ""
            },
            "colorscale": [
             [
              0,
              "#0d0887"
             ],
             [
              0.1111111111111111,
              "#46039f"
             ],
             [
              0.2222222222222222,
              "#7201a8"
             ],
             [
              0.3333333333333333,
              "#9c179e"
             ],
             [
              0.4444444444444444,
              "#bd3786"
             ],
             [
              0.5555555555555556,
              "#d8576b"
             ],
             [
              0.6666666666666666,
              "#ed7953"
             ],
             [
              0.7777777777777778,
              "#fb9f3a"
             ],
             [
              0.8888888888888888,
              "#fdca26"
             ],
             [
              1,
              "#f0f921"
             ]
            ],
            "type": "surface"
           }
          ],
          "table": [
           {
            "cells": {
             "fill": {
              "color": "#EBF0F8"
             },
             "line": {
              "color": "white"
             }
            },
            "header": {
             "fill": {
              "color": "#C8D4E3"
             },
             "line": {
              "color": "white"
             }
            },
            "type": "table"
           }
          ]
         },
         "layout": {
          "annotationdefaults": {
           "arrowcolor": "#2a3f5f",
           "arrowhead": 0,
           "arrowwidth": 1
          },
          "autotypenumbers": "strict",
          "coloraxis": {
           "colorbar": {
            "outlinewidth": 0,
            "ticks": ""
           }
          },
          "colorscale": {
           "diverging": [
            [
             0,
             "#8e0152"
            ],
            [
             0.1,
             "#c51b7d"
            ],
            [
             0.2,
             "#de77ae"
            ],
            [
             0.3,
             "#f1b6da"
            ],
            [
             0.4,
             "#fde0ef"
            ],
            [
             0.5,
             "#f7f7f7"
            ],
            [
             0.6,
             "#e6f5d0"
            ],
            [
             0.7,
             "#b8e186"
            ],
            [
             0.8,
             "#7fbc41"
            ],
            [
             0.9,
             "#4d9221"
            ],
            [
             1,
             "#276419"
            ]
           ],
           "sequential": [
            [
             0,
             "#0d0887"
            ],
            [
             0.1111111111111111,
             "#46039f"
            ],
            [
             0.2222222222222222,
             "#7201a8"
            ],
            [
             0.3333333333333333,
             "#9c179e"
            ],
            [
             0.4444444444444444,
             "#bd3786"
            ],
            [
             0.5555555555555556,
             "#d8576b"
            ],
            [
             0.6666666666666666,
             "#ed7953"
            ],
            [
             0.7777777777777778,
             "#fb9f3a"
            ],
            [
             0.8888888888888888,
             "#fdca26"
            ],
            [
             1,
             "#f0f921"
            ]
           ],
           "sequentialminus": [
            [
             0,
             "#0d0887"
            ],
            [
             0.1111111111111111,
             "#46039f"
            ],
            [
             0.2222222222222222,
             "#7201a8"
            ],
            [
             0.3333333333333333,
             "#9c179e"
            ],
            [
             0.4444444444444444,
             "#bd3786"
            ],
            [
             0.5555555555555556,
             "#d8576b"
            ],
            [
             0.6666666666666666,
             "#ed7953"
            ],
            [
             0.7777777777777778,
             "#fb9f3a"
            ],
            [
             0.8888888888888888,
             "#fdca26"
            ],
            [
             1,
             "#f0f921"
            ]
           ]
          },
          "colorway": [
           "#636efa",
           "#EF553B",
           "#00cc96",
           "#ab63fa",
           "#FFA15A",
           "#19d3f3",
           "#FF6692",
           "#B6E880",
           "#FF97FF",
           "#FECB52"
          ],
          "font": {
           "color": "#2a3f5f"
          },
          "geo": {
           "bgcolor": "white",
           "lakecolor": "white",
           "landcolor": "#E5ECF6",
           "showlakes": true,
           "showland": true,
           "subunitcolor": "white"
          },
          "hoverlabel": {
           "align": "left"
          },
          "hovermode": "closest",
          "mapbox": {
           "style": "light"
          },
          "paper_bgcolor": "white",
          "plot_bgcolor": "#E5ECF6",
          "polar": {
           "angularaxis": {
            "gridcolor": "white",
            "linecolor": "white",
            "ticks": ""
           },
           "bgcolor": "#E5ECF6",
           "radialaxis": {
            "gridcolor": "white",
            "linecolor": "white",
            "ticks": ""
           }
          },
          "scene": {
           "xaxis": {
            "backgroundcolor": "#E5ECF6",
            "gridcolor": "white",
            "gridwidth": 2,
            "linecolor": "white",
            "showbackground": true,
            "ticks": "",
            "zerolinecolor": "white"
           },
           "yaxis": {
            "backgroundcolor": "#E5ECF6",
            "gridcolor": "white",
            "gridwidth": 2,
            "linecolor": "white",
            "showbackground": true,
            "ticks": "",
            "zerolinecolor": "white"
           },
           "zaxis": {
            "backgroundcolor": "#E5ECF6",
            "gridcolor": "white",
            "gridwidth": 2,
            "linecolor": "white",
            "showbackground": true,
            "ticks": "",
            "zerolinecolor": "white"
           }
          },
          "shapedefaults": {
           "line": {
            "color": "#2a3f5f"
           }
          },
          "ternary": {
           "aaxis": {
            "gridcolor": "white",
            "linecolor": "white",
            "ticks": ""
           },
           "baxis": {
            "gridcolor": "white",
            "linecolor": "white",
            "ticks": ""
           },
           "bgcolor": "#E5ECF6",
           "caxis": {
            "gridcolor": "white",
            "linecolor": "white",
            "ticks": ""
           }
          },
          "title": {
           "x": 0.05
          },
          "xaxis": {
           "automargin": true,
           "gridcolor": "white",
           "linecolor": "white",
           "ticks": "",
           "title": {
            "standoff": 15
           },
           "zerolinecolor": "white",
           "zerolinewidth": 2
          },
          "yaxis": {
           "automargin": true,
           "gridcolor": "white",
           "linecolor": "white",
           "ticks": "",
           "title": {
            "standoff": 15
           },
           "zerolinecolor": "white",
           "zerolinewidth": 2
          }
         }
        },
        "title": {
         "text": "Average Customer Discount"
        },
        "uniformtext": {
         "minsize": 8,
         "mode": "hide"
        },
        "xaxis": {
         "anchor": "y",
         "domain": [
          0,
          1
         ],
         "title": {
          "text": "customer"
         }
        },
        "yaxis": {
         "anchor": "x",
         "domain": [
          0,
          1
         ],
         "title": {
          "text": "average_discnt"
         }
        }
       }
      },
      "text/html": [
       "<div>                            <div id=\"59e79bfb-a7bb-465f-8e5b-d11b0db5a6f6\" class=\"plotly-graph-div\" style=\"height:525px; width:100%;\"></div>            <script type=\"text/javascript\">                require([\"plotly\"], function(Plotly) {                    window.PLOTLYENV=window.PLOTLYENV || {};                                    if (document.getElementById(\"59e79bfb-a7bb-465f-8e5b-d11b0db5a6f6\")) {                    Plotly.newPlot(                        \"59e79bfb-a7bb-465f-8e5b-d11b0db5a6f6\",                        [{\"alignmentgroup\":\"True\",\"hovertemplate\":\"customer=%{x}<br>average_discnt=%{y}<extra></extra>\",\"legendgroup\":\"\",\"marker\":{\"color\":\"#636efa\",\"pattern\":{\"shape\":\"\"}},\"name\":\"\",\"offsetgroup\":\"\",\"orientation\":\"v\",\"showlegend\":false,\"textposition\":\"outside\",\"x\":[\"Acclaimed Stores\",\"All-Out\",\"Amazon\",\"Amazon \",\"Argos (Sainsbury's)\",\"Atlas Stores\",\"Atliq Exclusive\",\"Atliq e Store\",\"BestBuy\",\"Billa\",\"Boulanger\",\"Chip 7\",\"Chiptec\",\"Circuit City\",\"Control\",\"Coolblue\",\"Costco\",\"Croma\",\"Currys (Dixons Carphone)\",\"Digimarket\",\"Ebay\",\"Electricalsara Stores\",\"Electricalsbea Stores\",\"Electricalslance Stores\",\"Electricalslytical\",\"Electricalsocity\",\"Electricalsquipo Stores\",\"Elite\",\"Elkj\\u00f8p\",\"Epic Stores\",\"Euronics\",\"Expert\",\"Expression\",\"Ezone\",\"Flawless Stores\",\"Flipkart\",\"Fnac-Darty\",\"Forward Stores\",\"Girias\",\"Info Stores\",\"Insight\",\"Integration Stores\",\"Leader\",\"Logic Stores\",\"Lotus\",\"Mbit\",\"Media Markt\",\"Neptune\",\"Nomad Stores\",\"Notebillig\",\"Nova\",\"Novus\",\"Otto\",\"Path\",\"Power\",\"Premium Stores\",\"Propel\",\"Radio Popular\",\"Radio Shack\",\"Reliance Digital\",\"Relief\",\"Sage\",\"Saturn\",\"Sorefoz\",\"Sound\",\"Staples\",\"Surface Stores\",\"Synthetic\",\"Taobao\",\"UniEuro\",\"Unity Stores\",\"Vijay Sales\",\"Viveks\",\"Zone\",\"walmart\"],\"xaxis\":\"x\",\"y\":[0.23521999999999998,0.23904,0.248335,0.2416984,0.23648000000000002,0.24788,0.08954117647058824,0.23971583333333335,0.23884,0.23856000000000002,0.24444666666666667,0.26192000000000004,0.25334999999999996,0.25217999999999996,0.23487999999999998,0.23531999999999997,0.27147,0.21192000000000003,0.24861000000000003,0.25549999999999995,0.23228999999999997,0.26041000000000003,0.25786000000000003,0.24753,0.245,0.23023,0.259,0.25232,0.24798666666666666,0.24867,0.223445,0.243864,0.25927999999999995,0.28376,0.25236,0.25579999999999997,0.24403333333333332,0.26099,0.26054000000000005,0.24123,0.22804000000000002,0.26574,0.24438000000000004,0.24067,0.24512,0.2517933333333333,0.26021333333333335,0.23232999999999998,0.25169,0.28746,0.27242,0.28508,0.2391,0.25307,0.24543000000000004,0.25434,0.23674,0.23878,0.2551,0.23320000000000002,0.26355,0.25128,0.25478,0.24271999999999996,0.25410999999999995,0.25728,0.25571999999999995,0.25542000000000004,0.24232,0.2560733333333333,0.26796,0.24228,0.2779,0.23057,0.24619000000000002],\"yaxis\":\"y\",\"type\":\"bar\",\"text\":[0.23521999999999998,0.23904,0.248335,0.2416984,0.23648000000000002,0.24788,0.08954117647058824,0.23971583333333335,0.23884,0.23856000000000002,0.24444666666666667,0.26192000000000004,0.25334999999999996,0.25217999999999996,0.23487999999999998,0.23531999999999997,0.27147,0.21192000000000003,0.24861000000000003,0.25549999999999995,0.23228999999999997,0.26041000000000003,0.25786000000000003,0.24753,0.245,0.23023,0.259,0.25232,0.24798666666666666,0.24867,0.223445,0.243864,0.25927999999999995,0.28376,0.25236,0.25579999999999997,0.24403333333333332,0.26099,0.26054000000000005,0.24123,0.22804000000000002,0.26574,0.24438000000000004,0.24067,0.24512,0.2517933333333333,0.26021333333333335,0.23232999999999998,0.25169,0.28746,0.27242,0.28508,0.2391,0.25307,0.24543000000000004,0.25434,0.23674,0.23878,0.2551,0.23320000000000002,0.26355,0.25128,0.25478,0.24271999999999996,0.25410999999999995,0.25728,0.25571999999999995,0.25542000000000004,0.24232,0.2560733333333333,0.26796,0.24228,0.2779,0.23057,0.24619000000000002],\"texttemplate\":\"%{text:.2s}\"}],                        {\"template\":{\"data\":{\"histogram2dcontour\":[{\"type\":\"histogram2dcontour\",\"colorbar\":{\"outlinewidth\":0,\"ticks\":\"\"},\"colorscale\":[[0.0,\"#0d0887\"],[0.1111111111111111,\"#46039f\"],[0.2222222222222222,\"#7201a8\"],[0.3333333333333333,\"#9c179e\"],[0.4444444444444444,\"#bd3786\"],[0.5555555555555556,\"#d8576b\"],[0.6666666666666666,\"#ed7953\"],[0.7777777777777778,\"#fb9f3a\"],[0.8888888888888888,\"#fdca26\"],[1.0,\"#f0f921\"]]}],\"choropleth\":[{\"type\":\"choropleth\",\"colorbar\":{\"outlinewidth\":0,\"ticks\":\"\"}}],\"histogram2d\":[{\"type\":\"histogram2d\",\"colorbar\":{\"outlinewidth\":0,\"ticks\":\"\"},\"colorscale\":[[0.0,\"#0d0887\"],[0.1111111111111111,\"#46039f\"],[0.2222222222222222,\"#7201a8\"],[0.3333333333333333,\"#9c179e\"],[0.4444444444444444,\"#bd3786\"],[0.5555555555555556,\"#d8576b\"],[0.6666666666666666,\"#ed7953\"],[0.7777777777777778,\"#fb9f3a\"],[0.8888888888888888,\"#fdca26\"],[1.0,\"#f0f921\"]]}],\"heatmap\":[{\"type\":\"heatmap\",\"colorbar\":{\"outlinewidth\":0,\"ticks\":\"\"},\"colorscale\":[[0.0,\"#0d0887\"],[0.1111111111111111,\"#46039f\"],[0.2222222222222222,\"#7201a8\"],[0.3333333333333333,\"#9c179e\"],[0.4444444444444444,\"#bd3786\"],[0.5555555555555556,\"#d8576b\"],[0.6666666666666666,\"#ed7953\"],[0.7777777777777778,\"#fb9f3a\"],[0.8888888888888888,\"#fdca26\"],[1.0,\"#f0f921\"]]}],\"heatmapgl\":[{\"type\":\"heatmapgl\",\"colorbar\":{\"outlinewidth\":0,\"ticks\":\"\"},\"colorscale\":[[0.0,\"#0d0887\"],[0.1111111111111111,\"#46039f\"],[0.2222222222222222,\"#7201a8\"],[0.3333333333333333,\"#9c179e\"],[0.4444444444444444,\"#bd3786\"],[0.5555555555555556,\"#d8576b\"],[0.6666666666666666,\"#ed7953\"],[0.7777777777777778,\"#fb9f3a\"],[0.8888888888888888,\"#fdca26\"],[1.0,\"#f0f921\"]]}],\"contourcarpet\":[{\"type\":\"contourcarpet\",\"colorbar\":{\"outlinewidth\":0,\"ticks\":\"\"}}],\"contour\":[{\"type\":\"contour\",\"colorbar\":{\"outlinewidth\":0,\"ticks\":\"\"},\"colorscale\":[[0.0,\"#0d0887\"],[0.1111111111111111,\"#46039f\"],[0.2222222222222222,\"#7201a8\"],[0.3333333333333333,\"#9c179e\"],[0.4444444444444444,\"#bd3786\"],[0.5555555555555556,\"#d8576b\"],[0.6666666666666666,\"#ed7953\"],[0.7777777777777778,\"#fb9f3a\"],[0.8888888888888888,\"#fdca26\"],[1.0,\"#f0f921\"]]}],\"surface\":[{\"type\":\"surface\",\"colorbar\":{\"outlinewidth\":0,\"ticks\":\"\"},\"colorscale\":[[0.0,\"#0d0887\"],[0.1111111111111111,\"#46039f\"],[0.2222222222222222,\"#7201a8\"],[0.3333333333333333,\"#9c179e\"],[0.4444444444444444,\"#bd3786\"],[0.5555555555555556,\"#d8576b\"],[0.6666666666666666,\"#ed7953\"],[0.7777777777777778,\"#fb9f3a\"],[0.8888888888888888,\"#fdca26\"],[1.0,\"#f0f921\"]]}],\"mesh3d\":[{\"type\":\"mesh3d\",\"colorbar\":{\"outlinewidth\":0,\"ticks\":\"\"}}],\"scatter\":[{\"fillpattern\":{\"fillmode\":\"overlay\",\"size\":10,\"solidity\":0.2},\"type\":\"scatter\"}],\"parcoords\":[{\"type\":\"parcoords\",\"line\":{\"colorbar\":{\"outlinewidth\":0,\"ticks\":\"\"}}}],\"scatterpolargl\":[{\"type\":\"scatterpolargl\",\"marker\":{\"colorbar\":{\"outlinewidth\":0,\"ticks\":\"\"}}}],\"bar\":[{\"error_x\":{\"color\":\"#2a3f5f\"},\"error_y\":{\"color\":\"#2a3f5f\"},\"marker\":{\"line\":{\"color\":\"#E5ECF6\",\"width\":0.5},\"pattern\":{\"fillmode\":\"overlay\",\"size\":10,\"solidity\":0.2}},\"type\":\"bar\"}],\"scattergeo\":[{\"type\":\"scattergeo\",\"marker\":{\"colorbar\":{\"outlinewidth\":0,\"ticks\":\"\"}}}],\"scatterpolar\":[{\"type\":\"scatterpolar\",\"marker\":{\"colorbar\":{\"outlinewidth\":0,\"ticks\":\"\"}}}],\"histogram\":[{\"marker\":{\"pattern\":{\"fillmode\":\"overlay\",\"size\":10,\"solidity\":0.2}},\"type\":\"histogram\"}],\"scattergl\":[{\"type\":\"scattergl\",\"marker\":{\"colorbar\":{\"outlinewidth\":0,\"ticks\":\"\"}}}],\"scatter3d\":[{\"type\":\"scatter3d\",\"line\":{\"colorbar\":{\"outlinewidth\":0,\"ticks\":\"\"}},\"marker\":{\"colorbar\":{\"outlinewidth\":0,\"ticks\":\"\"}}}],\"scattermapbox\":[{\"type\":\"scattermapbox\",\"marker\":{\"colorbar\":{\"outlinewidth\":0,\"ticks\":\"\"}}}],\"scatterternary\":[{\"type\":\"scatterternary\",\"marker\":{\"colorbar\":{\"outlinewidth\":0,\"ticks\":\"\"}}}],\"scattercarpet\":[{\"type\":\"scattercarpet\",\"marker\":{\"colorbar\":{\"outlinewidth\":0,\"ticks\":\"\"}}}],\"carpet\":[{\"aaxis\":{\"endlinecolor\":\"#2a3f5f\",\"gridcolor\":\"white\",\"linecolor\":\"white\",\"minorgridcolor\":\"white\",\"startlinecolor\":\"#2a3f5f\"},\"baxis\":{\"endlinecolor\":\"#2a3f5f\",\"gridcolor\":\"white\",\"linecolor\":\"white\",\"minorgridcolor\":\"white\",\"startlinecolor\":\"#2a3f5f\"},\"type\":\"carpet\"}],\"table\":[{\"cells\":{\"fill\":{\"color\":\"#EBF0F8\"},\"line\":{\"color\":\"white\"}},\"header\":{\"fill\":{\"color\":\"#C8D4E3\"},\"line\":{\"color\":\"white\"}},\"type\":\"table\"}],\"barpolar\":[{\"marker\":{\"line\":{\"color\":\"#E5ECF6\",\"width\":0.5},\"pattern\":{\"fillmode\":\"overlay\",\"size\":10,\"solidity\":0.2}},\"type\":\"barpolar\"}],\"pie\":[{\"automargin\":true,\"type\":\"pie\"}]},\"layout\":{\"autotypenumbers\":\"strict\",\"colorway\":[\"#636efa\",\"#EF553B\",\"#00cc96\",\"#ab63fa\",\"#FFA15A\",\"#19d3f3\",\"#FF6692\",\"#B6E880\",\"#FF97FF\",\"#FECB52\"],\"font\":{\"color\":\"#2a3f5f\"},\"hovermode\":\"closest\",\"hoverlabel\":{\"align\":\"left\"},\"paper_bgcolor\":\"white\",\"plot_bgcolor\":\"#E5ECF6\",\"polar\":{\"bgcolor\":\"#E5ECF6\",\"angularaxis\":{\"gridcolor\":\"white\",\"linecolor\":\"white\",\"ticks\":\"\"},\"radialaxis\":{\"gridcolor\":\"white\",\"linecolor\":\"white\",\"ticks\":\"\"}},\"ternary\":{\"bgcolor\":\"#E5ECF6\",\"aaxis\":{\"gridcolor\":\"white\",\"linecolor\":\"white\",\"ticks\":\"\"},\"baxis\":{\"gridcolor\":\"white\",\"linecolor\":\"white\",\"ticks\":\"\"},\"caxis\":{\"gridcolor\":\"white\",\"linecolor\":\"white\",\"ticks\":\"\"}},\"coloraxis\":{\"colorbar\":{\"outlinewidth\":0,\"ticks\":\"\"}},\"colorscale\":{\"sequential\":[[0.0,\"#0d0887\"],[0.1111111111111111,\"#46039f\"],[0.2222222222222222,\"#7201a8\"],[0.3333333333333333,\"#9c179e\"],[0.4444444444444444,\"#bd3786\"],[0.5555555555555556,\"#d8576b\"],[0.6666666666666666,\"#ed7953\"],[0.7777777777777778,\"#fb9f3a\"],[0.8888888888888888,\"#fdca26\"],[1.0,\"#f0f921\"]],\"sequentialminus\":[[0.0,\"#0d0887\"],[0.1111111111111111,\"#46039f\"],[0.2222222222222222,\"#7201a8\"],[0.3333333333333333,\"#9c179e\"],[0.4444444444444444,\"#bd3786\"],[0.5555555555555556,\"#d8576b\"],[0.6666666666666666,\"#ed7953\"],[0.7777777777777778,\"#fb9f3a\"],[0.8888888888888888,\"#fdca26\"],[1.0,\"#f0f921\"]],\"diverging\":[[0,\"#8e0152\"],[0.1,\"#c51b7d\"],[0.2,\"#de77ae\"],[0.3,\"#f1b6da\"],[0.4,\"#fde0ef\"],[0.5,\"#f7f7f7\"],[0.6,\"#e6f5d0\"],[0.7,\"#b8e186\"],[0.8,\"#7fbc41\"],[0.9,\"#4d9221\"],[1,\"#276419\"]]},\"xaxis\":{\"gridcolor\":\"white\",\"linecolor\":\"white\",\"ticks\":\"\",\"title\":{\"standoff\":15},\"zerolinecolor\":\"white\",\"automargin\":true,\"zerolinewidth\":2},\"yaxis\":{\"gridcolor\":\"white\",\"linecolor\":\"white\",\"ticks\":\"\",\"title\":{\"standoff\":15},\"zerolinecolor\":\"white\",\"automargin\":true,\"zerolinewidth\":2},\"scene\":{\"xaxis\":{\"backgroundcolor\":\"#E5ECF6\",\"gridcolor\":\"white\",\"linecolor\":\"white\",\"showbackground\":true,\"ticks\":\"\",\"zerolinecolor\":\"white\",\"gridwidth\":2},\"yaxis\":{\"backgroundcolor\":\"#E5ECF6\",\"gridcolor\":\"white\",\"linecolor\":\"white\",\"showbackground\":true,\"ticks\":\"\",\"zerolinecolor\":\"white\",\"gridwidth\":2},\"zaxis\":{\"backgroundcolor\":\"#E5ECF6\",\"gridcolor\":\"white\",\"linecolor\":\"white\",\"showbackground\":true,\"ticks\":\"\",\"zerolinecolor\":\"white\",\"gridwidth\":2}},\"shapedefaults\":{\"line\":{\"color\":\"#2a3f5f\"}},\"annotationdefaults\":{\"arrowcolor\":\"#2a3f5f\",\"arrowhead\":0,\"arrowwidth\":1},\"geo\":{\"bgcolor\":\"white\",\"landcolor\":\"#E5ECF6\",\"subunitcolor\":\"white\",\"showland\":true,\"showlakes\":true,\"lakecolor\":\"white\"},\"title\":{\"x\":0.05},\"mapbox\":{\"style\":\"light\"}}},\"xaxis\":{\"anchor\":\"y\",\"domain\":[0.0,1.0],\"title\":{\"text\":\"customer\"}},\"yaxis\":{\"anchor\":\"x\",\"domain\":[0.0,1.0],\"title\":{\"text\":\"average_discnt\"}},\"legend\":{\"tracegroupgap\":0},\"title\":{\"text\":\"Average Customer Discount\"},\"barmode\":\"relative\",\"uniformtext\":{\"minsize\":8,\"mode\":\"hide\"}},                        {\"responsive\": true}                    ).then(function(){\n",
       "                            \n",
       "var gd = document.getElementById('59e79bfb-a7bb-465f-8e5b-d11b0db5a6f6');\n",
       "var x = new MutationObserver(function (mutations, observer) {{\n",
       "        var display = window.getComputedStyle(gd).display;\n",
       "        if (!display || display === 'none') {{\n",
       "            console.log([gd, 'removed!']);\n",
       "            Plotly.purge(gd);\n",
       "            observer.disconnect();\n",
       "        }}\n",
       "}});\n",
       "\n",
       "// Listen for the removal of the full notebook cells\n",
       "var notebookContainer = gd.closest('#notebook-container');\n",
       "if (notebookContainer) {{\n",
       "    x.observe(notebookContainer, {childList: true});\n",
       "}}\n",
       "\n",
       "// Listen for the clearing of the current output cell\n",
       "var outputEl = gd.closest('.output');\n",
       "if (outputEl) {{\n",
       "    x.observe(outputEl, {childList: true});\n",
       "}}\n",
       "\n",
       "                        })                };                });            </script>        </div>"
      ]
     },
     "metadata": {},
     "output_type": "display_data"
    }
   ],
   "source": [
    "# Assuming you have already created the 'region_grp' DataFrame\n",
    "fig = px.bar(grouped, x=\"customer\", y=\"average_discnt\", title=\"Average Customer Discount\")\n",
    "\n",
    "# Add the customer_total values as text on the bars\n",
    "fig.update_traces(text=grouped['average_discnt'], texttemplate='%{text:.2s}', textposition='outside')\n",
    "\n",
    "# Adjust text size and visibility\n",
    "fig.update_layout(uniformtext_minsize=8, uniformtext_mode='hide')\n",
    "\n",
    "# Show the bar chart\n",
    "fig.show()"
   ]
  },
  {
   "cell_type": "markdown",
   "id": "153cf876",
   "metadata": {},
   "source": [
    "<font size=\"3\"> The majority of the customer discounts range between 21-27% except for AtliQ Exclusive which is 8%.  Odd that a subsidary of AtliQ has the lowest discount but they may get special pricing as a subsidary. More information is needed on that."
   ]
  },
  {
   "cell_type": "markdown",
   "id": "4cba48c6",
   "metadata": {},
   "source": [
    "<hr style=\"border:2px solid black\">"
   ]
  },
  {
   "cell_type": "markdown",
   "id": "0dea2b96",
   "metadata": {},
   "source": [
    "# Customer to Products Analysis\n",
    "\n",
    "<font size=\"3\">This section will create a full and detailed customers table that will be exported to tableau where customer segmentation can be visualized better.  If there are any plots in this section it's to get an idea of what to focus on in the main visualization environment."
   ]
  },
  {
   "cell_type": "code",
   "execution_count": 39,
   "id": "3b9fa824",
   "metadata": {},
   "outputs": [],
   "source": [
    "# Query to combine customer df with products and group by customer_code. Get gross price from price df\n",
    "custprod_query = \"\"\"\n",
    "SELECT cust.customer_code,\n",
    "       cust.product_code,\n",
    "       cust.sold_quantity,\n",
    "       cust.date,\n",
    "       dp.product_code,\n",
    "       dp.category,\n",
    "       dp.segment,\n",
    "       dp.product,\n",
    "       dp.variant,\n",
    "       gfp.product_code,\n",
    "       gfp.gross_price,\n",
    "       gfp.fiscal_year,\n",
    "       SUM(cust.sold_quantity) as total_sold_quantity\n",
    "      \n",
    "FROM\n",
    "    fact_sales_monthly as cust\n",
    "    INNER JOIN dim_product as dp on cust.product_code = dp.product_code\n",
    "    INNER JOIN fact_gross_price as gfp on dp.product_code = gfp.product_code\n",
    "GROUP BY cust.customer_code;  -- Group by customer_code\n",
    "\"\"\"\n",
    "\n",
    "full_cust = pd.read_sql_query(custprod_query, con)\n",
    "\n"
   ]
  },
  {
   "cell_type": "code",
   "execution_count": 40,
   "id": "b98bd396",
   "metadata": {},
   "outputs": [
    {
     "data": {
      "text/html": [
       "<div>\n",
       "<style scoped>\n",
       "    .dataframe tbody tr th:only-of-type {\n",
       "        vertical-align: middle;\n",
       "    }\n",
       "\n",
       "    .dataframe tbody tr th {\n",
       "        vertical-align: top;\n",
       "    }\n",
       "\n",
       "    .dataframe thead th {\n",
       "        text-align: right;\n",
       "    }\n",
       "</style>\n",
       "<table border=\"1\" class=\"dataframe\">\n",
       "  <thead>\n",
       "    <tr style=\"text-align: right;\">\n",
       "      <th></th>\n",
       "      <th>customer_code</th>\n",
       "      <th>product_code</th>\n",
       "      <th>sold_quantity</th>\n",
       "      <th>date</th>\n",
       "      <th>product_code</th>\n",
       "      <th>category</th>\n",
       "      <th>segment</th>\n",
       "      <th>product</th>\n",
       "      <th>variant</th>\n",
       "      <th>product_code</th>\n",
       "      <th>gross_price</th>\n",
       "      <th>fiscal_year</th>\n",
       "      <th>total_sold_quantity</th>\n",
       "    </tr>\n",
       "  </thead>\n",
       "  <tbody>\n",
       "    <tr>\n",
       "      <th>0</th>\n",
       "      <td>70002017</td>\n",
       "      <td>A0118150101</td>\n",
       "      <td>51</td>\n",
       "      <td>2017-09-01</td>\n",
       "      <td>A0118150101</td>\n",
       "      <td>Internal HDD</td>\n",
       "      <td>Peripherals</td>\n",
       "      <td>AQ Dracula HDD – 3.5 Inch SATA 6 Gb/s 5400 RPM...</td>\n",
       "      <td>Standard</td>\n",
       "      <td>A0118150101</td>\n",
       "      <td>15.3952</td>\n",
       "      <td>2018</td>\n",
       "      <td>205108</td>\n",
       "    </tr>\n",
       "    <tr>\n",
       "      <th>1</th>\n",
       "      <td>70002018</td>\n",
       "      <td>A0118150101</td>\n",
       "      <td>77</td>\n",
       "      <td>2017-09-01</td>\n",
       "      <td>A0118150101</td>\n",
       "      <td>Internal HDD</td>\n",
       "      <td>Peripherals</td>\n",
       "      <td>AQ Dracula HDD – 3.5 Inch SATA 6 Gb/s 5400 RPM...</td>\n",
       "      <td>Standard</td>\n",
       "      <td>A0118150101</td>\n",
       "      <td>15.3952</td>\n",
       "      <td>2018</td>\n",
       "      <td>230260</td>\n",
       "    </tr>\n",
       "  </tbody>\n",
       "</table>\n",
       "</div>"
      ],
      "text/plain": [
       "   customer_code product_code  sold_quantity        date product_code  \\\n",
       "0       70002017  A0118150101             51  2017-09-01  A0118150101   \n",
       "1       70002018  A0118150101             77  2017-09-01  A0118150101   \n",
       "\n",
       "       category      segment  \\\n",
       "0  Internal HDD  Peripherals   \n",
       "1  Internal HDD  Peripherals   \n",
       "\n",
       "                                             product   variant product_code  \\\n",
       "0  AQ Dracula HDD – 3.5 Inch SATA 6 Gb/s 5400 RPM...  Standard  A0118150101   \n",
       "1  AQ Dracula HDD – 3.5 Inch SATA 6 Gb/s 5400 RPM...  Standard  A0118150101   \n",
       "\n",
       "   gross_price  fiscal_year  total_sold_quantity  \n",
       "0      15.3952         2018               205108  \n",
       "1      15.3952         2018               230260  "
      ]
     },
     "execution_count": 40,
     "metadata": {},
     "output_type": "execute_result"
    }
   ],
   "source": [
    "full_cust.head(2)"
   ]
  },
  {
   "cell_type": "code",
   "execution_count": 41,
   "id": "ba2a3481",
   "metadata": {},
   "outputs": [
    {
     "data": {
      "text/plain": [
       "(209, 13)"
      ]
     },
     "execution_count": 41,
     "metadata": {},
     "output_type": "execute_result"
    }
   ],
   "source": [
    "full_cust.shape"
   ]
  },
  {
   "cell_type": "markdown",
   "id": "119ee498",
   "metadata": {},
   "source": [
    "<font size=\"3\"> Again we can see that our 209 unique customers pulled over. "
   ]
  },
  {
   "cell_type": "code",
   "execution_count": 42,
   "id": "b805c9d7",
   "metadata": {},
   "outputs": [
    {
     "data": {
      "text/html": [
       "<div>\n",
       "<style scoped>\n",
       "    .dataframe tbody tr th:only-of-type {\n",
       "        vertical-align: middle;\n",
       "    }\n",
       "\n",
       "    .dataframe tbody tr th {\n",
       "        vertical-align: top;\n",
       "    }\n",
       "\n",
       "    .dataframe thead th {\n",
       "        text-align: right;\n",
       "    }\n",
       "</style>\n",
       "<table border=\"1\" class=\"dataframe\">\n",
       "  <thead>\n",
       "    <tr style=\"text-align: right;\">\n",
       "      <th></th>\n",
       "      <th>customer_code</th>\n",
       "      <th>average_discnt</th>\n",
       "      <th>customer</th>\n",
       "      <th>platform</th>\n",
       "      <th>channel</th>\n",
       "      <th>market</th>\n",
       "      <th>sub_zone</th>\n",
       "      <th>region</th>\n",
       "    </tr>\n",
       "  </thead>\n",
       "  <tbody>\n",
       "    <tr>\n",
       "      <th>0</th>\n",
       "      <td>70002017</td>\n",
       "      <td>0.08192</td>\n",
       "      <td>Atliq Exclusive</td>\n",
       "      <td>Brick &amp; Mortar</td>\n",
       "      <td>Direct</td>\n",
       "      <td>India</td>\n",
       "      <td>India</td>\n",
       "      <td>APAC</td>\n",
       "    </tr>\n",
       "    <tr>\n",
       "      <th>1</th>\n",
       "      <td>70002018</td>\n",
       "      <td>0.25560</td>\n",
       "      <td>Atliq e Store</td>\n",
       "      <td>E-Commerce</td>\n",
       "      <td>Direct</td>\n",
       "      <td>India</td>\n",
       "      <td>India</td>\n",
       "      <td>APAC</td>\n",
       "    </tr>\n",
       "  </tbody>\n",
       "</table>\n",
       "</div>"
      ],
      "text/plain": [
       "   customer_code  average_discnt         customer        platform channel  \\\n",
       "0       70002017         0.08192  Atliq Exclusive  Brick & Mortar  Direct   \n",
       "1       70002018         0.25560    Atliq e Store      E-Commerce  Direct   \n",
       "\n",
       "  market sub_zone region  \n",
       "0  India    India   APAC  \n",
       "1  India    India   APAC  "
      ]
     },
     "execution_count": 42,
     "metadata": {},
     "output_type": "execute_result"
    }
   ],
   "source": [
    "new_cust_dis.head(2)"
   ]
  },
  {
   "cell_type": "code",
   "execution_count": 43,
   "id": "e76612d7",
   "metadata": {},
   "outputs": [
    {
     "data": {
      "text/plain": [
       "(209, 8)"
      ]
     },
     "execution_count": 43,
     "metadata": {},
     "output_type": "execute_result"
    }
   ],
   "source": [
    "new_cust_dis.shape"
   ]
  },
  {
   "cell_type": "markdown",
   "id": "839319f6",
   "metadata": {},
   "source": [
    "<font size=\"3\">Both dataframes have the same number of rows so that goods going into to merging the two of them. "
   ]
  },
  {
   "cell_type": "code",
   "execution_count": 44,
   "id": "3ab67272",
   "metadata": {},
   "outputs": [
    {
     "data": {
      "text/html": [
       "<div>\n",
       "<style scoped>\n",
       "    .dataframe tbody tr th:only-of-type {\n",
       "        vertical-align: middle;\n",
       "    }\n",
       "\n",
       "    .dataframe tbody tr th {\n",
       "        vertical-align: top;\n",
       "    }\n",
       "\n",
       "    .dataframe thead th {\n",
       "        text-align: right;\n",
       "    }\n",
       "</style>\n",
       "<table border=\"1\" class=\"dataframe\">\n",
       "  <thead>\n",
       "    <tr style=\"text-align: right;\">\n",
       "      <th></th>\n",
       "      <th>customer_code</th>\n",
       "      <th>product_code</th>\n",
       "      <th>sold_quantity</th>\n",
       "      <th>date</th>\n",
       "      <th>product_code</th>\n",
       "      <th>category</th>\n",
       "      <th>segment</th>\n",
       "      <th>product</th>\n",
       "      <th>variant</th>\n",
       "      <th>product_code</th>\n",
       "      <th>gross_price</th>\n",
       "      <th>fiscal_year</th>\n",
       "      <th>total_sold_quantity</th>\n",
       "      <th>customer</th>\n",
       "      <th>average_discnt</th>\n",
       "      <th>platform</th>\n",
       "      <th>market</th>\n",
       "      <th>region</th>\n",
       "    </tr>\n",
       "  </thead>\n",
       "  <tbody>\n",
       "    <tr>\n",
       "      <th>0</th>\n",
       "      <td>70002017</td>\n",
       "      <td>A0118150101</td>\n",
       "      <td>51</td>\n",
       "      <td>2017-09-01</td>\n",
       "      <td>A0118150101</td>\n",
       "      <td>Internal HDD</td>\n",
       "      <td>Peripherals</td>\n",
       "      <td>AQ Dracula HDD – 3.5 Inch SATA 6 Gb/s 5400 RPM...</td>\n",
       "      <td>Standard</td>\n",
       "      <td>A0118150101</td>\n",
       "      <td>15.3952</td>\n",
       "      <td>2018</td>\n",
       "      <td>205108</td>\n",
       "      <td>Atliq Exclusive</td>\n",
       "      <td>0.08192</td>\n",
       "      <td>Brick &amp; Mortar</td>\n",
       "      <td>India</td>\n",
       "      <td>APAC</td>\n",
       "    </tr>\n",
       "    <tr>\n",
       "      <th>1</th>\n",
       "      <td>70002018</td>\n",
       "      <td>A0118150101</td>\n",
       "      <td>77</td>\n",
       "      <td>2017-09-01</td>\n",
       "      <td>A0118150101</td>\n",
       "      <td>Internal HDD</td>\n",
       "      <td>Peripherals</td>\n",
       "      <td>AQ Dracula HDD – 3.5 Inch SATA 6 Gb/s 5400 RPM...</td>\n",
       "      <td>Standard</td>\n",
       "      <td>A0118150101</td>\n",
       "      <td>15.3952</td>\n",
       "      <td>2018</td>\n",
       "      <td>230260</td>\n",
       "      <td>Atliq e Store</td>\n",
       "      <td>0.25560</td>\n",
       "      <td>E-Commerce</td>\n",
       "      <td>India</td>\n",
       "      <td>APAC</td>\n",
       "    </tr>\n",
       "  </tbody>\n",
       "</table>\n",
       "</div>"
      ],
      "text/plain": [
       "   customer_code product_code  sold_quantity        date product_code  \\\n",
       "0       70002017  A0118150101             51  2017-09-01  A0118150101   \n",
       "1       70002018  A0118150101             77  2017-09-01  A0118150101   \n",
       "\n",
       "       category      segment  \\\n",
       "0  Internal HDD  Peripherals   \n",
       "1  Internal HDD  Peripherals   \n",
       "\n",
       "                                             product   variant product_code  \\\n",
       "0  AQ Dracula HDD – 3.5 Inch SATA 6 Gb/s 5400 RPM...  Standard  A0118150101   \n",
       "1  AQ Dracula HDD – 3.5 Inch SATA 6 Gb/s 5400 RPM...  Standard  A0118150101   \n",
       "\n",
       "   gross_price  fiscal_year  total_sold_quantity         customer  \\\n",
       "0      15.3952         2018               205108  Atliq Exclusive   \n",
       "1      15.3952         2018               230260    Atliq e Store   \n",
       "\n",
       "   average_discnt        platform market region  \n",
       "0         0.08192  Brick & Mortar  India   APAC  \n",
       "1         0.25560      E-Commerce  India   APAC  "
      ]
     },
     "execution_count": 44,
     "metadata": {},
     "output_type": "execute_result"
    }
   ],
   "source": [
    "# Merge df1 with selected columns from df2\n",
    "# Merge entire df1 with selected columns from df2 based on the common column\n",
    "atliq_cust_tbl = full_cust.merge(new_cust_dis[['customer_code', 'customer', 'average_discnt', 'platform', 'market', 'region']], on='customer_code', how='left')\n",
    "\n",
    "atliq_cust_tbl.head(2) # Select the columns you want from df2\n",
    "\n"
   ]
  },
  {
   "cell_type": "code",
   "execution_count": 45,
   "id": "ab42c318",
   "metadata": {},
   "outputs": [
    {
     "data": {
      "text/plain": [
       "(209, 18)"
      ]
     },
     "execution_count": 45,
     "metadata": {},
     "output_type": "execute_result"
    }
   ],
   "source": [
    "atliq_cust_tbl.shape"
   ]
  },
  {
   "cell_type": "code",
   "execution_count": 46,
   "id": "f2044971",
   "metadata": {
    "scrolled": false
   },
   "outputs": [
    {
     "data": {
      "application/vnd.plotly.v1+json": {
       "config": {
        "plotlyServerURL": "https://plot.ly"
       },
       "data": [
        {
         "alignmentgroup": "True",
         "hovertemplate": "market=%{x}<br>total_sold_quantity=%{y}<extra></extra>",
         "legendgroup": "",
         "marker": {
          "color": "#636efa",
          "pattern": {
           "shape": ""
          }
         },
         "name": "",
         "offsetgroup": "",
         "orientation": "v",
         "showlegend": false,
         "text": [
          205108,
          230260,
          100162,
          100230,
          11477,
          12762,
          31168,
          58541,
          66240,
          111016,
          133252,
          72982,
          79238,
          21921,
          25169,
          27462,
          34573,
          54149,
          62627,
          27350,
          35386,
          30724,
          31161,
          20452,
          20458,
          34173,
          38799,
          14781,
          17335,
          27245,
          22612,
          6886,
          7099,
          63928,
          161615,
          149284,
          62498,
          73436,
          13856,
          18636,
          260718,
          233058,
          255458,
          489427,
          470057,
          74730,
          66554,
          200943,
          211691,
          222554,
          221178,
          201678,
          207356,
          222648,
          391684,
          276197,
          215970,
          219879,
          236496,
          206451,
          219574,
          236293,
          242308,
          105857,
          109185,
          11348,
          10480,
          11537,
          12378,
          12123,
          10817,
          17911,
          13922,
          28056,
          32499,
          25943,
          32761,
          57372,
          67562,
          123869,
          80648,
          76862,
          70310,
          73062,
          86829,
          23238,
          24570,
          22506,
          23198,
          25149,
          27336,
          30031,
          27373,
          31502,
          53409,
          52260,
          56136,
          60152,
          53613,
          55947,
          55729,
          63887,
          29155,
          30536,
          29723,
          32183,
          29217,
          32301,
          31666,
          34590,
          31113,
          30308,
          28452,
          32745,
          33803,
          36795,
          30111,
          31622,
          33383,
          35205,
          19170,
          20891,
          18269,
          19785,
          19307,
          21518,
          23597,
          36460,
          31797,
          34193,
          33171,
          35116,
          31222,
          31750,
          15428,
          16983,
          14839,
          14942,
          15285,
          18275,
          19993,
          20906,
          23264,
          23107,
          19545,
          22574,
          21514,
          23091,
          22969,
          23309,
          23062,
          19227,
          25269,
          23135,
          20940,
          20373,
          18638,
          21222,
          23297,
          20366,
          21434,
          6206,
          5876,
          6343,
          6028,
          5336,
          5816,
          5663,
          6697,
          5678,
          5733,
          6062,
          50642,
          51049,
          55424,
          54838,
          54574,
          61363,
          57854,
          50942,
          53934,
          61249,
          144283,
          146154,
          133568,
          189191,
          149653,
          152343,
          135389,
          136923,
          152219,
          147766,
          235342,
          142134,
          155810,
          58960,
          110551,
          65395,
          56055,
          62179,
          70382,
          65974,
          57554,
          66117,
          4761,
          5456,
          2784,
          12371,
          17982
         ],
         "textposition": "outside",
         "texttemplate": "%{text:.2s}",
         "type": "bar",
         "x": [
          "India",
          "India",
          "Indonesia",
          "Indonesia",
          "Japan",
          "Japan",
          "Pakistan",
          "Philiphines",
          "Philiphines",
          "South Korea",
          "South Korea",
          "Australia",
          "Australia",
          "Newzealand",
          "Newzealand",
          "Bangladesh",
          "Bangladesh",
          "France",
          "France",
          "Germany",
          "Germany",
          "Italy",
          "Italy",
          "Netherlands",
          "Netherlands",
          "Norway",
          "Norway",
          "Poland",
          "Poland",
          "Portugal",
          "Spain",
          "Sweden",
          "Austria",
          "United Kingdom",
          "USA",
          "USA",
          "Canada",
          "Canada",
          "Mexico",
          "Brazil",
          "China",
          "Philiphines",
          "Philiphines",
          "South Korea",
          "South Korea",
          "China",
          "China",
          "India",
          "India",
          "India",
          "India",
          "India",
          "India",
          "India",
          "India",
          "India",
          "India",
          "India",
          "India",
          "India",
          "India",
          "India",
          "India",
          "Indonesia",
          "Indonesia",
          "Japan",
          "Japan",
          "Japan",
          "Japan",
          "Japan",
          "Japan",
          "Japan",
          "Japan",
          "Pakistan",
          "Pakistan",
          "Pakistan",
          "Pakistan",
          "Philiphines",
          "Philiphines",
          "South Korea",
          "Australia",
          "Australia",
          "Australia",
          "Australia",
          "Australia",
          "Newzealand",
          "Newzealand",
          "Newzealand",
          "Newzealand",
          "Newzealand",
          "Newzealand",
          "Bangladesh",
          "Bangladesh",
          "Bangladesh",
          "France",
          "France",
          "France",
          "France",
          "France",
          "France",
          "France",
          "France",
          "Germany",
          "Germany",
          "Germany",
          "Germany",
          "Germany",
          "Germany",
          "Germany",
          "Germany",
          "Germany",
          "Italy",
          "Italy",
          "Italy",
          "Italy",
          "Italy",
          "Italy",
          "Italy",
          "Italy",
          "Italy",
          "Netherlands",
          "Netherlands",
          "Netherlands",
          "Netherlands",
          "Netherlands",
          "Netherlands",
          "Netherlands",
          "Norway",
          "Norway",
          "Norway",
          "Norway",
          "Norway",
          "Norway",
          "Norway",
          "Poland",
          "Poland",
          "Poland",
          "Poland",
          "Poland",
          "Poland",
          "Portugal",
          "Portugal",
          "Portugal",
          "Portugal",
          "Portugal",
          "Portugal",
          "Portugal",
          "Portugal",
          "Portugal",
          "Portugal",
          "Portugal",
          "Spain",
          "Spain",
          "Spain",
          "Spain",
          "Spain",
          "Spain",
          "Spain",
          "Spain",
          "Spain",
          "Spain",
          "Sweden",
          "Sweden",
          "Sweden",
          "Sweden",
          "Austria",
          "Austria",
          "Austria",
          "Austria",
          "Austria",
          "Austria",
          "Austria",
          "United Kingdom",
          "United Kingdom",
          "United Kingdom",
          "United Kingdom",
          "United Kingdom",
          "United Kingdom",
          "United Kingdom",
          "United Kingdom",
          "United Kingdom",
          "United Kingdom",
          "USA",
          "USA",
          "USA",
          "USA",
          "USA",
          "USA",
          "USA",
          "USA",
          "USA",
          "USA",
          "USA",
          "USA",
          "USA",
          "Canada",
          "Canada",
          "Canada",
          "Canada",
          "Canada",
          "Canada",
          "Canada",
          "Canada",
          "Canada",
          "Chile",
          "Chile",
          "Columbia",
          "Mexico",
          "Brazil"
         ],
         "xaxis": "x",
         "y": [
          205108,
          230260,
          100162,
          100230,
          11477,
          12762,
          31168,
          58541,
          66240,
          111016,
          133252,
          72982,
          79238,
          21921,
          25169,
          27462,
          34573,
          54149,
          62627,
          27350,
          35386,
          30724,
          31161,
          20452,
          20458,
          34173,
          38799,
          14781,
          17335,
          27245,
          22612,
          6886,
          7099,
          63928,
          161615,
          149284,
          62498,
          73436,
          13856,
          18636,
          260718,
          233058,
          255458,
          489427,
          470057,
          74730,
          66554,
          200943,
          211691,
          222554,
          221178,
          201678,
          207356,
          222648,
          391684,
          276197,
          215970,
          219879,
          236496,
          206451,
          219574,
          236293,
          242308,
          105857,
          109185,
          11348,
          10480,
          11537,
          12378,
          12123,
          10817,
          17911,
          13922,
          28056,
          32499,
          25943,
          32761,
          57372,
          67562,
          123869,
          80648,
          76862,
          70310,
          73062,
          86829,
          23238,
          24570,
          22506,
          23198,
          25149,
          27336,
          30031,
          27373,
          31502,
          53409,
          52260,
          56136,
          60152,
          53613,
          55947,
          55729,
          63887,
          29155,
          30536,
          29723,
          32183,
          29217,
          32301,
          31666,
          34590,
          31113,
          30308,
          28452,
          32745,
          33803,
          36795,
          30111,
          31622,
          33383,
          35205,
          19170,
          20891,
          18269,
          19785,
          19307,
          21518,
          23597,
          36460,
          31797,
          34193,
          33171,
          35116,
          31222,
          31750,
          15428,
          16983,
          14839,
          14942,
          15285,
          18275,
          19993,
          20906,
          23264,
          23107,
          19545,
          22574,
          21514,
          23091,
          22969,
          23309,
          23062,
          19227,
          25269,
          23135,
          20940,
          20373,
          18638,
          21222,
          23297,
          20366,
          21434,
          6206,
          5876,
          6343,
          6028,
          5336,
          5816,
          5663,
          6697,
          5678,
          5733,
          6062,
          50642,
          51049,
          55424,
          54838,
          54574,
          61363,
          57854,
          50942,
          53934,
          61249,
          144283,
          146154,
          133568,
          189191,
          149653,
          152343,
          135389,
          136923,
          152219,
          147766,
          235342,
          142134,
          155810,
          58960,
          110551,
          65395,
          56055,
          62179,
          70382,
          65974,
          57554,
          66117,
          4761,
          5456,
          2784,
          12371,
          17982
         ],
         "yaxis": "y"
        }
       ],
       "layout": {
        "barmode": "relative",
        "legend": {
         "tracegroupgap": 0
        },
        "template": {
         "data": {
          "bar": [
           {
            "error_x": {
             "color": "#2a3f5f"
            },
            "error_y": {
             "color": "#2a3f5f"
            },
            "marker": {
             "line": {
              "color": "#E5ECF6",
              "width": 0.5
             },
             "pattern": {
              "fillmode": "overlay",
              "size": 10,
              "solidity": 0.2
             }
            },
            "type": "bar"
           }
          ],
          "barpolar": [
           {
            "marker": {
             "line": {
              "color": "#E5ECF6",
              "width": 0.5
             },
             "pattern": {
              "fillmode": "overlay",
              "size": 10,
              "solidity": 0.2
             }
            },
            "type": "barpolar"
           }
          ],
          "carpet": [
           {
            "aaxis": {
             "endlinecolor": "#2a3f5f",
             "gridcolor": "white",
             "linecolor": "white",
             "minorgridcolor": "white",
             "startlinecolor": "#2a3f5f"
            },
            "baxis": {
             "endlinecolor": "#2a3f5f",
             "gridcolor": "white",
             "linecolor": "white",
             "minorgridcolor": "white",
             "startlinecolor": "#2a3f5f"
            },
            "type": "carpet"
           }
          ],
          "choropleth": [
           {
            "colorbar": {
             "outlinewidth": 0,
             "ticks": ""
            },
            "type": "choropleth"
           }
          ],
          "contour": [
           {
            "colorbar": {
             "outlinewidth": 0,
             "ticks": ""
            },
            "colorscale": [
             [
              0,
              "#0d0887"
             ],
             [
              0.1111111111111111,
              "#46039f"
             ],
             [
              0.2222222222222222,
              "#7201a8"
             ],
             [
              0.3333333333333333,
              "#9c179e"
             ],
             [
              0.4444444444444444,
              "#bd3786"
             ],
             [
              0.5555555555555556,
              "#d8576b"
             ],
             [
              0.6666666666666666,
              "#ed7953"
             ],
             [
              0.7777777777777778,
              "#fb9f3a"
             ],
             [
              0.8888888888888888,
              "#fdca26"
             ],
             [
              1,
              "#f0f921"
             ]
            ],
            "type": "contour"
           }
          ],
          "contourcarpet": [
           {
            "colorbar": {
             "outlinewidth": 0,
             "ticks": ""
            },
            "type": "contourcarpet"
           }
          ],
          "heatmap": [
           {
            "colorbar": {
             "outlinewidth": 0,
             "ticks": ""
            },
            "colorscale": [
             [
              0,
              "#0d0887"
             ],
             [
              0.1111111111111111,
              "#46039f"
             ],
             [
              0.2222222222222222,
              "#7201a8"
             ],
             [
              0.3333333333333333,
              "#9c179e"
             ],
             [
              0.4444444444444444,
              "#bd3786"
             ],
             [
              0.5555555555555556,
              "#d8576b"
             ],
             [
              0.6666666666666666,
              "#ed7953"
             ],
             [
              0.7777777777777778,
              "#fb9f3a"
             ],
             [
              0.8888888888888888,
              "#fdca26"
             ],
             [
              1,
              "#f0f921"
             ]
            ],
            "type": "heatmap"
           }
          ],
          "heatmapgl": [
           {
            "colorbar": {
             "outlinewidth": 0,
             "ticks": ""
            },
            "colorscale": [
             [
              0,
              "#0d0887"
             ],
             [
              0.1111111111111111,
              "#46039f"
             ],
             [
              0.2222222222222222,
              "#7201a8"
             ],
             [
              0.3333333333333333,
              "#9c179e"
             ],
             [
              0.4444444444444444,
              "#bd3786"
             ],
             [
              0.5555555555555556,
              "#d8576b"
             ],
             [
              0.6666666666666666,
              "#ed7953"
             ],
             [
              0.7777777777777778,
              "#fb9f3a"
             ],
             [
              0.8888888888888888,
              "#fdca26"
             ],
             [
              1,
              "#f0f921"
             ]
            ],
            "type": "heatmapgl"
           }
          ],
          "histogram": [
           {
            "marker": {
             "pattern": {
              "fillmode": "overlay",
              "size": 10,
              "solidity": 0.2
             }
            },
            "type": "histogram"
           }
          ],
          "histogram2d": [
           {
            "colorbar": {
             "outlinewidth": 0,
             "ticks": ""
            },
            "colorscale": [
             [
              0,
              "#0d0887"
             ],
             [
              0.1111111111111111,
              "#46039f"
             ],
             [
              0.2222222222222222,
              "#7201a8"
             ],
             [
              0.3333333333333333,
              "#9c179e"
             ],
             [
              0.4444444444444444,
              "#bd3786"
             ],
             [
              0.5555555555555556,
              "#d8576b"
             ],
             [
              0.6666666666666666,
              "#ed7953"
             ],
             [
              0.7777777777777778,
              "#fb9f3a"
             ],
             [
              0.8888888888888888,
              "#fdca26"
             ],
             [
              1,
              "#f0f921"
             ]
            ],
            "type": "histogram2d"
           }
          ],
          "histogram2dcontour": [
           {
            "colorbar": {
             "outlinewidth": 0,
             "ticks": ""
            },
            "colorscale": [
             [
              0,
              "#0d0887"
             ],
             [
              0.1111111111111111,
              "#46039f"
             ],
             [
              0.2222222222222222,
              "#7201a8"
             ],
             [
              0.3333333333333333,
              "#9c179e"
             ],
             [
              0.4444444444444444,
              "#bd3786"
             ],
             [
              0.5555555555555556,
              "#d8576b"
             ],
             [
              0.6666666666666666,
              "#ed7953"
             ],
             [
              0.7777777777777778,
              "#fb9f3a"
             ],
             [
              0.8888888888888888,
              "#fdca26"
             ],
             [
              1,
              "#f0f921"
             ]
            ],
            "type": "histogram2dcontour"
           }
          ],
          "mesh3d": [
           {
            "colorbar": {
             "outlinewidth": 0,
             "ticks": ""
            },
            "type": "mesh3d"
           }
          ],
          "parcoords": [
           {
            "line": {
             "colorbar": {
              "outlinewidth": 0,
              "ticks": ""
             }
            },
            "type": "parcoords"
           }
          ],
          "pie": [
           {
            "automargin": true,
            "type": "pie"
           }
          ],
          "scatter": [
           {
            "fillpattern": {
             "fillmode": "overlay",
             "size": 10,
             "solidity": 0.2
            },
            "type": "scatter"
           }
          ],
          "scatter3d": [
           {
            "line": {
             "colorbar": {
              "outlinewidth": 0,
              "ticks": ""
             }
            },
            "marker": {
             "colorbar": {
              "outlinewidth": 0,
              "ticks": ""
             }
            },
            "type": "scatter3d"
           }
          ],
          "scattercarpet": [
           {
            "marker": {
             "colorbar": {
              "outlinewidth": 0,
              "ticks": ""
             }
            },
            "type": "scattercarpet"
           }
          ],
          "scattergeo": [
           {
            "marker": {
             "colorbar": {
              "outlinewidth": 0,
              "ticks": ""
             }
            },
            "type": "scattergeo"
           }
          ],
          "scattergl": [
           {
            "marker": {
             "colorbar": {
              "outlinewidth": 0,
              "ticks": ""
             }
            },
            "type": "scattergl"
           }
          ],
          "scattermapbox": [
           {
            "marker": {
             "colorbar": {
              "outlinewidth": 0,
              "ticks": ""
             }
            },
            "type": "scattermapbox"
           }
          ],
          "scatterpolar": [
           {
            "marker": {
             "colorbar": {
              "outlinewidth": 0,
              "ticks": ""
             }
            },
            "type": "scatterpolar"
           }
          ],
          "scatterpolargl": [
           {
            "marker": {
             "colorbar": {
              "outlinewidth": 0,
              "ticks": ""
             }
            },
            "type": "scatterpolargl"
           }
          ],
          "scatterternary": [
           {
            "marker": {
             "colorbar": {
              "outlinewidth": 0,
              "ticks": ""
             }
            },
            "type": "scatterternary"
           }
          ],
          "surface": [
           {
            "colorbar": {
             "outlinewidth": 0,
             "ticks": ""
            },
            "colorscale": [
             [
              0,
              "#0d0887"
             ],
             [
              0.1111111111111111,
              "#46039f"
             ],
             [
              0.2222222222222222,
              "#7201a8"
             ],
             [
              0.3333333333333333,
              "#9c179e"
             ],
             [
              0.4444444444444444,
              "#bd3786"
             ],
             [
              0.5555555555555556,
              "#d8576b"
             ],
             [
              0.6666666666666666,
              "#ed7953"
             ],
             [
              0.7777777777777778,
              "#fb9f3a"
             ],
             [
              0.8888888888888888,
              "#fdca26"
             ],
             [
              1,
              "#f0f921"
             ]
            ],
            "type": "surface"
           }
          ],
          "table": [
           {
            "cells": {
             "fill": {
              "color": "#EBF0F8"
             },
             "line": {
              "color": "white"
             }
            },
            "header": {
             "fill": {
              "color": "#C8D4E3"
             },
             "line": {
              "color": "white"
             }
            },
            "type": "table"
           }
          ]
         },
         "layout": {
          "annotationdefaults": {
           "arrowcolor": "#2a3f5f",
           "arrowhead": 0,
           "arrowwidth": 1
          },
          "autotypenumbers": "strict",
          "coloraxis": {
           "colorbar": {
            "outlinewidth": 0,
            "ticks": ""
           }
          },
          "colorscale": {
           "diverging": [
            [
             0,
             "#8e0152"
            ],
            [
             0.1,
             "#c51b7d"
            ],
            [
             0.2,
             "#de77ae"
            ],
            [
             0.3,
             "#f1b6da"
            ],
            [
             0.4,
             "#fde0ef"
            ],
            [
             0.5,
             "#f7f7f7"
            ],
            [
             0.6,
             "#e6f5d0"
            ],
            [
             0.7,
             "#b8e186"
            ],
            [
             0.8,
             "#7fbc41"
            ],
            [
             0.9,
             "#4d9221"
            ],
            [
             1,
             "#276419"
            ]
           ],
           "sequential": [
            [
             0,
             "#0d0887"
            ],
            [
             0.1111111111111111,
             "#46039f"
            ],
            [
             0.2222222222222222,
             "#7201a8"
            ],
            [
             0.3333333333333333,
             "#9c179e"
            ],
            [
             0.4444444444444444,
             "#bd3786"
            ],
            [
             0.5555555555555556,
             "#d8576b"
            ],
            [
             0.6666666666666666,
             "#ed7953"
            ],
            [
             0.7777777777777778,
             "#fb9f3a"
            ],
            [
             0.8888888888888888,
             "#fdca26"
            ],
            [
             1,
             "#f0f921"
            ]
           ],
           "sequentialminus": [
            [
             0,
             "#0d0887"
            ],
            [
             0.1111111111111111,
             "#46039f"
            ],
            [
             0.2222222222222222,
             "#7201a8"
            ],
            [
             0.3333333333333333,
             "#9c179e"
            ],
            [
             0.4444444444444444,
             "#bd3786"
            ],
            [
             0.5555555555555556,
             "#d8576b"
            ],
            [
             0.6666666666666666,
             "#ed7953"
            ],
            [
             0.7777777777777778,
             "#fb9f3a"
            ],
            [
             0.8888888888888888,
             "#fdca26"
            ],
            [
             1,
             "#f0f921"
            ]
           ]
          },
          "colorway": [
           "#636efa",
           "#EF553B",
           "#00cc96",
           "#ab63fa",
           "#FFA15A",
           "#19d3f3",
           "#FF6692",
           "#B6E880",
           "#FF97FF",
           "#FECB52"
          ],
          "font": {
           "color": "#2a3f5f"
          },
          "geo": {
           "bgcolor": "white",
           "lakecolor": "white",
           "landcolor": "#E5ECF6",
           "showlakes": true,
           "showland": true,
           "subunitcolor": "white"
          },
          "hoverlabel": {
           "align": "left"
          },
          "hovermode": "closest",
          "mapbox": {
           "style": "light"
          },
          "paper_bgcolor": "white",
          "plot_bgcolor": "#E5ECF6",
          "polar": {
           "angularaxis": {
            "gridcolor": "white",
            "linecolor": "white",
            "ticks": ""
           },
           "bgcolor": "#E5ECF6",
           "radialaxis": {
            "gridcolor": "white",
            "linecolor": "white",
            "ticks": ""
           }
          },
          "scene": {
           "xaxis": {
            "backgroundcolor": "#E5ECF6",
            "gridcolor": "white",
            "gridwidth": 2,
            "linecolor": "white",
            "showbackground": true,
            "ticks": "",
            "zerolinecolor": "white"
           },
           "yaxis": {
            "backgroundcolor": "#E5ECF6",
            "gridcolor": "white",
            "gridwidth": 2,
            "linecolor": "white",
            "showbackground": true,
            "ticks": "",
            "zerolinecolor": "white"
           },
           "zaxis": {
            "backgroundcolor": "#E5ECF6",
            "gridcolor": "white",
            "gridwidth": 2,
            "linecolor": "white",
            "showbackground": true,
            "ticks": "",
            "zerolinecolor": "white"
           }
          },
          "shapedefaults": {
           "line": {
            "color": "#2a3f5f"
           }
          },
          "ternary": {
           "aaxis": {
            "gridcolor": "white",
            "linecolor": "white",
            "ticks": ""
           },
           "baxis": {
            "gridcolor": "white",
            "linecolor": "white",
            "ticks": ""
           },
           "bgcolor": "#E5ECF6",
           "caxis": {
            "gridcolor": "white",
            "linecolor": "white",
            "ticks": ""
           }
          },
          "title": {
           "x": 0.05
          },
          "xaxis": {
           "automargin": true,
           "gridcolor": "white",
           "linecolor": "white",
           "ticks": "",
           "title": {
            "standoff": 15
           },
           "zerolinecolor": "white",
           "zerolinewidth": 2
          },
          "yaxis": {
           "automargin": true,
           "gridcolor": "white",
           "linecolor": "white",
           "ticks": "",
           "title": {
            "standoff": 15
           },
           "zerolinecolor": "white",
           "zerolinewidth": 2
          }
         }
        },
        "title": {
         "text": "Total Sold by Region"
        },
        "uniformtext": {
         "minsize": 8,
         "mode": "hide"
        },
        "xaxis": {
         "anchor": "y",
         "domain": [
          0,
          1
         ],
         "title": {
          "text": "market"
         }
        },
        "yaxis": {
         "anchor": "x",
         "domain": [
          0,
          1
         ],
         "title": {
          "text": "total_sold_quantity"
         }
        }
       }
      },
      "text/html": [
       "<div>                            <div id=\"acf371c4-9457-445a-a2fb-13b691ef7746\" class=\"plotly-graph-div\" style=\"height:525px; width:100%;\"></div>            <script type=\"text/javascript\">                require([\"plotly\"], function(Plotly) {                    window.PLOTLYENV=window.PLOTLYENV || {};                                    if (document.getElementById(\"acf371c4-9457-445a-a2fb-13b691ef7746\")) {                    Plotly.newPlot(                        \"acf371c4-9457-445a-a2fb-13b691ef7746\",                        [{\"alignmentgroup\":\"True\",\"hovertemplate\":\"market=%{x}<br>total_sold_quantity=%{y}<extra></extra>\",\"legendgroup\":\"\",\"marker\":{\"color\":\"#636efa\",\"pattern\":{\"shape\":\"\"}},\"name\":\"\",\"offsetgroup\":\"\",\"orientation\":\"v\",\"showlegend\":false,\"textposition\":\"outside\",\"x\":[\"India\",\"India\",\"Indonesia\",\"Indonesia\",\"Japan\",\"Japan\",\"Pakistan\",\"Philiphines\",\"Philiphines\",\"South Korea\",\"South Korea\",\"Australia\",\"Australia\",\"Newzealand\",\"Newzealand\",\"Bangladesh\",\"Bangladesh\",\"France\",\"France\",\"Germany\",\"Germany\",\"Italy\",\"Italy\",\"Netherlands\",\"Netherlands\",\"Norway\",\"Norway\",\"Poland\",\"Poland\",\"Portugal\",\"Spain\",\"Sweden\",\"Austria\",\"United Kingdom\",\"USA\",\"USA\",\"Canada\",\"Canada\",\"Mexico\",\"Brazil\",\"China\",\"Philiphines\",\"Philiphines\",\"South Korea\",\"South Korea\",\"China\",\"China\",\"India\",\"India\",\"India\",\"India\",\"India\",\"India\",\"India\",\"India\",\"India\",\"India\",\"India\",\"India\",\"India\",\"India\",\"India\",\"India\",\"Indonesia\",\"Indonesia\",\"Japan\",\"Japan\",\"Japan\",\"Japan\",\"Japan\",\"Japan\",\"Japan\",\"Japan\",\"Pakistan\",\"Pakistan\",\"Pakistan\",\"Pakistan\",\"Philiphines\",\"Philiphines\",\"South Korea\",\"Australia\",\"Australia\",\"Australia\",\"Australia\",\"Australia\",\"Newzealand\",\"Newzealand\",\"Newzealand\",\"Newzealand\",\"Newzealand\",\"Newzealand\",\"Bangladesh\",\"Bangladesh\",\"Bangladesh\",\"France\",\"France\",\"France\",\"France\",\"France\",\"France\",\"France\",\"France\",\"Germany\",\"Germany\",\"Germany\",\"Germany\",\"Germany\",\"Germany\",\"Germany\",\"Germany\",\"Germany\",\"Italy\",\"Italy\",\"Italy\",\"Italy\",\"Italy\",\"Italy\",\"Italy\",\"Italy\",\"Italy\",\"Netherlands\",\"Netherlands\",\"Netherlands\",\"Netherlands\",\"Netherlands\",\"Netherlands\",\"Netherlands\",\"Norway\",\"Norway\",\"Norway\",\"Norway\",\"Norway\",\"Norway\",\"Norway\",\"Poland\",\"Poland\",\"Poland\",\"Poland\",\"Poland\",\"Poland\",\"Portugal\",\"Portugal\",\"Portugal\",\"Portugal\",\"Portugal\",\"Portugal\",\"Portugal\",\"Portugal\",\"Portugal\",\"Portugal\",\"Portugal\",\"Spain\",\"Spain\",\"Spain\",\"Spain\",\"Spain\",\"Spain\",\"Spain\",\"Spain\",\"Spain\",\"Spain\",\"Sweden\",\"Sweden\",\"Sweden\",\"Sweden\",\"Austria\",\"Austria\",\"Austria\",\"Austria\",\"Austria\",\"Austria\",\"Austria\",\"United Kingdom\",\"United Kingdom\",\"United Kingdom\",\"United Kingdom\",\"United Kingdom\",\"United Kingdom\",\"United Kingdom\",\"United Kingdom\",\"United Kingdom\",\"United Kingdom\",\"USA\",\"USA\",\"USA\",\"USA\",\"USA\",\"USA\",\"USA\",\"USA\",\"USA\",\"USA\",\"USA\",\"USA\",\"USA\",\"Canada\",\"Canada\",\"Canada\",\"Canada\",\"Canada\",\"Canada\",\"Canada\",\"Canada\",\"Canada\",\"Chile\",\"Chile\",\"Columbia\",\"Mexico\",\"Brazil\"],\"xaxis\":\"x\",\"y\":[205108,230260,100162,100230,11477,12762,31168,58541,66240,111016,133252,72982,79238,21921,25169,27462,34573,54149,62627,27350,35386,30724,31161,20452,20458,34173,38799,14781,17335,27245,22612,6886,7099,63928,161615,149284,62498,73436,13856,18636,260718,233058,255458,489427,470057,74730,66554,200943,211691,222554,221178,201678,207356,222648,391684,276197,215970,219879,236496,206451,219574,236293,242308,105857,109185,11348,10480,11537,12378,12123,10817,17911,13922,28056,32499,25943,32761,57372,67562,123869,80648,76862,70310,73062,86829,23238,24570,22506,23198,25149,27336,30031,27373,31502,53409,52260,56136,60152,53613,55947,55729,63887,29155,30536,29723,32183,29217,32301,31666,34590,31113,30308,28452,32745,33803,36795,30111,31622,33383,35205,19170,20891,18269,19785,19307,21518,23597,36460,31797,34193,33171,35116,31222,31750,15428,16983,14839,14942,15285,18275,19993,20906,23264,23107,19545,22574,21514,23091,22969,23309,23062,19227,25269,23135,20940,20373,18638,21222,23297,20366,21434,6206,5876,6343,6028,5336,5816,5663,6697,5678,5733,6062,50642,51049,55424,54838,54574,61363,57854,50942,53934,61249,144283,146154,133568,189191,149653,152343,135389,136923,152219,147766,235342,142134,155810,58960,110551,65395,56055,62179,70382,65974,57554,66117,4761,5456,2784,12371,17982],\"yaxis\":\"y\",\"type\":\"bar\",\"text\":[205108.0,230260.0,100162.0,100230.0,11477.0,12762.0,31168.0,58541.0,66240.0,111016.0,133252.0,72982.0,79238.0,21921.0,25169.0,27462.0,34573.0,54149.0,62627.0,27350.0,35386.0,30724.0,31161.0,20452.0,20458.0,34173.0,38799.0,14781.0,17335.0,27245.0,22612.0,6886.0,7099.0,63928.0,161615.0,149284.0,62498.0,73436.0,13856.0,18636.0,260718.0,233058.0,255458.0,489427.0,470057.0,74730.0,66554.0,200943.0,211691.0,222554.0,221178.0,201678.0,207356.0,222648.0,391684.0,276197.0,215970.0,219879.0,236496.0,206451.0,219574.0,236293.0,242308.0,105857.0,109185.0,11348.0,10480.0,11537.0,12378.0,12123.0,10817.0,17911.0,13922.0,28056.0,32499.0,25943.0,32761.0,57372.0,67562.0,123869.0,80648.0,76862.0,70310.0,73062.0,86829.0,23238.0,24570.0,22506.0,23198.0,25149.0,27336.0,30031.0,27373.0,31502.0,53409.0,52260.0,56136.0,60152.0,53613.0,55947.0,55729.0,63887.0,29155.0,30536.0,29723.0,32183.0,29217.0,32301.0,31666.0,34590.0,31113.0,30308.0,28452.0,32745.0,33803.0,36795.0,30111.0,31622.0,33383.0,35205.0,19170.0,20891.0,18269.0,19785.0,19307.0,21518.0,23597.0,36460.0,31797.0,34193.0,33171.0,35116.0,31222.0,31750.0,15428.0,16983.0,14839.0,14942.0,15285.0,18275.0,19993.0,20906.0,23264.0,23107.0,19545.0,22574.0,21514.0,23091.0,22969.0,23309.0,23062.0,19227.0,25269.0,23135.0,20940.0,20373.0,18638.0,21222.0,23297.0,20366.0,21434.0,6206.0,5876.0,6343.0,6028.0,5336.0,5816.0,5663.0,6697.0,5678.0,5733.0,6062.0,50642.0,51049.0,55424.0,54838.0,54574.0,61363.0,57854.0,50942.0,53934.0,61249.0,144283.0,146154.0,133568.0,189191.0,149653.0,152343.0,135389.0,136923.0,152219.0,147766.0,235342.0,142134.0,155810.0,58960.0,110551.0,65395.0,56055.0,62179.0,70382.0,65974.0,57554.0,66117.0,4761.0,5456.0,2784.0,12371.0,17982.0],\"texttemplate\":\"%{text:.2s}\"}],                        {\"template\":{\"data\":{\"histogram2dcontour\":[{\"type\":\"histogram2dcontour\",\"colorbar\":{\"outlinewidth\":0,\"ticks\":\"\"},\"colorscale\":[[0.0,\"#0d0887\"],[0.1111111111111111,\"#46039f\"],[0.2222222222222222,\"#7201a8\"],[0.3333333333333333,\"#9c179e\"],[0.4444444444444444,\"#bd3786\"],[0.5555555555555556,\"#d8576b\"],[0.6666666666666666,\"#ed7953\"],[0.7777777777777778,\"#fb9f3a\"],[0.8888888888888888,\"#fdca26\"],[1.0,\"#f0f921\"]]}],\"choropleth\":[{\"type\":\"choropleth\",\"colorbar\":{\"outlinewidth\":0,\"ticks\":\"\"}}],\"histogram2d\":[{\"type\":\"histogram2d\",\"colorbar\":{\"outlinewidth\":0,\"ticks\":\"\"},\"colorscale\":[[0.0,\"#0d0887\"],[0.1111111111111111,\"#46039f\"],[0.2222222222222222,\"#7201a8\"],[0.3333333333333333,\"#9c179e\"],[0.4444444444444444,\"#bd3786\"],[0.5555555555555556,\"#d8576b\"],[0.6666666666666666,\"#ed7953\"],[0.7777777777777778,\"#fb9f3a\"],[0.8888888888888888,\"#fdca26\"],[1.0,\"#f0f921\"]]}],\"heatmap\":[{\"type\":\"heatmap\",\"colorbar\":{\"outlinewidth\":0,\"ticks\":\"\"},\"colorscale\":[[0.0,\"#0d0887\"],[0.1111111111111111,\"#46039f\"],[0.2222222222222222,\"#7201a8\"],[0.3333333333333333,\"#9c179e\"],[0.4444444444444444,\"#bd3786\"],[0.5555555555555556,\"#d8576b\"],[0.6666666666666666,\"#ed7953\"],[0.7777777777777778,\"#fb9f3a\"],[0.8888888888888888,\"#fdca26\"],[1.0,\"#f0f921\"]]}],\"heatmapgl\":[{\"type\":\"heatmapgl\",\"colorbar\":{\"outlinewidth\":0,\"ticks\":\"\"},\"colorscale\":[[0.0,\"#0d0887\"],[0.1111111111111111,\"#46039f\"],[0.2222222222222222,\"#7201a8\"],[0.3333333333333333,\"#9c179e\"],[0.4444444444444444,\"#bd3786\"],[0.5555555555555556,\"#d8576b\"],[0.6666666666666666,\"#ed7953\"],[0.7777777777777778,\"#fb9f3a\"],[0.8888888888888888,\"#fdca26\"],[1.0,\"#f0f921\"]]}],\"contourcarpet\":[{\"type\":\"contourcarpet\",\"colorbar\":{\"outlinewidth\":0,\"ticks\":\"\"}}],\"contour\":[{\"type\":\"contour\",\"colorbar\":{\"outlinewidth\":0,\"ticks\":\"\"},\"colorscale\":[[0.0,\"#0d0887\"],[0.1111111111111111,\"#46039f\"],[0.2222222222222222,\"#7201a8\"],[0.3333333333333333,\"#9c179e\"],[0.4444444444444444,\"#bd3786\"],[0.5555555555555556,\"#d8576b\"],[0.6666666666666666,\"#ed7953\"],[0.7777777777777778,\"#fb9f3a\"],[0.8888888888888888,\"#fdca26\"],[1.0,\"#f0f921\"]]}],\"surface\":[{\"type\":\"surface\",\"colorbar\":{\"outlinewidth\":0,\"ticks\":\"\"},\"colorscale\":[[0.0,\"#0d0887\"],[0.1111111111111111,\"#46039f\"],[0.2222222222222222,\"#7201a8\"],[0.3333333333333333,\"#9c179e\"],[0.4444444444444444,\"#bd3786\"],[0.5555555555555556,\"#d8576b\"],[0.6666666666666666,\"#ed7953\"],[0.7777777777777778,\"#fb9f3a\"],[0.8888888888888888,\"#fdca26\"],[1.0,\"#f0f921\"]]}],\"mesh3d\":[{\"type\":\"mesh3d\",\"colorbar\":{\"outlinewidth\":0,\"ticks\":\"\"}}],\"scatter\":[{\"fillpattern\":{\"fillmode\":\"overlay\",\"size\":10,\"solidity\":0.2},\"type\":\"scatter\"}],\"parcoords\":[{\"type\":\"parcoords\",\"line\":{\"colorbar\":{\"outlinewidth\":0,\"ticks\":\"\"}}}],\"scatterpolargl\":[{\"type\":\"scatterpolargl\",\"marker\":{\"colorbar\":{\"outlinewidth\":0,\"ticks\":\"\"}}}],\"bar\":[{\"error_x\":{\"color\":\"#2a3f5f\"},\"error_y\":{\"color\":\"#2a3f5f\"},\"marker\":{\"line\":{\"color\":\"#E5ECF6\",\"width\":0.5},\"pattern\":{\"fillmode\":\"overlay\",\"size\":10,\"solidity\":0.2}},\"type\":\"bar\"}],\"scattergeo\":[{\"type\":\"scattergeo\",\"marker\":{\"colorbar\":{\"outlinewidth\":0,\"ticks\":\"\"}}}],\"scatterpolar\":[{\"type\":\"scatterpolar\",\"marker\":{\"colorbar\":{\"outlinewidth\":0,\"ticks\":\"\"}}}],\"histogram\":[{\"marker\":{\"pattern\":{\"fillmode\":\"overlay\",\"size\":10,\"solidity\":0.2}},\"type\":\"histogram\"}],\"scattergl\":[{\"type\":\"scattergl\",\"marker\":{\"colorbar\":{\"outlinewidth\":0,\"ticks\":\"\"}}}],\"scatter3d\":[{\"type\":\"scatter3d\",\"line\":{\"colorbar\":{\"outlinewidth\":0,\"ticks\":\"\"}},\"marker\":{\"colorbar\":{\"outlinewidth\":0,\"ticks\":\"\"}}}],\"scattermapbox\":[{\"type\":\"scattermapbox\",\"marker\":{\"colorbar\":{\"outlinewidth\":0,\"ticks\":\"\"}}}],\"scatterternary\":[{\"type\":\"scatterternary\",\"marker\":{\"colorbar\":{\"outlinewidth\":0,\"ticks\":\"\"}}}],\"scattercarpet\":[{\"type\":\"scattercarpet\",\"marker\":{\"colorbar\":{\"outlinewidth\":0,\"ticks\":\"\"}}}],\"carpet\":[{\"aaxis\":{\"endlinecolor\":\"#2a3f5f\",\"gridcolor\":\"white\",\"linecolor\":\"white\",\"minorgridcolor\":\"white\",\"startlinecolor\":\"#2a3f5f\"},\"baxis\":{\"endlinecolor\":\"#2a3f5f\",\"gridcolor\":\"white\",\"linecolor\":\"white\",\"minorgridcolor\":\"white\",\"startlinecolor\":\"#2a3f5f\"},\"type\":\"carpet\"}],\"table\":[{\"cells\":{\"fill\":{\"color\":\"#EBF0F8\"},\"line\":{\"color\":\"white\"}},\"header\":{\"fill\":{\"color\":\"#C8D4E3\"},\"line\":{\"color\":\"white\"}},\"type\":\"table\"}],\"barpolar\":[{\"marker\":{\"line\":{\"color\":\"#E5ECF6\",\"width\":0.5},\"pattern\":{\"fillmode\":\"overlay\",\"size\":10,\"solidity\":0.2}},\"type\":\"barpolar\"}],\"pie\":[{\"automargin\":true,\"type\":\"pie\"}]},\"layout\":{\"autotypenumbers\":\"strict\",\"colorway\":[\"#636efa\",\"#EF553B\",\"#00cc96\",\"#ab63fa\",\"#FFA15A\",\"#19d3f3\",\"#FF6692\",\"#B6E880\",\"#FF97FF\",\"#FECB52\"],\"font\":{\"color\":\"#2a3f5f\"},\"hovermode\":\"closest\",\"hoverlabel\":{\"align\":\"left\"},\"paper_bgcolor\":\"white\",\"plot_bgcolor\":\"#E5ECF6\",\"polar\":{\"bgcolor\":\"#E5ECF6\",\"angularaxis\":{\"gridcolor\":\"white\",\"linecolor\":\"white\",\"ticks\":\"\"},\"radialaxis\":{\"gridcolor\":\"white\",\"linecolor\":\"white\",\"ticks\":\"\"}},\"ternary\":{\"bgcolor\":\"#E5ECF6\",\"aaxis\":{\"gridcolor\":\"white\",\"linecolor\":\"white\",\"ticks\":\"\"},\"baxis\":{\"gridcolor\":\"white\",\"linecolor\":\"white\",\"ticks\":\"\"},\"caxis\":{\"gridcolor\":\"white\",\"linecolor\":\"white\",\"ticks\":\"\"}},\"coloraxis\":{\"colorbar\":{\"outlinewidth\":0,\"ticks\":\"\"}},\"colorscale\":{\"sequential\":[[0.0,\"#0d0887\"],[0.1111111111111111,\"#46039f\"],[0.2222222222222222,\"#7201a8\"],[0.3333333333333333,\"#9c179e\"],[0.4444444444444444,\"#bd3786\"],[0.5555555555555556,\"#d8576b\"],[0.6666666666666666,\"#ed7953\"],[0.7777777777777778,\"#fb9f3a\"],[0.8888888888888888,\"#fdca26\"],[1.0,\"#f0f921\"]],\"sequentialminus\":[[0.0,\"#0d0887\"],[0.1111111111111111,\"#46039f\"],[0.2222222222222222,\"#7201a8\"],[0.3333333333333333,\"#9c179e\"],[0.4444444444444444,\"#bd3786\"],[0.5555555555555556,\"#d8576b\"],[0.6666666666666666,\"#ed7953\"],[0.7777777777777778,\"#fb9f3a\"],[0.8888888888888888,\"#fdca26\"],[1.0,\"#f0f921\"]],\"diverging\":[[0,\"#8e0152\"],[0.1,\"#c51b7d\"],[0.2,\"#de77ae\"],[0.3,\"#f1b6da\"],[0.4,\"#fde0ef\"],[0.5,\"#f7f7f7\"],[0.6,\"#e6f5d0\"],[0.7,\"#b8e186\"],[0.8,\"#7fbc41\"],[0.9,\"#4d9221\"],[1,\"#276419\"]]},\"xaxis\":{\"gridcolor\":\"white\",\"linecolor\":\"white\",\"ticks\":\"\",\"title\":{\"standoff\":15},\"zerolinecolor\":\"white\",\"automargin\":true,\"zerolinewidth\":2},\"yaxis\":{\"gridcolor\":\"white\",\"linecolor\":\"white\",\"ticks\":\"\",\"title\":{\"standoff\":15},\"zerolinecolor\":\"white\",\"automargin\":true,\"zerolinewidth\":2},\"scene\":{\"xaxis\":{\"backgroundcolor\":\"#E5ECF6\",\"gridcolor\":\"white\",\"linecolor\":\"white\",\"showbackground\":true,\"ticks\":\"\",\"zerolinecolor\":\"white\",\"gridwidth\":2},\"yaxis\":{\"backgroundcolor\":\"#E5ECF6\",\"gridcolor\":\"white\",\"linecolor\":\"white\",\"showbackground\":true,\"ticks\":\"\",\"zerolinecolor\":\"white\",\"gridwidth\":2},\"zaxis\":{\"backgroundcolor\":\"#E5ECF6\",\"gridcolor\":\"white\",\"linecolor\":\"white\",\"showbackground\":true,\"ticks\":\"\",\"zerolinecolor\":\"white\",\"gridwidth\":2}},\"shapedefaults\":{\"line\":{\"color\":\"#2a3f5f\"}},\"annotationdefaults\":{\"arrowcolor\":\"#2a3f5f\",\"arrowhead\":0,\"arrowwidth\":1},\"geo\":{\"bgcolor\":\"white\",\"landcolor\":\"#E5ECF6\",\"subunitcolor\":\"white\",\"showland\":true,\"showlakes\":true,\"lakecolor\":\"white\"},\"title\":{\"x\":0.05},\"mapbox\":{\"style\":\"light\"}}},\"xaxis\":{\"anchor\":\"y\",\"domain\":[0.0,1.0],\"title\":{\"text\":\"market\"}},\"yaxis\":{\"anchor\":\"x\",\"domain\":[0.0,1.0],\"title\":{\"text\":\"total_sold_quantity\"}},\"legend\":{\"tracegroupgap\":0},\"title\":{\"text\":\"Total Sold by Region\"},\"barmode\":\"relative\",\"uniformtext\":{\"minsize\":8,\"mode\":\"hide\"}},                        {\"responsive\": true}                    ).then(function(){\n",
       "                            \n",
       "var gd = document.getElementById('acf371c4-9457-445a-a2fb-13b691ef7746');\n",
       "var x = new MutationObserver(function (mutations, observer) {{\n",
       "        var display = window.getComputedStyle(gd).display;\n",
       "        if (!display || display === 'none') {{\n",
       "            console.log([gd, 'removed!']);\n",
       "            Plotly.purge(gd);\n",
       "            observer.disconnect();\n",
       "        }}\n",
       "}});\n",
       "\n",
       "// Listen for the removal of the full notebook cells\n",
       "var notebookContainer = gd.closest('#notebook-container');\n",
       "if (notebookContainer) {{\n",
       "    x.observe(notebookContainer, {childList: true});\n",
       "}}\n",
       "\n",
       "// Listen for the clearing of the current output cell\n",
       "var outputEl = gd.closest('.output');\n",
       "if (outputEl) {{\n",
       "    x.observe(outputEl, {childList: true});\n",
       "}}\n",
       "\n",
       "                        })                };                });            </script>        </div>"
      ]
     },
     "metadata": {},
     "output_type": "display_data"
    }
   ],
   "source": [
    "# PLOT CUSTOMERS AND HOW MANY PRODUCTS\n",
    "fig = px.bar(atliq_cust_tbl, x=\"market\", y=\"total_sold_quantity\", title=\"Total Sold by Region\")\n",
    "\n",
    "# Add the customer_total values as text on the bars\n",
    "fig.update_traces(text=atliq_cust_tbl['total_sold_quantity'], texttemplate='%{text:.2s}', textposition='outside')\n",
    "\n",
    "# Adjust text size and visibility\n",
    "fig.update_layout(uniformtext_minsize=8, uniformtext_mode='hide')\n",
    "\n",
    "# Show the bar chart\n",
    "fig.show()"
   ]
  },
  {
   "cell_type": "markdown",
   "id": "fb93af63",
   "metadata": {},
   "source": [
    "<font size=\"3\"><b>Insight:</b> India, USA and South Korea have the highest customer  product totals.  It makes sense for India to be at the top since AtliQ is an India based business.  The bar chart has grouped all of the customers for that region, hence the lines in the bars. "
   ]
  },
  {
   "cell_type": "code",
   "execution_count": 47,
   "id": "c1fa981a",
   "metadata": {},
   "outputs": [
    {
     "data": {
      "application/vnd.plotly.v1+json": {
       "config": {
        "plotlyServerURL": "https://plot.ly"
       },
       "data": [
        {
         "alignmentgroup": "True",
         "hovertemplate": "customer=%{x}<br>total_sold_quantity=%{y}<extra></extra>",
         "legendgroup": "",
         "marker": {
          "color": "#636efa",
          "pattern": {
           "shape": ""
          }
         },
         "name": "",
         "offsetgroup": "",
         "orientation": "v",
         "showlegend": false,
         "textposition": "auto",
         "type": "bar",
         "x": [
          "Atliq Exclusive",
          "Atliq e Store",
          "Atliq Exclusive",
          "Atliq e Store",
          "Atliq Exclusive",
          "Atliq e Store",
          "Atliq e Store",
          "Atliq Exclusive",
          "Atliq e Store",
          "Atliq Exclusive",
          "Atliq e Store",
          "Atliq Exclusive",
          "Atliq e Store",
          "Atliq Exclusive",
          "Atliq e Store",
          "Atliq Exclusive",
          "Atliq e Store",
          "Atliq Exclusive",
          "Atliq e Store",
          "Atliq Exclusive",
          "Atliq e Store",
          "Atliq Exclusive",
          "Atliq e Store",
          "Atliq Exclusive",
          "Atliq e Store",
          "Atliq Exclusive",
          "Atliq e Store",
          "Atliq Exclusive",
          "Atliq e Store",
          "Atliq e Store",
          "Atliq e Store",
          "Atliq e Store",
          "Atliq e Store",
          "Atliq e Store",
          "Atliq Exclusive",
          "Atliq e Store",
          "Atliq Exclusive",
          "Atliq e Store",
          "Atliq e Store",
          "Atliq e Store",
          "Neptune",
          "Synthetic",
          "Novus",
          "Sage",
          "Leader",
          "Zone",
          "Taobao",
          "Reliance Digital",
          "Croma",
          "Ezone",
          "Vijay Sales",
          "Lotus",
          "Viveks",
          "Girias",
          "Amazon",
          "Flipkart",
          "Ebay",
          "Atliq Exclusive",
          "Electricalsocity",
          "Electricalslytical",
          "Expression",
          "Propel",
          "Amazon ",
          "Acclaimed Stores",
          "Amazon ",
          "Info Stores",
          "Flawless Stores",
          "Electricalsbea Stores",
          "All-Out",
          "Neptune",
          "Surface Stores",
          "Amazon",
          "Amazon ",
          "Expression",
          "Nomad Stores",
          "Zone",
          "Amazon ",
          "Insight",
          "Amazon ",
          "Amazon ",
          "Digimarket",
          "Forward Stores",
          "Sound",
          "Electricalsocity",
          "Amazon ",
          "Epic Stores",
          "Propel",
          "Leader",
          "Logic Stores",
          "Path",
          "Amazon ",
          "Surface Stores",
          "Control",
          "Amazon ",
          "Epic Stores",
          "Elite",
          "Chip 7",
          "Elkjøp",
          "UniEuro",
          "Media Markt",
          "Sorefoz",
          "Amazon ",
          "Digimarket",
          "Otto",
          "Notebillig",
          "Billa",
          "Saturn",
          "Expert",
          "Currys (Dixons Carphone)",
          "Fnac-Darty",
          "Amazon ",
          "Unity Stores",
          "Euronics",
          "Fnac-Darty",
          "Argos (Sainsbury's)",
          "Coolblue",
          "Boulanger",
          "Radio Popular",
          "Expert",
          "Amazon ",
          "Electricalslance Stores",
          "Reliance Digital",
          "Media Markt",
          "Mbit",
          "Elkjøp",
          "Radio Popular",
          "Amazon ",
          "Sound",
          "Synthetic",
          "Mbit",
          "Chiptec",
          "Boulanger",
          "UniEuro",
          "Amazon ",
          "Electricalsara Stores",
          "Power",
          "Expert",
          "Currys (Dixons Carphone)",
          "Argos (Sainsbury's)",
          "Amazon ",
          "Premium Stores",
          "Electricalsara Stores",
          "Forward Stores",
          "Power",
          "Info Stores",
          "Flawless Stores",
          "Electricalslance Stores",
          "Sorefoz",
          "Euronics",
          "Mbit",
          "Amazon ",
          "Integration Stores",
          "Flipkart",
          "Elite",
          "Relief",
          "Chiptec",
          "Boulanger",
          "Media Markt",
          "Euronics",
          "Elkjøp",
          "Amazon ",
          "Sorefoz",
          "Expert",
          "Argos (Sainsbury's)",
          "Amazon ",
          "Atlas Stores",
          "Electricalsquipo Stores",
          "Integration Stores",
          "Nova",
          "Euronics",
          "Fnac-Darty",
          "Amazon ",
          "Electricalsquipo Stores",
          "Logic Stores",
          "Electricalslytical",
          "Atlas Stores",
          "Radio Popular",
          "Expert",
          "UniEuro",
          "Chip 7",
          "Coolblue",
          "Amazon ",
          "Acclaimed Stores",
          "Path",
          "Control",
          "Flipkart",
          "BestBuy",
          "Circuit City",
          "Radio Shack",
          "Costco",
          "walmart",
          "Staples",
          "Amazon",
          "Amazon ",
          "Ebay",
          "Nomad Stores",
          "Amazon",
          "Sage",
          "Premium Stores",
          "Relief",
          "Costco",
          "walmart",
          "Staples",
          "Amazon ",
          "Electricalsbea Stores",
          "Amazon ",
          "Electricalsbea Stores",
          "Amazon ",
          "Amazon "
         ],
         "xaxis": "x",
         "y": [
          205108,
          230260,
          100162,
          100230,
          11477,
          12762,
          31168,
          58541,
          66240,
          111016,
          133252,
          72982,
          79238,
          21921,
          25169,
          27462,
          34573,
          54149,
          62627,
          27350,
          35386,
          30724,
          31161,
          20452,
          20458,
          34173,
          38799,
          14781,
          17335,
          27245,
          22612,
          6886,
          7099,
          63928,
          161615,
          149284,
          62498,
          73436,
          13856,
          18636,
          260718,
          233058,
          255458,
          489427,
          470057,
          74730,
          66554,
          200943,
          211691,
          222554,
          221178,
          201678,
          207356,
          222648,
          391684,
          276197,
          215970,
          219879,
          236496,
          206451,
          219574,
          236293,
          242308,
          105857,
          109185,
          11348,
          10480,
          11537,
          12378,
          12123,
          10817,
          17911,
          13922,
          28056,
          32499,
          25943,
          32761,
          57372,
          67562,
          123869,
          80648,
          76862,
          70310,
          73062,
          86829,
          23238,
          24570,
          22506,
          23198,
          25149,
          27336,
          30031,
          27373,
          31502,
          53409,
          52260,
          56136,
          60152,
          53613,
          55947,
          55729,
          63887,
          29155,
          30536,
          29723,
          32183,
          29217,
          32301,
          31666,
          34590,
          31113,
          30308,
          28452,
          32745,
          33803,
          36795,
          30111,
          31622,
          33383,
          35205,
          19170,
          20891,
          18269,
          19785,
          19307,
          21518,
          23597,
          36460,
          31797,
          34193,
          33171,
          35116,
          31222,
          31750,
          15428,
          16983,
          14839,
          14942,
          15285,
          18275,
          19993,
          20906,
          23264,
          23107,
          19545,
          22574,
          21514,
          23091,
          22969,
          23309,
          23062,
          19227,
          25269,
          23135,
          20940,
          20373,
          18638,
          21222,
          23297,
          20366,
          21434,
          6206,
          5876,
          6343,
          6028,
          5336,
          5816,
          5663,
          6697,
          5678,
          5733,
          6062,
          50642,
          51049,
          55424,
          54838,
          54574,
          61363,
          57854,
          50942,
          53934,
          61249,
          144283,
          146154,
          133568,
          189191,
          149653,
          152343,
          135389,
          136923,
          152219,
          147766,
          235342,
          142134,
          155810,
          58960,
          110551,
          65395,
          56055,
          62179,
          70382,
          65974,
          57554,
          66117,
          4761,
          5456,
          2784,
          12371,
          17982
         ],
         "yaxis": "y"
        }
       ],
       "layout": {
        "barmode": "relative",
        "legend": {
         "tracegroupgap": 0
        },
        "template": {
         "data": {
          "bar": [
           {
            "error_x": {
             "color": "#2a3f5f"
            },
            "error_y": {
             "color": "#2a3f5f"
            },
            "marker": {
             "line": {
              "color": "#E5ECF6",
              "width": 0.5
             },
             "pattern": {
              "fillmode": "overlay",
              "size": 10,
              "solidity": 0.2
             }
            },
            "type": "bar"
           }
          ],
          "barpolar": [
           {
            "marker": {
             "line": {
              "color": "#E5ECF6",
              "width": 0.5
             },
             "pattern": {
              "fillmode": "overlay",
              "size": 10,
              "solidity": 0.2
             }
            },
            "type": "barpolar"
           }
          ],
          "carpet": [
           {
            "aaxis": {
             "endlinecolor": "#2a3f5f",
             "gridcolor": "white",
             "linecolor": "white",
             "minorgridcolor": "white",
             "startlinecolor": "#2a3f5f"
            },
            "baxis": {
             "endlinecolor": "#2a3f5f",
             "gridcolor": "white",
             "linecolor": "white",
             "minorgridcolor": "white",
             "startlinecolor": "#2a3f5f"
            },
            "type": "carpet"
           }
          ],
          "choropleth": [
           {
            "colorbar": {
             "outlinewidth": 0,
             "ticks": ""
            },
            "type": "choropleth"
           }
          ],
          "contour": [
           {
            "colorbar": {
             "outlinewidth": 0,
             "ticks": ""
            },
            "colorscale": [
             [
              0,
              "#0d0887"
             ],
             [
              0.1111111111111111,
              "#46039f"
             ],
             [
              0.2222222222222222,
              "#7201a8"
             ],
             [
              0.3333333333333333,
              "#9c179e"
             ],
             [
              0.4444444444444444,
              "#bd3786"
             ],
             [
              0.5555555555555556,
              "#d8576b"
             ],
             [
              0.6666666666666666,
              "#ed7953"
             ],
             [
              0.7777777777777778,
              "#fb9f3a"
             ],
             [
              0.8888888888888888,
              "#fdca26"
             ],
             [
              1,
              "#f0f921"
             ]
            ],
            "type": "contour"
           }
          ],
          "contourcarpet": [
           {
            "colorbar": {
             "outlinewidth": 0,
             "ticks": ""
            },
            "type": "contourcarpet"
           }
          ],
          "heatmap": [
           {
            "colorbar": {
             "outlinewidth": 0,
             "ticks": ""
            },
            "colorscale": [
             [
              0,
              "#0d0887"
             ],
             [
              0.1111111111111111,
              "#46039f"
             ],
             [
              0.2222222222222222,
              "#7201a8"
             ],
             [
              0.3333333333333333,
              "#9c179e"
             ],
             [
              0.4444444444444444,
              "#bd3786"
             ],
             [
              0.5555555555555556,
              "#d8576b"
             ],
             [
              0.6666666666666666,
              "#ed7953"
             ],
             [
              0.7777777777777778,
              "#fb9f3a"
             ],
             [
              0.8888888888888888,
              "#fdca26"
             ],
             [
              1,
              "#f0f921"
             ]
            ],
            "type": "heatmap"
           }
          ],
          "heatmapgl": [
           {
            "colorbar": {
             "outlinewidth": 0,
             "ticks": ""
            },
            "colorscale": [
             [
              0,
              "#0d0887"
             ],
             [
              0.1111111111111111,
              "#46039f"
             ],
             [
              0.2222222222222222,
              "#7201a8"
             ],
             [
              0.3333333333333333,
              "#9c179e"
             ],
             [
              0.4444444444444444,
              "#bd3786"
             ],
             [
              0.5555555555555556,
              "#d8576b"
             ],
             [
              0.6666666666666666,
              "#ed7953"
             ],
             [
              0.7777777777777778,
              "#fb9f3a"
             ],
             [
              0.8888888888888888,
              "#fdca26"
             ],
             [
              1,
              "#f0f921"
             ]
            ],
            "type": "heatmapgl"
           }
          ],
          "histogram": [
           {
            "marker": {
             "pattern": {
              "fillmode": "overlay",
              "size": 10,
              "solidity": 0.2
             }
            },
            "type": "histogram"
           }
          ],
          "histogram2d": [
           {
            "colorbar": {
             "outlinewidth": 0,
             "ticks": ""
            },
            "colorscale": [
             [
              0,
              "#0d0887"
             ],
             [
              0.1111111111111111,
              "#46039f"
             ],
             [
              0.2222222222222222,
              "#7201a8"
             ],
             [
              0.3333333333333333,
              "#9c179e"
             ],
             [
              0.4444444444444444,
              "#bd3786"
             ],
             [
              0.5555555555555556,
              "#d8576b"
             ],
             [
              0.6666666666666666,
              "#ed7953"
             ],
             [
              0.7777777777777778,
              "#fb9f3a"
             ],
             [
              0.8888888888888888,
              "#fdca26"
             ],
             [
              1,
              "#f0f921"
             ]
            ],
            "type": "histogram2d"
           }
          ],
          "histogram2dcontour": [
           {
            "colorbar": {
             "outlinewidth": 0,
             "ticks": ""
            },
            "colorscale": [
             [
              0,
              "#0d0887"
             ],
             [
              0.1111111111111111,
              "#46039f"
             ],
             [
              0.2222222222222222,
              "#7201a8"
             ],
             [
              0.3333333333333333,
              "#9c179e"
             ],
             [
              0.4444444444444444,
              "#bd3786"
             ],
             [
              0.5555555555555556,
              "#d8576b"
             ],
             [
              0.6666666666666666,
              "#ed7953"
             ],
             [
              0.7777777777777778,
              "#fb9f3a"
             ],
             [
              0.8888888888888888,
              "#fdca26"
             ],
             [
              1,
              "#f0f921"
             ]
            ],
            "type": "histogram2dcontour"
           }
          ],
          "mesh3d": [
           {
            "colorbar": {
             "outlinewidth": 0,
             "ticks": ""
            },
            "type": "mesh3d"
           }
          ],
          "parcoords": [
           {
            "line": {
             "colorbar": {
              "outlinewidth": 0,
              "ticks": ""
             }
            },
            "type": "parcoords"
           }
          ],
          "pie": [
           {
            "automargin": true,
            "type": "pie"
           }
          ],
          "scatter": [
           {
            "fillpattern": {
             "fillmode": "overlay",
             "size": 10,
             "solidity": 0.2
            },
            "type": "scatter"
           }
          ],
          "scatter3d": [
           {
            "line": {
             "colorbar": {
              "outlinewidth": 0,
              "ticks": ""
             }
            },
            "marker": {
             "colorbar": {
              "outlinewidth": 0,
              "ticks": ""
             }
            },
            "type": "scatter3d"
           }
          ],
          "scattercarpet": [
           {
            "marker": {
             "colorbar": {
              "outlinewidth": 0,
              "ticks": ""
             }
            },
            "type": "scattercarpet"
           }
          ],
          "scattergeo": [
           {
            "marker": {
             "colorbar": {
              "outlinewidth": 0,
              "ticks": ""
             }
            },
            "type": "scattergeo"
           }
          ],
          "scattergl": [
           {
            "marker": {
             "colorbar": {
              "outlinewidth": 0,
              "ticks": ""
             }
            },
            "type": "scattergl"
           }
          ],
          "scattermapbox": [
           {
            "marker": {
             "colorbar": {
              "outlinewidth": 0,
              "ticks": ""
             }
            },
            "type": "scattermapbox"
           }
          ],
          "scatterpolar": [
           {
            "marker": {
             "colorbar": {
              "outlinewidth": 0,
              "ticks": ""
             }
            },
            "type": "scatterpolar"
           }
          ],
          "scatterpolargl": [
           {
            "marker": {
             "colorbar": {
              "outlinewidth": 0,
              "ticks": ""
             }
            },
            "type": "scatterpolargl"
           }
          ],
          "scatterternary": [
           {
            "marker": {
             "colorbar": {
              "outlinewidth": 0,
              "ticks": ""
             }
            },
            "type": "scatterternary"
           }
          ],
          "surface": [
           {
            "colorbar": {
             "outlinewidth": 0,
             "ticks": ""
            },
            "colorscale": [
             [
              0,
              "#0d0887"
             ],
             [
              0.1111111111111111,
              "#46039f"
             ],
             [
              0.2222222222222222,
              "#7201a8"
             ],
             [
              0.3333333333333333,
              "#9c179e"
             ],
             [
              0.4444444444444444,
              "#bd3786"
             ],
             [
              0.5555555555555556,
              "#d8576b"
             ],
             [
              0.6666666666666666,
              "#ed7953"
             ],
             [
              0.7777777777777778,
              "#fb9f3a"
             ],
             [
              0.8888888888888888,
              "#fdca26"
             ],
             [
              1,
              "#f0f921"
             ]
            ],
            "type": "surface"
           }
          ],
          "table": [
           {
            "cells": {
             "fill": {
              "color": "#EBF0F8"
             },
             "line": {
              "color": "white"
             }
            },
            "header": {
             "fill": {
              "color": "#C8D4E3"
             },
             "line": {
              "color": "white"
             }
            },
            "type": "table"
           }
          ]
         },
         "layout": {
          "annotationdefaults": {
           "arrowcolor": "#2a3f5f",
           "arrowhead": 0,
           "arrowwidth": 1
          },
          "autotypenumbers": "strict",
          "coloraxis": {
           "colorbar": {
            "outlinewidth": 0,
            "ticks": ""
           }
          },
          "colorscale": {
           "diverging": [
            [
             0,
             "#8e0152"
            ],
            [
             0.1,
             "#c51b7d"
            ],
            [
             0.2,
             "#de77ae"
            ],
            [
             0.3,
             "#f1b6da"
            ],
            [
             0.4,
             "#fde0ef"
            ],
            [
             0.5,
             "#f7f7f7"
            ],
            [
             0.6,
             "#e6f5d0"
            ],
            [
             0.7,
             "#b8e186"
            ],
            [
             0.8,
             "#7fbc41"
            ],
            [
             0.9,
             "#4d9221"
            ],
            [
             1,
             "#276419"
            ]
           ],
           "sequential": [
            [
             0,
             "#0d0887"
            ],
            [
             0.1111111111111111,
             "#46039f"
            ],
            [
             0.2222222222222222,
             "#7201a8"
            ],
            [
             0.3333333333333333,
             "#9c179e"
            ],
            [
             0.4444444444444444,
             "#bd3786"
            ],
            [
             0.5555555555555556,
             "#d8576b"
            ],
            [
             0.6666666666666666,
             "#ed7953"
            ],
            [
             0.7777777777777778,
             "#fb9f3a"
            ],
            [
             0.8888888888888888,
             "#fdca26"
            ],
            [
             1,
             "#f0f921"
            ]
           ],
           "sequentialminus": [
            [
             0,
             "#0d0887"
            ],
            [
             0.1111111111111111,
             "#46039f"
            ],
            [
             0.2222222222222222,
             "#7201a8"
            ],
            [
             0.3333333333333333,
             "#9c179e"
            ],
            [
             0.4444444444444444,
             "#bd3786"
            ],
            [
             0.5555555555555556,
             "#d8576b"
            ],
            [
             0.6666666666666666,
             "#ed7953"
            ],
            [
             0.7777777777777778,
             "#fb9f3a"
            ],
            [
             0.8888888888888888,
             "#fdca26"
            ],
            [
             1,
             "#f0f921"
            ]
           ]
          },
          "colorway": [
           "#636efa",
           "#EF553B",
           "#00cc96",
           "#ab63fa",
           "#FFA15A",
           "#19d3f3",
           "#FF6692",
           "#B6E880",
           "#FF97FF",
           "#FECB52"
          ],
          "font": {
           "color": "#2a3f5f"
          },
          "geo": {
           "bgcolor": "white",
           "lakecolor": "white",
           "landcolor": "#E5ECF6",
           "showlakes": true,
           "showland": true,
           "subunitcolor": "white"
          },
          "hoverlabel": {
           "align": "left"
          },
          "hovermode": "closest",
          "mapbox": {
           "style": "light"
          },
          "paper_bgcolor": "white",
          "plot_bgcolor": "#E5ECF6",
          "polar": {
           "angularaxis": {
            "gridcolor": "white",
            "linecolor": "white",
            "ticks": ""
           },
           "bgcolor": "#E5ECF6",
           "radialaxis": {
            "gridcolor": "white",
            "linecolor": "white",
            "ticks": ""
           }
          },
          "scene": {
           "xaxis": {
            "backgroundcolor": "#E5ECF6",
            "gridcolor": "white",
            "gridwidth": 2,
            "linecolor": "white",
            "showbackground": true,
            "ticks": "",
            "zerolinecolor": "white"
           },
           "yaxis": {
            "backgroundcolor": "#E5ECF6",
            "gridcolor": "white",
            "gridwidth": 2,
            "linecolor": "white",
            "showbackground": true,
            "ticks": "",
            "zerolinecolor": "white"
           },
           "zaxis": {
            "backgroundcolor": "#E5ECF6",
            "gridcolor": "white",
            "gridwidth": 2,
            "linecolor": "white",
            "showbackground": true,
            "ticks": "",
            "zerolinecolor": "white"
           }
          },
          "shapedefaults": {
           "line": {
            "color": "#2a3f5f"
           }
          },
          "ternary": {
           "aaxis": {
            "gridcolor": "white",
            "linecolor": "white",
            "ticks": ""
           },
           "baxis": {
            "gridcolor": "white",
            "linecolor": "white",
            "ticks": ""
           },
           "bgcolor": "#E5ECF6",
           "caxis": {
            "gridcolor": "white",
            "linecolor": "white",
            "ticks": ""
           }
          },
          "title": {
           "x": 0.05
          },
          "xaxis": {
           "automargin": true,
           "gridcolor": "white",
           "linecolor": "white",
           "ticks": "",
           "title": {
            "standoff": 15
           },
           "zerolinecolor": "white",
           "zerolinewidth": 2
          },
          "yaxis": {
           "automargin": true,
           "gridcolor": "white",
           "linecolor": "white",
           "ticks": "",
           "title": {
            "standoff": 15
           },
           "zerolinecolor": "white",
           "zerolinewidth": 2
          }
         }
        },
        "title": {
         "text": "Amount Sold to Customer"
        },
        "uniformtext": {
         "minsize": 8,
         "mode": "hide"
        },
        "xaxis": {
         "anchor": "y",
         "domain": [
          0,
          1
         ],
         "title": {
          "text": "customer"
         }
        },
        "yaxis": {
         "anchor": "x",
         "domain": [
          0,
          1
         ],
         "title": {
          "text": "total_sold_quantity"
         }
        }
       }
      },
      "text/html": [
       "<div>                            <div id=\"4c922929-797f-4f3d-a1e0-571893c865d8\" class=\"plotly-graph-div\" style=\"height:525px; width:100%;\"></div>            <script type=\"text/javascript\">                require([\"plotly\"], function(Plotly) {                    window.PLOTLYENV=window.PLOTLYENV || {};                                    if (document.getElementById(\"4c922929-797f-4f3d-a1e0-571893c865d8\")) {                    Plotly.newPlot(                        \"4c922929-797f-4f3d-a1e0-571893c865d8\",                        [{\"alignmentgroup\":\"True\",\"hovertemplate\":\"customer=%{x}<br>total_sold_quantity=%{y}<extra></extra>\",\"legendgroup\":\"\",\"marker\":{\"color\":\"#636efa\",\"pattern\":{\"shape\":\"\"}},\"name\":\"\",\"offsetgroup\":\"\",\"orientation\":\"v\",\"showlegend\":false,\"textposition\":\"auto\",\"x\":[\"Atliq Exclusive\",\"Atliq e Store\",\"Atliq Exclusive\",\"Atliq e Store\",\"Atliq Exclusive\",\"Atliq e Store\",\"Atliq e Store\",\"Atliq Exclusive\",\"Atliq e Store\",\"Atliq Exclusive\",\"Atliq e Store\",\"Atliq Exclusive\",\"Atliq e Store\",\"Atliq Exclusive\",\"Atliq e Store\",\"Atliq Exclusive\",\"Atliq e Store\",\"Atliq Exclusive\",\"Atliq e Store\",\"Atliq Exclusive\",\"Atliq e Store\",\"Atliq Exclusive\",\"Atliq e Store\",\"Atliq Exclusive\",\"Atliq e Store\",\"Atliq Exclusive\",\"Atliq e Store\",\"Atliq Exclusive\",\"Atliq e Store\",\"Atliq e Store\",\"Atliq e Store\",\"Atliq e Store\",\"Atliq e Store\",\"Atliq e Store\",\"Atliq Exclusive\",\"Atliq e Store\",\"Atliq Exclusive\",\"Atliq e Store\",\"Atliq e Store\",\"Atliq e Store\",\"Neptune\",\"Synthetic\",\"Novus\",\"Sage\",\"Leader\",\"Zone\",\"Taobao\",\"Reliance Digital\",\"Croma\",\"Ezone\",\"Vijay Sales\",\"Lotus\",\"Viveks\",\"Girias\",\"Amazon\",\"Flipkart\",\"Ebay\",\"Atliq Exclusive\",\"Electricalsocity\",\"Electricalslytical\",\"Expression\",\"Propel\",\"Amazon \",\"Acclaimed Stores\",\"Amazon \",\"Info Stores\",\"Flawless Stores\",\"Electricalsbea Stores\",\"All-Out\",\"Neptune\",\"Surface Stores\",\"Amazon\",\"Amazon \",\"Expression\",\"Nomad Stores\",\"Zone\",\"Amazon \",\"Insight\",\"Amazon \",\"Amazon \",\"Digimarket\",\"Forward Stores\",\"Sound\",\"Electricalsocity\",\"Amazon \",\"Epic Stores\",\"Propel\",\"Leader\",\"Logic Stores\",\"Path\",\"Amazon \",\"Surface Stores\",\"Control\",\"Amazon \",\"Epic Stores\",\"Elite\",\"Chip 7\",\"Elkj\\u00f8p\",\"UniEuro\",\"Media Markt\",\"Sorefoz\",\"Amazon \",\"Digimarket\",\"Otto\",\"Notebillig\",\"Billa\",\"Saturn\",\"Expert\",\"Currys (Dixons Carphone)\",\"Fnac-Darty\",\"Amazon \",\"Unity Stores\",\"Euronics\",\"Fnac-Darty\",\"Argos (Sainsbury's)\",\"Coolblue\",\"Boulanger\",\"Radio Popular\",\"Expert\",\"Amazon \",\"Electricalslance Stores\",\"Reliance Digital\",\"Media Markt\",\"Mbit\",\"Elkj\\u00f8p\",\"Radio Popular\",\"Amazon \",\"Sound\",\"Synthetic\",\"Mbit\",\"Chiptec\",\"Boulanger\",\"UniEuro\",\"Amazon \",\"Electricalsara Stores\",\"Power\",\"Expert\",\"Currys (Dixons Carphone)\",\"Argos (Sainsbury's)\",\"Amazon \",\"Premium Stores\",\"Electricalsara Stores\",\"Forward Stores\",\"Power\",\"Info Stores\",\"Flawless Stores\",\"Electricalslance Stores\",\"Sorefoz\",\"Euronics\",\"Mbit\",\"Amazon \",\"Integration Stores\",\"Flipkart\",\"Elite\",\"Relief\",\"Chiptec\",\"Boulanger\",\"Media Markt\",\"Euronics\",\"Elkj\\u00f8p\",\"Amazon \",\"Sorefoz\",\"Expert\",\"Argos (Sainsbury's)\",\"Amazon \",\"Atlas Stores\",\"Electricalsquipo Stores\",\"Integration Stores\",\"Nova\",\"Euronics\",\"Fnac-Darty\",\"Amazon \",\"Electricalsquipo Stores\",\"Logic Stores\",\"Electricalslytical\",\"Atlas Stores\",\"Radio Popular\",\"Expert\",\"UniEuro\",\"Chip 7\",\"Coolblue\",\"Amazon \",\"Acclaimed Stores\",\"Path\",\"Control\",\"Flipkart\",\"BestBuy\",\"Circuit City\",\"Radio Shack\",\"Costco\",\"walmart\",\"Staples\",\"Amazon\",\"Amazon \",\"Ebay\",\"Nomad Stores\",\"Amazon\",\"Sage\",\"Premium Stores\",\"Relief\",\"Costco\",\"walmart\",\"Staples\",\"Amazon \",\"Electricalsbea Stores\",\"Amazon \",\"Electricalsbea Stores\",\"Amazon \",\"Amazon \"],\"xaxis\":\"x\",\"y\":[205108,230260,100162,100230,11477,12762,31168,58541,66240,111016,133252,72982,79238,21921,25169,27462,34573,54149,62627,27350,35386,30724,31161,20452,20458,34173,38799,14781,17335,27245,22612,6886,7099,63928,161615,149284,62498,73436,13856,18636,260718,233058,255458,489427,470057,74730,66554,200943,211691,222554,221178,201678,207356,222648,391684,276197,215970,219879,236496,206451,219574,236293,242308,105857,109185,11348,10480,11537,12378,12123,10817,17911,13922,28056,32499,25943,32761,57372,67562,123869,80648,76862,70310,73062,86829,23238,24570,22506,23198,25149,27336,30031,27373,31502,53409,52260,56136,60152,53613,55947,55729,63887,29155,30536,29723,32183,29217,32301,31666,34590,31113,30308,28452,32745,33803,36795,30111,31622,33383,35205,19170,20891,18269,19785,19307,21518,23597,36460,31797,34193,33171,35116,31222,31750,15428,16983,14839,14942,15285,18275,19993,20906,23264,23107,19545,22574,21514,23091,22969,23309,23062,19227,25269,23135,20940,20373,18638,21222,23297,20366,21434,6206,5876,6343,6028,5336,5816,5663,6697,5678,5733,6062,50642,51049,55424,54838,54574,61363,57854,50942,53934,61249,144283,146154,133568,189191,149653,152343,135389,136923,152219,147766,235342,142134,155810,58960,110551,65395,56055,62179,70382,65974,57554,66117,4761,5456,2784,12371,17982],\"yaxis\":\"y\",\"type\":\"bar\"}],                        {\"template\":{\"data\":{\"histogram2dcontour\":[{\"type\":\"histogram2dcontour\",\"colorbar\":{\"outlinewidth\":0,\"ticks\":\"\"},\"colorscale\":[[0.0,\"#0d0887\"],[0.1111111111111111,\"#46039f\"],[0.2222222222222222,\"#7201a8\"],[0.3333333333333333,\"#9c179e\"],[0.4444444444444444,\"#bd3786\"],[0.5555555555555556,\"#d8576b\"],[0.6666666666666666,\"#ed7953\"],[0.7777777777777778,\"#fb9f3a\"],[0.8888888888888888,\"#fdca26\"],[1.0,\"#f0f921\"]]}],\"choropleth\":[{\"type\":\"choropleth\",\"colorbar\":{\"outlinewidth\":0,\"ticks\":\"\"}}],\"histogram2d\":[{\"type\":\"histogram2d\",\"colorbar\":{\"outlinewidth\":0,\"ticks\":\"\"},\"colorscale\":[[0.0,\"#0d0887\"],[0.1111111111111111,\"#46039f\"],[0.2222222222222222,\"#7201a8\"],[0.3333333333333333,\"#9c179e\"],[0.4444444444444444,\"#bd3786\"],[0.5555555555555556,\"#d8576b\"],[0.6666666666666666,\"#ed7953\"],[0.7777777777777778,\"#fb9f3a\"],[0.8888888888888888,\"#fdca26\"],[1.0,\"#f0f921\"]]}],\"heatmap\":[{\"type\":\"heatmap\",\"colorbar\":{\"outlinewidth\":0,\"ticks\":\"\"},\"colorscale\":[[0.0,\"#0d0887\"],[0.1111111111111111,\"#46039f\"],[0.2222222222222222,\"#7201a8\"],[0.3333333333333333,\"#9c179e\"],[0.4444444444444444,\"#bd3786\"],[0.5555555555555556,\"#d8576b\"],[0.6666666666666666,\"#ed7953\"],[0.7777777777777778,\"#fb9f3a\"],[0.8888888888888888,\"#fdca26\"],[1.0,\"#f0f921\"]]}],\"heatmapgl\":[{\"type\":\"heatmapgl\",\"colorbar\":{\"outlinewidth\":0,\"ticks\":\"\"},\"colorscale\":[[0.0,\"#0d0887\"],[0.1111111111111111,\"#46039f\"],[0.2222222222222222,\"#7201a8\"],[0.3333333333333333,\"#9c179e\"],[0.4444444444444444,\"#bd3786\"],[0.5555555555555556,\"#d8576b\"],[0.6666666666666666,\"#ed7953\"],[0.7777777777777778,\"#fb9f3a\"],[0.8888888888888888,\"#fdca26\"],[1.0,\"#f0f921\"]]}],\"contourcarpet\":[{\"type\":\"contourcarpet\",\"colorbar\":{\"outlinewidth\":0,\"ticks\":\"\"}}],\"contour\":[{\"type\":\"contour\",\"colorbar\":{\"outlinewidth\":0,\"ticks\":\"\"},\"colorscale\":[[0.0,\"#0d0887\"],[0.1111111111111111,\"#46039f\"],[0.2222222222222222,\"#7201a8\"],[0.3333333333333333,\"#9c179e\"],[0.4444444444444444,\"#bd3786\"],[0.5555555555555556,\"#d8576b\"],[0.6666666666666666,\"#ed7953\"],[0.7777777777777778,\"#fb9f3a\"],[0.8888888888888888,\"#fdca26\"],[1.0,\"#f0f921\"]]}],\"surface\":[{\"type\":\"surface\",\"colorbar\":{\"outlinewidth\":0,\"ticks\":\"\"},\"colorscale\":[[0.0,\"#0d0887\"],[0.1111111111111111,\"#46039f\"],[0.2222222222222222,\"#7201a8\"],[0.3333333333333333,\"#9c179e\"],[0.4444444444444444,\"#bd3786\"],[0.5555555555555556,\"#d8576b\"],[0.6666666666666666,\"#ed7953\"],[0.7777777777777778,\"#fb9f3a\"],[0.8888888888888888,\"#fdca26\"],[1.0,\"#f0f921\"]]}],\"mesh3d\":[{\"type\":\"mesh3d\",\"colorbar\":{\"outlinewidth\":0,\"ticks\":\"\"}}],\"scatter\":[{\"fillpattern\":{\"fillmode\":\"overlay\",\"size\":10,\"solidity\":0.2},\"type\":\"scatter\"}],\"parcoords\":[{\"type\":\"parcoords\",\"line\":{\"colorbar\":{\"outlinewidth\":0,\"ticks\":\"\"}}}],\"scatterpolargl\":[{\"type\":\"scatterpolargl\",\"marker\":{\"colorbar\":{\"outlinewidth\":0,\"ticks\":\"\"}}}],\"bar\":[{\"error_x\":{\"color\":\"#2a3f5f\"},\"error_y\":{\"color\":\"#2a3f5f\"},\"marker\":{\"line\":{\"color\":\"#E5ECF6\",\"width\":0.5},\"pattern\":{\"fillmode\":\"overlay\",\"size\":10,\"solidity\":0.2}},\"type\":\"bar\"}],\"scattergeo\":[{\"type\":\"scattergeo\",\"marker\":{\"colorbar\":{\"outlinewidth\":0,\"ticks\":\"\"}}}],\"scatterpolar\":[{\"type\":\"scatterpolar\",\"marker\":{\"colorbar\":{\"outlinewidth\":0,\"ticks\":\"\"}}}],\"histogram\":[{\"marker\":{\"pattern\":{\"fillmode\":\"overlay\",\"size\":10,\"solidity\":0.2}},\"type\":\"histogram\"}],\"scattergl\":[{\"type\":\"scattergl\",\"marker\":{\"colorbar\":{\"outlinewidth\":0,\"ticks\":\"\"}}}],\"scatter3d\":[{\"type\":\"scatter3d\",\"line\":{\"colorbar\":{\"outlinewidth\":0,\"ticks\":\"\"}},\"marker\":{\"colorbar\":{\"outlinewidth\":0,\"ticks\":\"\"}}}],\"scattermapbox\":[{\"type\":\"scattermapbox\",\"marker\":{\"colorbar\":{\"outlinewidth\":0,\"ticks\":\"\"}}}],\"scatterternary\":[{\"type\":\"scatterternary\",\"marker\":{\"colorbar\":{\"outlinewidth\":0,\"ticks\":\"\"}}}],\"scattercarpet\":[{\"type\":\"scattercarpet\",\"marker\":{\"colorbar\":{\"outlinewidth\":0,\"ticks\":\"\"}}}],\"carpet\":[{\"aaxis\":{\"endlinecolor\":\"#2a3f5f\",\"gridcolor\":\"white\",\"linecolor\":\"white\",\"minorgridcolor\":\"white\",\"startlinecolor\":\"#2a3f5f\"},\"baxis\":{\"endlinecolor\":\"#2a3f5f\",\"gridcolor\":\"white\",\"linecolor\":\"white\",\"minorgridcolor\":\"white\",\"startlinecolor\":\"#2a3f5f\"},\"type\":\"carpet\"}],\"table\":[{\"cells\":{\"fill\":{\"color\":\"#EBF0F8\"},\"line\":{\"color\":\"white\"}},\"header\":{\"fill\":{\"color\":\"#C8D4E3\"},\"line\":{\"color\":\"white\"}},\"type\":\"table\"}],\"barpolar\":[{\"marker\":{\"line\":{\"color\":\"#E5ECF6\",\"width\":0.5},\"pattern\":{\"fillmode\":\"overlay\",\"size\":10,\"solidity\":0.2}},\"type\":\"barpolar\"}],\"pie\":[{\"automargin\":true,\"type\":\"pie\"}]},\"layout\":{\"autotypenumbers\":\"strict\",\"colorway\":[\"#636efa\",\"#EF553B\",\"#00cc96\",\"#ab63fa\",\"#FFA15A\",\"#19d3f3\",\"#FF6692\",\"#B6E880\",\"#FF97FF\",\"#FECB52\"],\"font\":{\"color\":\"#2a3f5f\"},\"hovermode\":\"closest\",\"hoverlabel\":{\"align\":\"left\"},\"paper_bgcolor\":\"white\",\"plot_bgcolor\":\"#E5ECF6\",\"polar\":{\"bgcolor\":\"#E5ECF6\",\"angularaxis\":{\"gridcolor\":\"white\",\"linecolor\":\"white\",\"ticks\":\"\"},\"radialaxis\":{\"gridcolor\":\"white\",\"linecolor\":\"white\",\"ticks\":\"\"}},\"ternary\":{\"bgcolor\":\"#E5ECF6\",\"aaxis\":{\"gridcolor\":\"white\",\"linecolor\":\"white\",\"ticks\":\"\"},\"baxis\":{\"gridcolor\":\"white\",\"linecolor\":\"white\",\"ticks\":\"\"},\"caxis\":{\"gridcolor\":\"white\",\"linecolor\":\"white\",\"ticks\":\"\"}},\"coloraxis\":{\"colorbar\":{\"outlinewidth\":0,\"ticks\":\"\"}},\"colorscale\":{\"sequential\":[[0.0,\"#0d0887\"],[0.1111111111111111,\"#46039f\"],[0.2222222222222222,\"#7201a8\"],[0.3333333333333333,\"#9c179e\"],[0.4444444444444444,\"#bd3786\"],[0.5555555555555556,\"#d8576b\"],[0.6666666666666666,\"#ed7953\"],[0.7777777777777778,\"#fb9f3a\"],[0.8888888888888888,\"#fdca26\"],[1.0,\"#f0f921\"]],\"sequentialminus\":[[0.0,\"#0d0887\"],[0.1111111111111111,\"#46039f\"],[0.2222222222222222,\"#7201a8\"],[0.3333333333333333,\"#9c179e\"],[0.4444444444444444,\"#bd3786\"],[0.5555555555555556,\"#d8576b\"],[0.6666666666666666,\"#ed7953\"],[0.7777777777777778,\"#fb9f3a\"],[0.8888888888888888,\"#fdca26\"],[1.0,\"#f0f921\"]],\"diverging\":[[0,\"#8e0152\"],[0.1,\"#c51b7d\"],[0.2,\"#de77ae\"],[0.3,\"#f1b6da\"],[0.4,\"#fde0ef\"],[0.5,\"#f7f7f7\"],[0.6,\"#e6f5d0\"],[0.7,\"#b8e186\"],[0.8,\"#7fbc41\"],[0.9,\"#4d9221\"],[1,\"#276419\"]]},\"xaxis\":{\"gridcolor\":\"white\",\"linecolor\":\"white\",\"ticks\":\"\",\"title\":{\"standoff\":15},\"zerolinecolor\":\"white\",\"automargin\":true,\"zerolinewidth\":2},\"yaxis\":{\"gridcolor\":\"white\",\"linecolor\":\"white\",\"ticks\":\"\",\"title\":{\"standoff\":15},\"zerolinecolor\":\"white\",\"automargin\":true,\"zerolinewidth\":2},\"scene\":{\"xaxis\":{\"backgroundcolor\":\"#E5ECF6\",\"gridcolor\":\"white\",\"linecolor\":\"white\",\"showbackground\":true,\"ticks\":\"\",\"zerolinecolor\":\"white\",\"gridwidth\":2},\"yaxis\":{\"backgroundcolor\":\"#E5ECF6\",\"gridcolor\":\"white\",\"linecolor\":\"white\",\"showbackground\":true,\"ticks\":\"\",\"zerolinecolor\":\"white\",\"gridwidth\":2},\"zaxis\":{\"backgroundcolor\":\"#E5ECF6\",\"gridcolor\":\"white\",\"linecolor\":\"white\",\"showbackground\":true,\"ticks\":\"\",\"zerolinecolor\":\"white\",\"gridwidth\":2}},\"shapedefaults\":{\"line\":{\"color\":\"#2a3f5f\"}},\"annotationdefaults\":{\"arrowcolor\":\"#2a3f5f\",\"arrowhead\":0,\"arrowwidth\":1},\"geo\":{\"bgcolor\":\"white\",\"landcolor\":\"#E5ECF6\",\"subunitcolor\":\"white\",\"showland\":true,\"showlakes\":true,\"lakecolor\":\"white\"},\"title\":{\"x\":0.05},\"mapbox\":{\"style\":\"light\"}}},\"xaxis\":{\"anchor\":\"y\",\"domain\":[0.0,1.0],\"title\":{\"text\":\"customer\"}},\"yaxis\":{\"anchor\":\"x\",\"domain\":[0.0,1.0],\"title\":{\"text\":\"total_sold_quantity\"}},\"legend\":{\"tracegroupgap\":0},\"title\":{\"text\":\"Amount Sold to Customer\"},\"barmode\":\"relative\",\"uniformtext\":{\"minsize\":8,\"mode\":\"hide\"}},                        {\"responsive\": true}                    ).then(function(){\n",
       "                            \n",
       "var gd = document.getElementById('4c922929-797f-4f3d-a1e0-571893c865d8');\n",
       "var x = new MutationObserver(function (mutations, observer) {{\n",
       "        var display = window.getComputedStyle(gd).display;\n",
       "        if (!display || display === 'none') {{\n",
       "            console.log([gd, 'removed!']);\n",
       "            Plotly.purge(gd);\n",
       "            observer.disconnect();\n",
       "        }}\n",
       "}});\n",
       "\n",
       "// Listen for the removal of the full notebook cells\n",
       "var notebookContainer = gd.closest('#notebook-container');\n",
       "if (notebookContainer) {{\n",
       "    x.observe(notebookContainer, {childList: true});\n",
       "}}\n",
       "\n",
       "// Listen for the clearing of the current output cell\n",
       "var outputEl = gd.closest('.output');\n",
       "if (outputEl) {{\n",
       "    x.observe(outputEl, {childList: true});\n",
       "}}\n",
       "\n",
       "                        })                };                });            </script>        </div>"
      ]
     },
     "metadata": {},
     "output_type": "display_data"
    }
   ],
   "source": [
    "# PLOT CUSTOMERS AND HOW MANY PRODUCTS\n",
    "fig = px.bar(atliq_cust_tbl, x=\"customer\", y=\"total_sold_quantity\", title=\"Amount Sold to Customer\")\n",
    "\n",
    "# Adjust text size and visibility\n",
    "fig.update_layout(uniformtext_minsize=8, uniformtext_mode='hide')\n",
    "\n",
    "# Show the bar chart\n",
    "fig.show()"
   ]
  },
  {
   "cell_type": "markdown",
   "id": "5f9dc6e9",
   "metadata": {},
   "source": [
    "<font size=\"3\"><b>Insight:</b>  Breaking down the product variable by customer, we can now see why the US had such a high ranking in the previous plot. Amazon has over 1 million products. This may be due to the nature of the Amazon platform and it's ease of use to sell items and which has a vast customer base. "
   ]
  },
  {
   "cell_type": "markdown",
   "id": "7c0448c2",
   "metadata": {},
   "source": [
    "<hr style=\"border:2px solid black\">"
   ]
  },
  {
   "cell_type": "markdown",
   "id": "90f67903",
   "metadata": {},
   "source": [
    "# Can we determine LTV rate?"
   ]
  },
  {
   "cell_type": "markdown",
   "id": "a260c445",
   "metadata": {},
   "source": [
    "<font size=\"3\"> Given the life of the data, we will see what type of cohort analysis will be possible by starting with the LTV; lifetime value of the customers. First to prepare the data."
   ]
  },
  {
   "cell_type": "code",
   "execution_count": null,
   "id": "e2d9c2e7",
   "metadata": {},
   "outputs": [],
   "source": []
  },
  {
   "cell_type": "code",
   "execution_count": 48,
   "id": "b074679a",
   "metadata": {},
   "outputs": [
    {
     "data": {
      "text/html": [
       "<div>\n",
       "<style scoped>\n",
       "    .dataframe tbody tr th:only-of-type {\n",
       "        vertical-align: middle;\n",
       "    }\n",
       "\n",
       "    .dataframe tbody tr th {\n",
       "        vertical-align: top;\n",
       "    }\n",
       "\n",
       "    .dataframe thead th {\n",
       "        text-align: right;\n",
       "    }\n",
       "</style>\n",
       "<table border=\"1\" class=\"dataframe\">\n",
       "  <thead>\n",
       "    <tr style=\"text-align: right;\">\n",
       "      <th></th>\n",
       "      <th>product_code</th>\n",
       "      <th>fiscal_year</th>\n",
       "      <th>gross_price</th>\n",
       "      <th>customer_code</th>\n",
       "      <th>date</th>\n",
       "      <th>sold_quantity</th>\n",
       "    </tr>\n",
       "  </thead>\n",
       "  <tbody>\n",
       "    <tr>\n",
       "      <th>0</th>\n",
       "      <td>A0118150101</td>\n",
       "      <td>2018</td>\n",
       "      <td>15.3952</td>\n",
       "      <td>70002017.0</td>\n",
       "      <td>2017-09-01</td>\n",
       "      <td>51.0</td>\n",
       "    </tr>\n",
       "    <tr>\n",
       "      <th>1</th>\n",
       "      <td>A0118150101</td>\n",
       "      <td>2018</td>\n",
       "      <td>15.3952</td>\n",
       "      <td>70002018.0</td>\n",
       "      <td>2017-09-01</td>\n",
       "      <td>77.0</td>\n",
       "    </tr>\n",
       "  </tbody>\n",
       "</table>\n",
       "</div>"
      ],
      "text/plain": [
       "  product_code  fiscal_year  gross_price  customer_code        date  \\\n",
       "0  A0118150101         2018      15.3952     70002017.0  2017-09-01   \n",
       "1  A0118150101         2018      15.3952     70002018.0  2017-09-01   \n",
       "\n",
       "   sold_quantity  \n",
       "0           51.0  \n",
       "1           77.0  "
      ]
     },
     "execution_count": 48,
     "metadata": {},
     "output_type": "execute_result"
    }
   ],
   "source": [
    "# Merge df1 with selected columns from df2\n",
    "# Merge entire df1 with selected columns from df2 based on the common column\n",
    "ltv_test= fact_gross_price.merge(fact_sales_monthly[['product_code', 'customer_code', 'date', 'sold_quantity']], on='product_code', how='left')\n",
    "\n",
    "ltv_test.head(2)"
   ]
  },
  {
   "cell_type": "code",
   "execution_count": 49,
   "id": "4fdd920e",
   "metadata": {},
   "outputs": [
    {
     "name": "stdout",
     "output_type": "stream",
     "text": [
      "<class 'pandas.core.frame.DataFrame'>\n",
      "Int64Index: 265174 entries, 0 to 265173\n",
      "Data columns (total 6 columns):\n",
      " #   Column         Non-Null Count   Dtype  \n",
      "---  ------         --------------   -----  \n",
      " 0   product_code   265174 non-null  object \n",
      " 1   fiscal_year    265174 non-null  int64  \n",
      " 2   gross_price    265174 non-null  float64\n",
      " 3   customer_code  264044 non-null  float64\n",
      " 4   date           264044 non-null  object \n",
      " 5   sold_quantity  264044 non-null  float64\n",
      "dtypes: float64(3), int64(1), object(2)\n",
      "memory usage: 14.2+ MB\n"
     ]
    }
   ],
   "source": [
    "ltv_test.info()"
   ]
  },
  {
   "cell_type": "code",
   "execution_count": 50,
   "id": "b47145b6",
   "metadata": {},
   "outputs": [],
   "source": [
    "ltv_test['date'] = pd.to_datetime(ltv_test['date'], format='%Y-%m-%d') #format the date type"
   ]
  },
  {
   "cell_type": "code",
   "execution_count": 51,
   "id": "6251fb5a",
   "metadata": {},
   "outputs": [
    {
     "name": "stdout",
     "output_type": "stream",
     "text": [
      "<class 'pandas.core.frame.DataFrame'>\n",
      "Int64Index: 265174 entries, 0 to 265173\n",
      "Data columns (total 6 columns):\n",
      " #   Column         Non-Null Count   Dtype         \n",
      "---  ------         --------------   -----         \n",
      " 0   product_code   265174 non-null  object        \n",
      " 1   fiscal_year    265174 non-null  int64         \n",
      " 2   gross_price    265174 non-null  float64       \n",
      " 3   customer_code  264044 non-null  float64       \n",
      " 4   date           264044 non-null  datetime64[ns]\n",
      " 5   sold_quantity  264044 non-null  float64       \n",
      "dtypes: datetime64[ns](1), float64(3), int64(1), object(1)\n",
      "memory usage: 14.2+ MB\n"
     ]
    }
   ],
   "source": [
    "ltv_test.info() #double check that formatting has taken place"
   ]
  },
  {
   "cell_type": "code",
   "execution_count": 52,
   "id": "dc2c97f9",
   "metadata": {},
   "outputs": [],
   "source": [
    "ltv_test['order_month'] = ltv_test['date'].astype('datetime64[M]')\n",
    "ltv_test[[\"gross_price\", \"sold_quantity\"]] = ltv_test[[\"gross_price\", \"sold_quantity\"]].apply(pd.to_numeric)\n",
    "#change to proper data types"
   ]
  },
  {
   "cell_type": "code",
   "execution_count": 53,
   "id": "2399e45a",
   "metadata": {},
   "outputs": [],
   "source": [
    "#GROSS PRICE X SOLD QUANTITY\n",
    "ltv_test['ltv_prd_cost'] = ltv_test['gross_price'] * ltv_test['sold_quantity']"
   ]
  },
  {
   "cell_type": "code",
   "execution_count": 54,
   "id": "b83f62cb",
   "metadata": {},
   "outputs": [],
   "source": [
    "#Now let's retrieve the month of each customer's first purchase:\n",
    "first_orders = ltv_test.groupby('customer_code').agg({'order_month': 'min'}).reset_index()\n",
    "first_orders.columns = ['customer_code', 'first_order_month']"
   ]
  },
  {
   "cell_type": "code",
   "execution_count": 55,
   "id": "21c0da3b",
   "metadata": {},
   "outputs": [
    {
     "data": {
      "text/html": [
       "<div>\n",
       "<style scoped>\n",
       "    .dataframe tbody tr th:only-of-type {\n",
       "        vertical-align: middle;\n",
       "    }\n",
       "\n",
       "    .dataframe tbody tr th {\n",
       "        vertical-align: top;\n",
       "    }\n",
       "\n",
       "    .dataframe thead th {\n",
       "        text-align: right;\n",
       "    }\n",
       "</style>\n",
       "<table border=\"1\" class=\"dataframe\">\n",
       "  <thead>\n",
       "    <tr style=\"text-align: right;\">\n",
       "      <th></th>\n",
       "      <th>first_order_month</th>\n",
       "      <th>n_buyers</th>\n",
       "    </tr>\n",
       "  </thead>\n",
       "  <tbody>\n",
       "    <tr>\n",
       "      <th>0</th>\n",
       "      <td>2017-09-01</td>\n",
       "      <td>84</td>\n",
       "    </tr>\n",
       "    <tr>\n",
       "      <th>1</th>\n",
       "      <td>2017-10-01</td>\n",
       "      <td>25</td>\n",
       "    </tr>\n",
       "    <tr>\n",
       "      <th>2</th>\n",
       "      <td>2018-09-01</td>\n",
       "      <td>36</td>\n",
       "    </tr>\n",
       "    <tr>\n",
       "      <th>3</th>\n",
       "      <td>2018-10-01</td>\n",
       "      <td>15</td>\n",
       "    </tr>\n",
       "    <tr>\n",
       "      <th>4</th>\n",
       "      <td>2019-09-01</td>\n",
       "      <td>37</td>\n",
       "    </tr>\n",
       "    <tr>\n",
       "      <th>5</th>\n",
       "      <td>2019-10-01</td>\n",
       "      <td>12</td>\n",
       "    </tr>\n",
       "  </tbody>\n",
       "</table>\n",
       "</div>"
      ],
      "text/plain": [
       "  first_order_month  n_buyers\n",
       "0        2017-09-01        84\n",
       "1        2017-10-01        25\n",
       "2        2018-09-01        36\n",
       "3        2018-10-01        15\n",
       "4        2019-09-01        37\n",
       "5        2019-10-01        12"
      ]
     },
     "execution_count": 55,
     "metadata": {},
     "output_type": "execute_result"
    }
   ],
   "source": [
    "#We'll calculate the number of new customers (n_buyers) for each month:\n",
    "ltv_cohort_sizes = first_orders.groupby('first_order_month').agg({'customer_code': 'nunique'}).reset_index()\n",
    "ltv_cohort_sizes.columns = ['first_order_month', 'n_buyers']\n",
    "ltv_cohort_sizes "
   ]
  },
  {
   "cell_type": "code",
   "execution_count": 56,
   "id": "f6cd8a7b",
   "metadata": {},
   "outputs": [
    {
     "data": {
      "text/html": [
       "<div>\n",
       "<style scoped>\n",
       "    .dataframe tbody tr th:only-of-type {\n",
       "        vertical-align: middle;\n",
       "    }\n",
       "\n",
       "    .dataframe tbody tr th {\n",
       "        vertical-align: top;\n",
       "    }\n",
       "\n",
       "    .dataframe thead th {\n",
       "        text-align: right;\n",
       "    }\n",
       "</style>\n",
       "<table border=\"1\" class=\"dataframe\">\n",
       "  <thead>\n",
       "    <tr style=\"text-align: right;\">\n",
       "      <th></th>\n",
       "      <th>product_code</th>\n",
       "      <th>fiscal_year</th>\n",
       "      <th>gross_price</th>\n",
       "      <th>customer_code</th>\n",
       "      <th>date</th>\n",
       "      <th>sold_quantity</th>\n",
       "      <th>order_month</th>\n",
       "      <th>ltv_prd_cost</th>\n",
       "      <th>first_order_month</th>\n",
       "    </tr>\n",
       "  </thead>\n",
       "  <tbody>\n",
       "    <tr>\n",
       "      <th>0</th>\n",
       "      <td>A0118150101</td>\n",
       "      <td>2018</td>\n",
       "      <td>15.3952</td>\n",
       "      <td>70002017.0</td>\n",
       "      <td>2017-09-01</td>\n",
       "      <td>51.0</td>\n",
       "      <td>2017-09-01</td>\n",
       "      <td>785.1552</td>\n",
       "      <td>2017-09-01</td>\n",
       "    </tr>\n",
       "    <tr>\n",
       "      <th>1</th>\n",
       "      <td>A0118150101</td>\n",
       "      <td>2018</td>\n",
       "      <td>15.3952</td>\n",
       "      <td>70002017.0</td>\n",
       "      <td>2017-10-01</td>\n",
       "      <td>54.0</td>\n",
       "      <td>2017-10-01</td>\n",
       "      <td>831.3408</td>\n",
       "      <td>2017-09-01</td>\n",
       "    </tr>\n",
       "    <tr>\n",
       "      <th>2</th>\n",
       "      <td>A0118150101</td>\n",
       "      <td>2018</td>\n",
       "      <td>15.3952</td>\n",
       "      <td>70002017.0</td>\n",
       "      <td>2017-11-01</td>\n",
       "      <td>30.0</td>\n",
       "      <td>2017-11-01</td>\n",
       "      <td>461.8560</td>\n",
       "      <td>2017-09-01</td>\n",
       "    </tr>\n",
       "    <tr>\n",
       "      <th>3</th>\n",
       "      <td>A0118150101</td>\n",
       "      <td>2018</td>\n",
       "      <td>15.3952</td>\n",
       "      <td>70002017.0</td>\n",
       "      <td>2018-01-01</td>\n",
       "      <td>14.0</td>\n",
       "      <td>2018-01-01</td>\n",
       "      <td>215.5328</td>\n",
       "      <td>2017-09-01</td>\n",
       "    </tr>\n",
       "    <tr>\n",
       "      <th>4</th>\n",
       "      <td>A0118150101</td>\n",
       "      <td>2018</td>\n",
       "      <td>15.3952</td>\n",
       "      <td>70002017.0</td>\n",
       "      <td>2018-02-01</td>\n",
       "      <td>62.0</td>\n",
       "      <td>2018-02-01</td>\n",
       "      <td>954.5024</td>\n",
       "      <td>2017-09-01</td>\n",
       "    </tr>\n",
       "  </tbody>\n",
       "</table>\n",
       "</div>"
      ],
      "text/plain": [
       "  product_code  fiscal_year  gross_price  customer_code       date  \\\n",
       "0  A0118150101         2018      15.3952     70002017.0 2017-09-01   \n",
       "1  A0118150101         2018      15.3952     70002017.0 2017-10-01   \n",
       "2  A0118150101         2018      15.3952     70002017.0 2017-11-01   \n",
       "3  A0118150101         2018      15.3952     70002017.0 2018-01-01   \n",
       "4  A0118150101         2018      15.3952     70002017.0 2018-02-01   \n",
       "\n",
       "   sold_quantity order_month  ltv_prd_cost first_order_month  \n",
       "0           51.0  2017-09-01      785.1552        2017-09-01  \n",
       "1           54.0  2017-10-01      831.3408        2017-09-01  \n",
       "2           30.0  2017-11-01      461.8560        2017-09-01  \n",
       "3           14.0  2018-01-01      215.5328        2017-09-01  \n",
       "4           62.0  2018-02-01      954.5024        2017-09-01  "
      ]
     },
     "execution_count": 56,
     "metadata": {},
     "output_type": "execute_result"
    }
   ],
   "source": [
    "orders_ = pd.merge(ltv_test,first_orders, on='customer_code')\n",
    "orders_.head()"
   ]
  },
  {
   "cell_type": "code",
   "execution_count": 57,
   "id": "16250cda",
   "metadata": {},
   "outputs": [
    {
     "data": {
      "text/html": [
       "<div>\n",
       "<style scoped>\n",
       "    .dataframe tbody tr th:only-of-type {\n",
       "        vertical-align: middle;\n",
       "    }\n",
       "\n",
       "    .dataframe tbody tr th {\n",
       "        vertical-align: top;\n",
       "    }\n",
       "\n",
       "    .dataframe thead th {\n",
       "        text-align: right;\n",
       "    }\n",
       "</style>\n",
       "<table border=\"1\" class=\"dataframe\">\n",
       "  <thead>\n",
       "    <tr style=\"text-align: right;\">\n",
       "      <th></th>\n",
       "      <th>first_order_month</th>\n",
       "      <th>order_month</th>\n",
       "      <th>gross_price</th>\n",
       "    </tr>\n",
       "  </thead>\n",
       "  <tbody>\n",
       "    <tr>\n",
       "      <th>0</th>\n",
       "      <td>2017-09-01</td>\n",
       "      <td>2017-09-01</td>\n",
       "      <td>52518.6702</td>\n",
       "    </tr>\n",
       "    <tr>\n",
       "      <th>1</th>\n",
       "      <td>2017-09-01</td>\n",
       "      <td>2017-10-01</td>\n",
       "      <td>32103.8854</td>\n",
       "    </tr>\n",
       "    <tr>\n",
       "      <th>2</th>\n",
       "      <td>2017-09-01</td>\n",
       "      <td>2017-11-01</td>\n",
       "      <td>31923.3151</td>\n",
       "    </tr>\n",
       "    <tr>\n",
       "      <th>3</th>\n",
       "      <td>2017-09-01</td>\n",
       "      <td>2017-12-01</td>\n",
       "      <td>31285.1109</td>\n",
       "    </tr>\n",
       "    <tr>\n",
       "      <th>4</th>\n",
       "      <td>2017-09-01</td>\n",
       "      <td>2018-01-01</td>\n",
       "      <td>47198.7376</td>\n",
       "    </tr>\n",
       "  </tbody>\n",
       "</table>\n",
       "</div>"
      ],
      "text/plain": [
       "  first_order_month order_month  gross_price\n",
       "0        2017-09-01  2017-09-01   52518.6702\n",
       "1        2017-09-01  2017-10-01   32103.8854\n",
       "2        2017-09-01  2017-11-01   31923.3151\n",
       "3        2017-09-01  2017-12-01   31285.1109\n",
       "4        2017-09-01  2018-01-01   47198.7376"
      ]
     },
     "execution_count": 57,
     "metadata": {},
     "output_type": "execute_result"
    }
   ],
   "source": [
    "#Now we'll group the table of orders by month of first purchase and month of purchase and sum up the revenue. \n",
    "#We'll set the index to the default using the reset_index() method:\n",
    "\n",
    "cohorts_grp = orders_.groupby(['first_order_month','order_month']).agg({'gross_price': 'sum'}).reset_index()\n",
    "cohorts_grp.head() "
   ]
  },
  {
   "cell_type": "code",
   "execution_count": 58,
   "id": "4e847215",
   "metadata": {},
   "outputs": [
    {
     "data": {
      "text/html": [
       "<div>\n",
       "<style scoped>\n",
       "    .dataframe tbody tr th:only-of-type {\n",
       "        vertical-align: middle;\n",
       "    }\n",
       "\n",
       "    .dataframe tbody tr th {\n",
       "        vertical-align: top;\n",
       "    }\n",
       "\n",
       "    .dataframe thead th {\n",
       "        text-align: right;\n",
       "    }\n",
       "</style>\n",
       "<table border=\"1\" class=\"dataframe\">\n",
       "  <thead>\n",
       "    <tr style=\"text-align: right;\">\n",
       "      <th></th>\n",
       "      <th>first_order_month</th>\n",
       "      <th>n_buyers</th>\n",
       "      <th>order_month</th>\n",
       "      <th>gross_price</th>\n",
       "    </tr>\n",
       "  </thead>\n",
       "  <tbody>\n",
       "    <tr>\n",
       "      <th>0</th>\n",
       "      <td>2017-09-01</td>\n",
       "      <td>84</td>\n",
       "      <td>2017-09-01</td>\n",
       "      <td>52518.6702</td>\n",
       "    </tr>\n",
       "    <tr>\n",
       "      <th>1</th>\n",
       "      <td>2017-09-01</td>\n",
       "      <td>84</td>\n",
       "      <td>2017-10-01</td>\n",
       "      <td>32103.8854</td>\n",
       "    </tr>\n",
       "    <tr>\n",
       "      <th>2</th>\n",
       "      <td>2017-09-01</td>\n",
       "      <td>84</td>\n",
       "      <td>2017-11-01</td>\n",
       "      <td>31923.3151</td>\n",
       "    </tr>\n",
       "    <tr>\n",
       "      <th>3</th>\n",
       "      <td>2017-09-01</td>\n",
       "      <td>84</td>\n",
       "      <td>2017-12-01</td>\n",
       "      <td>31285.1109</td>\n",
       "    </tr>\n",
       "    <tr>\n",
       "      <th>4</th>\n",
       "      <td>2017-09-01</td>\n",
       "      <td>84</td>\n",
       "      <td>2018-01-01</td>\n",
       "      <td>47198.7376</td>\n",
       "    </tr>\n",
       "  </tbody>\n",
       "</table>\n",
       "</div>"
      ],
      "text/plain": [
       "  first_order_month  n_buyers order_month  gross_price\n",
       "0        2017-09-01        84  2017-09-01   52518.6702\n",
       "1        2017-09-01        84  2017-10-01   32103.8854\n",
       "2        2017-09-01        84  2017-11-01   31923.3151\n",
       "3        2017-09-01        84  2017-12-01   31285.1109\n",
       "4        2017-09-01        84  2018-01-01   47198.7376"
      ]
     },
     "execution_count": 58,
     "metadata": {},
     "output_type": "execute_result"
    }
   ],
   "source": [
    "# Let's add data on how many users made their first purchases in each month to the cohorts table:\n",
    "\n",
    "report1 = pd.merge(ltv_cohort_sizes, cohorts_grp, on='first_order_month')\n",
    "report1.head() "
   ]
  },
  {
   "cell_type": "code",
   "execution_count": 59,
   "id": "54bee947",
   "metadata": {},
   "outputs": [
    {
     "data": {
      "text/html": [
       "<div>\n",
       "<style scoped>\n",
       "    .dataframe tbody tr th:only-of-type {\n",
       "        vertical-align: middle;\n",
       "    }\n",
       "\n",
       "    .dataframe tbody tr th {\n",
       "        vertical-align: top;\n",
       "    }\n",
       "\n",
       "    .dataframe thead th {\n",
       "        text-align: right;\n",
       "    }\n",
       "</style>\n",
       "<table border=\"1\" class=\"dataframe\">\n",
       "  <thead>\n",
       "    <tr style=\"text-align: right;\">\n",
       "      <th></th>\n",
       "      <th>first_order_month</th>\n",
       "      <th>n_buyers</th>\n",
       "      <th>order_month</th>\n",
       "      <th>gross_price</th>\n",
       "      <th>age</th>\n",
       "    </tr>\n",
       "  </thead>\n",
       "  <tbody>\n",
       "    <tr>\n",
       "      <th>0</th>\n",
       "      <td>2017-09-01</td>\n",
       "      <td>84</td>\n",
       "      <td>2017-09-01</td>\n",
       "      <td>52518.6702</td>\n",
       "      <td>0</td>\n",
       "    </tr>\n",
       "    <tr>\n",
       "      <th>1</th>\n",
       "      <td>2017-09-01</td>\n",
       "      <td>84</td>\n",
       "      <td>2017-10-01</td>\n",
       "      <td>32103.8854</td>\n",
       "      <td>1</td>\n",
       "    </tr>\n",
       "    <tr>\n",
       "      <th>2</th>\n",
       "      <td>2017-09-01</td>\n",
       "      <td>84</td>\n",
       "      <td>2017-11-01</td>\n",
       "      <td>31923.3151</td>\n",
       "      <td>2</td>\n",
       "    </tr>\n",
       "    <tr>\n",
       "      <th>3</th>\n",
       "      <td>2017-09-01</td>\n",
       "      <td>84</td>\n",
       "      <td>2017-12-01</td>\n",
       "      <td>31285.1109</td>\n",
       "      <td>3</td>\n",
       "    </tr>\n",
       "    <tr>\n",
       "      <th>4</th>\n",
       "      <td>2017-09-01</td>\n",
       "      <td>84</td>\n",
       "      <td>2018-01-01</td>\n",
       "      <td>47198.7376</td>\n",
       "      <td>4</td>\n",
       "    </tr>\n",
       "  </tbody>\n",
       "</table>\n",
       "</div>"
      ],
      "text/plain": [
       "  first_order_month  n_buyers order_month  gross_price  age\n",
       "0        2017-09-01        84  2017-09-01   52518.6702    0\n",
       "1        2017-09-01        84  2017-10-01   32103.8854    1\n",
       "2        2017-09-01        84  2017-11-01   31923.3151    2\n",
       "3        2017-09-01        84  2017-12-01   31285.1109    3\n",
       "4        2017-09-01        84  2018-01-01   47198.7376    4"
      ]
     },
     "execution_count": 59,
     "metadata": {},
     "output_type": "execute_result"
    }
   ],
   "source": [
    "#Now to find cohort age\n",
    "\n",
    "report1['age'] = (report1['order_month'] - report1['first_order_month']) / np.timedelta64(1, 'M')\n",
    "report1['age'] = report1['age'].round().astype('int')\n",
    "\n",
    "report1.head() "
   ]
  },
  {
   "cell_type": "code",
   "execution_count": 60,
   "id": "d48447e0",
   "metadata": {},
   "outputs": [
    {
     "data": {
      "text/html": [
       "<div>\n",
       "<style scoped>\n",
       "    .dataframe tbody tr th:only-of-type {\n",
       "        vertical-align: middle;\n",
       "    }\n",
       "\n",
       "    .dataframe tbody tr th {\n",
       "        vertical-align: top;\n",
       "    }\n",
       "\n",
       "    .dataframe thead th {\n",
       "        text-align: right;\n",
       "    }\n",
       "</style>\n",
       "<table border=\"1\" class=\"dataframe\">\n",
       "  <thead>\n",
       "    <tr style=\"text-align: right;\">\n",
       "      <th></th>\n",
       "      <th>first_order_month</th>\n",
       "      <th>n_buyers</th>\n",
       "      <th>order_month</th>\n",
       "      <th>gross_price</th>\n",
       "      <th>age</th>\n",
       "      <th>ltv</th>\n",
       "    </tr>\n",
       "  </thead>\n",
       "  <tbody>\n",
       "    <tr>\n",
       "      <th>0</th>\n",
       "      <td>2017-09-01</td>\n",
       "      <td>84</td>\n",
       "      <td>2017-09-01</td>\n",
       "      <td>52518.6702</td>\n",
       "      <td>0</td>\n",
       "      <td>625.222264</td>\n",
       "    </tr>\n",
       "    <tr>\n",
       "      <th>1</th>\n",
       "      <td>2017-09-01</td>\n",
       "      <td>84</td>\n",
       "      <td>2017-10-01</td>\n",
       "      <td>32103.8854</td>\n",
       "      <td>1</td>\n",
       "      <td>382.189112</td>\n",
       "    </tr>\n",
       "    <tr>\n",
       "      <th>2</th>\n",
       "      <td>2017-09-01</td>\n",
       "      <td>84</td>\n",
       "      <td>2017-11-01</td>\n",
       "      <td>31923.3151</td>\n",
       "      <td>2</td>\n",
       "      <td>380.039465</td>\n",
       "    </tr>\n",
       "    <tr>\n",
       "      <th>3</th>\n",
       "      <td>2017-09-01</td>\n",
       "      <td>84</td>\n",
       "      <td>2017-12-01</td>\n",
       "      <td>31285.1109</td>\n",
       "      <td>3</td>\n",
       "      <td>372.441796</td>\n",
       "    </tr>\n",
       "    <tr>\n",
       "      <th>4</th>\n",
       "      <td>2017-09-01</td>\n",
       "      <td>84</td>\n",
       "      <td>2018-01-01</td>\n",
       "      <td>47198.7376</td>\n",
       "      <td>4</td>\n",
       "      <td>561.889733</td>\n",
       "    </tr>\n",
       "  </tbody>\n",
       "</table>\n",
       "</div>"
      ],
      "text/plain": [
       "  first_order_month  n_buyers order_month  gross_price  age         ltv\n",
       "0        2017-09-01        84  2017-09-01   52518.6702    0  625.222264\n",
       "1        2017-09-01        84  2017-10-01   32103.8854    1  382.189112\n",
       "2        2017-09-01        84  2017-11-01   31923.3151    2  380.039465\n",
       "3        2017-09-01        84  2017-12-01   31285.1109    3  372.441796\n",
       "4        2017-09-01        84  2018-01-01   47198.7376    4  561.889733"
      ]
     },
     "execution_count": 60,
     "metadata": {},
     "output_type": "execute_result"
    }
   ],
   "source": [
    "#determine LTV\n",
    "report1['ltv'] = report1['gross_price'] / report1['n_buyers']\n",
    "\n",
    "report1.head()"
   ]
  },
  {
   "cell_type": "code",
   "execution_count": 61,
   "id": "4a070b85",
   "metadata": {},
   "outputs": [
    {
     "data": {
      "text/html": [
       "<div>\n",
       "<style scoped>\n",
       "    .dataframe tbody tr th:only-of-type {\n",
       "        vertical-align: middle;\n",
       "    }\n",
       "\n",
       "    .dataframe tbody tr th {\n",
       "        vertical-align: top;\n",
       "    }\n",
       "\n",
       "    .dataframe thead th {\n",
       "        text-align: right;\n",
       "    }\n",
       "</style>\n",
       "<table border=\"1\" class=\"dataframe\">\n",
       "  <thead>\n",
       "    <tr style=\"text-align: right;\">\n",
       "      <th>age</th>\n",
       "      <th>0</th>\n",
       "      <th>1</th>\n",
       "      <th>2</th>\n",
       "      <th>3</th>\n",
       "      <th>4</th>\n",
       "      <th>5</th>\n",
       "      <th>6</th>\n",
       "      <th>7</th>\n",
       "      <th>8</th>\n",
       "      <th>9</th>\n",
       "      <th>...</th>\n",
       "      <th>42</th>\n",
       "      <th>43</th>\n",
       "      <th>44</th>\n",
       "      <th>45</th>\n",
       "      <th>46</th>\n",
       "      <th>47</th>\n",
       "      <th>48</th>\n",
       "      <th>49</th>\n",
       "      <th>50</th>\n",
       "      <th>51</th>\n",
       "    </tr>\n",
       "    <tr>\n",
       "      <th>first_order_month</th>\n",
       "      <th></th>\n",
       "      <th></th>\n",
       "      <th></th>\n",
       "      <th></th>\n",
       "      <th></th>\n",
       "      <th></th>\n",
       "      <th></th>\n",
       "      <th></th>\n",
       "      <th></th>\n",
       "      <th></th>\n",
       "      <th></th>\n",
       "      <th></th>\n",
       "      <th></th>\n",
       "      <th></th>\n",
       "      <th></th>\n",
       "      <th></th>\n",
       "      <th></th>\n",
       "      <th></th>\n",
       "      <th></th>\n",
       "      <th></th>\n",
       "      <th></th>\n",
       "    </tr>\n",
       "  </thead>\n",
       "  <tbody>\n",
       "    <tr>\n",
       "      <th>2017-09-01</th>\n",
       "      <td>625.222264</td>\n",
       "      <td>1007.411376</td>\n",
       "      <td>1387.450842</td>\n",
       "      <td>1759.892638</td>\n",
       "      <td>2321.782371</td>\n",
       "      <td>2701.812764</td>\n",
       "      <td>3073.357038</td>\n",
       "      <td>3437.276973</td>\n",
       "      <td>3997.361754</td>\n",
       "      <td>4373.111158</td>\n",
       "      <td>...</td>\n",
       "      <td>25023.820323</td>\n",
       "      <td>25608.416632</td>\n",
       "      <td>26501.254632</td>\n",
       "      <td>27107.108989</td>\n",
       "      <td>27702.334323</td>\n",
       "      <td>28286.930632</td>\n",
       "      <td>29035.183432</td>\n",
       "      <td>29542.926404</td>\n",
       "      <td>30041.761604</td>\n",
       "      <td>30531.689032</td>\n",
       "    </tr>\n",
       "    <tr>\n",
       "      <th>2017-10-01</th>\n",
       "      <td>636.434836</td>\n",
       "      <td>1270.019072</td>\n",
       "      <td>1910.426572</td>\n",
       "      <td></td>\n",
       "      <td>2522.460552</td>\n",
       "      <td>3151.181972</td>\n",
       "      <td>3785.899144</td>\n",
       "      <td></td>\n",
       "      <td>4406.259920</td>\n",
       "      <td>5030.942336</td>\n",
       "      <td>...</td>\n",
       "      <td>26073.632272</td>\n",
       "      <td></td>\n",
       "      <td>26966.470272</td>\n",
       "      <td>27859.308272</td>\n",
       "      <td>28752.146272</td>\n",
       "      <td></td>\n",
       "      <td>29500.399072</td>\n",
       "      <td>30248.651872</td>\n",
       "      <td>30996.904672</td>\n",
       "      <td></td>\n",
       "    </tr>\n",
       "    <tr>\n",
       "      <th>2018-09-01</th>\n",
       "      <td>786.807625</td>\n",
       "      <td>1297.223469</td>\n",
       "      <td>1833.372086</td>\n",
       "      <td>2394.818481</td>\n",
       "      <td>3182.028994</td>\n",
       "      <td>3687.998342</td>\n",
       "      <td>4208.185681</td>\n",
       "      <td>4761.344356</td>\n",
       "      <td>5539.294544</td>\n",
       "      <td>6006.110403</td>\n",
       "      <td>...</td>\n",
       "      <td></td>\n",
       "      <td></td>\n",
       "      <td></td>\n",
       "      <td></td>\n",
       "      <td></td>\n",
       "      <td></td>\n",
       "      <td></td>\n",
       "      <td></td>\n",
       "      <td></td>\n",
       "      <td></td>\n",
       "    </tr>\n",
       "    <tr>\n",
       "      <th>2018-10-01</th>\n",
       "      <td>779.475867</td>\n",
       "      <td>1592.748233</td>\n",
       "      <td>2385.531193</td>\n",
       "      <td></td>\n",
       "      <td>3171.278320</td>\n",
       "      <td>3951.927113</td>\n",
       "      <td>4708.610220</td>\n",
       "      <td></td>\n",
       "      <td>5458.215520</td>\n",
       "      <td>6142.792880</td>\n",
       "      <td>...</td>\n",
       "      <td></td>\n",
       "      <td></td>\n",
       "      <td></td>\n",
       "      <td></td>\n",
       "      <td></td>\n",
       "      <td></td>\n",
       "      <td></td>\n",
       "      <td></td>\n",
       "      <td></td>\n",
       "      <td></td>\n",
       "    </tr>\n",
       "    <tr>\n",
       "      <th>2019-09-01</th>\n",
       "      <td>820.936919</td>\n",
       "      <td>1385.120930</td>\n",
       "      <td>1962.653049</td>\n",
       "      <td>2508.897714</td>\n",
       "      <td>3346.625257</td>\n",
       "      <td>3913.316359</td>\n",
       "      <td>4237.747978</td>\n",
       "      <td>4658.828041</td>\n",
       "      <td>5309.628889</td>\n",
       "      <td>5770.779073</td>\n",
       "      <td>...</td>\n",
       "      <td></td>\n",
       "      <td></td>\n",
       "      <td></td>\n",
       "      <td></td>\n",
       "      <td></td>\n",
       "      <td></td>\n",
       "      <td></td>\n",
       "      <td></td>\n",
       "      <td></td>\n",
       "      <td></td>\n",
       "    </tr>\n",
       "    <tr>\n",
       "      <th>2019-10-01</th>\n",
       "      <td>853.185017</td>\n",
       "      <td>1698.387417</td>\n",
       "      <td>2543.413500</td>\n",
       "      <td></td>\n",
       "      <td>3369.577867</td>\n",
       "      <td>3842.919267</td>\n",
       "      <td>4523.352867</td>\n",
       "      <td></td>\n",
       "      <td>5302.863125</td>\n",
       "      <td>6128.018150</td>\n",
       "      <td>...</td>\n",
       "      <td></td>\n",
       "      <td></td>\n",
       "      <td></td>\n",
       "      <td></td>\n",
       "      <td></td>\n",
       "      <td></td>\n",
       "      <td></td>\n",
       "      <td></td>\n",
       "      <td></td>\n",
       "      <td></td>\n",
       "    </tr>\n",
       "  </tbody>\n",
       "</table>\n",
       "<p>6 rows × 52 columns</p>\n",
       "</div>"
      ],
      "text/plain": [
       "age                        0            1            2            3   \\\n",
       "first_order_month                                                      \n",
       "2017-09-01         625.222264  1007.411376  1387.450842  1759.892638   \n",
       "2017-10-01         636.434836  1270.019072  1910.426572                \n",
       "2018-09-01         786.807625  1297.223469  1833.372086  2394.818481   \n",
       "2018-10-01         779.475867  1592.748233  2385.531193                \n",
       "2019-09-01         820.936919  1385.120930  1962.653049  2508.897714   \n",
       "2019-10-01         853.185017  1698.387417  2543.413500                \n",
       "\n",
       "age                         4            5            6            7   \\\n",
       "first_order_month                                                       \n",
       "2017-09-01         2321.782371  2701.812764  3073.357038  3437.276973   \n",
       "2017-10-01         2522.460552  3151.181972  3785.899144                \n",
       "2018-09-01         3182.028994  3687.998342  4208.185681  4761.344356   \n",
       "2018-10-01         3171.278320  3951.927113  4708.610220                \n",
       "2019-09-01         3346.625257  3913.316359  4237.747978  4658.828041   \n",
       "2019-10-01         3369.577867  3842.919267  4523.352867                \n",
       "\n",
       "age                         8            9   ...            42            43  \\\n",
       "first_order_month                            ...                               \n",
       "2017-09-01         3997.361754  4373.111158  ...  25023.820323  25608.416632   \n",
       "2017-10-01         4406.259920  5030.942336  ...  26073.632272                 \n",
       "2018-09-01         5539.294544  6006.110403  ...                               \n",
       "2018-10-01         5458.215520  6142.792880  ...                               \n",
       "2019-09-01         5309.628889  5770.779073  ...                               \n",
       "2019-10-01         5302.863125  6128.018150  ...                               \n",
       "\n",
       "age                          44            45            46            47  \\\n",
       "first_order_month                                                           \n",
       "2017-09-01         26501.254632  27107.108989  27702.334323  28286.930632   \n",
       "2017-10-01         26966.470272  27859.308272  28752.146272                 \n",
       "2018-09-01                                                                  \n",
       "2018-10-01                                                                  \n",
       "2019-09-01                                                                  \n",
       "2019-10-01                                                                  \n",
       "\n",
       "age                          48            49            50            51  \n",
       "first_order_month                                                          \n",
       "2017-09-01         29035.183432  29542.926404  30041.761604  30531.689032  \n",
       "2017-10-01         29500.399072  30248.651872  30996.904672                \n",
       "2018-09-01                                                                 \n",
       "2018-10-01                                                                 \n",
       "2019-09-01                                                                 \n",
       "2019-10-01                                                                 \n",
       "\n",
       "[6 rows x 52 columns]"
      ]
     },
     "execution_count": 61,
     "metadata": {},
     "output_type": "execute_result"
    }
   ],
   "source": [
    "report1_piv=report1.pivot_table(\n",
    "    index='first_order_month', \n",
    "    columns='age', \n",
    "    values='ltv', \n",
    "    aggfunc='sum'\n",
    ").cumsum(axis=1)# cumulative value\n",
    "\n",
    "report1_piv.fillna('')\n"
   ]
  },
  {
   "cell_type": "markdown",
   "id": "f9fa19c4",
   "metadata": {},
   "source": [
    "<font size=\"3\"> There is a longer customer lifetime of over 5 years which is why the cohort age goes to 52 (a little over 5 years); first_order_month goes all the way back to 2017 for some customers.  We will work with the data some more to see if give a better reflection of LTV.  As the data is now, the graph will be unreadable but we have tied other data to the above so table will remain in place."
   ]
  },
  {
   "cell_type": "code",
   "execution_count": 62,
   "id": "a09a5d98",
   "metadata": {},
   "outputs": [
    {
     "data": {
      "text/html": [
       "<div>\n",
       "<style scoped>\n",
       "    .dataframe tbody tr th:only-of-type {\n",
       "        vertical-align: middle;\n",
       "    }\n",
       "\n",
       "    .dataframe tbody tr th {\n",
       "        vertical-align: top;\n",
       "    }\n",
       "\n",
       "    .dataframe thead th {\n",
       "        text-align: right;\n",
       "    }\n",
       "</style>\n",
       "<table border=\"1\" class=\"dataframe\">\n",
       "  <thead>\n",
       "    <tr style=\"text-align: right;\">\n",
       "      <th></th>\n",
       "      <th>product_code</th>\n",
       "      <th>fiscal_year</th>\n",
       "      <th>gross_price</th>\n",
       "      <th>customer_code</th>\n",
       "      <th>date</th>\n",
       "      <th>sold_quantity</th>\n",
       "      <th>order_month</th>\n",
       "      <th>ltv_prd_cost</th>\n",
       "      <th>first_order_month</th>\n",
       "    </tr>\n",
       "  </thead>\n",
       "  <tbody>\n",
       "    <tr>\n",
       "      <th>0</th>\n",
       "      <td>A0118150101</td>\n",
       "      <td>2018</td>\n",
       "      <td>15.3952</td>\n",
       "      <td>70002017.0</td>\n",
       "      <td>2017-09-01</td>\n",
       "      <td>51.0</td>\n",
       "      <td>2017-09-01</td>\n",
       "      <td>785.1552</td>\n",
       "      <td>2017-09-01</td>\n",
       "    </tr>\n",
       "    <tr>\n",
       "      <th>1</th>\n",
       "      <td>A0118150101</td>\n",
       "      <td>2018</td>\n",
       "      <td>15.3952</td>\n",
       "      <td>70002017.0</td>\n",
       "      <td>2017-10-01</td>\n",
       "      <td>54.0</td>\n",
       "      <td>2017-10-01</td>\n",
       "      <td>831.3408</td>\n",
       "      <td>2017-09-01</td>\n",
       "    </tr>\n",
       "    <tr>\n",
       "      <th>2</th>\n",
       "      <td>A0118150101</td>\n",
       "      <td>2018</td>\n",
       "      <td>15.3952</td>\n",
       "      <td>70002017.0</td>\n",
       "      <td>2017-11-01</td>\n",
       "      <td>30.0</td>\n",
       "      <td>2017-11-01</td>\n",
       "      <td>461.8560</td>\n",
       "      <td>2017-09-01</td>\n",
       "    </tr>\n",
       "    <tr>\n",
       "      <th>3</th>\n",
       "      <td>A0118150101</td>\n",
       "      <td>2018</td>\n",
       "      <td>15.3952</td>\n",
       "      <td>70002017.0</td>\n",
       "      <td>2018-01-01</td>\n",
       "      <td>14.0</td>\n",
       "      <td>2018-01-01</td>\n",
       "      <td>215.5328</td>\n",
       "      <td>2017-09-01</td>\n",
       "    </tr>\n",
       "    <tr>\n",
       "      <th>4</th>\n",
       "      <td>A0118150101</td>\n",
       "      <td>2018</td>\n",
       "      <td>15.3952</td>\n",
       "      <td>70002017.0</td>\n",
       "      <td>2018-02-01</td>\n",
       "      <td>62.0</td>\n",
       "      <td>2018-02-01</td>\n",
       "      <td>954.5024</td>\n",
       "      <td>2017-09-01</td>\n",
       "    </tr>\n",
       "    <tr>\n",
       "      <th>...</th>\n",
       "      <td>...</td>\n",
       "      <td>...</td>\n",
       "      <td>...</td>\n",
       "      <td>...</td>\n",
       "      <td>...</td>\n",
       "      <td>...</td>\n",
       "      <td>...</td>\n",
       "      <td>...</td>\n",
       "      <td>...</td>\n",
       "    </tr>\n",
       "    <tr>\n",
       "      <th>264039</th>\n",
       "      <td>A0418150103</td>\n",
       "      <td>2022</td>\n",
       "      <td>21.0913</td>\n",
       "      <td>90020102.0</td>\n",
       "      <td>2021-06-01</td>\n",
       "      <td>4.0</td>\n",
       "      <td>2021-06-01</td>\n",
       "      <td>84.3652</td>\n",
       "      <td>2019-09-01</td>\n",
       "    </tr>\n",
       "    <tr>\n",
       "      <th>264040</th>\n",
       "      <td>A0418150103</td>\n",
       "      <td>2022</td>\n",
       "      <td>21.0913</td>\n",
       "      <td>90020102.0</td>\n",
       "      <td>2021-08-01</td>\n",
       "      <td>7.0</td>\n",
       "      <td>2021-08-01</td>\n",
       "      <td>147.6391</td>\n",
       "      <td>2019-09-01</td>\n",
       "    </tr>\n",
       "    <tr>\n",
       "      <th>264041</th>\n",
       "      <td>A0418150103</td>\n",
       "      <td>2022</td>\n",
       "      <td>21.0913</td>\n",
       "      <td>90020102.0</td>\n",
       "      <td>2021-09-01</td>\n",
       "      <td>17.0</td>\n",
       "      <td>2021-09-01</td>\n",
       "      <td>358.5521</td>\n",
       "      <td>2019-09-01</td>\n",
       "    </tr>\n",
       "    <tr>\n",
       "      <th>264042</th>\n",
       "      <td>A0418150103</td>\n",
       "      <td>2022</td>\n",
       "      <td>21.0913</td>\n",
       "      <td>90020102.0</td>\n",
       "      <td>2021-10-01</td>\n",
       "      <td>33.0</td>\n",
       "      <td>2021-10-01</td>\n",
       "      <td>696.0129</td>\n",
       "      <td>2019-09-01</td>\n",
       "    </tr>\n",
       "    <tr>\n",
       "      <th>264043</th>\n",
       "      <td>A0418150103</td>\n",
       "      <td>2022</td>\n",
       "      <td>21.0913</td>\n",
       "      <td>90020102.0</td>\n",
       "      <td>2021-12-01</td>\n",
       "      <td>77.0</td>\n",
       "      <td>2021-12-01</td>\n",
       "      <td>1624.0301</td>\n",
       "      <td>2019-09-01</td>\n",
       "    </tr>\n",
       "  </tbody>\n",
       "</table>\n",
       "<p>264044 rows × 9 columns</p>\n",
       "</div>"
      ],
      "text/plain": [
       "       product_code  fiscal_year  gross_price  customer_code       date  \\\n",
       "0       A0118150101         2018      15.3952     70002017.0 2017-09-01   \n",
       "1       A0118150101         2018      15.3952     70002017.0 2017-10-01   \n",
       "2       A0118150101         2018      15.3952     70002017.0 2017-11-01   \n",
       "3       A0118150101         2018      15.3952     70002017.0 2018-01-01   \n",
       "4       A0118150101         2018      15.3952     70002017.0 2018-02-01   \n",
       "...             ...          ...          ...            ...        ...   \n",
       "264039  A0418150103         2022      21.0913     90020102.0 2021-06-01   \n",
       "264040  A0418150103         2022      21.0913     90020102.0 2021-08-01   \n",
       "264041  A0418150103         2022      21.0913     90020102.0 2021-09-01   \n",
       "264042  A0418150103         2022      21.0913     90020102.0 2021-10-01   \n",
       "264043  A0418150103         2022      21.0913     90020102.0 2021-12-01   \n",
       "\n",
       "        sold_quantity order_month  ltv_prd_cost first_order_month  \n",
       "0                51.0  2017-09-01      785.1552        2017-09-01  \n",
       "1                54.0  2017-10-01      831.3408        2017-09-01  \n",
       "2                30.0  2017-11-01      461.8560        2017-09-01  \n",
       "3                14.0  2018-01-01      215.5328        2017-09-01  \n",
       "4                62.0  2018-02-01      954.5024        2017-09-01  \n",
       "...               ...         ...           ...               ...  \n",
       "264039            4.0  2021-06-01       84.3652        2019-09-01  \n",
       "264040            7.0  2021-08-01      147.6391        2019-09-01  \n",
       "264041           17.0  2021-09-01      358.5521        2019-09-01  \n",
       "264042           33.0  2021-10-01      696.0129        2019-09-01  \n",
       "264043           77.0  2021-12-01     1624.0301        2019-09-01  \n",
       "\n",
       "[264044 rows x 9 columns]"
      ]
     },
     "execution_count": 62,
     "metadata": {},
     "output_type": "execute_result"
    }
   ],
   "source": [
    "orders_"
   ]
  },
  {
   "cell_type": "code",
   "execution_count": 63,
   "id": "d70a221a",
   "metadata": {},
   "outputs": [
    {
     "data": {
      "text/plain": [
       "product_code         0\n",
       "fiscal_year          0\n",
       "gross_price          0\n",
       "customer_code        0\n",
       "date                 0\n",
       "sold_quantity        0\n",
       "order_month          0\n",
       "ltv_prd_cost         0\n",
       "first_order_month    0\n",
       "dtype: int64"
      ]
     },
     "execution_count": 63,
     "metadata": {},
     "output_type": "execute_result"
    }
   ],
   "source": [
    "orders_.isnull().sum()"
   ]
  },
  {
   "cell_type": "code",
   "execution_count": 64,
   "id": "7bfbd8ae",
   "metadata": {},
   "outputs": [
    {
     "data": {
      "text/html": [
       "<div>\n",
       "<style scoped>\n",
       "    .dataframe tbody tr th:only-of-type {\n",
       "        vertical-align: middle;\n",
       "    }\n",
       "\n",
       "    .dataframe tbody tr th {\n",
       "        vertical-align: top;\n",
       "    }\n",
       "\n",
       "    .dataframe thead th {\n",
       "        text-align: right;\n",
       "    }\n",
       "</style>\n",
       "<table border=\"1\" class=\"dataframe\">\n",
       "  <thead>\n",
       "    <tr style=\"text-align: right;\">\n",
       "      <th></th>\n",
       "      <th>customer_code</th>\n",
       "      <th>customer</th>\n",
       "      <th>platform</th>\n",
       "      <th>channel</th>\n",
       "      <th>market</th>\n",
       "      <th>sub_zone</th>\n",
       "      <th>region</th>\n",
       "    </tr>\n",
       "  </thead>\n",
       "  <tbody>\n",
       "    <tr>\n",
       "      <th>0</th>\n",
       "      <td>70002017</td>\n",
       "      <td>Atliq Exclusive</td>\n",
       "      <td>Brick &amp; Mortar</td>\n",
       "      <td>Direct</td>\n",
       "      <td>India</td>\n",
       "      <td>India</td>\n",
       "      <td>APAC</td>\n",
       "    </tr>\n",
       "    <tr>\n",
       "      <th>1</th>\n",
       "      <td>70002018</td>\n",
       "      <td>Atliq e Store</td>\n",
       "      <td>E-Commerce</td>\n",
       "      <td>Direct</td>\n",
       "      <td>India</td>\n",
       "      <td>India</td>\n",
       "      <td>APAC</td>\n",
       "    </tr>\n",
       "  </tbody>\n",
       "</table>\n",
       "</div>"
      ],
      "text/plain": [
       "   customer_code         customer        platform channel market sub_zone  \\\n",
       "0       70002017  Atliq Exclusive  Brick & Mortar  Direct  India    India   \n",
       "1       70002018    Atliq e Store      E-Commerce  Direct  India    India   \n",
       "\n",
       "  region  \n",
       "0   APAC  \n",
       "1   APAC  "
      ]
     },
     "execution_count": 64,
     "metadata": {},
     "output_type": "execute_result"
    }
   ],
   "source": [
    "dim_customer.head(2)"
   ]
  },
  {
   "cell_type": "code",
   "execution_count": 65,
   "id": "de54791e",
   "metadata": {},
   "outputs": [
    {
     "name": "stdout",
     "output_type": "stream",
     "text": [
      "<class 'pandas.core.frame.DataFrame'>\n",
      "Int64Index: 264044 entries, 0 to 264043\n",
      "Data columns (total 13 columns):\n",
      " #   Column             Non-Null Count   Dtype         \n",
      "---  ------             --------------   -----         \n",
      " 0   product_code       264044 non-null  object        \n",
      " 1   fiscal_year        264044 non-null  int64         \n",
      " 2   gross_price        264044 non-null  float64       \n",
      " 3   customer_code      264044 non-null  float64       \n",
      " 4   date               264044 non-null  datetime64[ns]\n",
      " 5   sold_quantity      264044 non-null  float64       \n",
      " 6   order_month        264044 non-null  datetime64[ns]\n",
      " 7   ltv_prd_cost       264044 non-null  float64       \n",
      " 8   first_order_month  264044 non-null  datetime64[ns]\n",
      " 9   customer           264044 non-null  object        \n",
      " 10  platform           264044 non-null  object        \n",
      " 11  market             264044 non-null  object        \n",
      " 12  region             264044 non-null  object        \n",
      "dtypes: datetime64[ns](3), float64(4), int64(1), object(5)\n",
      "memory usage: 28.2+ MB\n"
     ]
    }
   ],
   "source": [
    "# Perform a left join on customer_id to add customer_name to df1\n",
    "orders_named = orders_.merge(dim_customer[['customer_code', 'customer', 'platform', 'market', 'region']], on='customer_code', how='left')\n",
    "orders_named.info()"
   ]
  },
  {
   "cell_type": "code",
   "execution_count": 66,
   "id": "57afeb69",
   "metadata": {},
   "outputs": [
    {
     "data": {
      "text/html": [
       "<div>\n",
       "<style scoped>\n",
       "    .dataframe tbody tr th:only-of-type {\n",
       "        vertical-align: middle;\n",
       "    }\n",
       "\n",
       "    .dataframe tbody tr th {\n",
       "        vertical-align: top;\n",
       "    }\n",
       "\n",
       "    .dataframe thead th {\n",
       "        text-align: right;\n",
       "    }\n",
       "</style>\n",
       "<table border=\"1\" class=\"dataframe\">\n",
       "  <thead>\n",
       "    <tr style=\"text-align: right;\">\n",
       "      <th></th>\n",
       "      <th>product_code</th>\n",
       "      <th>fiscal_year</th>\n",
       "      <th>gross_price</th>\n",
       "      <th>customer_code</th>\n",
       "      <th>date</th>\n",
       "      <th>sold_quantity</th>\n",
       "      <th>order_month</th>\n",
       "      <th>ltv_prd_cost</th>\n",
       "      <th>first_order_month</th>\n",
       "      <th>customer</th>\n",
       "      <th>platform</th>\n",
       "      <th>market</th>\n",
       "      <th>region</th>\n",
       "    </tr>\n",
       "  </thead>\n",
       "  <tbody>\n",
       "    <tr>\n",
       "      <th>0</th>\n",
       "      <td>A0118150101</td>\n",
       "      <td>2018</td>\n",
       "      <td>15.3952</td>\n",
       "      <td>70002017.0</td>\n",
       "      <td>2017-09-01</td>\n",
       "      <td>51.0</td>\n",
       "      <td>2017-09-01</td>\n",
       "      <td>785.1552</td>\n",
       "      <td>2017-09-01</td>\n",
       "      <td>Atliq Exclusive</td>\n",
       "      <td>Brick &amp; Mortar</td>\n",
       "      <td>India</td>\n",
       "      <td>APAC</td>\n",
       "    </tr>\n",
       "    <tr>\n",
       "      <th>1</th>\n",
       "      <td>A0118150101</td>\n",
       "      <td>2018</td>\n",
       "      <td>15.3952</td>\n",
       "      <td>70002017.0</td>\n",
       "      <td>2017-10-01</td>\n",
       "      <td>54.0</td>\n",
       "      <td>2017-10-01</td>\n",
       "      <td>831.3408</td>\n",
       "      <td>2017-09-01</td>\n",
       "      <td>Atliq Exclusive</td>\n",
       "      <td>Brick &amp; Mortar</td>\n",
       "      <td>India</td>\n",
       "      <td>APAC</td>\n",
       "    </tr>\n",
       "    <tr>\n",
       "      <th>2</th>\n",
       "      <td>A0118150101</td>\n",
       "      <td>2018</td>\n",
       "      <td>15.3952</td>\n",
       "      <td>70002017.0</td>\n",
       "      <td>2017-11-01</td>\n",
       "      <td>30.0</td>\n",
       "      <td>2017-11-01</td>\n",
       "      <td>461.8560</td>\n",
       "      <td>2017-09-01</td>\n",
       "      <td>Atliq Exclusive</td>\n",
       "      <td>Brick &amp; Mortar</td>\n",
       "      <td>India</td>\n",
       "      <td>APAC</td>\n",
       "    </tr>\n",
       "    <tr>\n",
       "      <th>3</th>\n",
       "      <td>A0118150101</td>\n",
       "      <td>2018</td>\n",
       "      <td>15.3952</td>\n",
       "      <td>70002017.0</td>\n",
       "      <td>2018-01-01</td>\n",
       "      <td>14.0</td>\n",
       "      <td>2018-01-01</td>\n",
       "      <td>215.5328</td>\n",
       "      <td>2017-09-01</td>\n",
       "      <td>Atliq Exclusive</td>\n",
       "      <td>Brick &amp; Mortar</td>\n",
       "      <td>India</td>\n",
       "      <td>APAC</td>\n",
       "    </tr>\n",
       "    <tr>\n",
       "      <th>4</th>\n",
       "      <td>A0118150101</td>\n",
       "      <td>2018</td>\n",
       "      <td>15.3952</td>\n",
       "      <td>70002017.0</td>\n",
       "      <td>2018-02-01</td>\n",
       "      <td>62.0</td>\n",
       "      <td>2018-02-01</td>\n",
       "      <td>954.5024</td>\n",
       "      <td>2017-09-01</td>\n",
       "      <td>Atliq Exclusive</td>\n",
       "      <td>Brick &amp; Mortar</td>\n",
       "      <td>India</td>\n",
       "      <td>APAC</td>\n",
       "    </tr>\n",
       "  </tbody>\n",
       "</table>\n",
       "</div>"
      ],
      "text/plain": [
       "  product_code  fiscal_year  gross_price  customer_code       date  \\\n",
       "0  A0118150101         2018      15.3952     70002017.0 2017-09-01   \n",
       "1  A0118150101         2018      15.3952     70002017.0 2017-10-01   \n",
       "2  A0118150101         2018      15.3952     70002017.0 2017-11-01   \n",
       "3  A0118150101         2018      15.3952     70002017.0 2018-01-01   \n",
       "4  A0118150101         2018      15.3952     70002017.0 2018-02-01   \n",
       "\n",
       "   sold_quantity order_month  ltv_prd_cost first_order_month         customer  \\\n",
       "0           51.0  2017-09-01      785.1552        2017-09-01  Atliq Exclusive   \n",
       "1           54.0  2017-10-01      831.3408        2017-09-01  Atliq Exclusive   \n",
       "2           30.0  2017-11-01      461.8560        2017-09-01  Atliq Exclusive   \n",
       "3           14.0  2018-01-01      215.5328        2017-09-01  Atliq Exclusive   \n",
       "4           62.0  2018-02-01      954.5024        2017-09-01  Atliq Exclusive   \n",
       "\n",
       "         platform market region  \n",
       "0  Brick & Mortar  India   APAC  \n",
       "1  Brick & Mortar  India   APAC  \n",
       "2  Brick & Mortar  India   APAC  \n",
       "3  Brick & Mortar  India   APAC  \n",
       "4  Brick & Mortar  India   APAC  "
      ]
     },
     "execution_count": 66,
     "metadata": {},
     "output_type": "execute_result"
    }
   ],
   "source": [
    "orders_named.head()"
   ]
  },
  {
   "cell_type": "code",
   "execution_count": 67,
   "id": "b5fff829",
   "metadata": {},
   "outputs": [],
   "source": [
    "#orders_named.to_csv('atliq_cust_orders.csv', index=False) *Inactive code used to download dataframe.  Can make active to\n",
    "#re-download df if needed."
   ]
  },
  {
   "cell_type": "markdown",
   "id": "1567ed03",
   "metadata": {},
   "source": [
    "## Cohort Analysis - Customer Retention?\n"
   ]
  },
  {
   "cell_type": "markdown",
   "id": "7b839ec7",
   "metadata": {},
   "source": [
    "<font size= \"3\"> Now to work with the transformed data to see what we can get customer retention wise."
   ]
  },
  {
   "cell_type": "code",
   "execution_count": 68,
   "id": "1dd5536a",
   "metadata": {},
   "outputs": [
    {
     "name": "stdout",
     "output_type": "stream",
     "text": [
      "<class 'pandas.core.frame.DataFrame'>\n",
      "Int64Index: 264044 entries, 0 to 264043\n",
      "Data columns (total 2 columns):\n",
      " #   Column         Non-Null Count   Dtype         \n",
      "---  ------         --------------   -----         \n",
      " 0   customer_code  264044 non-null  float64       \n",
      " 1   date           264044 non-null  datetime64[ns]\n",
      "dtypes: datetime64[ns](1), float64(1)\n",
      "memory usage: 6.0 MB\n"
     ]
    }
   ],
   "source": [
    "ca2 = orders_named[['customer_code', 'date']]\n",
    "ca2.info()"
   ]
  },
  {
   "cell_type": "code",
   "execution_count": 69,
   "id": "55587e53",
   "metadata": {},
   "outputs": [
    {
     "data": {
      "text/html": [
       "<div>\n",
       "<style scoped>\n",
       "    .dataframe tbody tr th:only-of-type {\n",
       "        vertical-align: middle;\n",
       "    }\n",
       "\n",
       "    .dataframe tbody tr th {\n",
       "        vertical-align: top;\n",
       "    }\n",
       "\n",
       "    .dataframe thead th {\n",
       "        text-align: right;\n",
       "    }\n",
       "</style>\n",
       "<table border=\"1\" class=\"dataframe\">\n",
       "  <thead>\n",
       "    <tr style=\"text-align: right;\">\n",
       "      <th></th>\n",
       "      <th>customer_code</th>\n",
       "      <th>date</th>\n",
       "    </tr>\n",
       "  </thead>\n",
       "  <tbody>\n",
       "    <tr>\n",
       "      <th>30</th>\n",
       "      <td>70002017.0</td>\n",
       "      <td>2021-01-01</td>\n",
       "    </tr>\n",
       "    <tr>\n",
       "      <th>31</th>\n",
       "      <td>70002017.0</td>\n",
       "      <td>2021-02-01</td>\n",
       "    </tr>\n",
       "    <tr>\n",
       "      <th>32</th>\n",
       "      <td>70002017.0</td>\n",
       "      <td>2021-03-01</td>\n",
       "    </tr>\n",
       "    <tr>\n",
       "      <th>33</th>\n",
       "      <td>70002017.0</td>\n",
       "      <td>2021-05-01</td>\n",
       "    </tr>\n",
       "    <tr>\n",
       "      <th>34</th>\n",
       "      <td>70002017.0</td>\n",
       "      <td>2021-06-01</td>\n",
       "    </tr>\n",
       "  </tbody>\n",
       "</table>\n",
       "</div>"
      ],
      "text/plain": [
       "    customer_code       date\n",
       "30     70002017.0 2021-01-01\n",
       "31     70002017.0 2021-02-01\n",
       "32     70002017.0 2021-03-01\n",
       "33     70002017.0 2021-05-01\n",
       "34     70002017.0 2021-06-01"
      ]
     },
     "execution_count": 69,
     "metadata": {},
     "output_type": "execute_result"
    }
   ],
   "source": [
    "# Specify the year you want to filter the data by\n",
    "target_year = 2021\n",
    "\n",
    "# Filter the DataFrame to show records only from the target year\n",
    "filtered_ca = ca2[ca2['date'].dt.year == target_year]\n",
    "\n",
    "# Print the filtered DataFrame\n",
    "filtered_ca.head()"
   ]
  },
  {
   "cell_type": "code",
   "execution_count": 70,
   "id": "a025feff",
   "metadata": {},
   "outputs": [],
   "source": [
    "fil_ca_ret = filtered_ca.copy()#copying to get untethered table. "
   ]
  },
  {
   "cell_type": "code",
   "execution_count": 71,
   "id": "566fb3a4",
   "metadata": {},
   "outputs": [
    {
     "data": {
      "text/html": [
       "<div>\n",
       "<style scoped>\n",
       "    .dataframe tbody tr th:only-of-type {\n",
       "        vertical-align: middle;\n",
       "    }\n",
       "\n",
       "    .dataframe tbody tr th {\n",
       "        vertical-align: top;\n",
       "    }\n",
       "\n",
       "    .dataframe thead th {\n",
       "        text-align: right;\n",
       "    }\n",
       "</style>\n",
       "<table border=\"1\" class=\"dataframe\">\n",
       "  <thead>\n",
       "    <tr style=\"text-align: right;\">\n",
       "      <th></th>\n",
       "      <th>customer_code</th>\n",
       "      <th>date</th>\n",
       "      <th>visit_month</th>\n",
       "    </tr>\n",
       "  </thead>\n",
       "  <tbody>\n",
       "    <tr>\n",
       "      <th>30</th>\n",
       "      <td>70002017.0</td>\n",
       "      <td>2021-01-01</td>\n",
       "      <td>2021-01-01</td>\n",
       "    </tr>\n",
       "    <tr>\n",
       "      <th>31</th>\n",
       "      <td>70002017.0</td>\n",
       "      <td>2021-02-01</td>\n",
       "      <td>2021-02-01</td>\n",
       "    </tr>\n",
       "    <tr>\n",
       "      <th>32</th>\n",
       "      <td>70002017.0</td>\n",
       "      <td>2021-03-01</td>\n",
       "      <td>2021-03-01</td>\n",
       "    </tr>\n",
       "    <tr>\n",
       "      <th>33</th>\n",
       "      <td>70002017.0</td>\n",
       "      <td>2021-05-01</td>\n",
       "      <td>2021-05-01</td>\n",
       "    </tr>\n",
       "    <tr>\n",
       "      <th>34</th>\n",
       "      <td>70002017.0</td>\n",
       "      <td>2021-06-01</td>\n",
       "      <td>2021-06-01</td>\n",
       "    </tr>\n",
       "  </tbody>\n",
       "</table>\n",
       "</div>"
      ],
      "text/plain": [
       "    customer_code       date visit_month\n",
       "30     70002017.0 2021-01-01  2021-01-01\n",
       "31     70002017.0 2021-02-01  2021-02-01\n",
       "32     70002017.0 2021-03-01  2021-03-01\n",
       "33     70002017.0 2021-05-01  2021-05-01\n",
       "34     70002017.0 2021-06-01  2021-06-01"
      ]
     },
     "execution_count": 71,
     "metadata": {},
     "output_type": "execute_result"
    }
   ],
   "source": [
    "#function for month - this is will just have the year and month with the day being defaulted to 1\n",
    "def get_month(x):\n",
    "        return dt.datetime(x.year, x.month,1)\n",
    "#apply the function    \n",
    "fil_ca_ret['visit_month'] = fil_ca_ret['date'].apply(get_month)\n",
    "fil_ca_ret.head()"
   ]
  },
  {
   "cell_type": "code",
   "execution_count": 72,
   "id": "abba148b",
   "metadata": {},
   "outputs": [
    {
     "data": {
      "text/html": [
       "<div>\n",
       "<style scoped>\n",
       "    .dataframe tbody tr th:only-of-type {\n",
       "        vertical-align: middle;\n",
       "    }\n",
       "\n",
       "    .dataframe tbody tr th {\n",
       "        vertical-align: top;\n",
       "    }\n",
       "\n",
       "    .dataframe thead th {\n",
       "        text-align: right;\n",
       "    }\n",
       "</style>\n",
       "<table border=\"1\" class=\"dataframe\">\n",
       "  <thead>\n",
       "    <tr style=\"text-align: right;\">\n",
       "      <th></th>\n",
       "      <th>customer_code</th>\n",
       "      <th>date</th>\n",
       "      <th>visit_month</th>\n",
       "      <th>cohort_month</th>\n",
       "    </tr>\n",
       "  </thead>\n",
       "  <tbody>\n",
       "    <tr>\n",
       "      <th>30</th>\n",
       "      <td>70002017.0</td>\n",
       "      <td>2021-01-01</td>\n",
       "      <td>2021-01-01</td>\n",
       "      <td>2021-01-01</td>\n",
       "    </tr>\n",
       "    <tr>\n",
       "      <th>31</th>\n",
       "      <td>70002017.0</td>\n",
       "      <td>2021-02-01</td>\n",
       "      <td>2021-02-01</td>\n",
       "      <td>2021-01-01</td>\n",
       "    </tr>\n",
       "    <tr>\n",
       "      <th>32</th>\n",
       "      <td>70002017.0</td>\n",
       "      <td>2021-03-01</td>\n",
       "      <td>2021-03-01</td>\n",
       "      <td>2021-01-01</td>\n",
       "    </tr>\n",
       "    <tr>\n",
       "      <th>33</th>\n",
       "      <td>70002017.0</td>\n",
       "      <td>2021-05-01</td>\n",
       "      <td>2021-05-01</td>\n",
       "      <td>2021-01-01</td>\n",
       "    </tr>\n",
       "    <tr>\n",
       "      <th>34</th>\n",
       "      <td>70002017.0</td>\n",
       "      <td>2021-06-01</td>\n",
       "      <td>2021-06-01</td>\n",
       "      <td>2021-01-01</td>\n",
       "    </tr>\n",
       "  </tbody>\n",
       "</table>\n",
       "</div>"
      ],
      "text/plain": [
       "    customer_code       date visit_month cohort_month\n",
       "30     70002017.0 2021-01-01  2021-01-01   2021-01-01\n",
       "31     70002017.0 2021-02-01  2021-02-01   2021-01-01\n",
       "32     70002017.0 2021-03-01  2021-03-01   2021-01-01\n",
       "33     70002017.0 2021-05-01  2021-05-01   2021-01-01\n",
       "34     70002017.0 2021-06-01  2021-06-01   2021-01-01"
      ]
     },
     "execution_count": 72,
     "metadata": {},
     "output_type": "execute_result"
    }
   ],
   "source": [
    "#create cohort month based on visit month. first month of user's visit. creating a column index for month cohort\n",
    "#first month user visited\n",
    "fil_ca_ret['cohort_month'] = fil_ca_ret.groupby('customer_code')['visit_month'].transform('min')#'min' used to get the first occurance  \n",
    "fil_ca_ret.head()"
   ]
  },
  {
   "cell_type": "code",
   "execution_count": 73,
   "id": "04363a87",
   "metadata": {},
   "outputs": [],
   "source": [
    "#create date element function to get a series for subtraction\n",
    "def get_date_elements(df,column):\n",
    "    day = df[column].dt.day # this will be applied to cohort month column\n",
    "    month = df[column].dt.month\n",
    "    year = df[column].dt.year\n",
    "    return day, month, year"
   ]
  },
  {
   "cell_type": "code",
   "execution_count": 74,
   "id": "3ff57de7",
   "metadata": {},
   "outputs": [],
   "source": [
    "#get date elements for visit and cohort columns\n",
    "\n",
    "#_ because we are focusing on month and need 3 elements so '_' acts as a place holder\n",
    "_,visit_month, visit_year = get_date_elements(fil_ca_ret, 'visit_month') #_ because we are focusing on month and need 3 elements\n",
    "_,cohort_month, cohort_year = get_date_elements(fil_ca_ret, 'cohort_month')"
   ]
  },
  {
   "cell_type": "code",
   "execution_count": 75,
   "id": "5504bf01",
   "metadata": {},
   "outputs": [
    {
     "data": {
      "text/html": [
       "<div>\n",
       "<style scoped>\n",
       "    .dataframe tbody tr th:only-of-type {\n",
       "        vertical-align: middle;\n",
       "    }\n",
       "\n",
       "    .dataframe tbody tr th {\n",
       "        vertical-align: top;\n",
       "    }\n",
       "\n",
       "    .dataframe thead th {\n",
       "        text-align: right;\n",
       "    }\n",
       "</style>\n",
       "<table border=\"1\" class=\"dataframe\">\n",
       "  <thead>\n",
       "    <tr style=\"text-align: right;\">\n",
       "      <th></th>\n",
       "      <th>customer_code</th>\n",
       "      <th>date</th>\n",
       "      <th>visit_month</th>\n",
       "      <th>cohort_month</th>\n",
       "      <th>cohort_index</th>\n",
       "    </tr>\n",
       "  </thead>\n",
       "  <tbody>\n",
       "    <tr>\n",
       "      <th>30</th>\n",
       "      <td>70002017.0</td>\n",
       "      <td>2021-01-01</td>\n",
       "      <td>2021-01-01</td>\n",
       "      <td>2021-01-01</td>\n",
       "      <td>0</td>\n",
       "    </tr>\n",
       "    <tr>\n",
       "      <th>31</th>\n",
       "      <td>70002017.0</td>\n",
       "      <td>2021-02-01</td>\n",
       "      <td>2021-02-01</td>\n",
       "      <td>2021-01-01</td>\n",
       "      <td>1</td>\n",
       "    </tr>\n",
       "    <tr>\n",
       "      <th>32</th>\n",
       "      <td>70002017.0</td>\n",
       "      <td>2021-03-01</td>\n",
       "      <td>2021-03-01</td>\n",
       "      <td>2021-01-01</td>\n",
       "      <td>2</td>\n",
       "    </tr>\n",
       "    <tr>\n",
       "      <th>33</th>\n",
       "      <td>70002017.0</td>\n",
       "      <td>2021-05-01</td>\n",
       "      <td>2021-05-01</td>\n",
       "      <td>2021-01-01</td>\n",
       "      <td>4</td>\n",
       "    </tr>\n",
       "    <tr>\n",
       "      <th>34</th>\n",
       "      <td>70002017.0</td>\n",
       "      <td>2021-06-01</td>\n",
       "      <td>2021-06-01</td>\n",
       "      <td>2021-01-01</td>\n",
       "      <td>5</td>\n",
       "    </tr>\n",
       "  </tbody>\n",
       "</table>\n",
       "</div>"
      ],
      "text/plain": [
       "    customer_code       date visit_month cohort_month  cohort_index\n",
       "30     70002017.0 2021-01-01  2021-01-01   2021-01-01             0\n",
       "31     70002017.0 2021-02-01  2021-02-01   2021-01-01             1\n",
       "32     70002017.0 2021-03-01  2021-03-01   2021-01-01             2\n",
       "33     70002017.0 2021-05-01  2021-05-01   2021-01-01             4\n",
       "34     70002017.0 2021-06-01  2021-06-01   2021-01-01             5"
      ]
     },
     "execution_count": 75,
     "metadata": {},
     "output_type": "execute_result"
    }
   ],
   "source": [
    "#create cohort index - when user acquired \n",
    "year_diff = visit_year - cohort_year\n",
    "month_diff = visit_month - cohort_month\n",
    "\n",
    "#adding +1 at the end is optional its for those that only visited on their first day\n",
    "fil_ca_ret['cohort_index'] = year_diff*12+month_diff #multiply by 12 since 12 months in a year\n",
    "\n",
    "fil_ca_ret.head()"
   ]
  },
  {
   "cell_type": "code",
   "execution_count": 76,
   "id": "9286f79f",
   "metadata": {},
   "outputs": [
    {
     "data": {
      "text/html": [
       "<div>\n",
       "<style scoped>\n",
       "    .dataframe tbody tr th:only-of-type {\n",
       "        vertical-align: middle;\n",
       "    }\n",
       "\n",
       "    .dataframe tbody tr th {\n",
       "        vertical-align: top;\n",
       "    }\n",
       "\n",
       "    .dataframe thead th {\n",
       "        text-align: right;\n",
       "    }\n",
       "</style>\n",
       "<table border=\"1\" class=\"dataframe\">\n",
       "  <thead>\n",
       "    <tr style=\"text-align: right;\">\n",
       "      <th></th>\n",
       "      <th>cohort_month</th>\n",
       "      <th>cohort_index</th>\n",
       "      <th>customer_code</th>\n",
       "    </tr>\n",
       "  </thead>\n",
       "  <tbody>\n",
       "    <tr>\n",
       "      <th>0</th>\n",
       "      <td>2021-01-01</td>\n",
       "      <td>0</td>\n",
       "      <td>157</td>\n",
       "    </tr>\n",
       "    <tr>\n",
       "      <th>1</th>\n",
       "      <td>2021-01-01</td>\n",
       "      <td>1</td>\n",
       "      <td>105</td>\n",
       "    </tr>\n",
       "    <tr>\n",
       "      <th>2</th>\n",
       "      <td>2021-01-01</td>\n",
       "      <td>2</td>\n",
       "      <td>105</td>\n",
       "    </tr>\n",
       "    <tr>\n",
       "      <th>3</th>\n",
       "      <td>2021-01-01</td>\n",
       "      <td>3</td>\n",
       "      <td>104</td>\n",
       "    </tr>\n",
       "    <tr>\n",
       "      <th>4</th>\n",
       "      <td>2021-01-01</td>\n",
       "      <td>4</td>\n",
       "      <td>157</td>\n",
       "    </tr>\n",
       "  </tbody>\n",
       "</table>\n",
       "</div>"
      ],
      "text/plain": [
       "  cohort_month  cohort_index  customer_code\n",
       "0   2021-01-01             0            157\n",
       "1   2021-01-01             1            105\n",
       "2   2021-01-01             2            105\n",
       "3   2021-01-01             3            104\n",
       "4   2021-01-01             4            157"
      ]
     },
     "execution_count": 76,
     "metadata": {},
     "output_type": "execute_result"
    }
   ],
   "source": [
    "#count user ids by groupby by customer, cohort month(when they were acquired) and index(how long they've been active)\n",
    "#used apply for better reliability\n",
    "cohort_data = fil_ca_ret.groupby(['cohort_month', 'cohort_index'])['customer_code'].apply(pd.Series.nunique).reset_index()\n",
    "#reset index eliminates gaps (each row has the cohort month filled in)\n",
    "cohort_data.head()"
   ]
  },
  {
   "cell_type": "code",
   "execution_count": 77,
   "id": "62f689a9",
   "metadata": {},
   "outputs": [
    {
     "data": {
      "text/html": [
       "<div>\n",
       "<style scoped>\n",
       "    .dataframe tbody tr th:only-of-type {\n",
       "        vertical-align: middle;\n",
       "    }\n",
       "\n",
       "    .dataframe tbody tr th {\n",
       "        vertical-align: top;\n",
       "    }\n",
       "\n",
       "    .dataframe thead th {\n",
       "        text-align: right;\n",
       "    }\n",
       "</style>\n",
       "<table border=\"1\" class=\"dataframe\">\n",
       "  <thead>\n",
       "    <tr style=\"text-align: right;\">\n",
       "      <th>cohort_index</th>\n",
       "      <th>0</th>\n",
       "      <th>1</th>\n",
       "      <th>2</th>\n",
       "      <th>3</th>\n",
       "      <th>4</th>\n",
       "      <th>5</th>\n",
       "      <th>6</th>\n",
       "      <th>7</th>\n",
       "      <th>8</th>\n",
       "      <th>9</th>\n",
       "      <th>10</th>\n",
       "      <th>11</th>\n",
       "    </tr>\n",
       "    <tr>\n",
       "      <th>cohort_month</th>\n",
       "      <th></th>\n",
       "      <th></th>\n",
       "      <th></th>\n",
       "      <th></th>\n",
       "      <th></th>\n",
       "      <th></th>\n",
       "      <th></th>\n",
       "      <th></th>\n",
       "      <th></th>\n",
       "      <th></th>\n",
       "      <th></th>\n",
       "      <th></th>\n",
       "    </tr>\n",
       "  </thead>\n",
       "  <tbody>\n",
       "    <tr>\n",
       "      <th>2021-01-01</th>\n",
       "      <td>157.0</td>\n",
       "      <td>105.0</td>\n",
       "      <td>105.0</td>\n",
       "      <td>104.0</td>\n",
       "      <td>157.0</td>\n",
       "      <td>105.0</td>\n",
       "      <td>105.0</td>\n",
       "      <td>104.0</td>\n",
       "      <td>157.0</td>\n",
       "      <td>105.0</td>\n",
       "      <td>105.0</td>\n",
       "      <td>104.0</td>\n",
       "    </tr>\n",
       "    <tr>\n",
       "      <th>2021-02-01</th>\n",
       "      <td>52.0</td>\n",
       "      <td>52.0</td>\n",
       "      <td>52.0</td>\n",
       "      <td>NaN</td>\n",
       "      <td>52.0</td>\n",
       "      <td>52.0</td>\n",
       "      <td>52.0</td>\n",
       "      <td>NaN</td>\n",
       "      <td>52.0</td>\n",
       "      <td>52.0</td>\n",
       "      <td>52.0</td>\n",
       "      <td>NaN</td>\n",
       "    </tr>\n",
       "  </tbody>\n",
       "</table>\n",
       "</div>"
      ],
      "text/plain": [
       "cohort_index     0      1      2      3      4      5      6      7      8   \\\n",
       "cohort_month                                                                  \n",
       "2021-01-01    157.0  105.0  105.0  104.0  157.0  105.0  105.0  104.0  157.0   \n",
       "2021-02-01     52.0   52.0   52.0    NaN   52.0   52.0   52.0    NaN   52.0   \n",
       "\n",
       "cohort_index     9      10     11  \n",
       "cohort_month                       \n",
       "2021-01-01    105.0  105.0  104.0  \n",
       "2021-02-01     52.0   52.0    NaN  "
      ]
     },
     "execution_count": 77,
     "metadata": {},
     "output_type": "execute_result"
    }
   ],
   "source": [
    "#create pivot table\n",
    "cohort_table = cohort_data.pivot(index = 'cohort_month', columns=['cohort_index'], values= 'customer_code')\n",
    "cohort_table"
   ]
  },
  {
   "cell_type": "code",
   "execution_count": 78,
   "id": "3824b0e3",
   "metadata": {},
   "outputs": [
    {
     "data": {
      "text/html": [
       "<div>\n",
       "<style scoped>\n",
       "    .dataframe tbody tr th:only-of-type {\n",
       "        vertical-align: middle;\n",
       "    }\n",
       "\n",
       "    .dataframe tbody tr th {\n",
       "        vertical-align: top;\n",
       "    }\n",
       "\n",
       "    .dataframe thead th {\n",
       "        text-align: right;\n",
       "    }\n",
       "</style>\n",
       "<table border=\"1\" class=\"dataframe\">\n",
       "  <thead>\n",
       "    <tr style=\"text-align: right;\">\n",
       "      <th>cohort_index</th>\n",
       "      <th>0</th>\n",
       "      <th>1</th>\n",
       "      <th>2</th>\n",
       "      <th>3</th>\n",
       "      <th>4</th>\n",
       "      <th>5</th>\n",
       "      <th>6</th>\n",
       "      <th>7</th>\n",
       "      <th>8</th>\n",
       "      <th>9</th>\n",
       "      <th>10</th>\n",
       "      <th>11</th>\n",
       "    </tr>\n",
       "    <tr>\n",
       "      <th>cohort_month</th>\n",
       "      <th></th>\n",
       "      <th></th>\n",
       "      <th></th>\n",
       "      <th></th>\n",
       "      <th></th>\n",
       "      <th></th>\n",
       "      <th></th>\n",
       "      <th></th>\n",
       "      <th></th>\n",
       "      <th></th>\n",
       "      <th></th>\n",
       "      <th></th>\n",
       "    </tr>\n",
       "  </thead>\n",
       "  <tbody>\n",
       "    <tr>\n",
       "      <th>2021-01-01</th>\n",
       "      <td>1.0</td>\n",
       "      <td>0.6688</td>\n",
       "      <td>0.6688</td>\n",
       "      <td>0.6624</td>\n",
       "      <td>1.0</td>\n",
       "      <td>0.6688</td>\n",
       "      <td>0.6688</td>\n",
       "      <td>0.6624</td>\n",
       "      <td>1.0</td>\n",
       "      <td>0.6688</td>\n",
       "      <td>0.6688</td>\n",
       "      <td>0.6624</td>\n",
       "    </tr>\n",
       "    <tr>\n",
       "      <th>2021-02-01</th>\n",
       "      <td>1.0</td>\n",
       "      <td>1.0000</td>\n",
       "      <td>1.0000</td>\n",
       "      <td>NaN</td>\n",
       "      <td>1.0</td>\n",
       "      <td>1.0000</td>\n",
       "      <td>1.0000</td>\n",
       "      <td>NaN</td>\n",
       "      <td>1.0</td>\n",
       "      <td>1.0000</td>\n",
       "      <td>1.0000</td>\n",
       "      <td>NaN</td>\n",
       "    </tr>\n",
       "  </tbody>\n",
       "</table>\n",
       "</div>"
      ],
      "text/plain": [
       "cohort_index   0       1       2       3    4       5       6       7    8   \\\n",
       "cohort_month                                                                  \n",
       "2021-01-01    1.0  0.6688  0.6688  0.6624  1.0  0.6688  0.6688  0.6624  1.0   \n",
       "2021-02-01    1.0  1.0000  1.0000     NaN  1.0  1.0000  1.0000     NaN  1.0   \n",
       "\n",
       "cohort_index      9       10      11  \n",
       "cohort_month                          \n",
       "2021-01-01    0.6688  0.6688  0.6624  \n",
       "2021-02-01    1.0000  1.0000     NaN  "
      ]
     },
     "execution_count": 78,
     "metadata": {},
     "output_type": "execute_result"
    }
   ],
   "source": [
    "#to find the rentention percentages\n",
    "retention_percentage = cohort_table.divide(cohort_table.iloc[:,0], axis=0).round(4)\n",
    "#divide cohort table. isoloate with iloc. give me all the rows with just the first column[:,0].  divide by row(axis=0)\n",
    "retention_percentage"
   ]
  },
  {
   "cell_type": "code",
   "execution_count": 79,
   "id": "f45fe575",
   "metadata": {},
   "outputs": [
    {
     "data": {
      "image/png": "[encoded data removed]",
      "text/plain": [
       "<Figure size 1000x800 with 2 Axes>"
      ]
     },
     "metadata": {},
     "output_type": "display_data"
    }
   ],
   "source": [
    "import matplotlib.pyplot as plt\n",
    "#retention heatmap\n",
    "plt.figure(figsize=(10,8))\n",
    "sns.heatmap(retention_percentage, annot=True, fmt='.1%', linewidths=1, cmap='PuBu', linecolor='grey',  vmax=.9, cbar_kws= {'orientation': 'horizontal'} \n",
    "            ).set(title = 'Retention Rate')\n",
    "plt.show()"
   ]
  },
  {
   "cell_type": "markdown",
   "id": "ffce0cb3",
   "metadata": {},
   "source": [
    "<font size=\"3\"><b>Conclusion on Customer Retention:</b> AtliQ's customer base has only slight fluctuations in numbers.  The customer numbers stay fairly consistant.  Values not 100, show the slight change in customer numbers.  AtliQ has a strong customer base in that there is not a lot of turnover(numbers are not jumping up and down)."
   ]
  },
  {
   "cell_type": "markdown",
   "id": "550eb6f9",
   "metadata": {},
   "source": [
    "## Churn rate customers"
   ]
  },
  {
   "cell_type": "code",
   "execution_count": 80,
   "id": "58f0a622",
   "metadata": {},
   "outputs": [
    {
     "data": {
      "text/html": [
       "<div>\n",
       "<style scoped>\n",
       "    .dataframe tbody tr th:only-of-type {\n",
       "        vertical-align: middle;\n",
       "    }\n",
       "\n",
       "    .dataframe tbody tr th {\n",
       "        vertical-align: top;\n",
       "    }\n",
       "\n",
       "    .dataframe thead th {\n",
       "        text-align: right;\n",
       "    }\n",
       "</style>\n",
       "<table border=\"1\" class=\"dataframe\">\n",
       "  <thead>\n",
       "    <tr style=\"text-align: right;\">\n",
       "      <th></th>\n",
       "      <th>product_code</th>\n",
       "      <th>fiscal_year</th>\n",
       "      <th>gross_price</th>\n",
       "      <th>customer_code</th>\n",
       "      <th>date</th>\n",
       "      <th>sold_quantity</th>\n",
       "      <th>order_month</th>\n",
       "      <th>ltv_prd_cost</th>\n",
       "      <th>first_order_month</th>\n",
       "      <th>customer</th>\n",
       "      <th>platform</th>\n",
       "      <th>market</th>\n",
       "      <th>region</th>\n",
       "    </tr>\n",
       "  </thead>\n",
       "  <tbody>\n",
       "    <tr>\n",
       "      <th>0</th>\n",
       "      <td>A0118150101</td>\n",
       "      <td>2018</td>\n",
       "      <td>15.3952</td>\n",
       "      <td>70002017.0</td>\n",
       "      <td>2017-09-01</td>\n",
       "      <td>51.0</td>\n",
       "      <td>2017-09-01</td>\n",
       "      <td>785.1552</td>\n",
       "      <td>2017-09-01</td>\n",
       "      <td>Atliq Exclusive</td>\n",
       "      <td>Brick &amp; Mortar</td>\n",
       "      <td>India</td>\n",
       "      <td>APAC</td>\n",
       "    </tr>\n",
       "    <tr>\n",
       "      <th>1</th>\n",
       "      <td>A0118150101</td>\n",
       "      <td>2018</td>\n",
       "      <td>15.3952</td>\n",
       "      <td>70002017.0</td>\n",
       "      <td>2017-10-01</td>\n",
       "      <td>54.0</td>\n",
       "      <td>2017-10-01</td>\n",
       "      <td>831.3408</td>\n",
       "      <td>2017-09-01</td>\n",
       "      <td>Atliq Exclusive</td>\n",
       "      <td>Brick &amp; Mortar</td>\n",
       "      <td>India</td>\n",
       "      <td>APAC</td>\n",
       "    </tr>\n",
       "  </tbody>\n",
       "</table>\n",
       "</div>"
      ],
      "text/plain": [
       "  product_code  fiscal_year  gross_price  customer_code       date  \\\n",
       "0  A0118150101         2018      15.3952     70002017.0 2017-09-01   \n",
       "1  A0118150101         2018      15.3952     70002017.0 2017-10-01   \n",
       "\n",
       "   sold_quantity order_month  ltv_prd_cost first_order_month         customer  \\\n",
       "0           51.0  2017-09-01      785.1552        2017-09-01  Atliq Exclusive   \n",
       "1           54.0  2017-10-01      831.3408        2017-09-01  Atliq Exclusive   \n",
       "\n",
       "         platform market region  \n",
       "0  Brick & Mortar  India   APAC  \n",
       "1  Brick & Mortar  India   APAC  "
      ]
     },
     "execution_count": 80,
     "metadata": {},
     "output_type": "execute_result"
    }
   ],
   "source": [
    "orders_named.head(2)"
   ]
  },
  {
   "cell_type": "code",
   "execution_count": 81,
   "id": "8c26b265",
   "metadata": {
    "scrolled": false
   },
   "outputs": [
    {
     "name": "stdout",
     "output_type": "stream",
     "text": [
      "<class 'pandas.core.frame.DataFrame'>\n",
      "Int64Index: 264044 entries, 0 to 264043\n",
      "Data columns (total 2 columns):\n",
      " #   Column         Non-Null Count   Dtype         \n",
      "---  ------         --------------   -----         \n",
      " 0   customer_code  264044 non-null  float64       \n",
      " 1   date           264044 non-null  datetime64[ns]\n",
      "dtypes: datetime64[ns](1), float64(1)\n",
      "memory usage: 6.0 MB\n"
     ]
    }
   ],
   "source": [
    "\n",
    "import numpy as np\n",
    "churn_users = orders_named[['customer_code', 'date']]\n",
    "churn_users.info()"
   ]
  },
  {
   "cell_type": "code",
   "execution_count": 82,
   "id": "cc1f4356",
   "metadata": {},
   "outputs": [
    {
     "data": {
      "text/html": [
       "<div>\n",
       "<style scoped>\n",
       "    .dataframe tbody tr th:only-of-type {\n",
       "        vertical-align: middle;\n",
       "    }\n",
       "\n",
       "    .dataframe tbody tr th {\n",
       "        vertical-align: top;\n",
       "    }\n",
       "\n",
       "    .dataframe thead th {\n",
       "        text-align: right;\n",
       "    }\n",
       "</style>\n",
       "<table border=\"1\" class=\"dataframe\">\n",
       "  <thead>\n",
       "    <tr style=\"text-align: right;\">\n",
       "      <th></th>\n",
       "      <th>customer_code</th>\n",
       "      <th>date</th>\n",
       "    </tr>\n",
       "  </thead>\n",
       "  <tbody>\n",
       "    <tr>\n",
       "      <th>0</th>\n",
       "      <td>70002017.0</td>\n",
       "      <td>2017-09-01</td>\n",
       "    </tr>\n",
       "    <tr>\n",
       "      <th>1</th>\n",
       "      <td>70002017.0</td>\n",
       "      <td>2017-10-01</td>\n",
       "    </tr>\n",
       "    <tr>\n",
       "      <th>2</th>\n",
       "      <td>70002017.0</td>\n",
       "      <td>2017-11-01</td>\n",
       "    </tr>\n",
       "    <tr>\n",
       "      <th>3</th>\n",
       "      <td>70002017.0</td>\n",
       "      <td>2018-01-01</td>\n",
       "    </tr>\n",
       "    <tr>\n",
       "      <th>4</th>\n",
       "      <td>70002017.0</td>\n",
       "      <td>2018-02-01</td>\n",
       "    </tr>\n",
       "  </tbody>\n",
       "</table>\n",
       "</div>"
      ],
      "text/plain": [
       "   customer_code       date\n",
       "0     70002017.0 2017-09-01\n",
       "1     70002017.0 2017-10-01\n",
       "2     70002017.0 2017-11-01\n",
       "3     70002017.0 2018-01-01\n",
       "4     70002017.0 2018-02-01"
      ]
     },
     "execution_count": 82,
     "metadata": {},
     "output_type": "execute_result"
    }
   ],
   "source": [
    "churn_users.head()"
   ]
  },
  {
   "cell_type": "code",
   "execution_count": 83,
   "id": "c901651f",
   "metadata": {},
   "outputs": [
    {
     "name": "stdout",
     "output_type": "stream",
     "text": [
      "Total Customers: 209\n",
      "Churned Customers: 160\n",
      "Churn Rate: 76.56\n"
     ]
    }
   ],
   "source": [
    "# Define the churn criteria (e.g., customers who haven't had activity since a certain date)\n",
    "churn_date_threshold = '2019-01-01'#we'll use the first of 2022 as a threshold\n",
    "\n",
    "# Filter the DataFrame to include only customers who have churned\n",
    "churned_customers = churn_users[churn_users['date'] < churn_date_threshold]\n",
    "\n",
    "# Calculate the churn rate\n",
    "total_customers = churn_users['customer_code'].nunique()\n",
    "churned_count = churned_customers['customer_code'].nunique()\n",
    "churn_rate = round((churned_count / total_customers)*100,2)\n",
    "\n",
    "print(\"Total Customers:\", total_customers)\n",
    "print(\"Churned Customers:\", churned_count)\n",
    "print(\"Churn Rate:\", churn_rate)"
   ]
  },
  {
   "cell_type": "markdown",
   "id": "789c5416",
   "metadata": {},
   "source": [
    "<font size=\"3\"><b>Insight:</b> According to the above churn rate for 2019, 76.56% customers were retained.  Note that the churn rate will fluctuate based on date selected for \"churn_date_threshold\". A better visualization may be possible in the dashboard"
   ]
  },
  {
   "cell_type": "markdown",
   "id": "2be88e8e",
   "metadata": {},
   "source": [
    "## Average Purchase Size"
   ]
  },
  {
   "cell_type": "code",
   "execution_count": 84,
   "id": "661a2f35",
   "metadata": {},
   "outputs": [
    {
     "data": {
      "text/html": [
       "<div>\n",
       "<style scoped>\n",
       "    .dataframe tbody tr th:only-of-type {\n",
       "        vertical-align: middle;\n",
       "    }\n",
       "\n",
       "    .dataframe tbody tr th {\n",
       "        vertical-align: top;\n",
       "    }\n",
       "\n",
       "    .dataframe thead th {\n",
       "        text-align: right;\n",
       "    }\n",
       "</style>\n",
       "<table border=\"1\" class=\"dataframe\">\n",
       "  <thead>\n",
       "    <tr style=\"text-align: right;\">\n",
       "      <th></th>\n",
       "      <th>order_month</th>\n",
       "      <th>ltv_prd_cost</th>\n",
       "    </tr>\n",
       "  </thead>\n",
       "  <tbody>\n",
       "    <tr>\n",
       "      <th>0</th>\n",
       "      <td>2017-09-01</td>\n",
       "      <td>326.0</td>\n",
       "    </tr>\n",
       "    <tr>\n",
       "      <th>1</th>\n",
       "      <td>2017-10-01</td>\n",
       "      <td>463.0</td>\n",
       "    </tr>\n",
       "    <tr>\n",
       "      <th>2</th>\n",
       "      <td>2017-11-01</td>\n",
       "      <td>667.0</td>\n",
       "    </tr>\n",
       "    <tr>\n",
       "      <th>3</th>\n",
       "      <td>2017-12-01</td>\n",
       "      <td>692.0</td>\n",
       "    </tr>\n",
       "    <tr>\n",
       "      <th>4</th>\n",
       "      <td>2018-01-01</td>\n",
       "      <td>367.0</td>\n",
       "    </tr>\n",
       "  </tbody>\n",
       "</table>\n",
       "</div>"
      ],
      "text/plain": [
       "  order_month  ltv_prd_cost\n",
       "0  2017-09-01         326.0\n",
       "1  2017-10-01         463.0\n",
       "2  2017-11-01         667.0\n",
       "3  2017-12-01         692.0\n",
       "4  2018-01-01         367.0"
      ]
     },
     "execution_count": 84,
     "metadata": {},
     "output_type": "execute_result"
    }
   ],
   "source": [
    "#determine average purchase with mean.  round values\n",
    "avg_pur = orders_named.groupby(['order_month']).agg({'ltv_prd_cost': 'mean'}).round().reset_index() \n",
    "avg_pur.head()"
   ]
  },
  {
   "cell_type": "code",
   "execution_count": 85,
   "id": "ba752269",
   "metadata": {},
   "outputs": [
    {
     "data": {
      "application/vnd.plotly.v1+json": {
       "config": {
        "plotlyServerURL": "https://plot.ly"
       },
       "data": [
        {
         "alignmentgroup": "True",
         "hovertemplate": "order_month=%{x}<br>ltv_prd_cost=%{text}<extra></extra>",
         "legendgroup": "",
         "marker": {
          "color": "#636efa",
          "pattern": {
           "shape": ""
          }
         },
         "name": "",
         "offsetgroup": "",
         "orientation": "v",
         "showlegend": false,
         "text": [
          326,
          463,
          667,
          692,
          367,
          371,
          402,
          401,
          373,
          375,
          375,
          400,
          490,
          598,
          769,
          839,
          473,
          481,
          463,
          477,
          483,
          481,
          483,
          473,
          677,
          819,
          1133,
          1217,
          656,
          647,
          107,
          325,
          405,
          609,
          618,
          640,
          966,
          1214,
          1648,
          1762,
          966,
          966,
          952,
          982,
          970,
          926,
          967,
          993,
          4280,
          5393,
          7346,
          7869
         ],
         "textposition": "auto",
         "type": "bar",
         "x": [
          "2017-09-01T00:00:00",
          "2017-10-01T00:00:00",
          "2017-11-01T00:00:00",
          "2017-12-01T00:00:00",
          "2018-01-01T00:00:00",
          "2018-02-01T00:00:00",
          "2018-03-01T00:00:00",
          "2018-04-01T00:00:00",
          "2018-05-01T00:00:00",
          "2018-06-01T00:00:00",
          "2018-07-01T00:00:00",
          "2018-08-01T00:00:00",
          "2018-09-01T00:00:00",
          "2018-10-01T00:00:00",
          "2018-11-01T00:00:00",
          "2018-12-01T00:00:00",
          "2019-01-01T00:00:00",
          "2019-02-01T00:00:00",
          "2019-03-01T00:00:00",
          "2019-04-01T00:00:00",
          "2019-05-01T00:00:00",
          "2019-06-01T00:00:00",
          "2019-07-01T00:00:00",
          "2019-08-01T00:00:00",
          "2019-09-01T00:00:00",
          "2019-10-01T00:00:00",
          "2019-11-01T00:00:00",
          "2019-12-01T00:00:00",
          "2020-01-01T00:00:00",
          "2020-02-01T00:00:00",
          "2020-03-01T00:00:00",
          "2020-04-01T00:00:00",
          "2020-05-01T00:00:00",
          "2020-06-01T00:00:00",
          "2020-07-01T00:00:00",
          "2020-08-01T00:00:00",
          "2020-09-01T00:00:00",
          "2020-10-01T00:00:00",
          "2020-11-01T00:00:00",
          "2020-12-01T00:00:00",
          "2021-01-01T00:00:00",
          "2021-02-01T00:00:00",
          "2021-03-01T00:00:00",
          "2021-04-01T00:00:00",
          "2021-05-01T00:00:00",
          "2021-06-01T00:00:00",
          "2021-07-01T00:00:00",
          "2021-08-01T00:00:00",
          "2021-09-01T00:00:00",
          "2021-10-01T00:00:00",
          "2021-11-01T00:00:00",
          "2021-12-01T00:00:00"
         ],
         "xaxis": "x",
         "y": [
          326,
          463,
          667,
          692,
          367,
          371,
          402,
          401,
          373,
          375,
          375,
          400,
          490,
          598,
          769,
          839,
          473,
          481,
          463,
          477,
          483,
          481,
          483,
          473,
          677,
          819,
          1133,
          1217,
          656,
          647,
          107,
          325,
          405,
          609,
          618,
          640,
          966,
          1214,
          1648,
          1762,
          966,
          966,
          952,
          982,
          970,
          926,
          967,
          993,
          4280,
          5393,
          7346,
          7869
         ],
         "yaxis": "y"
        }
       ],
       "layout": {
        "barmode": "relative",
        "legend": {
         "tracegroupgap": 0
        },
        "template": {
         "data": {
          "bar": [
           {
            "error_x": {
             "color": "#2a3f5f"
            },
            "error_y": {
             "color": "#2a3f5f"
            },
            "marker": {
             "line": {
              "color": "#E5ECF6",
              "width": 0.5
             },
             "pattern": {
              "fillmode": "overlay",
              "size": 10,
              "solidity": 0.2
             }
            },
            "type": "bar"
           }
          ],
          "barpolar": [
           {
            "marker": {
             "line": {
              "color": "#E5ECF6",
              "width": 0.5
             },
             "pattern": {
              "fillmode": "overlay",
              "size": 10,
              "solidity": 0.2
             }
            },
            "type": "barpolar"
           }
          ],
          "carpet": [
           {
            "aaxis": {
             "endlinecolor": "#2a3f5f",
             "gridcolor": "white",
             "linecolor": "white",
             "minorgridcolor": "white",
             "startlinecolor": "#2a3f5f"
            },
            "baxis": {
             "endlinecolor": "#2a3f5f",
             "gridcolor": "white",
             "linecolor": "white",
             "minorgridcolor": "white",
             "startlinecolor": "#2a3f5f"
            },
            "type": "carpet"
           }
          ],
          "choropleth": [
           {
            "colorbar": {
             "outlinewidth": 0,
             "ticks": ""
            },
            "type": "choropleth"
           }
          ],
          "contour": [
           {
            "colorbar": {
             "outlinewidth": 0,
             "ticks": ""
            },
            "colorscale": [
             [
              0,
              "#0d0887"
             ],
             [
              0.1111111111111111,
              "#46039f"
             ],
             [
              0.2222222222222222,
              "#7201a8"
             ],
             [
              0.3333333333333333,
              "#9c179e"
             ],
             [
              0.4444444444444444,
              "#bd3786"
             ],
             [
              0.5555555555555556,
              "#d8576b"
             ],
             [
              0.6666666666666666,
              "#ed7953"
             ],
             [
              0.7777777777777778,
              "#fb9f3a"
             ],
             [
              0.8888888888888888,
              "#fdca26"
             ],
             [
              1,
              "#f0f921"
             ]
            ],
            "type": "contour"
           }
          ],
          "contourcarpet": [
           {
            "colorbar": {
             "outlinewidth": 0,
             "ticks": ""
            },
            "type": "contourcarpet"
           }
          ],
          "heatmap": [
           {
            "colorbar": {
             "outlinewidth": 0,
             "ticks": ""
            },
            "colorscale": [
             [
              0,
              "#0d0887"
             ],
             [
              0.1111111111111111,
              "#46039f"
             ],
             [
              0.2222222222222222,
              "#7201a8"
             ],
             [
              0.3333333333333333,
              "#9c179e"
             ],
             [
              0.4444444444444444,
              "#bd3786"
             ],
             [
              0.5555555555555556,
              "#d8576b"
             ],
             [
              0.6666666666666666,
              "#ed7953"
             ],
             [
              0.7777777777777778,
              "#fb9f3a"
             ],
             [
              0.8888888888888888,
              "#fdca26"
             ],
             [
              1,
              "#f0f921"
             ]
            ],
            "type": "heatmap"
           }
          ],
          "heatmapgl": [
           {
            "colorbar": {
             "outlinewidth": 0,
             "ticks": ""
            },
            "colorscale": [
             [
              0,
              "#0d0887"
             ],
             [
              0.1111111111111111,
              "#46039f"
             ],
             [
              0.2222222222222222,
              "#7201a8"
             ],
             [
              0.3333333333333333,
              "#9c179e"
             ],
             [
              0.4444444444444444,
              "#bd3786"
             ],
             [
              0.5555555555555556,
              "#d8576b"
             ],
             [
              0.6666666666666666,
              "#ed7953"
             ],
             [
              0.7777777777777778,
              "#fb9f3a"
             ],
             [
              0.8888888888888888,
              "#fdca26"
             ],
             [
              1,
              "#f0f921"
             ]
            ],
            "type": "heatmapgl"
           }
          ],
          "histogram": [
           {
            "marker": {
             "pattern": {
              "fillmode": "overlay",
              "size": 10,
              "solidity": 0.2
             }
            },
            "type": "histogram"
           }
          ],
          "histogram2d": [
           {
            "colorbar": {
             "outlinewidth": 0,
             "ticks": ""
            },
            "colorscale": [
             [
              0,
              "#0d0887"
             ],
             [
              0.1111111111111111,
              "#46039f"
             ],
             [
              0.2222222222222222,
              "#7201a8"
             ],
             [
              0.3333333333333333,
              "#9c179e"
             ],
             [
              0.4444444444444444,
              "#bd3786"
             ],
             [
              0.5555555555555556,
              "#d8576b"
             ],
             [
              0.6666666666666666,
              "#ed7953"
             ],
             [
              0.7777777777777778,
              "#fb9f3a"
             ],
             [
              0.8888888888888888,
              "#fdca26"
             ],
             [
              1,
              "#f0f921"
             ]
            ],
            "type": "histogram2d"
           }
          ],
          "histogram2dcontour": [
           {
            "colorbar": {
             "outlinewidth": 0,
             "ticks": ""
            },
            "colorscale": [
             [
              0,
              "#0d0887"
             ],
             [
              0.1111111111111111,
              "#46039f"
             ],
             [
              0.2222222222222222,
              "#7201a8"
             ],
             [
              0.3333333333333333,
              "#9c179e"
             ],
             [
              0.4444444444444444,
              "#bd3786"
             ],
             [
              0.5555555555555556,
              "#d8576b"
             ],
             [
              0.6666666666666666,
              "#ed7953"
             ],
             [
              0.7777777777777778,
              "#fb9f3a"
             ],
             [
              0.8888888888888888,
              "#fdca26"
             ],
             [
              1,
              "#f0f921"
             ]
            ],
            "type": "histogram2dcontour"
           }
          ],
          "mesh3d": [
           {
            "colorbar": {
             "outlinewidth": 0,
             "ticks": ""
            },
            "type": "mesh3d"
           }
          ],
          "parcoords": [
           {
            "line": {
             "colorbar": {
              "outlinewidth": 0,
              "ticks": ""
             }
            },
            "type": "parcoords"
           }
          ],
          "pie": [
           {
            "automargin": true,
            "type": "pie"
           }
          ],
          "scatter": [
           {
            "fillpattern": {
             "fillmode": "overlay",
             "size": 10,
             "solidity": 0.2
            },
            "type": "scatter"
           }
          ],
          "scatter3d": [
           {
            "line": {
             "colorbar": {
              "outlinewidth": 0,
              "ticks": ""
             }
            },
            "marker": {
             "colorbar": {
              "outlinewidth": 0,
              "ticks": ""
             }
            },
            "type": "scatter3d"
           }
          ],
          "scattercarpet": [
           {
            "marker": {
             "colorbar": {
              "outlinewidth": 0,
              "ticks": ""
             }
            },
            "type": "scattercarpet"
           }
          ],
          "scattergeo": [
           {
            "marker": {
             "colorbar": {
              "outlinewidth": 0,
              "ticks": ""
             }
            },
            "type": "scattergeo"
           }
          ],
          "scattergl": [
           {
            "marker": {
             "colorbar": {
              "outlinewidth": 0,
              "ticks": ""
             }
            },
            "type": "scattergl"
           }
          ],
          "scattermapbox": [
           {
            "marker": {
             "colorbar": {
              "outlinewidth": 0,
              "ticks": ""
             }
            },
            "type": "scattermapbox"
           }
          ],
          "scatterpolar": [
           {
            "marker": {
             "colorbar": {
              "outlinewidth": 0,
              "ticks": ""
             }
            },
            "type": "scatterpolar"
           }
          ],
          "scatterpolargl": [
           {
            "marker": {
             "colorbar": {
              "outlinewidth": 0,
              "ticks": ""
             }
            },
            "type": "scatterpolargl"
           }
          ],
          "scatterternary": [
           {
            "marker": {
             "colorbar": {
              "outlinewidth": 0,
              "ticks": ""
             }
            },
            "type": "scatterternary"
           }
          ],
          "surface": [
           {
            "colorbar": {
             "outlinewidth": 0,
             "ticks": ""
            },
            "colorscale": [
             [
              0,
              "#0d0887"
             ],
             [
              0.1111111111111111,
              "#46039f"
             ],
             [
              0.2222222222222222,
              "#7201a8"
             ],
             [
              0.3333333333333333,
              "#9c179e"
             ],
             [
              0.4444444444444444,
              "#bd3786"
             ],
             [
              0.5555555555555556,
              "#d8576b"
             ],
             [
              0.6666666666666666,
              "#ed7953"
             ],
             [
              0.7777777777777778,
              "#fb9f3a"
             ],
             [
              0.8888888888888888,
              "#fdca26"
             ],
             [
              1,
              "#f0f921"
             ]
            ],
            "type": "surface"
           }
          ],
          "table": [
           {
            "cells": {
             "fill": {
              "color": "#EBF0F8"
             },
             "line": {
              "color": "white"
             }
            },
            "header": {
             "fill": {
              "color": "#C8D4E3"
             },
             "line": {
              "color": "white"
             }
            },
            "type": "table"
           }
          ]
         },
         "layout": {
          "annotationdefaults": {
           "arrowcolor": "#2a3f5f",
           "arrowhead": 0,
           "arrowwidth": 1
          },
          "autotypenumbers": "strict",
          "coloraxis": {
           "colorbar": {
            "outlinewidth": 0,
            "ticks": ""
           }
          },
          "colorscale": {
           "diverging": [
            [
             0,
             "#8e0152"
            ],
            [
             0.1,
             "#c51b7d"
            ],
            [
             0.2,
             "#de77ae"
            ],
            [
             0.3,
             "#f1b6da"
            ],
            [
             0.4,
             "#fde0ef"
            ],
            [
             0.5,
             "#f7f7f7"
            ],
            [
             0.6,
             "#e6f5d0"
            ],
            [
             0.7,
             "#b8e186"
            ],
            [
             0.8,
             "#7fbc41"
            ],
            [
             0.9,
             "#4d9221"
            ],
            [
             1,
             "#276419"
            ]
           ],
           "sequential": [
            [
             0,
             "#0d0887"
            ],
            [
             0.1111111111111111,
             "#46039f"
            ],
            [
             0.2222222222222222,
             "#7201a8"
            ],
            [
             0.3333333333333333,
             "#9c179e"
            ],
            [
             0.4444444444444444,
             "#bd3786"
            ],
            [
             0.5555555555555556,
             "#d8576b"
            ],
            [
             0.6666666666666666,
             "#ed7953"
            ],
            [
             0.7777777777777778,
             "#fb9f3a"
            ],
            [
             0.8888888888888888,
             "#fdca26"
            ],
            [
             1,
             "#f0f921"
            ]
           ],
           "sequentialminus": [
            [
             0,
             "#0d0887"
            ],
            [
             0.1111111111111111,
             "#46039f"
            ],
            [
             0.2222222222222222,
             "#7201a8"
            ],
            [
             0.3333333333333333,
             "#9c179e"
            ],
            [
             0.4444444444444444,
             "#bd3786"
            ],
            [
             0.5555555555555556,
             "#d8576b"
            ],
            [
             0.6666666666666666,
             "#ed7953"
            ],
            [
             0.7777777777777778,
             "#fb9f3a"
            ],
            [
             0.8888888888888888,
             "#fdca26"
            ],
            [
             1,
             "#f0f921"
            ]
           ]
          },
          "colorway": [
           "#636efa",
           "#EF553B",
           "#00cc96",
           "#ab63fa",
           "#FFA15A",
           "#19d3f3",
           "#FF6692",
           "#B6E880",
           "#FF97FF",
           "#FECB52"
          ],
          "font": {
           "color": "#2a3f5f"
          },
          "geo": {
           "bgcolor": "white",
           "lakecolor": "white",
           "landcolor": "#E5ECF6",
           "showlakes": true,
           "showland": true,
           "subunitcolor": "white"
          },
          "hoverlabel": {
           "align": "left"
          },
          "hovermode": "closest",
          "mapbox": {
           "style": "light"
          },
          "paper_bgcolor": "white",
          "plot_bgcolor": "#E5ECF6",
          "polar": {
           "angularaxis": {
            "gridcolor": "white",
            "linecolor": "white",
            "ticks": ""
           },
           "bgcolor": "#E5ECF6",
           "radialaxis": {
            "gridcolor": "white",
            "linecolor": "white",
            "ticks": ""
           }
          },
          "scene": {
           "xaxis": {
            "backgroundcolor": "#E5ECF6",
            "gridcolor": "white",
            "gridwidth": 2,
            "linecolor": "white",
            "showbackground": true,
            "ticks": "",
            "zerolinecolor": "white"
           },
           "yaxis": {
            "backgroundcolor": "#E5ECF6",
            "gridcolor": "white",
            "gridwidth": 2,
            "linecolor": "white",
            "showbackground": true,
            "ticks": "",
            "zerolinecolor": "white"
           },
           "zaxis": {
            "backgroundcolor": "#E5ECF6",
            "gridcolor": "white",
            "gridwidth": 2,
            "linecolor": "white",
            "showbackground": true,
            "ticks": "",
            "zerolinecolor": "white"
           }
          },
          "shapedefaults": {
           "line": {
            "color": "#2a3f5f"
           }
          },
          "ternary": {
           "aaxis": {
            "gridcolor": "white",
            "linecolor": "white",
            "ticks": ""
           },
           "baxis": {
            "gridcolor": "white",
            "linecolor": "white",
            "ticks": ""
           },
           "bgcolor": "#E5ECF6",
           "caxis": {
            "gridcolor": "white",
            "linecolor": "white",
            "ticks": ""
           }
          },
          "title": {
           "x": 0.05
          },
          "xaxis": {
           "automargin": true,
           "gridcolor": "white",
           "linecolor": "white",
           "ticks": "",
           "title": {
            "standoff": 15
           },
           "zerolinecolor": "white",
           "zerolinewidth": 2
          },
          "yaxis": {
           "automargin": true,
           "gridcolor": "white",
           "linecolor": "white",
           "ticks": "",
           "title": {
            "standoff": 15
           },
           "zerolinecolor": "white",
           "zerolinewidth": 2
          }
         }
        },
        "title": {
         "text": "Average customer purchase"
        },
        "uniformtext": {
         "minsize": 8,
         "mode": "hide"
        },
        "xaxis": {
         "anchor": "y",
         "domain": [
          0,
          1
         ],
         "title": {
          "text": "order_month"
         }
        },
        "yaxis": {
         "anchor": "x",
         "domain": [
          0,
          1
         ],
         "title": {
          "text": "ltv_prd_cost"
         }
        }
       }
      },
      "text/html": [
       "<div>                            <div id=\"bbd0719b-7cba-49a9-8faa-79d60abde3ff\" class=\"plotly-graph-div\" style=\"height:525px; width:100%;\"></div>            <script type=\"text/javascript\">                require([\"plotly\"], function(Plotly) {                    window.PLOTLYENV=window.PLOTLYENV || {};                                    if (document.getElementById(\"bbd0719b-7cba-49a9-8faa-79d60abde3ff\")) {                    Plotly.newPlot(                        \"bbd0719b-7cba-49a9-8faa-79d60abde3ff\",                        [{\"alignmentgroup\":\"True\",\"hovertemplate\":\"order_month=%{x}<br>ltv_prd_cost=%{text}<extra></extra>\",\"legendgroup\":\"\",\"marker\":{\"color\":\"#636efa\",\"pattern\":{\"shape\":\"\"}},\"name\":\"\",\"offsetgroup\":\"\",\"orientation\":\"v\",\"showlegend\":false,\"text\":[326.0,463.0,667.0,692.0,367.0,371.0,402.0,401.0,373.0,375.0,375.0,400.0,490.0,598.0,769.0,839.0,473.0,481.0,463.0,477.0,483.0,481.0,483.0,473.0,677.0,819.0,1133.0,1217.0,656.0,647.0,107.0,325.0,405.0,609.0,618.0,640.0,966.0,1214.0,1648.0,1762.0,966.0,966.0,952.0,982.0,970.0,926.0,967.0,993.0,4280.0,5393.0,7346.0,7869.0],\"textposition\":\"auto\",\"x\":[\"2017-09-01T00:00:00\",\"2017-10-01T00:00:00\",\"2017-11-01T00:00:00\",\"2017-12-01T00:00:00\",\"2018-01-01T00:00:00\",\"2018-02-01T00:00:00\",\"2018-03-01T00:00:00\",\"2018-04-01T00:00:00\",\"2018-05-01T00:00:00\",\"2018-06-01T00:00:00\",\"2018-07-01T00:00:00\",\"2018-08-01T00:00:00\",\"2018-09-01T00:00:00\",\"2018-10-01T00:00:00\",\"2018-11-01T00:00:00\",\"2018-12-01T00:00:00\",\"2019-01-01T00:00:00\",\"2019-02-01T00:00:00\",\"2019-03-01T00:00:00\",\"2019-04-01T00:00:00\",\"2019-05-01T00:00:00\",\"2019-06-01T00:00:00\",\"2019-07-01T00:00:00\",\"2019-08-01T00:00:00\",\"2019-09-01T00:00:00\",\"2019-10-01T00:00:00\",\"2019-11-01T00:00:00\",\"2019-12-01T00:00:00\",\"2020-01-01T00:00:00\",\"2020-02-01T00:00:00\",\"2020-03-01T00:00:00\",\"2020-04-01T00:00:00\",\"2020-05-01T00:00:00\",\"2020-06-01T00:00:00\",\"2020-07-01T00:00:00\",\"2020-08-01T00:00:00\",\"2020-09-01T00:00:00\",\"2020-10-01T00:00:00\",\"2020-11-01T00:00:00\",\"2020-12-01T00:00:00\",\"2021-01-01T00:00:00\",\"2021-02-01T00:00:00\",\"2021-03-01T00:00:00\",\"2021-04-01T00:00:00\",\"2021-05-01T00:00:00\",\"2021-06-01T00:00:00\",\"2021-07-01T00:00:00\",\"2021-08-01T00:00:00\",\"2021-09-01T00:00:00\",\"2021-10-01T00:00:00\",\"2021-11-01T00:00:00\",\"2021-12-01T00:00:00\"],\"xaxis\":\"x\",\"y\":[326.0,463.0,667.0,692.0,367.0,371.0,402.0,401.0,373.0,375.0,375.0,400.0,490.0,598.0,769.0,839.0,473.0,481.0,463.0,477.0,483.0,481.0,483.0,473.0,677.0,819.0,1133.0,1217.0,656.0,647.0,107.0,325.0,405.0,609.0,618.0,640.0,966.0,1214.0,1648.0,1762.0,966.0,966.0,952.0,982.0,970.0,926.0,967.0,993.0,4280.0,5393.0,7346.0,7869.0],\"yaxis\":\"y\",\"type\":\"bar\"}],                        {\"template\":{\"data\":{\"histogram2dcontour\":[{\"type\":\"histogram2dcontour\",\"colorbar\":{\"outlinewidth\":0,\"ticks\":\"\"},\"colorscale\":[[0.0,\"#0d0887\"],[0.1111111111111111,\"#46039f\"],[0.2222222222222222,\"#7201a8\"],[0.3333333333333333,\"#9c179e\"],[0.4444444444444444,\"#bd3786\"],[0.5555555555555556,\"#d8576b\"],[0.6666666666666666,\"#ed7953\"],[0.7777777777777778,\"#fb9f3a\"],[0.8888888888888888,\"#fdca26\"],[1.0,\"#f0f921\"]]}],\"choropleth\":[{\"type\":\"choropleth\",\"colorbar\":{\"outlinewidth\":0,\"ticks\":\"\"}}],\"histogram2d\":[{\"type\":\"histogram2d\",\"colorbar\":{\"outlinewidth\":0,\"ticks\":\"\"},\"colorscale\":[[0.0,\"#0d0887\"],[0.1111111111111111,\"#46039f\"],[0.2222222222222222,\"#7201a8\"],[0.3333333333333333,\"#9c179e\"],[0.4444444444444444,\"#bd3786\"],[0.5555555555555556,\"#d8576b\"],[0.6666666666666666,\"#ed7953\"],[0.7777777777777778,\"#fb9f3a\"],[0.8888888888888888,\"#fdca26\"],[1.0,\"#f0f921\"]]}],\"heatmap\":[{\"type\":\"heatmap\",\"colorbar\":{\"outlinewidth\":0,\"ticks\":\"\"},\"colorscale\":[[0.0,\"#0d0887\"],[0.1111111111111111,\"#46039f\"],[0.2222222222222222,\"#7201a8\"],[0.3333333333333333,\"#9c179e\"],[0.4444444444444444,\"#bd3786\"],[0.5555555555555556,\"#d8576b\"],[0.6666666666666666,\"#ed7953\"],[0.7777777777777778,\"#fb9f3a\"],[0.8888888888888888,\"#fdca26\"],[1.0,\"#f0f921\"]]}],\"heatmapgl\":[{\"type\":\"heatmapgl\",\"colorbar\":{\"outlinewidth\":0,\"ticks\":\"\"},\"colorscale\":[[0.0,\"#0d0887\"],[0.1111111111111111,\"#46039f\"],[0.2222222222222222,\"#7201a8\"],[0.3333333333333333,\"#9c179e\"],[0.4444444444444444,\"#bd3786\"],[0.5555555555555556,\"#d8576b\"],[0.6666666666666666,\"#ed7953\"],[0.7777777777777778,\"#fb9f3a\"],[0.8888888888888888,\"#fdca26\"],[1.0,\"#f0f921\"]]}],\"contourcarpet\":[{\"type\":\"contourcarpet\",\"colorbar\":{\"outlinewidth\":0,\"ticks\":\"\"}}],\"contour\":[{\"type\":\"contour\",\"colorbar\":{\"outlinewidth\":0,\"ticks\":\"\"},\"colorscale\":[[0.0,\"#0d0887\"],[0.1111111111111111,\"#46039f\"],[0.2222222222222222,\"#7201a8\"],[0.3333333333333333,\"#9c179e\"],[0.4444444444444444,\"#bd3786\"],[0.5555555555555556,\"#d8576b\"],[0.6666666666666666,\"#ed7953\"],[0.7777777777777778,\"#fb9f3a\"],[0.8888888888888888,\"#fdca26\"],[1.0,\"#f0f921\"]]}],\"surface\":[{\"type\":\"surface\",\"colorbar\":{\"outlinewidth\":0,\"ticks\":\"\"},\"colorscale\":[[0.0,\"#0d0887\"],[0.1111111111111111,\"#46039f\"],[0.2222222222222222,\"#7201a8\"],[0.3333333333333333,\"#9c179e\"],[0.4444444444444444,\"#bd3786\"],[0.5555555555555556,\"#d8576b\"],[0.6666666666666666,\"#ed7953\"],[0.7777777777777778,\"#fb9f3a\"],[0.8888888888888888,\"#fdca26\"],[1.0,\"#f0f921\"]]}],\"mesh3d\":[{\"type\":\"mesh3d\",\"colorbar\":{\"outlinewidth\":0,\"ticks\":\"\"}}],\"scatter\":[{\"fillpattern\":{\"fillmode\":\"overlay\",\"size\":10,\"solidity\":0.2},\"type\":\"scatter\"}],\"parcoords\":[{\"type\":\"parcoords\",\"line\":{\"colorbar\":{\"outlinewidth\":0,\"ticks\":\"\"}}}],\"scatterpolargl\":[{\"type\":\"scatterpolargl\",\"marker\":{\"colorbar\":{\"outlinewidth\":0,\"ticks\":\"\"}}}],\"bar\":[{\"error_x\":{\"color\":\"#2a3f5f\"},\"error_y\":{\"color\":\"#2a3f5f\"},\"marker\":{\"line\":{\"color\":\"#E5ECF6\",\"width\":0.5},\"pattern\":{\"fillmode\":\"overlay\",\"size\":10,\"solidity\":0.2}},\"type\":\"bar\"}],\"scattergeo\":[{\"type\":\"scattergeo\",\"marker\":{\"colorbar\":{\"outlinewidth\":0,\"ticks\":\"\"}}}],\"scatterpolar\":[{\"type\":\"scatterpolar\",\"marker\":{\"colorbar\":{\"outlinewidth\":0,\"ticks\":\"\"}}}],\"histogram\":[{\"marker\":{\"pattern\":{\"fillmode\":\"overlay\",\"size\":10,\"solidity\":0.2}},\"type\":\"histogram\"}],\"scattergl\":[{\"type\":\"scattergl\",\"marker\":{\"colorbar\":{\"outlinewidth\":0,\"ticks\":\"\"}}}],\"scatter3d\":[{\"type\":\"scatter3d\",\"line\":{\"colorbar\":{\"outlinewidth\":0,\"ticks\":\"\"}},\"marker\":{\"colorbar\":{\"outlinewidth\":0,\"ticks\":\"\"}}}],\"scattermapbox\":[{\"type\":\"scattermapbox\",\"marker\":{\"colorbar\":{\"outlinewidth\":0,\"ticks\":\"\"}}}],\"scatterternary\":[{\"type\":\"scatterternary\",\"marker\":{\"colorbar\":{\"outlinewidth\":0,\"ticks\":\"\"}}}],\"scattercarpet\":[{\"type\":\"scattercarpet\",\"marker\":{\"colorbar\":{\"outlinewidth\":0,\"ticks\":\"\"}}}],\"carpet\":[{\"aaxis\":{\"endlinecolor\":\"#2a3f5f\",\"gridcolor\":\"white\",\"linecolor\":\"white\",\"minorgridcolor\":\"white\",\"startlinecolor\":\"#2a3f5f\"},\"baxis\":{\"endlinecolor\":\"#2a3f5f\",\"gridcolor\":\"white\",\"linecolor\":\"white\",\"minorgridcolor\":\"white\",\"startlinecolor\":\"#2a3f5f\"},\"type\":\"carpet\"}],\"table\":[{\"cells\":{\"fill\":{\"color\":\"#EBF0F8\"},\"line\":{\"color\":\"white\"}},\"header\":{\"fill\":{\"color\":\"#C8D4E3\"},\"line\":{\"color\":\"white\"}},\"type\":\"table\"}],\"barpolar\":[{\"marker\":{\"line\":{\"color\":\"#E5ECF6\",\"width\":0.5},\"pattern\":{\"fillmode\":\"overlay\",\"size\":10,\"solidity\":0.2}},\"type\":\"barpolar\"}],\"pie\":[{\"automargin\":true,\"type\":\"pie\"}]},\"layout\":{\"autotypenumbers\":\"strict\",\"colorway\":[\"#636efa\",\"#EF553B\",\"#00cc96\",\"#ab63fa\",\"#FFA15A\",\"#19d3f3\",\"#FF6692\",\"#B6E880\",\"#FF97FF\",\"#FECB52\"],\"font\":{\"color\":\"#2a3f5f\"},\"hovermode\":\"closest\",\"hoverlabel\":{\"align\":\"left\"},\"paper_bgcolor\":\"white\",\"plot_bgcolor\":\"#E5ECF6\",\"polar\":{\"bgcolor\":\"#E5ECF6\",\"angularaxis\":{\"gridcolor\":\"white\",\"linecolor\":\"white\",\"ticks\":\"\"},\"radialaxis\":{\"gridcolor\":\"white\",\"linecolor\":\"white\",\"ticks\":\"\"}},\"ternary\":{\"bgcolor\":\"#E5ECF6\",\"aaxis\":{\"gridcolor\":\"white\",\"linecolor\":\"white\",\"ticks\":\"\"},\"baxis\":{\"gridcolor\":\"white\",\"linecolor\":\"white\",\"ticks\":\"\"},\"caxis\":{\"gridcolor\":\"white\",\"linecolor\":\"white\",\"ticks\":\"\"}},\"coloraxis\":{\"colorbar\":{\"outlinewidth\":0,\"ticks\":\"\"}},\"colorscale\":{\"sequential\":[[0.0,\"#0d0887\"],[0.1111111111111111,\"#46039f\"],[0.2222222222222222,\"#7201a8\"],[0.3333333333333333,\"#9c179e\"],[0.4444444444444444,\"#bd3786\"],[0.5555555555555556,\"#d8576b\"],[0.6666666666666666,\"#ed7953\"],[0.7777777777777778,\"#fb9f3a\"],[0.8888888888888888,\"#fdca26\"],[1.0,\"#f0f921\"]],\"sequentialminus\":[[0.0,\"#0d0887\"],[0.1111111111111111,\"#46039f\"],[0.2222222222222222,\"#7201a8\"],[0.3333333333333333,\"#9c179e\"],[0.4444444444444444,\"#bd3786\"],[0.5555555555555556,\"#d8576b\"],[0.6666666666666666,\"#ed7953\"],[0.7777777777777778,\"#fb9f3a\"],[0.8888888888888888,\"#fdca26\"],[1.0,\"#f0f921\"]],\"diverging\":[[0,\"#8e0152\"],[0.1,\"#c51b7d\"],[0.2,\"#de77ae\"],[0.3,\"#f1b6da\"],[0.4,\"#fde0ef\"],[0.5,\"#f7f7f7\"],[0.6,\"#e6f5d0\"],[0.7,\"#b8e186\"],[0.8,\"#7fbc41\"],[0.9,\"#4d9221\"],[1,\"#276419\"]]},\"xaxis\":{\"gridcolor\":\"white\",\"linecolor\":\"white\",\"ticks\":\"\",\"title\":{\"standoff\":15},\"zerolinecolor\":\"white\",\"automargin\":true,\"zerolinewidth\":2},\"yaxis\":{\"gridcolor\":\"white\",\"linecolor\":\"white\",\"ticks\":\"\",\"title\":{\"standoff\":15},\"zerolinecolor\":\"white\",\"automargin\":true,\"zerolinewidth\":2},\"scene\":{\"xaxis\":{\"backgroundcolor\":\"#E5ECF6\",\"gridcolor\":\"white\",\"linecolor\":\"white\",\"showbackground\":true,\"ticks\":\"\",\"zerolinecolor\":\"white\",\"gridwidth\":2},\"yaxis\":{\"backgroundcolor\":\"#E5ECF6\",\"gridcolor\":\"white\",\"linecolor\":\"white\",\"showbackground\":true,\"ticks\":\"\",\"zerolinecolor\":\"white\",\"gridwidth\":2},\"zaxis\":{\"backgroundcolor\":\"#E5ECF6\",\"gridcolor\":\"white\",\"linecolor\":\"white\",\"showbackground\":true,\"ticks\":\"\",\"zerolinecolor\":\"white\",\"gridwidth\":2}},\"shapedefaults\":{\"line\":{\"color\":\"#2a3f5f\"}},\"annotationdefaults\":{\"arrowcolor\":\"#2a3f5f\",\"arrowhead\":0,\"arrowwidth\":1},\"geo\":{\"bgcolor\":\"white\",\"landcolor\":\"#E5ECF6\",\"subunitcolor\":\"white\",\"showland\":true,\"showlakes\":true,\"lakecolor\":\"white\"},\"title\":{\"x\":0.05},\"mapbox\":{\"style\":\"light\"}}},\"xaxis\":{\"anchor\":\"y\",\"domain\":[0.0,1.0],\"title\":{\"text\":\"order_month\"}},\"yaxis\":{\"anchor\":\"x\",\"domain\":[0.0,1.0],\"title\":{\"text\":\"ltv_prd_cost\"}},\"legend\":{\"tracegroupgap\":0},\"title\":{\"text\":\"Average customer purchase\"},\"barmode\":\"relative\",\"uniformtext\":{\"minsize\":8,\"mode\":\"hide\"}},                        {\"responsive\": true}                    ).then(function(){\n",
       "                            \n",
       "var gd = document.getElementById('bbd0719b-7cba-49a9-8faa-79d60abde3ff');\n",
       "var x = new MutationObserver(function (mutations, observer) {{\n",
       "        var display = window.getComputedStyle(gd).display;\n",
       "        if (!display || display === 'none') {{\n",
       "            console.log([gd, 'removed!']);\n",
       "            Plotly.purge(gd);\n",
       "            observer.disconnect();\n",
       "        }}\n",
       "}});\n",
       "\n",
       "// Listen for the removal of the full notebook cells\n",
       "var notebookContainer = gd.closest('#notebook-container');\n",
       "if (notebookContainer) {{\n",
       "    x.observe(notebookContainer, {childList: true});\n",
       "}}\n",
       "\n",
       "// Listen for the clearing of the current output cell\n",
       "var outputEl = gd.closest('.output');\n",
       "if (outputEl) {{\n",
       "    x.observe(outputEl, {childList: true});\n",
       "}}\n",
       "\n",
       "                        })                };                });            </script>        </div>"
      ]
     },
     "metadata": {},
     "output_type": "display_data"
    }
   ],
   "source": [
    "#plot the findings\n",
    "fig = px.bar(avg_pur , x=\"order_month\", y=\"ltv_prd_cost\", text=\"ltv_prd_cost\", title=\"Average customer purchase\")\n",
    "fig.update_layout(uniformtext_minsize=8, uniformtext_mode='hide')\n",
    "fig.show()"
   ]
  },
  {
   "cell_type": "markdown",
   "id": "e30d76a1",
   "metadata": {},
   "source": [
    "<font size=\"3\"><b>Insight:</b>  There seems to be a cycle in the plot where there is a four month increase in purchases by the customer. This increase goes from September to December. It's extremly evident in 2021.  More information will need to be gathered to see if the lockdowns during the recent pandemic is the reason for the sudden spike in customer activity."
   ]
  },
  {
   "cell_type": "markdown",
   "id": "30db14ef",
   "metadata": {},
   "source": [
    "# Cohort Analysis"
   ]
  },
  {
   "cell_type": "markdown",
   "id": "a33a2c43",
   "metadata": {},
   "source": [
    "### How many orders do they make during a given period of time?"
   ]
  },
  {
   "cell_type": "code",
   "execution_count": 86,
   "id": "cc7b68ae",
   "metadata": {},
   "outputs": [
    {
     "data": {
      "text/html": [
       "<div>\n",
       "<style scoped>\n",
       "    .dataframe tbody tr th:only-of-type {\n",
       "        vertical-align: middle;\n",
       "    }\n",
       "\n",
       "    .dataframe tbody tr th {\n",
       "        vertical-align: top;\n",
       "    }\n",
       "\n",
       "    .dataframe thead th {\n",
       "        text-align: right;\n",
       "    }\n",
       "</style>\n",
       "<table border=\"1\" class=\"dataframe\">\n",
       "  <thead>\n",
       "    <tr style=\"text-align: right;\">\n",
       "      <th></th>\n",
       "      <th>product_code</th>\n",
       "      <th>fiscal_year</th>\n",
       "      <th>gross_price</th>\n",
       "      <th>customer_code</th>\n",
       "      <th>date</th>\n",
       "      <th>sold_quantity</th>\n",
       "      <th>order_month</th>\n",
       "      <th>ltv_prd_cost</th>\n",
       "      <th>first_order_month</th>\n",
       "      <th>customer</th>\n",
       "      <th>platform</th>\n",
       "      <th>market</th>\n",
       "      <th>region</th>\n",
       "    </tr>\n",
       "  </thead>\n",
       "  <tbody>\n",
       "    <tr>\n",
       "      <th>0</th>\n",
       "      <td>A0118150101</td>\n",
       "      <td>2018</td>\n",
       "      <td>15.3952</td>\n",
       "      <td>70002017.0</td>\n",
       "      <td>2017-09-01</td>\n",
       "      <td>51.0</td>\n",
       "      <td>2017-09-01</td>\n",
       "      <td>785.1552</td>\n",
       "      <td>2017-09-01</td>\n",
       "      <td>Atliq Exclusive</td>\n",
       "      <td>Brick &amp; Mortar</td>\n",
       "      <td>India</td>\n",
       "      <td>APAC</td>\n",
       "    </tr>\n",
       "    <tr>\n",
       "      <th>1</th>\n",
       "      <td>A0118150101</td>\n",
       "      <td>2018</td>\n",
       "      <td>15.3952</td>\n",
       "      <td>70002017.0</td>\n",
       "      <td>2017-10-01</td>\n",
       "      <td>54.0</td>\n",
       "      <td>2017-10-01</td>\n",
       "      <td>831.3408</td>\n",
       "      <td>2017-09-01</td>\n",
       "      <td>Atliq Exclusive</td>\n",
       "      <td>Brick &amp; Mortar</td>\n",
       "      <td>India</td>\n",
       "      <td>APAC</td>\n",
       "    </tr>\n",
       "    <tr>\n",
       "      <th>2</th>\n",
       "      <td>A0118150101</td>\n",
       "      <td>2018</td>\n",
       "      <td>15.3952</td>\n",
       "      <td>70002017.0</td>\n",
       "      <td>2017-11-01</td>\n",
       "      <td>30.0</td>\n",
       "      <td>2017-11-01</td>\n",
       "      <td>461.8560</td>\n",
       "      <td>2017-09-01</td>\n",
       "      <td>Atliq Exclusive</td>\n",
       "      <td>Brick &amp; Mortar</td>\n",
       "      <td>India</td>\n",
       "      <td>APAC</td>\n",
       "    </tr>\n",
       "    <tr>\n",
       "      <th>3</th>\n",
       "      <td>A0118150101</td>\n",
       "      <td>2018</td>\n",
       "      <td>15.3952</td>\n",
       "      <td>70002017.0</td>\n",
       "      <td>2018-01-01</td>\n",
       "      <td>14.0</td>\n",
       "      <td>2018-01-01</td>\n",
       "      <td>215.5328</td>\n",
       "      <td>2017-09-01</td>\n",
       "      <td>Atliq Exclusive</td>\n",
       "      <td>Brick &amp; Mortar</td>\n",
       "      <td>India</td>\n",
       "      <td>APAC</td>\n",
       "    </tr>\n",
       "    <tr>\n",
       "      <th>4</th>\n",
       "      <td>A0118150101</td>\n",
       "      <td>2018</td>\n",
       "      <td>15.3952</td>\n",
       "      <td>70002017.0</td>\n",
       "      <td>2018-02-01</td>\n",
       "      <td>62.0</td>\n",
       "      <td>2018-02-01</td>\n",
       "      <td>954.5024</td>\n",
       "      <td>2017-09-01</td>\n",
       "      <td>Atliq Exclusive</td>\n",
       "      <td>Brick &amp; Mortar</td>\n",
       "      <td>India</td>\n",
       "      <td>APAC</td>\n",
       "    </tr>\n",
       "  </tbody>\n",
       "</table>\n",
       "</div>"
      ],
      "text/plain": [
       "  product_code  fiscal_year  gross_price  customer_code       date  \\\n",
       "0  A0118150101         2018      15.3952     70002017.0 2017-09-01   \n",
       "1  A0118150101         2018      15.3952     70002017.0 2017-10-01   \n",
       "2  A0118150101         2018      15.3952     70002017.0 2017-11-01   \n",
       "3  A0118150101         2018      15.3952     70002017.0 2018-01-01   \n",
       "4  A0118150101         2018      15.3952     70002017.0 2018-02-01   \n",
       "\n",
       "   sold_quantity order_month  ltv_prd_cost first_order_month         customer  \\\n",
       "0           51.0  2017-09-01      785.1552        2017-09-01  Atliq Exclusive   \n",
       "1           54.0  2017-10-01      831.3408        2017-09-01  Atliq Exclusive   \n",
       "2           30.0  2017-11-01      461.8560        2017-09-01  Atliq Exclusive   \n",
       "3           14.0  2018-01-01      215.5328        2017-09-01  Atliq Exclusive   \n",
       "4           62.0  2018-02-01      954.5024        2017-09-01  Atliq Exclusive   \n",
       "\n",
       "         platform market region  \n",
       "0  Brick & Mortar  India   APAC  \n",
       "1  Brick & Mortar  India   APAC  \n",
       "2  Brick & Mortar  India   APAC  \n",
       "3  Brick & Mortar  India   APAC  \n",
       "4  Brick & Mortar  India   APAC  "
      ]
     },
     "execution_count": 86,
     "metadata": {},
     "output_type": "execute_result"
    }
   ],
   "source": [
    "orders_named.head()"
   ]
  },
  {
   "cell_type": "code",
   "execution_count": 87,
   "id": "24891b08",
   "metadata": {},
   "outputs": [],
   "source": [
    "#Assuming 'date_column' is the name of the date column in your DataFrame\n",
    "unique_dates = orders_named['fiscal_year'].unique()\n",
    "\n",
    "# If you want the unique dates as a sorted list, you can use the sorted function\n",
    "unique_dates_sorted = sorted(unique_dates)"
   ]
  },
  {
   "cell_type": "code",
   "execution_count": 88,
   "id": "5beadffa",
   "metadata": {},
   "outputs": [
    {
     "data": {
      "text/plain": [
       "[2018, 2019, 2020, 2021, 2022]"
      ]
     },
     "execution_count": 88,
     "metadata": {},
     "output_type": "execute_result"
    }
   ],
   "source": [
    "unique_dates_sorted # to see what years we are working with"
   ]
  },
  {
   "cell_type": "code",
   "execution_count": 89,
   "id": "8a918804",
   "metadata": {},
   "outputs": [
    {
     "data": {
      "text/html": [
       "<div>\n",
       "<style scoped>\n",
       "    .dataframe tbody tr th:only-of-type {\n",
       "        vertical-align: middle;\n",
       "    }\n",
       "\n",
       "    .dataframe tbody tr th {\n",
       "        vertical-align: top;\n",
       "    }\n",
       "\n",
       "    .dataframe thead th {\n",
       "        text-align: right;\n",
       "    }\n",
       "</style>\n",
       "<table border=\"1\" class=\"dataframe\">\n",
       "  <thead>\n",
       "    <tr style=\"text-align: right;\">\n",
       "      <th></th>\n",
       "      <th>product_code</th>\n",
       "      <th>fiscal_year</th>\n",
       "      <th>gross_price</th>\n",
       "      <th>customer_code</th>\n",
       "      <th>date</th>\n",
       "      <th>sold_quantity</th>\n",
       "      <th>order_month</th>\n",
       "      <th>ltv_prd_cost</th>\n",
       "      <th>first_order_month</th>\n",
       "      <th>customer</th>\n",
       "      <th>platform</th>\n",
       "      <th>market</th>\n",
       "      <th>region</th>\n",
       "    </tr>\n",
       "  </thead>\n",
       "  <tbody>\n",
       "    <tr>\n",
       "      <th>30</th>\n",
       "      <td>A0118150101</td>\n",
       "      <td>2018</td>\n",
       "      <td>15.3952</td>\n",
       "      <td>70002017.0</td>\n",
       "      <td>2021-01-01</td>\n",
       "      <td>119.0</td>\n",
       "      <td>2021-01-01</td>\n",
       "      <td>1832.0288</td>\n",
       "      <td>2017-09-01</td>\n",
       "      <td>Atliq Exclusive</td>\n",
       "      <td>Brick &amp; Mortar</td>\n",
       "      <td>India</td>\n",
       "      <td>APAC</td>\n",
       "    </tr>\n",
       "    <tr>\n",
       "      <th>31</th>\n",
       "      <td>A0118150101</td>\n",
       "      <td>2018</td>\n",
       "      <td>15.3952</td>\n",
       "      <td>70002017.0</td>\n",
       "      <td>2021-02-01</td>\n",
       "      <td>174.0</td>\n",
       "      <td>2021-02-01</td>\n",
       "      <td>2678.7648</td>\n",
       "      <td>2017-09-01</td>\n",
       "      <td>Atliq Exclusive</td>\n",
       "      <td>Brick &amp; Mortar</td>\n",
       "      <td>India</td>\n",
       "      <td>APAC</td>\n",
       "    </tr>\n",
       "    <tr>\n",
       "      <th>32</th>\n",
       "      <td>A0118150101</td>\n",
       "      <td>2018</td>\n",
       "      <td>15.3952</td>\n",
       "      <td>70002017.0</td>\n",
       "      <td>2021-03-01</td>\n",
       "      <td>161.0</td>\n",
       "      <td>2021-03-01</td>\n",
       "      <td>2478.6272</td>\n",
       "      <td>2017-09-01</td>\n",
       "      <td>Atliq Exclusive</td>\n",
       "      <td>Brick &amp; Mortar</td>\n",
       "      <td>India</td>\n",
       "      <td>APAC</td>\n",
       "    </tr>\n",
       "    <tr>\n",
       "      <th>33</th>\n",
       "      <td>A0118150101</td>\n",
       "      <td>2018</td>\n",
       "      <td>15.3952</td>\n",
       "      <td>70002017.0</td>\n",
       "      <td>2021-05-01</td>\n",
       "      <td>187.0</td>\n",
       "      <td>2021-05-01</td>\n",
       "      <td>2878.9024</td>\n",
       "      <td>2017-09-01</td>\n",
       "      <td>Atliq Exclusive</td>\n",
       "      <td>Brick &amp; Mortar</td>\n",
       "      <td>India</td>\n",
       "      <td>APAC</td>\n",
       "    </tr>\n",
       "    <tr>\n",
       "      <th>34</th>\n",
       "      <td>A0118150101</td>\n",
       "      <td>2018</td>\n",
       "      <td>15.3952</td>\n",
       "      <td>70002017.0</td>\n",
       "      <td>2021-06-01</td>\n",
       "      <td>123.0</td>\n",
       "      <td>2021-06-01</td>\n",
       "      <td>1893.6096</td>\n",
       "      <td>2017-09-01</td>\n",
       "      <td>Atliq Exclusive</td>\n",
       "      <td>Brick &amp; Mortar</td>\n",
       "      <td>India</td>\n",
       "      <td>APAC</td>\n",
       "    </tr>\n",
       "  </tbody>\n",
       "</table>\n",
       "</div>"
      ],
      "text/plain": [
       "   product_code  fiscal_year  gross_price  customer_code       date  \\\n",
       "30  A0118150101         2018      15.3952     70002017.0 2021-01-01   \n",
       "31  A0118150101         2018      15.3952     70002017.0 2021-02-01   \n",
       "32  A0118150101         2018      15.3952     70002017.0 2021-03-01   \n",
       "33  A0118150101         2018      15.3952     70002017.0 2021-05-01   \n",
       "34  A0118150101         2018      15.3952     70002017.0 2021-06-01   \n",
       "\n",
       "    sold_quantity order_month  ltv_prd_cost first_order_month  \\\n",
       "30          119.0  2021-01-01     1832.0288        2017-09-01   \n",
       "31          174.0  2021-02-01     2678.7648        2017-09-01   \n",
       "32          161.0  2021-03-01     2478.6272        2017-09-01   \n",
       "33          187.0  2021-05-01     2878.9024        2017-09-01   \n",
       "34          123.0  2021-06-01     1893.6096        2017-09-01   \n",
       "\n",
       "           customer        platform market region  \n",
       "30  Atliq Exclusive  Brick & Mortar  India   APAC  \n",
       "31  Atliq Exclusive  Brick & Mortar  India   APAC  \n",
       "32  Atliq Exclusive  Brick & Mortar  India   APAC  \n",
       "33  Atliq Exclusive  Brick & Mortar  India   APAC  \n",
       "34  Atliq Exclusive  Brick & Mortar  India   APAC  "
      ]
     },
     "execution_count": 89,
     "metadata": {},
     "output_type": "execute_result"
    }
   ],
   "source": [
    "# Specify the year you want to filter from the date variable\n",
    "target_year = 2021\n",
    "\n",
    "# Filter the DataFrame to show records only from the target year\n",
    "filtered_ltv = orders_named[orders_named['date'].dt.year == target_year]\n",
    "\n",
    "# Print the filtered DataFrame\n",
    "filtered_ltv.head()"
   ]
  },
  {
   "cell_type": "code",
   "execution_count": 90,
   "id": "a85e787a",
   "metadata": {},
   "outputs": [
    {
     "data": {
      "text/plain": [
       "(72100, 13)"
      ]
     },
     "execution_count": 90,
     "metadata": {},
     "output_type": "execute_result"
    }
   ],
   "source": [
    "filtered_ltv.shape #the filtered data frame; filtered on year from date variable"
   ]
  },
  {
   "cell_type": "code",
   "execution_count": 91,
   "id": "ffe69cb6",
   "metadata": {},
   "outputs": [
    {
     "data": {
      "text/html": [
       "<div>\n",
       "<style scoped>\n",
       "    .dataframe tbody tr th:only-of-type {\n",
       "        vertical-align: middle;\n",
       "    }\n",
       "\n",
       "    .dataframe tbody tr th {\n",
       "        vertical-align: top;\n",
       "    }\n",
       "\n",
       "    .dataframe thead th {\n",
       "        text-align: right;\n",
       "    }\n",
       "</style>\n",
       "<table border=\"1\" class=\"dataframe\">\n",
       "  <thead>\n",
       "    <tr style=\"text-align: right;\">\n",
       "      <th></th>\n",
       "      <th>month</th>\n",
       "      <th>n_buyers</th>\n",
       "    </tr>\n",
       "  </thead>\n",
       "  <tbody>\n",
       "    <tr>\n",
       "      <th>0</th>\n",
       "      <td>2021-01-01</td>\n",
       "      <td>157</td>\n",
       "    </tr>\n",
       "    <tr>\n",
       "      <th>1</th>\n",
       "      <td>2021-02-01</td>\n",
       "      <td>157</td>\n",
       "    </tr>\n",
       "    <tr>\n",
       "      <th>2</th>\n",
       "      <td>2021-03-01</td>\n",
       "      <td>157</td>\n",
       "    </tr>\n",
       "    <tr>\n",
       "      <th>3</th>\n",
       "      <td>2021-04-01</td>\n",
       "      <td>156</td>\n",
       "    </tr>\n",
       "    <tr>\n",
       "      <th>4</th>\n",
       "      <td>2021-05-01</td>\n",
       "      <td>157</td>\n",
       "    </tr>\n",
       "    <tr>\n",
       "      <th>5</th>\n",
       "      <td>2021-06-01</td>\n",
       "      <td>157</td>\n",
       "    </tr>\n",
       "    <tr>\n",
       "      <th>6</th>\n",
       "      <td>2021-07-01</td>\n",
       "      <td>157</td>\n",
       "    </tr>\n",
       "    <tr>\n",
       "      <th>7</th>\n",
       "      <td>2021-08-01</td>\n",
       "      <td>156</td>\n",
       "    </tr>\n",
       "    <tr>\n",
       "      <th>8</th>\n",
       "      <td>2021-09-01</td>\n",
       "      <td>157</td>\n",
       "    </tr>\n",
       "    <tr>\n",
       "      <th>9</th>\n",
       "      <td>2021-10-01</td>\n",
       "      <td>157</td>\n",
       "    </tr>\n",
       "    <tr>\n",
       "      <th>10</th>\n",
       "      <td>2021-11-01</td>\n",
       "      <td>157</td>\n",
       "    </tr>\n",
       "    <tr>\n",
       "      <th>11</th>\n",
       "      <td>2021-12-01</td>\n",
       "      <td>156</td>\n",
       "    </tr>\n",
       "  </tbody>\n",
       "</table>\n",
       "</div>"
      ],
      "text/plain": [
       "        month  n_buyers\n",
       "0  2021-01-01       157\n",
       "1  2021-02-01       157\n",
       "2  2021-03-01       157\n",
       "3  2021-04-01       156\n",
       "4  2021-05-01       157\n",
       "5  2021-06-01       157\n",
       "6  2021-07-01       157\n",
       "7  2021-08-01       156\n",
       "8  2021-09-01       157\n",
       "9  2021-10-01       157\n",
       "10 2021-11-01       157\n",
       "11 2021-12-01       156"
      ]
     },
     "execution_count": 91,
     "metadata": {},
     "output_type": "execute_result"
    }
   ],
   "source": [
    "#We'll calculate the (n_buyers) for each order month as it's 2021:\n",
    "focohort_sizes = filtered_ltv.groupby('order_month').agg({'customer_code': 'nunique'}).reset_index()\n",
    "focohort_sizes.columns = ['month', 'n_buyers']\n",
    "focohort_sizes"
   ]
  },
  {
   "cell_type": "markdown",
   "id": "aaf4e230",
   "metadata": {},
   "source": [
    "<font size=\"3\"> Again the above dataframe shows that there was almost no significant change in n_buyers/customer numbers. "
   ]
  },
  {
   "cell_type": "code",
   "execution_count": 92,
   "id": "5af9b526",
   "metadata": {},
   "outputs": [
    {
     "data": {
      "text/html": [
       "<div>\n",
       "<style scoped>\n",
       "    .dataframe tbody tr th:only-of-type {\n",
       "        vertical-align: middle;\n",
       "    }\n",
       "\n",
       "    .dataframe tbody tr th {\n",
       "        vertical-align: top;\n",
       "    }\n",
       "\n",
       "    .dataframe thead th {\n",
       "        text-align: right;\n",
       "    }\n",
       "</style>\n",
       "<table border=\"1\" class=\"dataframe\">\n",
       "  <thead>\n",
       "    <tr style=\"text-align: right;\">\n",
       "      <th></th>\n",
       "      <th>first_order_month</th>\n",
       "      <th>month</th>\n",
       "      <th>n_orders</th>\n",
       "    </tr>\n",
       "  </thead>\n",
       "  <tbody>\n",
       "    <tr>\n",
       "      <th>0</th>\n",
       "      <td>2017-09-01</td>\n",
       "      <td>2021-01-01</td>\n",
       "      <td>3444</td>\n",
       "    </tr>\n",
       "    <tr>\n",
       "      <th>1</th>\n",
       "      <td>2017-09-01</td>\n",
       "      <td>2021-02-01</td>\n",
       "      <td>2337</td>\n",
       "    </tr>\n",
       "    <tr>\n",
       "      <th>2</th>\n",
       "      <td>2017-09-01</td>\n",
       "      <td>2021-03-01</td>\n",
       "      <td>2296</td>\n",
       "    </tr>\n",
       "    <tr>\n",
       "      <th>3</th>\n",
       "      <td>2017-09-01</td>\n",
       "      <td>2021-04-01</td>\n",
       "      <td>2255</td>\n",
       "    </tr>\n",
       "    <tr>\n",
       "      <th>4</th>\n",
       "      <td>2017-09-01</td>\n",
       "      <td>2021-05-01</td>\n",
       "      <td>3444</td>\n",
       "    </tr>\n",
       "    <tr>\n",
       "      <th>...</th>\n",
       "      <td>...</td>\n",
       "      <td>...</td>\n",
       "      <td>...</td>\n",
       "    </tr>\n",
       "    <tr>\n",
       "      <th>58</th>\n",
       "      <td>2019-10-01</td>\n",
       "      <td>2021-07-01</td>\n",
       "      <td>492</td>\n",
       "    </tr>\n",
       "    <tr>\n",
       "      <th>59</th>\n",
       "      <td>2019-10-01</td>\n",
       "      <td>2021-08-01</td>\n",
       "      <td>492</td>\n",
       "    </tr>\n",
       "    <tr>\n",
       "      <th>60</th>\n",
       "      <td>2019-10-01</td>\n",
       "      <td>2021-10-01</td>\n",
       "      <td>396</td>\n",
       "    </tr>\n",
       "    <tr>\n",
       "      <th>61</th>\n",
       "      <td>2019-10-01</td>\n",
       "      <td>2021-11-01</td>\n",
       "      <td>396</td>\n",
       "    </tr>\n",
       "    <tr>\n",
       "      <th>62</th>\n",
       "      <td>2019-10-01</td>\n",
       "      <td>2021-12-01</td>\n",
       "      <td>396</td>\n",
       "    </tr>\n",
       "  </tbody>\n",
       "</table>\n",
       "<p>63 rows × 3 columns</p>\n",
       "</div>"
      ],
      "text/plain": [
       "   first_order_month      month  n_orders\n",
       "0         2017-09-01 2021-01-01      3444\n",
       "1         2017-09-01 2021-02-01      2337\n",
       "2         2017-09-01 2021-03-01      2296\n",
       "3         2017-09-01 2021-04-01      2255\n",
       "4         2017-09-01 2021-05-01      3444\n",
       "..               ...        ...       ...\n",
       "58        2019-10-01 2021-07-01       492\n",
       "59        2019-10-01 2021-08-01       492\n",
       "60        2019-10-01 2021-10-01       396\n",
       "61        2019-10-01 2021-11-01       396\n",
       "62        2019-10-01 2021-12-01       396\n",
       "\n",
       "[63 rows x 3 columns]"
      ]
     },
     "execution_count": 92,
     "metadata": {},
     "output_type": "execute_result"
    }
   ],
   "source": [
    "#group orders by first order month and order_month and count revenue\n",
    "\n",
    "cohort_pur=filtered_ltv.groupby(['first_order_month','order_month'])['ltv_prd_cost'].count().reset_index()\n",
    "# renaming columns\n",
    "cohort_pur.columns=['first_order_month','month','n_orders']\n",
    "cohort_pur"
   ]
  },
  {
   "cell_type": "code",
   "execution_count": 93,
   "id": "a4bdbcfb",
   "metadata": {},
   "outputs": [
    {
     "data": {
      "text/html": [
       "<div>\n",
       "<style scoped>\n",
       "    .dataframe tbody tr th:only-of-type {\n",
       "        vertical-align: middle;\n",
       "    }\n",
       "\n",
       "    .dataframe tbody tr th {\n",
       "        vertical-align: top;\n",
       "    }\n",
       "\n",
       "    .dataframe thead th {\n",
       "        text-align: right;\n",
       "    }\n",
       "</style>\n",
       "<table border=\"1\" class=\"dataframe\">\n",
       "  <thead>\n",
       "    <tr style=\"text-align: right;\">\n",
       "      <th></th>\n",
       "      <th>month</th>\n",
       "      <th>n_buyers</th>\n",
       "      <th>first_order_month</th>\n",
       "      <th>n_orders</th>\n",
       "    </tr>\n",
       "  </thead>\n",
       "  <tbody>\n",
       "    <tr>\n",
       "      <th>0</th>\n",
       "      <td>2021-01-01</td>\n",
       "      <td>157</td>\n",
       "      <td>2017-09-01</td>\n",
       "      <td>3444</td>\n",
       "    </tr>\n",
       "    <tr>\n",
       "      <th>1</th>\n",
       "      <td>2021-01-01</td>\n",
       "      <td>157</td>\n",
       "      <td>2018-09-01</td>\n",
       "      <td>1476</td>\n",
       "    </tr>\n",
       "    <tr>\n",
       "      <th>2</th>\n",
       "      <td>2021-01-01</td>\n",
       "      <td>157</td>\n",
       "      <td>2019-09-01</td>\n",
       "      <td>1517</td>\n",
       "    </tr>\n",
       "    <tr>\n",
       "      <th>3</th>\n",
       "      <td>2021-02-01</td>\n",
       "      <td>157</td>\n",
       "      <td>2017-09-01</td>\n",
       "      <td>2337</td>\n",
       "    </tr>\n",
       "    <tr>\n",
       "      <th>4</th>\n",
       "      <td>2021-02-01</td>\n",
       "      <td>157</td>\n",
       "      <td>2017-10-01</td>\n",
       "      <td>1025</td>\n",
       "    </tr>\n",
       "    <tr>\n",
       "      <th>...</th>\n",
       "      <td>...</td>\n",
       "      <td>...</td>\n",
       "      <td>...</td>\n",
       "      <td>...</td>\n",
       "    </tr>\n",
       "    <tr>\n",
       "      <th>58</th>\n",
       "      <td>2021-12-01</td>\n",
       "      <td>156</td>\n",
       "      <td>2017-10-01</td>\n",
       "      <td>825</td>\n",
       "    </tr>\n",
       "    <tr>\n",
       "      <th>59</th>\n",
       "      <td>2021-12-01</td>\n",
       "      <td>156</td>\n",
       "      <td>2018-09-01</td>\n",
       "      <td>825</td>\n",
       "    </tr>\n",
       "    <tr>\n",
       "      <th>60</th>\n",
       "      <td>2021-12-01</td>\n",
       "      <td>156</td>\n",
       "      <td>2018-10-01</td>\n",
       "      <td>495</td>\n",
       "    </tr>\n",
       "    <tr>\n",
       "      <th>61</th>\n",
       "      <td>2021-12-01</td>\n",
       "      <td>156</td>\n",
       "      <td>2019-09-01</td>\n",
       "      <td>792</td>\n",
       "    </tr>\n",
       "    <tr>\n",
       "      <th>62</th>\n",
       "      <td>2021-12-01</td>\n",
       "      <td>156</td>\n",
       "      <td>2019-10-01</td>\n",
       "      <td>396</td>\n",
       "    </tr>\n",
       "  </tbody>\n",
       "</table>\n",
       "<p>63 rows × 4 columns</p>\n",
       "</div>"
      ],
      "text/plain": [
       "        month  n_buyers first_order_month  n_orders\n",
       "0  2021-01-01       157        2017-09-01      3444\n",
       "1  2021-01-01       157        2018-09-01      1476\n",
       "2  2021-01-01       157        2019-09-01      1517\n",
       "3  2021-02-01       157        2017-09-01      2337\n",
       "4  2021-02-01       157        2017-10-01      1025\n",
       "..        ...       ...               ...       ...\n",
       "58 2021-12-01       156        2017-10-01       825\n",
       "59 2021-12-01       156        2018-09-01       825\n",
       "60 2021-12-01       156        2018-10-01       495\n",
       "61 2021-12-01       156        2019-09-01       792\n",
       "62 2021-12-01       156        2019-10-01       396\n",
       "\n",
       "[63 rows x 4 columns]"
      ]
     },
     "execution_count": 93,
     "metadata": {},
     "output_type": "execute_result"
    }
   ],
   "source": [
    "#Merge the order and buyers cohorts\n",
    "\n",
    "orders_cohort = pd.merge(focohort_sizes, cohort_pur, on='month')\n",
    "orders_cohort\n"
   ]
  },
  {
   "cell_type": "code",
   "execution_count": 94,
   "id": "07dd2210",
   "metadata": {},
   "outputs": [
    {
     "data": {
      "text/html": [
       "<div>\n",
       "<style scoped>\n",
       "    .dataframe tbody tr th:only-of-type {\n",
       "        vertical-align: middle;\n",
       "    }\n",
       "\n",
       "    .dataframe tbody tr th {\n",
       "        vertical-align: top;\n",
       "    }\n",
       "\n",
       "    .dataframe thead th {\n",
       "        text-align: right;\n",
       "    }\n",
       "</style>\n",
       "<table border=\"1\" class=\"dataframe\">\n",
       "  <thead>\n",
       "    <tr style=\"text-align: right;\">\n",
       "      <th></th>\n",
       "      <th>month</th>\n",
       "      <th>n_buyers</th>\n",
       "      <th>first_order_month</th>\n",
       "      <th>n_orders</th>\n",
       "      <th>age</th>\n",
       "    </tr>\n",
       "  </thead>\n",
       "  <tbody>\n",
       "    <tr>\n",
       "      <th>0</th>\n",
       "      <td>2021-01-01</td>\n",
       "      <td>157</td>\n",
       "      <td>2017-09-01</td>\n",
       "      <td>3444</td>\n",
       "      <td>40</td>\n",
       "    </tr>\n",
       "    <tr>\n",
       "      <th>1</th>\n",
       "      <td>2021-01-01</td>\n",
       "      <td>157</td>\n",
       "      <td>2018-09-01</td>\n",
       "      <td>1476</td>\n",
       "      <td>28</td>\n",
       "    </tr>\n",
       "    <tr>\n",
       "      <th>2</th>\n",
       "      <td>2021-01-01</td>\n",
       "      <td>157</td>\n",
       "      <td>2019-09-01</td>\n",
       "      <td>1517</td>\n",
       "      <td>16</td>\n",
       "    </tr>\n",
       "    <tr>\n",
       "      <th>3</th>\n",
       "      <td>2021-02-01</td>\n",
       "      <td>157</td>\n",
       "      <td>2017-09-01</td>\n",
       "      <td>2337</td>\n",
       "      <td>41</td>\n",
       "    </tr>\n",
       "    <tr>\n",
       "      <th>4</th>\n",
       "      <td>2021-02-01</td>\n",
       "      <td>157</td>\n",
       "      <td>2017-10-01</td>\n",
       "      <td>1025</td>\n",
       "      <td>40</td>\n",
       "    </tr>\n",
       "  </tbody>\n",
       "</table>\n",
       "</div>"
      ],
      "text/plain": [
       "       month  n_buyers first_order_month  n_orders  age\n",
       "0 2021-01-01       157        2017-09-01      3444   40\n",
       "1 2021-01-01       157        2018-09-01      1476   28\n",
       "2 2021-01-01       157        2019-09-01      1517   16\n",
       "3 2021-02-01       157        2017-09-01      2337   41\n",
       "4 2021-02-01       157        2017-10-01      1025   40"
      ]
     },
     "execution_count": 94,
     "metadata": {},
     "output_type": "execute_result"
    }
   ],
   "source": [
    "#find cohort age\n",
    "\n",
    "orders_cohort['age'] = (orders_cohort['month'] - orders_cohort['first_order_month']) / np.timedelta64(1, 'M')\n",
    "orders_cohort['age'] = orders_cohort['age'].round().astype('int')\n",
    "\n",
    "orders_cohort.head() "
   ]
  },
  {
   "cell_type": "markdown",
   "id": "f00cf54f",
   "metadata": {},
   "source": [
    "<font size=\"3\"> Cohort ages are high due to the increased time span of customers first orders."
   ]
  },
  {
   "cell_type": "code",
   "execution_count": 95,
   "id": "889941ad",
   "metadata": {},
   "outputs": [
    {
     "data": {
      "text/html": [
       "<div>\n",
       "<style scoped>\n",
       "    .dataframe tbody tr th:only-of-type {\n",
       "        vertical-align: middle;\n",
       "    }\n",
       "\n",
       "    .dataframe tbody tr th {\n",
       "        vertical-align: top;\n",
       "    }\n",
       "\n",
       "    .dataframe thead th {\n",
       "        text-align: right;\n",
       "    }\n",
       "</style>\n",
       "<table border=\"1\" class=\"dataframe\">\n",
       "  <thead>\n",
       "    <tr style=\"text-align: right;\">\n",
       "      <th></th>\n",
       "      <th>month</th>\n",
       "      <th>n_buyers</th>\n",
       "      <th>first_order_month</th>\n",
       "      <th>n_orders</th>\n",
       "      <th>age</th>\n",
       "      <th>orders_per_buyer</th>\n",
       "    </tr>\n",
       "  </thead>\n",
       "  <tbody>\n",
       "    <tr>\n",
       "      <th>0</th>\n",
       "      <td>2021-01-01</td>\n",
       "      <td>157</td>\n",
       "      <td>2017-09-01</td>\n",
       "      <td>3444</td>\n",
       "      <td>40</td>\n",
       "      <td>21.936306</td>\n",
       "    </tr>\n",
       "    <tr>\n",
       "      <th>1</th>\n",
       "      <td>2021-01-01</td>\n",
       "      <td>157</td>\n",
       "      <td>2018-09-01</td>\n",
       "      <td>1476</td>\n",
       "      <td>28</td>\n",
       "      <td>9.401274</td>\n",
       "    </tr>\n",
       "    <tr>\n",
       "      <th>2</th>\n",
       "      <td>2021-01-01</td>\n",
       "      <td>157</td>\n",
       "      <td>2019-09-01</td>\n",
       "      <td>1517</td>\n",
       "      <td>16</td>\n",
       "      <td>9.662420</td>\n",
       "    </tr>\n",
       "    <tr>\n",
       "      <th>3</th>\n",
       "      <td>2021-02-01</td>\n",
       "      <td>157</td>\n",
       "      <td>2017-09-01</td>\n",
       "      <td>2337</td>\n",
       "      <td>41</td>\n",
       "      <td>14.885350</td>\n",
       "    </tr>\n",
       "    <tr>\n",
       "      <th>4</th>\n",
       "      <td>2021-02-01</td>\n",
       "      <td>157</td>\n",
       "      <td>2017-10-01</td>\n",
       "      <td>1025</td>\n",
       "      <td>40</td>\n",
       "      <td>6.528662</td>\n",
       "    </tr>\n",
       "  </tbody>\n",
       "</table>\n",
       "</div>"
      ],
      "text/plain": [
       "       month  n_buyers first_order_month  n_orders  age  orders_per_buyer\n",
       "0 2021-01-01       157        2017-09-01      3444   40         21.936306\n",
       "1 2021-01-01       157        2018-09-01      1476   28          9.401274\n",
       "2 2021-01-01       157        2019-09-01      1517   16          9.662420\n",
       "3 2021-02-01       157        2017-09-01      2337   41         14.885350\n",
       "4 2021-02-01       157        2017-10-01      1025   40          6.528662"
      ]
     },
     "execution_count": 95,
     "metadata": {},
     "output_type": "execute_result"
    }
   ],
   "source": [
    "#buyers for each cohort\n",
    "orders_cohort['orders_per_buyer'] = orders_cohort['n_orders']/orders_cohort['n_buyers']\n",
    "orders_cohort.head()"
   ]
  },
  {
   "cell_type": "code",
   "execution_count": 96,
   "id": "292bb9fe",
   "metadata": {},
   "outputs": [
    {
     "name": "stdout",
     "output_type": "stream",
     "text": [
      "<class 'pandas.core.frame.DataFrame'>\n",
      "Int64Index: 63 entries, 0 to 62\n",
      "Data columns (total 6 columns):\n",
      " #   Column             Non-Null Count  Dtype         \n",
      "---  ------             --------------  -----         \n",
      " 0   month              63 non-null     datetime64[ns]\n",
      " 1   n_buyers           63 non-null     int64         \n",
      " 2   first_order_month  63 non-null     datetime64[ns]\n",
      " 3   n_orders           63 non-null     int64         \n",
      " 4   age                63 non-null     int32         \n",
      " 5   orders_per_buyer   63 non-null     float64       \n",
      "dtypes: datetime64[ns](2), float64(1), int32(1), int64(2)\n",
      "memory usage: 3.2 KB\n"
     ]
    }
   ],
   "source": [
    "orders_cohort.info()#checking data"
   ]
  },
  {
   "cell_type": "code",
   "execution_count": 97,
   "id": "66eae498",
   "metadata": {},
   "outputs": [
    {
     "data": {
      "text/html": [
       "<div>\n",
       "<style scoped>\n",
       "    .dataframe tbody tr th:only-of-type {\n",
       "        vertical-align: middle;\n",
       "    }\n",
       "\n",
       "    .dataframe tbody tr th {\n",
       "        vertical-align: top;\n",
       "    }\n",
       "\n",
       "    .dataframe thead th {\n",
       "        text-align: right;\n",
       "    }\n",
       "</style>\n",
       "<table border=\"1\" class=\"dataframe\">\n",
       "  <thead>\n",
       "    <tr style=\"text-align: right;\">\n",
       "      <th>age</th>\n",
       "      <th>16</th>\n",
       "      <th>17</th>\n",
       "      <th>18</th>\n",
       "      <th>19</th>\n",
       "      <th>20</th>\n",
       "      <th>21</th>\n",
       "      <th>22</th>\n",
       "      <th>23</th>\n",
       "      <th>24</th>\n",
       "      <th>25</th>\n",
       "      <th>...</th>\n",
       "      <th>42</th>\n",
       "      <th>43</th>\n",
       "      <th>44</th>\n",
       "      <th>45</th>\n",
       "      <th>46</th>\n",
       "      <th>47</th>\n",
       "      <th>48</th>\n",
       "      <th>49</th>\n",
       "      <th>50</th>\n",
       "      <th>51</th>\n",
       "    </tr>\n",
       "    <tr>\n",
       "      <th>first_order_month</th>\n",
       "      <th></th>\n",
       "      <th></th>\n",
       "      <th></th>\n",
       "      <th></th>\n",
       "      <th></th>\n",
       "      <th></th>\n",
       "      <th></th>\n",
       "      <th></th>\n",
       "      <th></th>\n",
       "      <th></th>\n",
       "      <th></th>\n",
       "      <th></th>\n",
       "      <th></th>\n",
       "      <th></th>\n",
       "      <th></th>\n",
       "      <th></th>\n",
       "      <th></th>\n",
       "      <th></th>\n",
       "      <th></th>\n",
       "      <th></th>\n",
       "      <th></th>\n",
       "    </tr>\n",
       "  </thead>\n",
       "  <tbody>\n",
       "    <tr>\n",
       "      <th>2017-09-01</th>\n",
       "      <td></td>\n",
       "      <td></td>\n",
       "      <td></td>\n",
       "      <td></td>\n",
       "      <td></td>\n",
       "      <td></td>\n",
       "      <td></td>\n",
       "      <td></td>\n",
       "      <td></td>\n",
       "      <td></td>\n",
       "      <td>...</td>\n",
       "      <td>51.0</td>\n",
       "      <td>66.0</td>\n",
       "      <td>88.0</td>\n",
       "      <td>103.0</td>\n",
       "      <td>117.0</td>\n",
       "      <td>132.0</td>\n",
       "      <td>149.0</td>\n",
       "      <td>161.0</td>\n",
       "      <td>173.0</td>\n",
       "      <td>185.0</td>\n",
       "    </tr>\n",
       "    <tr>\n",
       "      <th>2017-10-01</th>\n",
       "      <td></td>\n",
       "      <td></td>\n",
       "      <td></td>\n",
       "      <td></td>\n",
       "      <td></td>\n",
       "      <td></td>\n",
       "      <td></td>\n",
       "      <td></td>\n",
       "      <td></td>\n",
       "      <td></td>\n",
       "      <td>...</td>\n",
       "      <td>20.0</td>\n",
       "      <td></td>\n",
       "      <td>26.0</td>\n",
       "      <td>33.0</td>\n",
       "      <td>39.0</td>\n",
       "      <td></td>\n",
       "      <td>45.0</td>\n",
       "      <td>50.0</td>\n",
       "      <td>55.0</td>\n",
       "      <td></td>\n",
       "    </tr>\n",
       "    <tr>\n",
       "      <th>2018-09-01</th>\n",
       "      <td></td>\n",
       "      <td></td>\n",
       "      <td></td>\n",
       "      <td></td>\n",
       "      <td></td>\n",
       "      <td></td>\n",
       "      <td></td>\n",
       "      <td></td>\n",
       "      <td></td>\n",
       "      <td></td>\n",
       "      <td>...</td>\n",
       "      <td></td>\n",
       "      <td></td>\n",
       "      <td></td>\n",
       "      <td></td>\n",
       "      <td></td>\n",
       "      <td></td>\n",
       "      <td></td>\n",
       "      <td></td>\n",
       "      <td></td>\n",
       "      <td></td>\n",
       "    </tr>\n",
       "    <tr>\n",
       "      <th>2018-10-01</th>\n",
       "      <td></td>\n",
       "      <td></td>\n",
       "      <td></td>\n",
       "      <td></td>\n",
       "      <td></td>\n",
       "      <td></td>\n",
       "      <td></td>\n",
       "      <td></td>\n",
       "      <td></td>\n",
       "      <td></td>\n",
       "      <td>...</td>\n",
       "      <td></td>\n",
       "      <td></td>\n",
       "      <td></td>\n",
       "      <td></td>\n",
       "      <td></td>\n",
       "      <td></td>\n",
       "      <td></td>\n",
       "      <td></td>\n",
       "      <td></td>\n",
       "      <td></td>\n",
       "    </tr>\n",
       "    <tr>\n",
       "      <th>2019-09-01</th>\n",
       "      <td>10.0</td>\n",
       "      <td>16.0</td>\n",
       "      <td>23.0</td>\n",
       "      <td>29.0</td>\n",
       "      <td>39.0</td>\n",
       "      <td>45.0</td>\n",
       "      <td>52.0</td>\n",
       "      <td>58.0</td>\n",
       "      <td>66.0</td>\n",
       "      <td>71.0</td>\n",
       "      <td>...</td>\n",
       "      <td></td>\n",
       "      <td></td>\n",
       "      <td></td>\n",
       "      <td></td>\n",
       "      <td></td>\n",
       "      <td></td>\n",
       "      <td></td>\n",
       "      <td></td>\n",
       "      <td></td>\n",
       "      <td></td>\n",
       "    </tr>\n",
       "    <tr>\n",
       "      <th>2019-10-01</th>\n",
       "      <td>3.0</td>\n",
       "      <td>6.0</td>\n",
       "      <td>9.0</td>\n",
       "      <td></td>\n",
       "      <td>13.0</td>\n",
       "      <td>16.0</td>\n",
       "      <td>19.0</td>\n",
       "      <td></td>\n",
       "      <td>21.0</td>\n",
       "      <td>24.0</td>\n",
       "      <td>...</td>\n",
       "      <td></td>\n",
       "      <td></td>\n",
       "      <td></td>\n",
       "      <td></td>\n",
       "      <td></td>\n",
       "      <td></td>\n",
       "      <td></td>\n",
       "      <td></td>\n",
       "      <td></td>\n",
       "      <td></td>\n",
       "    </tr>\n",
       "  </tbody>\n",
       "</table>\n",
       "<p>6 rows × 36 columns</p>\n",
       "</div>"
      ],
      "text/plain": [
       "age                  16    17    18    19    20    21    22    23    24    25  \\\n",
       "first_order_month                                                               \n",
       "2017-09-01                                                                      \n",
       "2017-10-01                                                                      \n",
       "2018-09-01                                                                      \n",
       "2018-10-01                                                                      \n",
       "2019-09-01         10.0  16.0  23.0  29.0  39.0  45.0  52.0  58.0  66.0  71.0   \n",
       "2019-10-01          3.0   6.0   9.0        13.0  16.0  19.0        21.0  24.0   \n",
       "\n",
       "age                ...    42    43    44     45     46     47     48     49  \\\n",
       "first_order_month  ...                                                        \n",
       "2017-09-01         ...  51.0  66.0  88.0  103.0  117.0  132.0  149.0  161.0   \n",
       "2017-10-01         ...  20.0        26.0   33.0   39.0          45.0   50.0   \n",
       "2018-09-01         ...                                                        \n",
       "2018-10-01         ...                                                        \n",
       "2019-09-01         ...                                                        \n",
       "2019-10-01         ...                                                        \n",
       "\n",
       "age                   50     51  \n",
       "first_order_month                \n",
       "2017-09-01         173.0  185.0  \n",
       "2017-10-01          55.0         \n",
       "2018-09-01                       \n",
       "2018-10-01                       \n",
       "2019-09-01                       \n",
       "2019-10-01                       \n",
       "\n",
       "[6 rows x 36 columns]"
      ]
     },
     "execution_count": 97,
     "metadata": {},
     "output_type": "execute_result"
    }
   ],
   "source": [
    "# building pivot table to show the orders per buyer divided in ages by cohorts\n",
    "cohort_optp_piv=orders_cohort.pivot_table(\n",
    "    index='first_order_month', \n",
    "    columns='age', \n",
    "    values='orders_per_buyer', \n",
    "    aggfunc='sum'\n",
    ").cumsum(axis=1).round()\n",
    "\n",
    "cohort_optp_piv.round(2).fillna('')"
   ]
  },
  {
   "cell_type": "code",
   "execution_count": 98,
   "id": "7364fb6e",
   "metadata": {},
   "outputs": [
    {
     "data": {
      "image/png": "[encoded data removed]",
      "text/plain": [
       "<Figure size 1000x800 with 2 Axes>"
      ]
     },
     "metadata": {},
     "output_type": "display_data"
    }
   ],
   "source": [
    "plt.figure(figsize=(10,8))\n",
    "sns.heatmap(cohort_optp_piv, annot=True, linewidths=1, cmap='Blues', fmt='.0f', linecolor='grey', cbar_kws= {'orientation': 'horizontal'}, \n",
    "            ).set(title = 'Orders in a given 5 year time period: 2022')\n",
    "\n",
    "plt.show()"
   ]
  },
  {
   "cell_type": "markdown",
   "id": "cfe13fab",
   "metadata": {},
   "source": [
    "<font size=\"3\"><b>Insight:</b> The cohort looks the way it does because of the 5 year time frame and it is working with first order months which are 6 years ago. The dataframe was filtered to show values from 2021.  We can see in the cohorts has the numbers show a continuous uptick in numbers before falling only to rise again. "
   ]
  },
  {
   "cell_type": "markdown",
   "id": "56eefa9f",
   "metadata": {},
   "source": [
    "## Lets try LTV again\n",
    "<font size= \"3\">Now that the data has been processed further, one more cohort analysis will be done."
   ]
  },
  {
   "cell_type": "code",
   "execution_count": 99,
   "id": "8faeab83",
   "metadata": {},
   "outputs": [
    {
     "data": {
      "text/html": [
       "<div>\n",
       "<style scoped>\n",
       "    .dataframe tbody tr th:only-of-type {\n",
       "        vertical-align: middle;\n",
       "    }\n",
       "\n",
       "    .dataframe tbody tr th {\n",
       "        vertical-align: top;\n",
       "    }\n",
       "\n",
       "    .dataframe thead th {\n",
       "        text-align: right;\n",
       "    }\n",
       "</style>\n",
       "<table border=\"1\" class=\"dataframe\">\n",
       "  <thead>\n",
       "    <tr style=\"text-align: right;\">\n",
       "      <th></th>\n",
       "      <th>month</th>\n",
       "      <th>n_buyers</th>\n",
       "    </tr>\n",
       "  </thead>\n",
       "  <tbody>\n",
       "    <tr>\n",
       "      <th>0</th>\n",
       "      <td>2021-01-01</td>\n",
       "      <td>157</td>\n",
       "    </tr>\n",
       "    <tr>\n",
       "      <th>1</th>\n",
       "      <td>2021-02-01</td>\n",
       "      <td>157</td>\n",
       "    </tr>\n",
       "    <tr>\n",
       "      <th>2</th>\n",
       "      <td>2021-03-01</td>\n",
       "      <td>157</td>\n",
       "    </tr>\n",
       "    <tr>\n",
       "      <th>3</th>\n",
       "      <td>2021-04-01</td>\n",
       "      <td>156</td>\n",
       "    </tr>\n",
       "    <tr>\n",
       "      <th>4</th>\n",
       "      <td>2021-05-01</td>\n",
       "      <td>157</td>\n",
       "    </tr>\n",
       "  </tbody>\n",
       "</table>\n",
       "</div>"
      ],
      "text/plain": [
       "       month  n_buyers\n",
       "0 2021-01-01       157\n",
       "1 2021-02-01       157\n",
       "2 2021-03-01       157\n",
       "3 2021-04-01       156\n",
       "4 2021-05-01       157"
      ]
     },
     "execution_count": 99,
     "metadata": {},
     "output_type": "execute_result"
    }
   ],
   "source": [
    "focohort_sizes.head()"
   ]
  },
  {
   "cell_type": "code",
   "execution_count": 100,
   "id": "f1cec83c",
   "metadata": {},
   "outputs": [
    {
     "data": {
      "text/html": [
       "<div>\n",
       "<style scoped>\n",
       "    .dataframe tbody tr th:only-of-type {\n",
       "        vertical-align: middle;\n",
       "    }\n",
       "\n",
       "    .dataframe tbody tr th {\n",
       "        vertical-align: top;\n",
       "    }\n",
       "\n",
       "    .dataframe thead th {\n",
       "        text-align: right;\n",
       "    }\n",
       "</style>\n",
       "<table border=\"1\" class=\"dataframe\">\n",
       "  <thead>\n",
       "    <tr style=\"text-align: right;\">\n",
       "      <th></th>\n",
       "      <th>product_code</th>\n",
       "      <th>fiscal_year</th>\n",
       "      <th>gross_price</th>\n",
       "      <th>customer_code</th>\n",
       "      <th>date</th>\n",
       "      <th>sold_quantity</th>\n",
       "      <th>order_month</th>\n",
       "      <th>ltv_prd_cost</th>\n",
       "      <th>first_order_month</th>\n",
       "      <th>customer</th>\n",
       "      <th>platform</th>\n",
       "      <th>market</th>\n",
       "      <th>region</th>\n",
       "    </tr>\n",
       "  </thead>\n",
       "  <tbody>\n",
       "    <tr>\n",
       "      <th>30</th>\n",
       "      <td>A0118150101</td>\n",
       "      <td>2018</td>\n",
       "      <td>15.3952</td>\n",
       "      <td>70002017.0</td>\n",
       "      <td>2021-01-01</td>\n",
       "      <td>119.0</td>\n",
       "      <td>2021-01-01</td>\n",
       "      <td>1832.0288</td>\n",
       "      <td>2017-09-01</td>\n",
       "      <td>Atliq Exclusive</td>\n",
       "      <td>Brick &amp; Mortar</td>\n",
       "      <td>India</td>\n",
       "      <td>APAC</td>\n",
       "    </tr>\n",
       "  </tbody>\n",
       "</table>\n",
       "</div>"
      ],
      "text/plain": [
       "   product_code  fiscal_year  gross_price  customer_code       date  \\\n",
       "30  A0118150101         2018      15.3952     70002017.0 2021-01-01   \n",
       "\n",
       "    sold_quantity order_month  ltv_prd_cost first_order_month  \\\n",
       "30          119.0  2021-01-01     1832.0288        2017-09-01   \n",
       "\n",
       "           customer        platform market region  \n",
       "30  Atliq Exclusive  Brick & Mortar  India   APAC  "
      ]
     },
     "execution_count": 100,
     "metadata": {},
     "output_type": "execute_result"
    }
   ],
   "source": [
    "filtered_ltv.head(1)"
   ]
  },
  {
   "cell_type": "code",
   "execution_count": 101,
   "id": "7d4a8c2d",
   "metadata": {},
   "outputs": [
    {
     "data": {
      "text/html": [
       "<div>\n",
       "<style scoped>\n",
       "    .dataframe tbody tr th:only-of-type {\n",
       "        vertical-align: middle;\n",
       "    }\n",
       "\n",
       "    .dataframe tbody tr th {\n",
       "        vertical-align: top;\n",
       "    }\n",
       "\n",
       "    .dataframe thead th {\n",
       "        text-align: right;\n",
       "    }\n",
       "</style>\n",
       "<table border=\"1\" class=\"dataframe\">\n",
       "  <thead>\n",
       "    <tr style=\"text-align: right;\">\n",
       "      <th></th>\n",
       "      <th>month</th>\n",
       "      <th>first_order_month</th>\n",
       "      <th>revenue</th>\n",
       "    </tr>\n",
       "  </thead>\n",
       "  <tbody>\n",
       "    <tr>\n",
       "      <th>30</th>\n",
       "      <td>2021-01-01</td>\n",
       "      <td>2017-09-01</td>\n",
       "      <td>1832.03</td>\n",
       "    </tr>\n",
       "    <tr>\n",
       "      <th>31</th>\n",
       "      <td>2021-02-01</td>\n",
       "      <td>2017-09-01</td>\n",
       "      <td>2678.76</td>\n",
       "    </tr>\n",
       "    <tr>\n",
       "      <th>32</th>\n",
       "      <td>2021-03-01</td>\n",
       "      <td>2017-09-01</td>\n",
       "      <td>2478.63</td>\n",
       "    </tr>\n",
       "    <tr>\n",
       "      <th>33</th>\n",
       "      <td>2021-05-01</td>\n",
       "      <td>2017-09-01</td>\n",
       "      <td>2878.90</td>\n",
       "    </tr>\n",
       "    <tr>\n",
       "      <th>34</th>\n",
       "      <td>2021-06-01</td>\n",
       "      <td>2017-09-01</td>\n",
       "      <td>1893.61</td>\n",
       "    </tr>\n",
       "  </tbody>\n",
       "</table>\n",
       "</div>"
      ],
      "text/plain": [
       "        month first_order_month  revenue\n",
       "30 2021-01-01        2017-09-01  1832.03\n",
       "31 2021-02-01        2017-09-01  2678.76\n",
       "32 2021-03-01        2017-09-01  2478.63\n",
       "33 2021-05-01        2017-09-01  2878.90\n",
       "34 2021-06-01        2017-09-01  1893.61"
      ]
     },
     "execution_count": 101,
     "metadata": {},
     "output_type": "execute_result"
    }
   ],
   "source": [
    "ltvbuyers = filtered_ltv[['order_month','first_order_month', 'ltv_prd_cost']]\n",
    "ltvbuyers.columns=['month','first_order_month','revenue']\n",
    "ltvbuyers.round(2).head()"
   ]
  },
  {
   "cell_type": "code",
   "execution_count": 102,
   "id": "137e7d74",
   "metadata": {},
   "outputs": [
    {
     "data": {
      "text/html": [
       "<div>\n",
       "<style scoped>\n",
       "    .dataframe tbody tr th:only-of-type {\n",
       "        vertical-align: middle;\n",
       "    }\n",
       "\n",
       "    .dataframe tbody tr th {\n",
       "        vertical-align: top;\n",
       "    }\n",
       "\n",
       "    .dataframe thead th {\n",
       "        text-align: right;\n",
       "    }\n",
       "</style>\n",
       "<table border=\"1\" class=\"dataframe\">\n",
       "  <thead>\n",
       "    <tr style=\"text-align: right;\">\n",
       "      <th></th>\n",
       "      <th>month</th>\n",
       "      <th>first_order_month</th>\n",
       "      <th>revenue</th>\n",
       "      <th>n_buyers</th>\n",
       "    </tr>\n",
       "  </thead>\n",
       "  <tbody>\n",
       "    <tr>\n",
       "      <th>0</th>\n",
       "      <td>2021-01-01</td>\n",
       "      <td>2017-09-01</td>\n",
       "      <td>1832.0</td>\n",
       "      <td>157</td>\n",
       "    </tr>\n",
       "    <tr>\n",
       "      <th>1</th>\n",
       "      <td>2021-01-01</td>\n",
       "      <td>2017-09-01</td>\n",
       "      <td>1718.0</td>\n",
       "      <td>157</td>\n",
       "    </tr>\n",
       "    <tr>\n",
       "      <th>2</th>\n",
       "      <td>2021-01-01</td>\n",
       "      <td>2017-09-01</td>\n",
       "      <td>1932.0</td>\n",
       "      <td>157</td>\n",
       "    </tr>\n",
       "    <tr>\n",
       "      <th>3</th>\n",
       "      <td>2021-01-01</td>\n",
       "      <td>2017-09-01</td>\n",
       "      <td>2268.0</td>\n",
       "      <td>157</td>\n",
       "    </tr>\n",
       "    <tr>\n",
       "      <th>4</th>\n",
       "      <td>2021-01-01</td>\n",
       "      <td>2017-09-01</td>\n",
       "      <td>3917.0</td>\n",
       "      <td>157</td>\n",
       "    </tr>\n",
       "  </tbody>\n",
       "</table>\n",
       "</div>"
      ],
      "text/plain": [
       "       month first_order_month  revenue  n_buyers\n",
       "0 2021-01-01        2017-09-01   1832.0       157\n",
       "1 2021-01-01        2017-09-01   1718.0       157\n",
       "2 2021-01-01        2017-09-01   1932.0       157\n",
       "3 2021-01-01        2017-09-01   2268.0       157\n",
       "4 2021-01-01        2017-09-01   3917.0       157"
      ]
     },
     "execution_count": 102,
     "metadata": {},
     "output_type": "execute_result"
    }
   ],
   "source": [
    "# Let's add data on how many users made their first purchases in each month to the cohorts table:\n",
    "\n",
    "buyer_co = pd.merge(ltvbuyers, focohort_sizes, on='month')\n",
    "buyer_co.head().round()"
   ]
  },
  {
   "cell_type": "code",
   "execution_count": 103,
   "id": "7e9bc295",
   "metadata": {},
   "outputs": [
    {
     "data": {
      "text/html": [
       "<div>\n",
       "<style scoped>\n",
       "    .dataframe tbody tr th:only-of-type {\n",
       "        vertical-align: middle;\n",
       "    }\n",
       "\n",
       "    .dataframe tbody tr th {\n",
       "        vertical-align: top;\n",
       "    }\n",
       "\n",
       "    .dataframe thead th {\n",
       "        text-align: right;\n",
       "    }\n",
       "</style>\n",
       "<table border=\"1\" class=\"dataframe\">\n",
       "  <thead>\n",
       "    <tr style=\"text-align: right;\">\n",
       "      <th></th>\n",
       "      <th>month</th>\n",
       "      <th>first_order_month</th>\n",
       "      <th>revenue</th>\n",
       "      <th>n_buyers</th>\n",
       "      <th>age</th>\n",
       "    </tr>\n",
       "  </thead>\n",
       "  <tbody>\n",
       "    <tr>\n",
       "      <th>0</th>\n",
       "      <td>2021-01-01</td>\n",
       "      <td>2017-09-01</td>\n",
       "      <td>1832.0</td>\n",
       "      <td>157</td>\n",
       "      <td>40</td>\n",
       "    </tr>\n",
       "    <tr>\n",
       "      <th>1</th>\n",
       "      <td>2021-01-01</td>\n",
       "      <td>2017-09-01</td>\n",
       "      <td>1718.0</td>\n",
       "      <td>157</td>\n",
       "      <td>40</td>\n",
       "    </tr>\n",
       "    <tr>\n",
       "      <th>2</th>\n",
       "      <td>2021-01-01</td>\n",
       "      <td>2017-09-01</td>\n",
       "      <td>1932.0</td>\n",
       "      <td>157</td>\n",
       "      <td>40</td>\n",
       "    </tr>\n",
       "    <tr>\n",
       "      <th>3</th>\n",
       "      <td>2021-01-01</td>\n",
       "      <td>2017-09-01</td>\n",
       "      <td>2268.0</td>\n",
       "      <td>157</td>\n",
       "      <td>40</td>\n",
       "    </tr>\n",
       "    <tr>\n",
       "      <th>4</th>\n",
       "      <td>2021-01-01</td>\n",
       "      <td>2017-09-01</td>\n",
       "      <td>3917.0</td>\n",
       "      <td>157</td>\n",
       "      <td>40</td>\n",
       "    </tr>\n",
       "  </tbody>\n",
       "</table>\n",
       "</div>"
      ],
      "text/plain": [
       "       month first_order_month  revenue  n_buyers  age\n",
       "0 2021-01-01        2017-09-01   1832.0       157   40\n",
       "1 2021-01-01        2017-09-01   1718.0       157   40\n",
       "2 2021-01-01        2017-09-01   1932.0       157   40\n",
       "3 2021-01-01        2017-09-01   2268.0       157   40\n",
       "4 2021-01-01        2017-09-01   3917.0       157   40"
      ]
     },
     "execution_count": 103,
     "metadata": {},
     "output_type": "execute_result"
    }
   ],
   "source": [
    "\n",
    "buyer_co['age'] = (buyer_co['month'] - buyer_co['first_order_month']) / np.timedelta64(1, 'M')\n",
    "buyer_co['age'] = buyer_co['age'].round().astype('int')\n",
    "\n",
    "buyer_co.head().round()"
   ]
  },
  {
   "cell_type": "code",
   "execution_count": 104,
   "id": "23f2d03f",
   "metadata": {},
   "outputs": [
    {
     "data": {
      "text/html": [
       "<div>\n",
       "<style scoped>\n",
       "    .dataframe tbody tr th:only-of-type {\n",
       "        vertical-align: middle;\n",
       "    }\n",
       "\n",
       "    .dataframe tbody tr th {\n",
       "        vertical-align: top;\n",
       "    }\n",
       "\n",
       "    .dataframe thead th {\n",
       "        text-align: right;\n",
       "    }\n",
       "</style>\n",
       "<table border=\"1\" class=\"dataframe\">\n",
       "  <thead>\n",
       "    <tr style=\"text-align: right;\">\n",
       "      <th></th>\n",
       "      <th>month</th>\n",
       "      <th>first_order_month</th>\n",
       "      <th>revenue</th>\n",
       "      <th>n_buyers</th>\n",
       "      <th>age</th>\n",
       "      <th>ltv</th>\n",
       "    </tr>\n",
       "  </thead>\n",
       "  <tbody>\n",
       "    <tr>\n",
       "      <th>0</th>\n",
       "      <td>2021-01-01</td>\n",
       "      <td>2017-09-01</td>\n",
       "      <td>1832.0</td>\n",
       "      <td>157</td>\n",
       "      <td>40</td>\n",
       "      <td>12.0</td>\n",
       "    </tr>\n",
       "    <tr>\n",
       "      <th>1</th>\n",
       "      <td>2021-01-01</td>\n",
       "      <td>2017-09-01</td>\n",
       "      <td>1718.0</td>\n",
       "      <td>157</td>\n",
       "      <td>40</td>\n",
       "      <td>11.0</td>\n",
       "    </tr>\n",
       "    <tr>\n",
       "      <th>2</th>\n",
       "      <td>2021-01-01</td>\n",
       "      <td>2017-09-01</td>\n",
       "      <td>1932.0</td>\n",
       "      <td>157</td>\n",
       "      <td>40</td>\n",
       "      <td>12.0</td>\n",
       "    </tr>\n",
       "    <tr>\n",
       "      <th>3</th>\n",
       "      <td>2021-01-01</td>\n",
       "      <td>2017-09-01</td>\n",
       "      <td>2268.0</td>\n",
       "      <td>157</td>\n",
       "      <td>40</td>\n",
       "      <td>14.0</td>\n",
       "    </tr>\n",
       "    <tr>\n",
       "      <th>4</th>\n",
       "      <td>2021-01-01</td>\n",
       "      <td>2017-09-01</td>\n",
       "      <td>3917.0</td>\n",
       "      <td>157</td>\n",
       "      <td>40</td>\n",
       "      <td>25.0</td>\n",
       "    </tr>\n",
       "  </tbody>\n",
       "</table>\n",
       "</div>"
      ],
      "text/plain": [
       "       month first_order_month  revenue  n_buyers  age   ltv\n",
       "0 2021-01-01        2017-09-01   1832.0       157   40  12.0\n",
       "1 2021-01-01        2017-09-01   1718.0       157   40  11.0\n",
       "2 2021-01-01        2017-09-01   1932.0       157   40  12.0\n",
       "3 2021-01-01        2017-09-01   2268.0       157   40  14.0\n",
       "4 2021-01-01        2017-09-01   3917.0       157   40  25.0"
      ]
     },
     "execution_count": 104,
     "metadata": {},
     "output_type": "execute_result"
    }
   ],
   "source": [
    "#determine LTV\n",
    "buyer_co['ltv'] = buyer_co['revenue'] / buyer_co['n_buyers']\n",
    "\n",
    "buyer_co.head().round()"
   ]
  },
  {
   "cell_type": "code",
   "execution_count": 105,
   "id": "f06f7748",
   "metadata": {},
   "outputs": [
    {
     "data": {
      "text/html": [
       "<div>\n",
       "<style scoped>\n",
       "    .dataframe tbody tr th:only-of-type {\n",
       "        vertical-align: middle;\n",
       "    }\n",
       "\n",
       "    .dataframe tbody tr th {\n",
       "        vertical-align: top;\n",
       "    }\n",
       "\n",
       "    .dataframe thead th {\n",
       "        text-align: right;\n",
       "    }\n",
       "</style>\n",
       "<table border=\"1\" class=\"dataframe\">\n",
       "  <thead>\n",
       "    <tr style=\"text-align: right;\">\n",
       "      <th>age</th>\n",
       "      <th>16</th>\n",
       "      <th>17</th>\n",
       "      <th>18</th>\n",
       "      <th>19</th>\n",
       "      <th>20</th>\n",
       "      <th>21</th>\n",
       "      <th>22</th>\n",
       "      <th>23</th>\n",
       "      <th>24</th>\n",
       "      <th>25</th>\n",
       "      <th>...</th>\n",
       "      <th>42</th>\n",
       "      <th>43</th>\n",
       "      <th>44</th>\n",
       "      <th>45</th>\n",
       "      <th>46</th>\n",
       "      <th>47</th>\n",
       "      <th>48</th>\n",
       "      <th>49</th>\n",
       "      <th>50</th>\n",
       "      <th>51</th>\n",
       "    </tr>\n",
       "    <tr>\n",
       "      <th>first_order_month</th>\n",
       "      <th></th>\n",
       "      <th></th>\n",
       "      <th></th>\n",
       "      <th></th>\n",
       "      <th></th>\n",
       "      <th></th>\n",
       "      <th></th>\n",
       "      <th></th>\n",
       "      <th></th>\n",
       "      <th></th>\n",
       "      <th></th>\n",
       "      <th></th>\n",
       "      <th></th>\n",
       "      <th></th>\n",
       "      <th></th>\n",
       "      <th></th>\n",
       "      <th></th>\n",
       "      <th></th>\n",
       "      <th></th>\n",
       "      <th></th>\n",
       "      <th></th>\n",
       "    </tr>\n",
       "  </thead>\n",
       "  <tbody>\n",
       "    <tr>\n",
       "      <th>2017-09-01</th>\n",
       "      <td></td>\n",
       "      <td></td>\n",
       "      <td></td>\n",
       "      <td></td>\n",
       "      <td></td>\n",
       "      <td></td>\n",
       "      <td></td>\n",
       "      <td></td>\n",
       "      <td></td>\n",
       "      <td></td>\n",
       "      <td>...</td>\n",
       "      <td>75298.0</td>\n",
       "      <td>97331.0</td>\n",
       "      <td>129427.0</td>\n",
       "      <td>149688.0</td>\n",
       "      <td>171227.0</td>\n",
       "      <td>192888.0</td>\n",
       "      <td>307663.0</td>\n",
       "      <td>401197.0</td>\n",
       "      <td>539520.0</td>\n",
       "      <td>683724.0</td>\n",
       "    </tr>\n",
       "    <tr>\n",
       "      <th>2017-10-01</th>\n",
       "      <td></td>\n",
       "      <td></td>\n",
       "      <td></td>\n",
       "      <td></td>\n",
       "      <td></td>\n",
       "      <td></td>\n",
       "      <td></td>\n",
       "      <td></td>\n",
       "      <td></td>\n",
       "      <td></td>\n",
       "      <td>...</td>\n",
       "      <td>30601.0</td>\n",
       "      <td></td>\n",
       "      <td>40570.0</td>\n",
       "      <td>50803.0</td>\n",
       "      <td>62013.0</td>\n",
       "      <td></td>\n",
       "      <td>109955.0</td>\n",
       "      <td>166970.0</td>\n",
       "      <td>231286.0</td>\n",
       "      <td></td>\n",
       "    </tr>\n",
       "    <tr>\n",
       "      <th>2018-09-01</th>\n",
       "      <td></td>\n",
       "      <td></td>\n",
       "      <td></td>\n",
       "      <td></td>\n",
       "      <td></td>\n",
       "      <td></td>\n",
       "      <td></td>\n",
       "      <td></td>\n",
       "      <td></td>\n",
       "      <td></td>\n",
       "      <td>...</td>\n",
       "      <td></td>\n",
       "      <td></td>\n",
       "      <td></td>\n",
       "      <td></td>\n",
       "      <td></td>\n",
       "      <td></td>\n",
       "      <td></td>\n",
       "      <td></td>\n",
       "      <td></td>\n",
       "      <td></td>\n",
       "    </tr>\n",
       "    <tr>\n",
       "      <th>2018-10-01</th>\n",
       "      <td></td>\n",
       "      <td></td>\n",
       "      <td></td>\n",
       "      <td></td>\n",
       "      <td></td>\n",
       "      <td></td>\n",
       "      <td></td>\n",
       "      <td></td>\n",
       "      <td></td>\n",
       "      <td></td>\n",
       "      <td>...</td>\n",
       "      <td></td>\n",
       "      <td></td>\n",
       "      <td></td>\n",
       "      <td></td>\n",
       "      <td></td>\n",
       "      <td></td>\n",
       "      <td></td>\n",
       "      <td></td>\n",
       "      <td></td>\n",
       "      <td></td>\n",
       "    </tr>\n",
       "    <tr>\n",
       "      <th>2019-09-01</th>\n",
       "      <td>3261.0</td>\n",
       "      <td>5436.0</td>\n",
       "      <td>7504.0</td>\n",
       "      <td>9689.0</td>\n",
       "      <td>13212.0</td>\n",
       "      <td>15428.0</td>\n",
       "      <td>17605.0</td>\n",
       "      <td>19934.0</td>\n",
       "      <td>31453.0</td>\n",
       "      <td>42208.0</td>\n",
       "      <td>...</td>\n",
       "      <td></td>\n",
       "      <td></td>\n",
       "      <td></td>\n",
       "      <td></td>\n",
       "      <td></td>\n",
       "      <td></td>\n",
       "      <td></td>\n",
       "      <td></td>\n",
       "      <td></td>\n",
       "      <td></td>\n",
       "    </tr>\n",
       "    <tr>\n",
       "      <th>2019-10-01</th>\n",
       "      <td>1039.0</td>\n",
       "      <td>2210.0</td>\n",
       "      <td>3228.0</td>\n",
       "      <td></td>\n",
       "      <td>4443.0</td>\n",
       "      <td>5529.0</td>\n",
       "      <td>6636.0</td>\n",
       "      <td></td>\n",
       "      <td>11686.0</td>\n",
       "      <td>18553.0</td>\n",
       "      <td>...</td>\n",
       "      <td></td>\n",
       "      <td></td>\n",
       "      <td></td>\n",
       "      <td></td>\n",
       "      <td></td>\n",
       "      <td></td>\n",
       "      <td></td>\n",
       "      <td></td>\n",
       "      <td></td>\n",
       "      <td></td>\n",
       "    </tr>\n",
       "  </tbody>\n",
       "</table>\n",
       "<p>6 rows × 36 columns</p>\n",
       "</div>"
      ],
      "text/plain": [
       "age                    16      17      18      19       20       21       22  \\\n",
       "first_order_month                                                              \n",
       "2017-09-01                                                                     \n",
       "2017-10-01                                                                     \n",
       "2018-09-01                                                                     \n",
       "2018-10-01                                                                     \n",
       "2019-09-01         3261.0  5436.0  7504.0  9689.0  13212.0  15428.0  17605.0   \n",
       "2019-10-01         1039.0  2210.0  3228.0           4443.0   5529.0   6636.0   \n",
       "\n",
       "age                     23       24       25  ...       42       43        44  \\\n",
       "first_order_month                             ...                               \n",
       "2017-09-01                                    ...  75298.0  97331.0  129427.0   \n",
       "2017-10-01                                    ...  30601.0            40570.0   \n",
       "2018-09-01                                    ...                               \n",
       "2018-10-01                                    ...                               \n",
       "2019-09-01         19934.0  31453.0  42208.0  ...                               \n",
       "2019-10-01                  11686.0  18553.0  ...                               \n",
       "\n",
       "age                      45        46        47        48        49        50  \\\n",
       "first_order_month                                                               \n",
       "2017-09-01         149688.0  171227.0  192888.0  307663.0  401197.0  539520.0   \n",
       "2017-10-01          50803.0   62013.0            109955.0  166970.0  231286.0   \n",
       "2018-09-01                                                                      \n",
       "2018-10-01                                                                      \n",
       "2019-09-01                                                                      \n",
       "2019-10-01                                                                      \n",
       "\n",
       "age                      51  \n",
       "first_order_month            \n",
       "2017-09-01         683724.0  \n",
       "2017-10-01                   \n",
       "2018-09-01                   \n",
       "2018-10-01                   \n",
       "2019-09-01                   \n",
       "2019-10-01                   \n",
       "\n",
       "[6 rows x 36 columns]"
      ]
     },
     "execution_count": 105,
     "metadata": {},
     "output_type": "execute_result"
    }
   ],
   "source": [
    "report1_piv=buyer_co.pivot_table(\n",
    "    index='first_order_month', \n",
    "    columns='age', \n",
    "    values='ltv', \n",
    "    aggfunc='sum'\n",
    ").cumsum(axis=1).round()# cumulative value\n",
    "\n",
    "report1_piv.fillna('')"
   ]
  },
  {
   "cell_type": "code",
   "execution_count": 106,
   "id": "49489743",
   "metadata": {},
   "outputs": [
    {
     "data": {
      "image/png": "[encoded data removed]",
      "text/plain": [
       "<Figure size 2000x600 with 2 Axes>"
      ]
     },
     "metadata": {},
     "output_type": "display_data"
    }
   ],
   "source": [
    "#heatmap\n",
    "plt.figure(figsize=(20,6))\n",
    "sns.heatmap(report1_piv, annot=True, linewidths=.5, cmap='Blues', fmt='.0f', linecolor='grey', vmax=18000, vmin=1100, cbar_kws= {'orientation': 'horizontal'}, \n",
    "            square=True).set(title = 'LTV')\n",
    "plt.show()\n",
    "\n",
    "#linewidths=2, ax=ax0,vmax=3000, vmin=0, square=True)"
   ]
  },
  {
   "cell_type": "markdown",
   "id": "4c868b28",
   "metadata": {},
   "source": [
    "<font size=\"3\"><b>Insight:</b>  Again, there is a pattern in the cohort where orders see cylical rise and fall.  Blanks are due to the dates taht orders were placed, some months have no orders"
   ]
  },
  {
   "cell_type": "markdown",
   "id": "8d5d10c3",
   "metadata": {},
   "source": [
    "<hr style=\"border:2px solid black\">"
   ]
  },
  {
   "cell_type": "markdown",
   "id": "3eef0b92",
   "metadata": {},
   "source": [
    "## Analysis Conclusion:\n",
    "\n",
    "<font size=\"3\"> AtliQ appears to have a dedicated customer base. There were no significant change in customer numbers that grossley affected purchase quantities. The current discount rates between 22-26% seems to hold onto the customers.  \n",
    "    \n",
    "<font size=\"3\">The one area that may need further research is the 2021-22 time frame to see how the pandemic, lockdown and supply issues impacted the numbers. 2021 saw a drastic increase in cusomter purchases. One insight into this may have been the strict lockdowns imposed within AtliQ's competitor supply regions that customers typically used. Again more research into this is needed. \n",
    "    \n",
    "<font size=\"3\">It would be advisable to see other market competitors are recovering from the pandemic as this may impact customer purchasing behavior. If competitors that ranked high as a hardware supplier make a full recovery, other marketing tactics will need to be employed by AtliQ to stay competitive and hold onto their current customer base. \n",
    "    \n",
    "<font size=\"3\">From the above analysis and the cyclical trend that has been shown, AtliQ is on course to show more growth barring any outside factors. For a more overall analysis conclusion, the entire TTWC team will need to give their insights on the other areas of analysis.\n",
    "    \n",
    "    "
   ]
  },
  {
   "cell_type": "markdown",
   "id": "c12c948d",
   "metadata": {},
   "source": [
    "<blockquote>\n",
    "Project Resources:\n",
    "<p>\n",
    "    <li> Quick DBD for database flowchart layout</li>\n",
    "<li> https://learnsql.com/blog/grouping-data-in-microsoft-sql-server/</li>\n",
    "<li>https://pandas.pydata.org/pandas-docs/stable/reference/api/pandas.DataFrame.to_csv.html</li>\n",
    "<li>https://learnsql.com/blog/how-to-join-two-tables-in-sql/</li>\n",
    "<li> Markdown Cheat Sheet - https://medium.com/analytics-vidhya/the-ultimate-markdown-guide-for-jupyter-notebook-d5e5abf728fd</li>\n",
    "<p>\n",
    "Tableau Resources:\n",
    "<li> https://www.tableau.com/blog/LOD-expressions</li>"
   ]
  },
  {
   "cell_type": "code",
   "execution_count": null,
   "id": "5ad5da27",
   "metadata": {},
   "outputs": [],
   "source": []
  }
 ],
 "metadata": {
  "kernelspec": {
   "display_name": "Python 3 (ipykernel)",
   "language": "python",
   "name": "python3"
  },
  "language_info": {
   "codemirror_mode": {
    "name": "ipython",
    "version": 3
   },
   "file_extension": ".py",
   "mimetype": "text/x-python",
   "name": "python",
   "nbconvert_exporter": "python",
   "pygments_lexer": "ipython3",
   "version": "3.10.9"
  }
 },
 "nbformat": 4,
 "nbformat_minor": 5
}
